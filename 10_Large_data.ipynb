{
 "cells": [
  {
   "cell_type": "markdown",
   "metadata": {},
   "source": [
    "### 대규모 데이터셋\n",
    "- 사용해야 될 경우\n",
    "    - 가용 훈련 데이터의 수가 pretrained 모델 훈련시의 데이터 양과 비슷할 때\n",
    "    - 도메인의 차이 가 클때\n",
    "- 조심해야 할 점\n",
    "    - (반)자동으로 생성된 데이터가 많기 때문에 데이터 품질이 낮을 수 있다.\n",
    "    - 편향성, 낮은 품질, **저작권 위반** 등"
   ]
  },
  {
   "cell_type": "markdown",
   "metadata": {},
   "source": [
    "### 같은 모델, 다른 데이터셋 예시"
   ]
  },
  {
   "cell_type": "code",
   "execution_count": 76,
   "metadata": {},
   "outputs": [
    {
     "name": "stderr",
     "output_type": "stream",
     "text": [
      "Device set to use cuda:0\n",
      "Device set to use cuda:0\n"
     ]
    }
   ],
   "source": [
    "from transformers import pipeline, set_seed\n",
    "\n",
    "set_seed(42)\n",
    "gpt_pipe_1 = pipeline(\"text-generation\", model=\"openai-gpt\")\n",
    "gpt_pipe_2 = pipeline(\"text-generation\", model=\"gpt2\")"
   ]
  },
  {
   "cell_type": "code",
   "execution_count": 77,
   "metadata": {},
   "outputs": [
    {
     "name": "stdout",
     "output_type": "stream",
     "text": [
      "파라미터 수 비교\n"
     ]
    },
    {
     "data": {
      "text/plain": [
       "(225310, 237137)"
      ]
     },
     "execution_count": 77,
     "metadata": {},
     "output_type": "execute_result"
    }
   ],
   "source": [
    "print(\"파라미터 수 비교\")\n",
    "(sum([len(p) for p in gpt_pipe_1.model.parameters()]), \n",
    " sum([len(p) for p in gpt_pipe_2.model.parameters()]))"
   ]
  },
  {
   "cell_type": "code",
   "execution_count": 78,
   "metadata": {},
   "outputs": [
    {
     "data": {
      "text/plain": [
       "[{'generated_text': '\\n UDA is no - kill. \" \\n \" he\\'s a little young to be a ranger to a ranger. \" \\n \" no - kill ain\\'t no cowboy. i\\'m only a tracker for the local rangers. \" \\n \" no - kill'},\n",
       " {'generated_text': '\\n UDA is the very first one in the line who can speak. so far, it\\'s been an exceptionally hard night. \" \\n \" does the wolf really belong to you? \" \\n \" he does. \" \\n i stared at him, perplexed'},\n",
       " {'generated_text': \"\\n UDA isn't dead. her life is still in the water. \\n he wanted to believe her. needed to believe it. \\n but she 'd gotten him into this. there was no other way to prove her story, no other way to prove\"}]"
      ]
     },
     "metadata": {},
     "output_type": "display_data"
    },
    {
     "name": "stderr",
     "output_type": "stream",
     "text": [
      "Setting `pad_token_id` to `eos_token_id`:50256 for open-end generation.\n"
     ]
    },
    {
     "name": "stdout",
     "output_type": "stream",
     "text": [
      "**************************************************\n"
     ]
    },
    {
     "data": {
      "text/plain": [
       "[{'generated_text': '\\n UDA is an open source game engine for Linux that brings together the best technologies of the desktop. In a recent blog post, UDA developer John Daley explains that in many respects this open source effort was the perfect vehicle for a \"modern'},\n",
       " {'generated_text': '\\n UDA is the most expensive driver to purchase in India, where around $450 million is spent in 2013-14 (see chart ). The value of the RTE licence can be measured in USD, which gives the price. For RTE buyers'},\n",
       " {'generated_text': \"\\n UDA is on the horizon.\\n\\nAnd maybe most damning, this is just the latest in a long line of examples of UDA's failure to meet its commitments to protect the U.S. from China's cyber attacks.\\n\\n\"}]"
      ]
     },
     "metadata": {},
     "output_type": "display_data"
    }
   ],
   "source": [
    "# 같은 입력에 대한 출력 비교\n",
    "def pipe_out(pipe, prompt, num_return_sequences):\n",
    "    out = pipe(\n",
    "        prompt,\n",
    "        num_return_sequences=num_return_sequences,\n",
    "        clean_up_tokenization_spaces=True,\n",
    "        truncation=True,\n",
    "        )\n",
    "    return out\n",
    "\n",
    "display(pipe_out(gpt_pipe_1, '\\n UDA is', 3)) # 로멘스 소설 데이터\n",
    "print(\"*\"*50)\n",
    "display(pipe_out(gpt_pipe_2, '\\n UDA is', 3)) # 레딧 기사 텍스트 데이터"
   ]
  },
  {
   "cell_type": "code",
   "execution_count": 79,
   "metadata": {},
   "outputs": [],
   "source": [
    "del gpt_pipe_1\n",
    "del gpt_pipe_2\n",
    "\n",
    "import torch\n",
    "\n",
    "# CUDA 캐시 비우기\n",
    "torch.cuda.empty_cache()"
   ]
  },
  {
   "cell_type": "code",
   "execution_count": 2,
   "metadata": {},
   "outputs": [
    {
     "name": "stdout",
     "output_type": "stream",
     "text": [
      "0\n"
     ]
    }
   ],
   "source": [
    "import torch\n",
    "\n",
    "# 메모리 사용량 확인\n",
    "print(torch.cuda.memory_allocated())"
   ]
  },
  {
   "cell_type": "markdown",
   "metadata": {},
   "source": [
    "### code dataset 가져오기"
   ]
  },
  {
   "cell_type": "code",
   "execution_count": 13,
   "metadata": {},
   "outputs": [
    {
     "name": "stdout",
     "output_type": "stream",
     "text": [
      "git: 'file-000000000000.json.gz' is not a git command. See 'git --help'.\n"
     ]
    }
   ],
   "source": [
    "!cd codeparrot/ && git file-000000000000.json.gz pull"
   ]
  },
  {
   "cell_type": "code",
   "execution_count": 14,
   "metadata": {},
   "outputs": [
    {
     "name": "stdout",
     "output_type": "stream",
     "text": [
      "fatal: destination path 'codeparrot' already exists and is not an empty directory.\n",
      "Downloading LFS objects: 100% (184/184), 46 GB | 58 MB/s                        \r"
     ]
    }
   ],
   "source": [
    "!git clone https://huggingface.co/datasets/transformersbook/codeparrot\n",
    "!cd codeparrot && git lfs pull"
   ]
  },
  {
   "cell_type": "markdown",
   "metadata": {},
   "source": [
    "### 대용량 데이터셋 다루기\n",
    "- 약 46gb 의 code 데이터셋 -> 압축 해제시 200gb 정도\n",
    "- 메모리 매핑과 스트리밍 기능 이용\n"
   ]
  },
  {
   "cell_type": "markdown",
   "metadata": {},
   "source": [
    "### 메모리 매핑\n",
    "- 제로 카피 + 제로-오버헤드 메모리 매핑\n",
    "- 파일로 디스크에 캐싱됨\n",
    "- 데이터셋을 로딩되는 대신, 포인터를 열어 대신 사용(필요할때마다 캐싱된 파일로 불러온다.)"
   ]
  },
  {
   "cell_type": "code",
   "execution_count": 15,
   "metadata": {},
   "outputs": [
    {
     "name": "stderr",
     "output_type": "stream",
     "text": [
      "Downloading data: 100%|██████████| 184/184 [00:00<00:00, 1527.57files/s]\n",
      "Generating train split: 18695559 examples [59:12, 5262.95 examples/s]\n"
     ]
    }
   ],
   "source": [
    "from datasets import load_dataset, DownloadConfig\n",
    "\n",
    "download_config = DownloadConfig(delete_extracted=True)\n",
    "dataset = load_dataset(\"./codeparrot\", split=\"train\",\n",
    "                       download_config=download_config)"
   ]
  },
  {
   "cell_type": "code",
   "execution_count": 19,
   "metadata": {},
   "outputs": [
    {
     "name": "stdout",
     "output_type": "stream",
     "text": [
      "데이터셋 갯수 : 18695559\n",
      "캐시 : 183.59GB\n",
      "메모리 사용량 : 1463 MB\n"
     ]
    }
   ],
   "source": [
    "import psutil\n",
    "import os\n",
    "\n",
    "print(f\"데이터셋 갯수 : {len(dataset)}\")\n",
    "ds_size = sum(os.stat(f[\"filename\"]).st_size for f in dataset.cache_files)\n",
    "print(f\"캐시 : {ds_size/ 2 ** 30:.2f}GB\")\n",
    "print(f\"메모리 사용량 : {psutil.Process(os.getpid()).memory_info().rss >> 20} MB\")"
   ]
  },
  {
   "cell_type": "markdown",
   "metadata": {},
   "source": [
    "### 데이터셋 스트리밍"
   ]
  },
  {
   "cell_type": "code",
   "execution_count": 35,
   "metadata": {},
   "outputs": [
    {
     "data": {
      "text/plain": [
       "{'repo_name': 'ahmedbodi/AutobahnPython',\n",
       " 'path': 'examples/asyncio/websocket/echo/client_coroutines.py',\n",
       " 'copies': '13',\n",
       " 'size': '2044',\n",
       " 'content': '###############################################################################\\n##\\n##  Copyright (C) 2013-2014 Tavendo GmbH\\n##\\n##  Licensed under the Apache License, Version 2.0 (the \"License\");\\n##  you may not use this file except in compliance with the License.\\n##  You may obtain a copy of the License at\\n##\\n##      http://www.apache.org/licenses/LICENSE-2.0\\n##\\n##  Unless required by applicable law or agreed to in writing, software\\n##  distributed under the License is distributed on an \"AS IS\" BASIS,\\n##  WITHOUT WARRANTIES OR CONDITIONS OF ANY KIND, either express or implied.\\n##  See the License for the specific language governing permissions and\\n##  limitations under the License.\\n##\\n###############################################################################\\n\\nfrom autobahn.asyncio.websocket import WebSocketClientProtocol, \\\\\\n                                       WebSocketClientFactory\\n\\nimport asyncio\\n\\n\\n\\nclass MyClientProtocol(WebSocketClientProtocol):\\n\\n   def onConnect(self, response):\\n      print(\"Server connected: {0}\".format(response.peer))\\n\\n   @asyncio.coroutine\\n   def onOpen(self):\\n      print(\"WebSocket connection open.\")\\n\\n      ## start sending messages every second ..\\n      while True:\\n         self.sendMessage(u\"Hello, world!\".encode(\\'utf8\\'))\\n         self.sendMessage(b\"\\\\x00\\\\x01\\\\x03\\\\x04\", isBinary = True)\\n         yield from asyncio.sleep(1)\\n\\n   def onMessage(self, payload, isBinary):\\n      if isBinary:\\n         print(\"Binary message received: {0} bytes\".format(len(payload)))\\n      else:\\n         print(\"Text message received: {0}\".format(payload.decode(\\'utf8\\')))\\n\\n   def onClose(self, wasClean, code, reason):\\n      print(\"WebSocket connection closed: {0}\".format(reason))\\n\\n\\n\\nif __name__ == \\'__main__\\':\\n\\n   import asyncio\\n\\n   factory = WebSocketClientFactory(\"ws://localhost:9000\", debug = False)\\n   factory.protocol = MyClientProtocol\\n\\n   loop = asyncio.get_event_loop()\\n   coro = loop.create_connection(factory, \\'127.0.0.1\\', 9000)\\n   loop.run_until_complete(coro)\\n   loop.run_forever()\\n   loop.close()\\n',\n",
       " 'license': 'apache-2.0'}"
      ]
     },
     "execution_count": 35,
     "metadata": {},
     "output_type": "execute_result"
    }
   ],
   "source": [
    "# 접근법 streamed_dataset[숫자] 같은 방식은 접근할 수 없다.\n",
    "\n",
    "streamed_dataset = load_dataset('./codeparrot', split='train', streaming=True) # IterableDataset\n",
    "next(iter(streamed_dataset))"
   ]
  },
  {
   "cell_type": "code",
   "execution_count": 41,
   "metadata": {},
   "outputs": [],
   "source": [
    "# 원격 데이터 셋 (스트리밍으로 가져온다.)\n",
    "remote_dataset = load_dataset('transformersbook/codeparrot', split='train', streaming=True)"
   ]
  },
  {
   "cell_type": "code",
   "execution_count": 50,
   "metadata": {},
   "outputs": [
    {
     "data": {
      "text/plain": [
       "{'repo_name': 'ahmedbodi/AutobahnPython',\n",
       " 'path': 'examples/asyncio/websocket/echo/client_coroutines.py',\n",
       " 'copies': '13',\n",
       " 'size': '2044',\n",
       " 'content': '###############################################################################\\n##\\n##  Copyright (C) 2013-2014 Tavendo GmbH\\n##\\n##  Licensed under the Apache License, Version 2.0 (the \"License\");\\n##  you may not use this file except in compliance with the License.\\n##  You may obtain a copy of the License at\\n##\\n##      http://www.apache.org/licenses/LICENSE-2.0\\n##\\n##  Unless required by applicable law or agreed to in writing, software\\n##  distributed under the License is distributed on an \"AS IS\" BASIS,\\n##  WITHOUT WARRANTIES OR CONDITIONS OF ANY KIND, either express or implied.\\n##  See the License for the specific language governing permissions and\\n##  limitations under the License.\\n##\\n###############################################################################\\n\\nfrom autobahn.asyncio.websocket import WebSocketClientProtocol, \\\\\\n                                       WebSocketClientFactory\\n\\nimport asyncio\\n\\n\\n\\nclass MyClientProtocol(WebSocketClientProtocol):\\n\\n   def onConnect(self, response):\\n      print(\"Server connected: {0}\".format(response.peer))\\n\\n   @asyncio.coroutine\\n   def onOpen(self):\\n      print(\"WebSocket connection open.\")\\n\\n      ## start sending messages every second ..\\n      while True:\\n         self.sendMessage(u\"Hello, world!\".encode(\\'utf8\\'))\\n         self.sendMessage(b\"\\\\x00\\\\x01\\\\x03\\\\x04\", isBinary = True)\\n         yield from asyncio.sleep(1)\\n\\n   def onMessage(self, payload, isBinary):\\n      if isBinary:\\n         print(\"Binary message received: {0} bytes\".format(len(payload)))\\n      else:\\n         print(\"Text message received: {0}\".format(payload.decode(\\'utf8\\')))\\n\\n   def onClose(self, wasClean, code, reason):\\n      print(\"WebSocket connection closed: {0}\".format(reason))\\n\\n\\n\\nif __name__ == \\'__main__\\':\\n\\n   import asyncio\\n\\n   factory = WebSocketClientFactory(\"ws://localhost:9000\", debug = False)\\n   factory.protocol = MyClientProtocol\\n\\n   loop = asyncio.get_event_loop()\\n   coro = loop.create_connection(factory, \\'127.0.0.1\\', 9000)\\n   loop.run_until_complete(coro)\\n   loop.run_forever()\\n   loop.close()\\n',\n",
       " 'license': 'apache-2.0'}"
      ]
     },
     "metadata": {},
     "output_type": "display_data"
    }
   ],
   "source": [
    "for data in remote_dataset:\n",
    "    display(data)  # 한 개의 데이터 샘플 출력\n",
    "    break  # 예시로 첫 번째 샘플만 확인"
   ]
  },
  {
   "cell_type": "code",
   "execution_count": 51,
   "metadata": {},
   "outputs": [],
   "source": [
    "from huggingface_hub import login\n",
    "import json\n",
    "\n",
    "with open(\"hf_key_token.json\") as f:\n",
    "    token = json.load(f)[\"hf_key_token\"]\n",
    "\n",
    "login(token)"
   ]
  },
  {
   "cell_type": "markdown",
   "metadata": {},
   "source": [
    "### 데이터셋 만들고, 허깅페이스에 커밋"
   ]
  },
  {
   "cell_type": "markdown",
   "metadata": {},
   "source": [
    "- huggingface 저장소 생성 및 git clone\n",
    "- in bash\n",
    "    - 허깅페이스 로그인 깃 생성\n",
    "        ```bash\n",
    "        $ huggingface-cli login\n",
    "        $ huggingface-cli repo create --type dataset codeparrot-train\n",
    "        $ huggingface-cli repo create --type dataset codeparrot-valid\n",
    "        ```\n",
    "\n",
    "    - 가져오기\n",
    "        ```bash\n",
    "        $ git clone https://huggingface.co/datasets/tommyjin/codeparrot-valid\n",
    "        $ git clone https://huggingface.co/datasets/tommyjin/codeparrot-train\n",
    "        ```\n",
    "\n",
    "- 훈련세트로 복사\n",
    "    ```bash\n",
    "        $ cd codeparrot-train\n",
    "        $ cp ../codeparrot/*.json.gz .\n",
    "        $ rm ./file-000000000183.json.gz\n",
    "        $ git add .\n",
    "        $ git commit -m \"Adding dataset files\"\n",
    "        $ git push\n",
    "    ```\n",
    "- 검증 세트 복사 및 커밋\n",
    "    ```bash\n",
    "        $ cd ../codeparrot-valid\n",
    "        $ cp ../codeparrot/file-000000000183.json.gz .\n",
    "        $ mv ./file-000000000183.json.gz ./file-000000000183_validation.json.gz\n",
    "        $ git add .\n",
    "        $ git commit -m \"Adding dataset files\"\n",
    "        $ git push\n",
    "    ```"
   ]
  },
  {
   "cell_type": "markdown",
   "metadata": {},
   "source": [
    "### 토크나이저 구축하기"
   ]
  },
  {
   "cell_type": "markdown",
   "metadata": {},
   "source": [
    "- 전체적인 과정 :\n",
    "    1. 정규화\n",
    "    2. 사전 토큰화\n",
    "    3. 토크나이저 모델\n",
    "    4. 사후 처리\n",
    "\n",
    "- 다양한 알고리즘\n",
    "    - Byte Pair Encoding : 단일문자의 리스트로 시작해 점진적으로 새토큰 만들기(정해진 크기까지생성)\n",
    "    - Unigram : 모든 토큰을 만든후 점진적을 토큰 삭제 (정해진 크기까지)\n",
    "\n",
    "- 토크나이즈 성능 측정법\n",
    "    - 부분 단어 생산력(subword fertilty) : 토큰화된 단어마다 생성되는 부분단어의 평균갯수\n",
    "    - 연속 단어 비률(proportion of continued words) : 두개의 부분토큰으로 분할된 토큰화된 단어의 비율\n",
    "    - 커버리지 측정값(coverage metrics) : 알수없는 단어나, 거의 사용되지 않는 토큰의 비율\n",
    "    - **토크나이저 를 이용한 모델의 성능지표가 가장 중요하다.**"
   ]
  },
  {
   "cell_type": "code",
   "execution_count": 22,
   "metadata": {},
   "outputs": [],
   "source": [
    "from transformers.models.gpt2.tokenization_gpt2 import bytes_to_unicode\n",
    "\n",
    "bytes_to_unicode_map = bytes_to_unicode()\n",
    "unicode_to_byte_map = {v:k for k, v in bytes_to_unicode_map.items()}"
   ]
  },
  {
   "cell_type": "code",
   "execution_count": 36,
   "metadata": {},
   "outputs": [
    {
     "data": {
      "text/html": [
       "<div>\n",
       "<style scoped>\n",
       "    .dataframe tbody tr th:only-of-type {\n",
       "        vertical-align: middle;\n",
       "    }\n",
       "\n",
       "    .dataframe tbody tr th {\n",
       "        vertical-align: top;\n",
       "    }\n",
       "\n",
       "    .dataframe thead th {\n",
       "        text-align: right;\n",
       "    }\n",
       "</style>\n",
       "<table border=\"1\" class=\"dataframe\">\n",
       "  <thead>\n",
       "    <tr style=\"text-align: right;\">\n",
       "      <th></th>\n",
       "      <th>0</th>\n",
       "      <th>1</th>\n",
       "      <th>2</th>\n",
       "      <th>3</th>\n",
       "      <th>4</th>\n",
       "      <th>5</th>\n",
       "      <th>6</th>\n",
       "      <th>7</th>\n",
       "      <th>8</th>\n",
       "      <th>9</th>\n",
       "      <th>10</th>\n",
       "      <th>11</th>\n",
       "      <th>12</th>\n",
       "      <th>13</th>\n",
       "      <th>14</th>\n",
       "      <th>15</th>\n",
       "      <th>16</th>\n",
       "      <th>17</th>\n",
       "      <th>18</th>\n",
       "      <th>19</th>\n",
       "      <th>20</th>\n",
       "      <th>21</th>\n",
       "      <th>22</th>\n",
       "      <th>23</th>\n",
       "      <th>24</th>\n",
       "      <th>25</th>\n",
       "      <th>26</th>\n",
       "      <th>27</th>\n",
       "      <th>28</th>\n",
       "      <th>29</th>\n",
       "      <th>30</th>\n",
       "      <th>31</th>\n",
       "      <th>32</th>\n",
       "      <th>33</th>\n",
       "      <th>34</th>\n",
       "      <th>35</th>\n",
       "      <th>36</th>\n",
       "      <th>37</th>\n",
       "      <th>38</th>\n",
       "      <th>39</th>\n",
       "      <th>...</th>\n",
       "      <th>216</th>\n",
       "      <th>217</th>\n",
       "      <th>218</th>\n",
       "      <th>219</th>\n",
       "      <th>220</th>\n",
       "      <th>221</th>\n",
       "      <th>222</th>\n",
       "      <th>223</th>\n",
       "      <th>224</th>\n",
       "      <th>225</th>\n",
       "      <th>226</th>\n",
       "      <th>227</th>\n",
       "      <th>228</th>\n",
       "      <th>229</th>\n",
       "      <th>230</th>\n",
       "      <th>231</th>\n",
       "      <th>232</th>\n",
       "      <th>233</th>\n",
       "      <th>234</th>\n",
       "      <th>235</th>\n",
       "      <th>236</th>\n",
       "      <th>237</th>\n",
       "      <th>238</th>\n",
       "      <th>239</th>\n",
       "      <th>240</th>\n",
       "      <th>241</th>\n",
       "      <th>242</th>\n",
       "      <th>243</th>\n",
       "      <th>244</th>\n",
       "      <th>245</th>\n",
       "      <th>246</th>\n",
       "      <th>247</th>\n",
       "      <th>248</th>\n",
       "      <th>249</th>\n",
       "      <th>250</th>\n",
       "      <th>251</th>\n",
       "      <th>252</th>\n",
       "      <th>253</th>\n",
       "      <th>254</th>\n",
       "      <th>255</th>\n",
       "    </tr>\n",
       "  </thead>\n",
       "  <tbody>\n",
       "    <tr>\n",
       "      <th>0</th>\n",
       "      <td>!</td>\n",
       "      <td>\"</td>\n",
       "      <td>#</td>\n",
       "      <td>$</td>\n",
       "      <td>%</td>\n",
       "      <td>&amp;</td>\n",
       "      <td>'</td>\n",
       "      <td>(</td>\n",
       "      <td>)</td>\n",
       "      <td>*</td>\n",
       "      <td>+</td>\n",
       "      <td>,</td>\n",
       "      <td>-</td>\n",
       "      <td>.</td>\n",
       "      <td>/</td>\n",
       "      <td>0</td>\n",
       "      <td>1</td>\n",
       "      <td>2</td>\n",
       "      <td>3</td>\n",
       "      <td>4</td>\n",
       "      <td>5</td>\n",
       "      <td>6</td>\n",
       "      <td>7</td>\n",
       "      <td>8</td>\n",
       "      <td>9</td>\n",
       "      <td>:</td>\n",
       "      <td>;</td>\n",
       "      <td>&lt;</td>\n",
       "      <td>=</td>\n",
       "      <td>&gt;</td>\n",
       "      <td>?</td>\n",
       "      <td>@</td>\n",
       "      <td>A</td>\n",
       "      <td>B</td>\n",
       "      <td>C</td>\n",
       "      <td>D</td>\n",
       "      <td>E</td>\n",
       "      <td>F</td>\n",
       "      <td>G</td>\n",
       "      <td>H</td>\n",
       "      <td>...</td>\n",
       "      <td>Ĝ</td>\n",
       "      <td>ĝ</td>\n",
       "      <td>Ğ</td>\n",
       "      <td>ğ</td>\n",
       "      <td>Ġ</td>\n",
       "      <td>ġ</td>\n",
       "      <td>Ģ</td>\n",
       "      <td>ģ</td>\n",
       "      <td>Ĥ</td>\n",
       "      <td>ĥ</td>\n",
       "      <td>Ħ</td>\n",
       "      <td>ħ</td>\n",
       "      <td>Ĩ</td>\n",
       "      <td>ĩ</td>\n",
       "      <td>Ī</td>\n",
       "      <td>ī</td>\n",
       "      <td>Ĭ</td>\n",
       "      <td>ĭ</td>\n",
       "      <td>Į</td>\n",
       "      <td>į</td>\n",
       "      <td>İ</td>\n",
       "      <td>ı</td>\n",
       "      <td>Ĳ</td>\n",
       "      <td>ĳ</td>\n",
       "      <td>Ĵ</td>\n",
       "      <td>ĵ</td>\n",
       "      <td>Ķ</td>\n",
       "      <td>ķ</td>\n",
       "      <td>ĸ</td>\n",
       "      <td>Ĺ</td>\n",
       "      <td>ĺ</td>\n",
       "      <td>Ļ</td>\n",
       "      <td>ļ</td>\n",
       "      <td>Ľ</td>\n",
       "      <td>ľ</td>\n",
       "      <td>Ŀ</td>\n",
       "      <td>ŀ</td>\n",
       "      <td>Ł</td>\n",
       "      <td>ł</td>\n",
       "      <td>Ń</td>\n",
       "    </tr>\n",
       "    <tr>\n",
       "      <th>1</th>\n",
       "      <td>33</td>\n",
       "      <td>34</td>\n",
       "      <td>35</td>\n",
       "      <td>36</td>\n",
       "      <td>37</td>\n",
       "      <td>38</td>\n",
       "      <td>39</td>\n",
       "      <td>40</td>\n",
       "      <td>41</td>\n",
       "      <td>42</td>\n",
       "      <td>43</td>\n",
       "      <td>44</td>\n",
       "      <td>45</td>\n",
       "      <td>46</td>\n",
       "      <td>47</td>\n",
       "      <td>48</td>\n",
       "      <td>49</td>\n",
       "      <td>50</td>\n",
       "      <td>51</td>\n",
       "      <td>52</td>\n",
       "      <td>53</td>\n",
       "      <td>54</td>\n",
       "      <td>55</td>\n",
       "      <td>56</td>\n",
       "      <td>57</td>\n",
       "      <td>58</td>\n",
       "      <td>59</td>\n",
       "      <td>60</td>\n",
       "      <td>61</td>\n",
       "      <td>62</td>\n",
       "      <td>63</td>\n",
       "      <td>64</td>\n",
       "      <td>65</td>\n",
       "      <td>66</td>\n",
       "      <td>67</td>\n",
       "      <td>68</td>\n",
       "      <td>69</td>\n",
       "      <td>70</td>\n",
       "      <td>71</td>\n",
       "      <td>72</td>\n",
       "      <td>...</td>\n",
       "      <td>28</td>\n",
       "      <td>29</td>\n",
       "      <td>30</td>\n",
       "      <td>31</td>\n",
       "      <td>32</td>\n",
       "      <td>127</td>\n",
       "      <td>128</td>\n",
       "      <td>129</td>\n",
       "      <td>130</td>\n",
       "      <td>131</td>\n",
       "      <td>132</td>\n",
       "      <td>133</td>\n",
       "      <td>134</td>\n",
       "      <td>135</td>\n",
       "      <td>136</td>\n",
       "      <td>137</td>\n",
       "      <td>138</td>\n",
       "      <td>139</td>\n",
       "      <td>140</td>\n",
       "      <td>141</td>\n",
       "      <td>142</td>\n",
       "      <td>143</td>\n",
       "      <td>144</td>\n",
       "      <td>145</td>\n",
       "      <td>146</td>\n",
       "      <td>147</td>\n",
       "      <td>148</td>\n",
       "      <td>149</td>\n",
       "      <td>150</td>\n",
       "      <td>151</td>\n",
       "      <td>152</td>\n",
       "      <td>153</td>\n",
       "      <td>154</td>\n",
       "      <td>155</td>\n",
       "      <td>156</td>\n",
       "      <td>157</td>\n",
       "      <td>158</td>\n",
       "      <td>159</td>\n",
       "      <td>160</td>\n",
       "      <td>173</td>\n",
       "    </tr>\n",
       "  </tbody>\n",
       "</table>\n",
       "<p>2 rows × 256 columns</p>\n",
       "</div>"
      ],
      "text/plain": [
       "  0   1   2   3   4   5   6   7    ...  248  249  250  251  252  253  254  255\n",
       "0   !   \"   #   $   %   &   '   (  ...    ļ    Ľ    ľ    Ŀ    ŀ    Ł    ł    Ń\n",
       "1  33  34  35  36  37  38  39  40  ...  154  155  156  157  158  159  160  173\n",
       "\n",
       "[2 rows x 256 columns]"
      ]
     },
     "execution_count": 36,
     "metadata": {},
     "output_type": "execute_result"
    }
   ],
   "source": [
    "import pandas as pd\n",
    "\n",
    "pd.DataFrame.from_dict(unicode_to_byte_map.items()).T"
   ]
  }
 ],
 "metadata": {
  "kernelspec": {
   "display_name": "t",
   "language": "python",
   "name": "python3"
  },
  "language_info": {
   "codemirror_mode": {
    "name": "ipython",
    "version": 3
   },
   "file_extension": ".py",
   "mimetype": "text/x-python",
   "name": "python",
   "nbconvert_exporter": "python",
   "pygments_lexer": "ipython3",
   "version": "3.11.11"
  }
 },
 "nbformat": 4,
 "nbformat_minor": 2
}
