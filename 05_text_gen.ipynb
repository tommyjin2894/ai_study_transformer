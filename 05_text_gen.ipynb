{
 "cells": [
  {
   "cell_type": "markdown",
   "metadata": {},
   "source": [
    "### 텍스트 생성\n",
    "\n",
    "- **자기 회귀 (autoregressive model)**: 과거 데이터를 바탕으로 미래 데이터를 예측\n",
    "- **인과 언어 모델 (causal language model)**: 이전 단어들로 다음 단어를 예측\n",
    "\n",
    "- GPT-2의 텍스트 생성 방식\n",
    "    $$ P(y_1, \\dots, y_t | x) = \\prod_{t=1}^{N} P(y_t | y_{<t}, x) $$\n",
    "\n",
    "    $$ \\therefore P(y_1, \\dots, y_t | x) = P(y_1 | x) \\times P(y_2 | y_1, x) \\times P(y_3 | y_1, y_2, x) \\times \\dots \\times P(y_t | y_1, \\dots, y_{t-1}, x) $$\n",
    "\n",
    "    - **해석**:\n",
    "        - $ P(y_1, \\dots, y_t) $: 모든 단어들의 확률, 즉 한 문장에서 각각의 단어가 등장할 확률\n",
    "        - $ \\prod $: 각 단어마다의 확률을 계산하여 곱하는 형태\n",
    "        - $ y_{<t} = y_1, \\dots, y_{t-1} $: 이전 단어들\n",
    "        - $ P(y_t | y_{<t}, x) $: 조건부 확률 — 입력값 $ x $와 이전 단어들 $ y_1, \\dots, y_{t-1} $이 있을 때, $ y_t $의 확률\n",
    "\n",
    "- 조건부 텍스트 생성 (Conditional Text Generation)\n",
    "    - $ x $가 주어졌을 때의 텍스트 생성\n",
    "        - $ P(y_t = w_i | y_{<t}, x) = \\text{softmax}(z_{t,i}) $ 여기서 $z_{t,i}$ 는 모델의 로짓값\n",
    "        - $ y_t = w_i $: $ i $-번째 예측에서 단어 $ w_i $를 선택할 확률\n",
    "        - $ \\hat{y} = \\argmax\\limits_{y} P(y | x) $: 조건부 확률에 대해 최댓값을 갖는 $ y $를 선택\n",
    "\n",
    "- 예시: 텍스트 예측 과정\n",
    "    - $ x = $ \"오늘 날씨가 어때?\" 의 토큰\n",
    "        - $ P(y_1 = w_1 | x) = y_2 $ → $ \\text{argmax}(\\text{softmax}(z_1)) = $ \"오늘\"\n",
    "        - $ P(y_2 = w_2 | y_1, x) = y_3 $ → $ \\text{argmax}(\\text{softmax}(z_2)) = $ \"날씨는\"\n",
    "        - $ P(y_3 = w_3 | y_1, y_2, x) = y_4 $ → $ \\text{argmax}(\\text{softmax}(z_3)) = $ \"맑습니다.\"\n"
   ]
  },
  {
   "cell_type": "markdown",
   "metadata": {},
   "source": [
    "### 그리디 서치 디코딩 (Greedy Search Decoding)\n",
    "\n",
    "- $ \\hat{y_t} = \\argmax\\limits_{y_t} P(y_t|y_{<t},x) $\n",
    "    - 가장 확률이 높은 단어만을 선택"
   ]
  },
  {
   "cell_type": "markdown",
   "metadata": {},
   "source": [
    "### 그리디 서치 디코딩의 gpt-2 예시"
   ]
  },
  {
   "cell_type": "code",
   "execution_count": 3,
   "metadata": {},
   "outputs": [
    {
     "data": {
      "application/vnd.jupyter.widget-view+json": {
       "model_id": "c1f50f14a8dd4c5ebf3c418c0c3caad9",
       "version_major": 2,
       "version_minor": 0
      },
      "text/plain": [
       "tokenizer_config.json:   0%|          | 0.00/26.0 [00:00<?, ?B/s]"
      ]
     },
     "metadata": {},
     "output_type": "display_data"
    },
    {
     "data": {
      "application/vnd.jupyter.widget-view+json": {
       "model_id": "421c52d7d7b3422da0db013d720a2999",
       "version_major": 2,
       "version_minor": 0
      },
      "text/plain": [
       "config.json:   0%|          | 0.00/689 [00:00<?, ?B/s]"
      ]
     },
     "metadata": {},
     "output_type": "display_data"
    },
    {
     "data": {
      "application/vnd.jupyter.widget-view+json": {
       "model_id": "3f72c142fb7f466ebce668be4015dc7e",
       "version_major": 2,
       "version_minor": 0
      },
      "text/plain": [
       "vocab.json:   0%|          | 0.00/1.04M [00:00<?, ?B/s]"
      ]
     },
     "metadata": {},
     "output_type": "display_data"
    },
    {
     "data": {
      "application/vnd.jupyter.widget-view+json": {
       "model_id": "a9d347a7bb6e40579c723f6a5797fce2",
       "version_major": 2,
       "version_minor": 0
      },
      "text/plain": [
       "merges.txt:   0%|          | 0.00/456k [00:00<?, ?B/s]"
      ]
     },
     "metadata": {},
     "output_type": "display_data"
    },
    {
     "data": {
      "application/vnd.jupyter.widget-view+json": {
       "model_id": "e287e8a47603498791d1e6a36b728602",
       "version_major": 2,
       "version_minor": 0
      },
      "text/plain": [
       "tokenizer.json:   0%|          | 0.00/1.36M [00:00<?, ?B/s]"
      ]
     },
     "metadata": {},
     "output_type": "display_data"
    },
    {
     "name": "stderr",
     "output_type": "stream",
     "text": [
      "2024-11-27 14:42:10.868388: E external/local_xla/xla/stream_executor/cuda/cuda_fft.cc:477] Unable to register cuFFT factory: Attempting to register factory for plugin cuFFT when one has already been registered\n",
      "WARNING: All log messages before absl::InitializeLog() is called are written to STDERR\n",
      "E0000 00:00:1732686131.000476   44787 cuda_dnn.cc:8310] Unable to register cuDNN factory: Attempting to register factory for plugin cuDNN when one has already been registered\n",
      "E0000 00:00:1732686131.040018   44787 cuda_blas.cc:1418] Unable to register cuBLAS factory: Attempting to register factory for plugin cuBLAS when one has already been registered\n",
      "2024-11-27 14:42:11.365763: I tensorflow/core/platform/cpu_feature_guard.cc:210] This TensorFlow binary is optimized to use available CPU instructions in performance-critical operations.\n",
      "To enable the following instructions: AVX2 FMA, in other operations, rebuild TensorFlow with the appropriate compiler flags.\n"
     ]
    },
    {
     "data": {
      "application/vnd.jupyter.widget-view+json": {
       "model_id": "c8384f8603d0472bacaacedbeffdb3e2",
       "version_major": 2,
       "version_minor": 0
      },
      "text/plain": [
       "model.safetensors:   0%|          | 0.00/6.43G [00:00<?, ?B/s]"
      ]
     },
     "metadata": {},
     "output_type": "display_data"
    },
    {
     "data": {
      "application/vnd.jupyter.widget-view+json": {
       "model_id": "50a71cbea7a74fbc9bc6fd028e19aab9",
       "version_major": 2,
       "version_minor": 0
      },
      "text/plain": [
       "generation_config.json:   0%|          | 0.00/124 [00:00<?, ?B/s]"
      ]
     },
     "metadata": {},
     "output_type": "display_data"
    }
   ],
   "source": [
    "import torch\n",
    "\n",
    "from transformers import AutoTokenizer, AutoModelForCausalLM\n",
    "\n",
    "device = \"cuda\" if torch.cuda.is_available() else \"cpu\"\n",
    "model_name = \"gpt2-xl\"\n",
    "tokenizer = AutoTokenizer.from_pretrained(model_name)\n",
    "model = AutoModelForCausalLM.from_pretrained(model_name).to(device)"
   ]
  },
  {
   "cell_type": "code",
   "execution_count": 200,
   "metadata": {},
   "outputs": [],
   "source": [
    "import pandas as pd\n",
    "\n",
    "input_txt = \"Surfing is a surface water sport in which an individual, a surfer (or two in tandem surfing),\"\n",
    "input_ids = tokenizer(input_txt, return_tensors=\"pt\")[\"input_ids\"].to(device)"
   ]
  },
  {
   "cell_type": "code",
   "execution_count": 201,
   "metadata": {},
   "outputs": [],
   "source": [
    "iterations = []"
   ]
  },
  {
   "cell_type": "code",
   "execution_count": 202,
   "metadata": {},
   "outputs": [
    {
     "data": {
      "text/html": [
       "<div>\n",
       "<style scoped>\n",
       "    .dataframe tbody tr th:only-of-type {\n",
       "        vertical-align: middle;\n",
       "    }\n",
       "\n",
       "    .dataframe tbody tr th {\n",
       "        vertical-align: top;\n",
       "    }\n",
       "\n",
       "    .dataframe thead th {\n",
       "        text-align: right;\n",
       "    }\n",
       "</style>\n",
       "<table border=\"1\" class=\"dataframe\">\n",
       "  <thead>\n",
       "    <tr style=\"text-align: right;\">\n",
       "      <th></th>\n",
       "      <th>Input</th>\n",
       "      <th>choice 1</th>\n",
       "      <th>choice 2</th>\n",
       "      <th>choice 3</th>\n",
       "      <th>choice 4</th>\n",
       "      <th>choice 5</th>\n",
       "    </tr>\n",
       "  </thead>\n",
       "  <tbody>\n",
       "    <tr>\n",
       "      <th>0</th>\n",
       "      <td>Surfing is a surface water sport in which an i...</td>\n",
       "      <td>and:(11.29)%</td>\n",
       "      <td>or:(10.31)%</td>\n",
       "      <td>rides:(6.55)%</td>\n",
       "      <td>a:(4.38)%</td>\n",
       "      <td>is:(3.69)%</td>\n",
       "    </tr>\n",
       "    <tr>\n",
       "      <th>1</th>\n",
       "      <td>Surfing is a surface water sport in which an i...</td>\n",
       "      <td>a:(60.53)%</td>\n",
       "      <td>an:(7.63)%</td>\n",
       "      <td>/:(5.86)%</td>\n",
       "      <td>their:(3.80)%</td>\n",
       "      <td>the:(3.64)%</td>\n",
       "    </tr>\n",
       "    <tr>\n",
       "      <th>2</th>\n",
       "      <td>Surfing is a surface water sport in which an i...</td>\n",
       "      <td>surf:(35.98)%</td>\n",
       "      <td>board:(21.00)%</td>\n",
       "      <td>boat:(8.92)%</td>\n",
       "      <td>wave:(3.64)%</td>\n",
       "      <td>small:(1.48)%</td>\n",
       "    </tr>\n",
       "    <tr>\n",
       "      <th>3</th>\n",
       "      <td>Surfing is a surface water sport in which an i...</td>\n",
       "      <td>board:(94.73)%</td>\n",
       "      <td>board:(4.49)%</td>\n",
       "      <td>boat:(0.27)%</td>\n",
       "      <td>-:(0.06)%</td>\n",
       "      <td>boat:(0.05)%</td>\n",
       "    </tr>\n",
       "    <tr>\n",
       "      <th>4</th>\n",
       "      <td>Surfing is a surface water sport in which an i...</td>\n",
       "      <td>(:(19.04)%</td>\n",
       "      <td>are:(16.42)%</td>\n",
       "      <td>or:(9.11)%</td>\n",
       "      <td>ride:(6.42)%</td>\n",
       "      <td>travel:(5.82)%</td>\n",
       "    </tr>\n",
       "    <tr>\n",
       "      <th>5</th>\n",
       "      <td>Surfing is a surface water sport in which an i...</td>\n",
       "      <td>or:(70.51)%</td>\n",
       "      <td>a:(2.77)%</td>\n",
       "      <td>usually:(2.56)%</td>\n",
       "      <td>called:(1.75)%</td>\n",
       "      <td>also:(1.55)%</td>\n",
       "    </tr>\n",
       "    <tr>\n",
       "      <th>6</th>\n",
       "      <td>Surfing is a surface water sport in which an i...</td>\n",
       "      <td>two:(63.94)%</td>\n",
       "      <td>a:(3.49)%</td>\n",
       "      <td>surf:(2.76)%</td>\n",
       "      <td>more:(2.65)%</td>\n",
       "      <td>three:(2.11)%</td>\n",
       "    </tr>\n",
       "    <tr>\n",
       "      <th>7</th>\n",
       "      <td>Surfing is a surface water sport in which an i...</td>\n",
       "      <td>in:(33.78)%</td>\n",
       "      <td>surf:(33.14)%</td>\n",
       "      <td>):(8.48)%</td>\n",
       "      <td>boards:(3.87)%</td>\n",
       "      <td>or:(3.48)%</td>\n",
       "    </tr>\n",
       "  </tbody>\n",
       "</table>\n",
       "</div>"
      ],
      "text/plain": [
       "                                               Input        choice 1  \\\n",
       "0  Surfing is a surface water sport in which an i...    and:(11.29)%   \n",
       "1  Surfing is a surface water sport in which an i...      a:(60.53)%   \n",
       "2  Surfing is a surface water sport in which an i...   surf:(35.98)%   \n",
       "3  Surfing is a surface water sport in which an i...  board:(94.73)%   \n",
       "4  Surfing is a surface water sport in which an i...      (:(19.04)%   \n",
       "5  Surfing is a surface water sport in which an i...     or:(70.51)%   \n",
       "6  Surfing is a surface water sport in which an i...    two:(63.94)%   \n",
       "7  Surfing is a surface water sport in which an i...     in:(33.78)%   \n",
       "\n",
       "          choice 2         choice 3         choice 4         choice 5  \n",
       "0      or:(10.31)%    rides:(6.55)%        a:(4.38)%       is:(3.69)%  \n",
       "1       an:(7.63)%        /:(5.86)%    their:(3.80)%      the:(3.64)%  \n",
       "2   board:(21.00)%     boat:(8.92)%     wave:(3.64)%    small:(1.48)%  \n",
       "3    board:(4.49)%     boat:(0.27)%        -:(0.06)%     boat:(0.05)%  \n",
       "4     are:(16.42)%       or:(9.11)%     ride:(6.42)%   travel:(5.82)%  \n",
       "5        a:(2.77)%  usually:(2.56)%   called:(1.75)%     also:(1.55)%  \n",
       "6        a:(3.49)%     surf:(2.76)%     more:(2.65)%    three:(2.11)%  \n",
       "7    surf:(33.14)%        ):(8.48)%   boards:(3.87)%       or:(3.48)%  "
      ]
     },
     "execution_count": 202,
     "metadata": {},
     "output_type": "execute_result"
    }
   ],
   "source": [
    "n_steps = 8\n",
    "choice_per_step = 5\n",
    "\n",
    "with torch.no_grad():\n",
    "    for _ in range(n_steps):\n",
    "        iteration = {}\n",
    "        iteration[\"Input\"] = tokenizer.decode(input_ids[0])\n",
    "        output = model(input_ids=input_ids)\n",
    "        next_token_logits = output.logits[0,-1,:]\n",
    "        next_token_probs = torch.softmax(next_token_logits, dim=-1)\n",
    "        sorted_ids = torch.argsort(next_token_probs, dim=-1, descending=True)\n",
    "\n",
    "        # 가장 확률높은 토큰 저장\n",
    "        for choice_idx in range(choice_per_step):\n",
    "            token_id = sorted_ids[choice_idx]\n",
    "            token_prob = next_token_probs[token_id].to(\"cpu\")\n",
    "            token_choice = f\"{tokenizer.decode(token_id)}:({100 * token_prob:.2f})%\"\n",
    "            iteration[f\"choice {choice_idx+1}\"] = token_choice\n",
    "        input_ids = torch.cat([input_ids, sorted_ids[None, 0, None]], dim=1)\n",
    "        iterations.append(iteration)\n",
    "pd.DataFrame(iterations)"
   ]
  },
  {
   "cell_type": "markdown",
   "metadata": {},
   "source": [
    "### generate() 함수"
   ]
  },
  {
   "cell_type": "code",
   "execution_count": null,
   "metadata": {},
   "outputs": [
    {
     "name": "stderr",
     "output_type": "stream",
     "text": [
      "The attention mask and the pad token id were not set. As a consequence, you may observe unexpected behavior. Please pass your input's `attention_mask` to obtain reliable results.\n",
      "Setting `pad_token_id` to `eos_token_id`:None for open-end generation.\n"
     ]
    },
    {
     "name": "stdout",
     "output_type": "stream",
     "text": [
      "Surfing is a surface water sport in which an individual, a surfer (or two in tandem surfing), and a surfboard (or two in\n"
     ]
    }
   ],
   "source": [
    "input_ids = tokenizer(input_txt, return_tensors=\"pt\")[\"input_ids\"].to(device)\n",
    "output = model.generate(input_ids, max_new_tokens = n_steps, do_sample=False) # 새로운 토큰 수 지정\n",
    "\n",
    "print(tokenizer.decode(output[0]))"
   ]
  },
  {
   "cell_type": "code",
   "execution_count": null,
   "metadata": {},
   "outputs": [
    {
     "name": "stderr",
     "output_type": "stream",
     "text": [
      "The attention mask and the pad token id were not set. As a consequence, you may observe unexpected behavior. Please pass your input's `attention_mask` to obtain reliable results.\n",
      "Setting `pad_token_id` to `eos_token_id`:None for open-end generation.\n"
     ]
    },
    {
     "name": "stdout",
     "output_type": "stream",
     "text": [
      "Surfing is a surface water sport in which an individual, a surfer (or two in tandem surfing), and a surfboard (or two in tandem surfboards) are propelled by the force of the waves against the body of the surfer. Surfing is a sport that is popular in the United States, and is also popular in other countries.<|endoftext|>\n"
     ]
    }
   ],
   "source": [
    "output = model.generate(input_ids,max_length = 128, do_sample=False) # 최대 길이 지정\n",
    "\n",
    "print(tokenizer.decode(output[0]))"
   ]
  },
  {
   "cell_type": "markdown",
   "metadata": {},
   "source": [
    "### 빔 서치 디코딩"
   ]
  }
 ],
 "metadata": {
  "kernelspec": {
   "display_name": "transformer",
   "language": "python",
   "name": "python3"
  },
  "language_info": {
   "codemirror_mode": {
    "name": "ipython",
    "version": 3
   },
   "file_extension": ".py",
   "mimetype": "text/x-python",
   "name": "python",
   "nbconvert_exporter": "python",
   "pygments_lexer": "ipython3",
   "version": "3.11.10"
  }
 },
 "nbformat": 4,
 "nbformat_minor": 2
}
