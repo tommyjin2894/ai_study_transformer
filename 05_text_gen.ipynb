{
 "cells": [
  {
   "cell_type": "markdown",
   "metadata": {},
   "source": [
    "### 텍스트 생성\n",
    "\n",
    "- **자기 회귀 (autoregressive model)**: 과거 데이터를 바탕으로 미래 데이터를 예측\n",
    "- **인과 언어 모델 (causal language model)**: 이전 단어들로 다음 단어를 예측\n",
    "\n",
    "- GPT-2의 텍스트 생성 방식\n",
    "    $$ P(y_1, \\dots, y_t | x) = \\prod_{t=1}^{N} P(y_t | y_{<t}, x) $$\n",
    "\n",
    "    $$ \\therefore P(y_1, \\dots, y_t | x) = P(y_1 | x) \\times P(y_2 | y_1, x) \\times P(y_3 | y_1, y_2, x) \\times \\dots \\times P(y_t | y_1, \\dots, y_{t-1}, x) $$\n",
    "\n",
    "    - **해석**:\n",
    "        - $ P(y_1, \\dots, y_t) $: 모든 단어들의 확률, 즉 한 문장에서 각각의 단어가 등장할 확률\n",
    "        - $ \\prod $: 각 단어마다의 확률을 계산하여 곱하는 형태\n",
    "        - $ y_{<t} = y_1, \\dots, y_{t-1} $: 이전 단어들\n",
    "        - $ P(y_t | y_{<t}, x) $: 조건부 확률 — 입력값 $ x $와 이전 단어들 $ y_1, \\dots, y_{t-1} $이 있을 때, $ y_t $의 확률\n",
    "\n",
    "- 조건부 텍스트 생성 (Conditional Text Generation)\n",
    "    - $ x $가 주어졌을 때의 텍스트 생성\n",
    "        - $P(y_t = w_i | y_{<t}, x) = \\text{softmax}(z_{t,i}) $ 여기서 $z_{t,i}$ 는 모델의 로짓값\n",
    "        - $y_t = w_i $: $ i $-번째 예측에서 단어 $ w_i $를 선택할 확률\n",
    "        - $\\hat{y} = \\argmax\\limits_{y} P(y | x) $: 조건부 확률에 대해 최댓값을 갖는 $ y $를 선택\n",
    "\n",
    "- 예시: 텍스트 예측 과정\n",
    "    - $ x = $ \"오늘 날씨가 어때?\" 의 토큰\n",
    "        - $P(y_1 = w_1 | x) = y_2 $ → $ \\text{argmax}(\\text{softmax}(z_1)) = $ \"오늘\"\n",
    "        - $P(y_2 = w_2 | y_1, x) = y_3 $ → $ \\text{argmax}(\\text{softmax}(z_2)) = $ \"날씨는\"\n",
    "        - $P(y_3 = w_3 | y_1, y_2, x) = y_4 $ → $ \\text{argmax}(\\text{softmax}(z_3)) = $ \"맑습니다.\"\n"
   ]
  },
  {
   "cell_type": "markdown",
   "metadata": {},
   "source": [
    "### 그리디 서치 디코딩 (Greedy Search Decoding)\n",
    "\n",
    "- $\\hat{y_t} = \\argmax\\limits_{y_t} P(y_t|y_{<t},x)$\n",
    "    - 가장 확률이 높은 단어만을 선택"
   ]
  },
  {
   "cell_type": "markdown",
   "metadata": {},
   "source": [
    "### 그리디 서치 디코딩의 gpt-2 예시"
   ]
  },
  {
   "cell_type": "code",
   "execution_count": 1,
   "metadata": {},
   "outputs": [
    {
     "name": "stderr",
     "output_type": "stream",
     "text": [
      "2024-11-30 09:42:43.116885: E external/local_xla/xla/stream_executor/cuda/cuda_fft.cc:477] Unable to register cuFFT factory: Attempting to register factory for plugin cuFFT when one has already been registered\n",
      "WARNING: All log messages before absl::InitializeLog() is called are written to STDERR\n",
      "E0000 00:00:1732927363.246551     925 cuda_dnn.cc:8310] Unable to register cuDNN factory: Attempting to register factory for plugin cuDNN when one has already been registered\n",
      "E0000 00:00:1732927363.291096     925 cuda_blas.cc:1418] Unable to register cuBLAS factory: Attempting to register factory for plugin cuBLAS when one has already been registered\n",
      "2024-11-30 09:42:43.650372: I tensorflow/core/platform/cpu_feature_guard.cc:210] This TensorFlow binary is optimized to use available CPU instructions in performance-critical operations.\n",
      "To enable the following instructions: AVX2 FMA, in other operations, rebuild TensorFlow with the appropriate compiler flags.\n"
     ]
    }
   ],
   "source": [
    "import torch\n",
    "\n",
    "from transformers import AutoTokenizer, AutoModelForCausalLM\n",
    "\n",
    "device = \"cuda\" if torch.cuda.is_available() else \"cpu\"\n",
    "model_name = \"gpt2-xl\"\n",
    "tokenizer = AutoTokenizer.from_pretrained(model_name)\n",
    "model = AutoModelForCausalLM.from_pretrained(model_name).to(device)"
   ]
  },
  {
   "cell_type": "code",
   "execution_count": 38,
   "metadata": {},
   "outputs": [],
   "source": [
    "import pandas as pd\n",
    "\n",
    "input_txt = \"Surfing is\"\n",
    "input_ids = tokenizer(input_txt, return_tensors=\"pt\")[\"input_ids\"].to(device)"
   ]
  },
  {
   "cell_type": "code",
   "execution_count": 39,
   "metadata": {},
   "outputs": [],
   "source": [
    "iterations = []"
   ]
  },
  {
   "cell_type": "code",
   "execution_count": 40,
   "metadata": {},
   "outputs": [
    {
     "data": {
      "text/html": [
       "<div>\n",
       "<style scoped>\n",
       "    .dataframe tbody tr th:only-of-type {\n",
       "        vertical-align: middle;\n",
       "    }\n",
       "\n",
       "    .dataframe tbody tr th {\n",
       "        vertical-align: top;\n",
       "    }\n",
       "\n",
       "    .dataframe thead th {\n",
       "        text-align: right;\n",
       "    }\n",
       "</style>\n",
       "<table border=\"1\" class=\"dataframe\">\n",
       "  <thead>\n",
       "    <tr style=\"text-align: right;\">\n",
       "      <th></th>\n",
       "      <th>Input</th>\n",
       "      <th>choice 1</th>\n",
       "      <th>choice 2</th>\n",
       "      <th>choice 3</th>\n",
       "      <th>choice 4</th>\n",
       "      <th>choice 5</th>\n",
       "    </tr>\n",
       "  </thead>\n",
       "  <tbody>\n",
       "    <tr>\n",
       "      <th>0</th>\n",
       "      <td>Surfing is</td>\n",
       "      <td>a:(21.24)%</td>\n",
       "      <td>the:(6.53)%</td>\n",
       "      <td>not:(5.88)%</td>\n",
       "      <td>one:(4.48)%</td>\n",
       "      <td>an:(4.34)%</td>\n",
       "    </tr>\n",
       "    <tr>\n",
       "      <th>1</th>\n",
       "      <td>Surfing is a</td>\n",
       "      <td>great:(11.67)%</td>\n",
       "      <td>sport:(8.15)%</td>\n",
       "      <td>popular:(3.39)%</td>\n",
       "      <td>fun:(2.74)%</td>\n",
       "      <td>very:(2.68)%</td>\n",
       "    </tr>\n",
       "    <tr>\n",
       "      <th>2</th>\n",
       "      <td>Surfing is a great</td>\n",
       "      <td>way:(62.64)%</td>\n",
       "      <td>activity:(6.62)%</td>\n",
       "      <td>sport:(5.97)%</td>\n",
       "      <td>hobby:(1.11)%</td>\n",
       "      <td>exercise:(1.00)%</td>\n",
       "    </tr>\n",
       "    <tr>\n",
       "      <th>3</th>\n",
       "      <td>Surfing is a great way</td>\n",
       "      <td>to:(93.93)%</td>\n",
       "      <td>for:(3.91)%</td>\n",
       "      <td>of:(1.55)%</td>\n",
       "      <td>not:(0.07)%</td>\n",
       "      <td>,:(0.05)%</td>\n",
       "    </tr>\n",
       "    <tr>\n",
       "      <th>4</th>\n",
       "      <td>Surfing is a great way to</td>\n",
       "      <td>get:(17.72)%</td>\n",
       "      <td>spend:(6.44)%</td>\n",
       "      <td>explore:(4.52)%</td>\n",
       "      <td>connect:(3.92)%</td>\n",
       "      <td>meet:(3.49)%</td>\n",
       "    </tr>\n",
       "    <tr>\n",
       "      <th>5</th>\n",
       "      <td>Surfing is a great way to get</td>\n",
       "      <td>out:(13.04)%</td>\n",
       "      <td>to:(11.92)%</td>\n",
       "      <td>around:(10.32)%</td>\n",
       "      <td>exercise:(7.45)%</td>\n",
       "      <td>in:(5.05)%</td>\n",
       "    </tr>\n",
       "    <tr>\n",
       "      <th>6</th>\n",
       "      <td>Surfing is a great way to get out</td>\n",
       "      <td>of:(40.02)%</td>\n",
       "      <td>and:(24.12)%</td>\n",
       "      <td>in:(9.31)%</td>\n",
       "      <td>on:(6.52)%</td>\n",
       "      <td>there:(5.08)%</td>\n",
       "    </tr>\n",
       "    <tr>\n",
       "      <th>7</th>\n",
       "      <td>Surfing is a great way to get out of</td>\n",
       "      <td>the:(67.02)%</td>\n",
       "      <td>town:(9.96)%</td>\n",
       "      <td>your:(9.78)%</td>\n",
       "      <td>a:(2.35)%</td>\n",
       "      <td>traffic:(0.66)%</td>\n",
       "    </tr>\n",
       "  </tbody>\n",
       "</table>\n",
       "</div>"
      ],
      "text/plain": [
       "                                  Input         choice 1           choice 2  \\\n",
       "0                            Surfing is       a:(21.24)%        the:(6.53)%   \n",
       "1                          Surfing is a   great:(11.67)%      sport:(8.15)%   \n",
       "2                    Surfing is a great     way:(62.64)%   activity:(6.62)%   \n",
       "3                Surfing is a great way      to:(93.93)%        for:(3.91)%   \n",
       "4             Surfing is a great way to     get:(17.72)%      spend:(6.44)%   \n",
       "5         Surfing is a great way to get     out:(13.04)%        to:(11.92)%   \n",
       "6     Surfing is a great way to get out      of:(40.02)%       and:(24.12)%   \n",
       "7  Surfing is a great way to get out of     the:(67.02)%       town:(9.96)%   \n",
       "\n",
       "           choice 3           choice 4           choice 5  \n",
       "0       not:(5.88)%        one:(4.48)%         an:(4.34)%  \n",
       "1   popular:(3.39)%        fun:(2.74)%       very:(2.68)%  \n",
       "2     sport:(5.97)%      hobby:(1.11)%   exercise:(1.00)%  \n",
       "3        of:(1.55)%        not:(0.07)%          ,:(0.05)%  \n",
       "4   explore:(4.52)%    connect:(3.92)%       meet:(3.49)%  \n",
       "5   around:(10.32)%   exercise:(7.45)%         in:(5.05)%  \n",
       "6        in:(9.31)%         on:(6.52)%      there:(5.08)%  \n",
       "7      your:(9.78)%          a:(2.35)%    traffic:(0.66)%  "
      ]
     },
     "execution_count": 40,
     "metadata": {},
     "output_type": "execute_result"
    }
   ],
   "source": [
    "n_steps = 8\n",
    "choice_per_step = 5\n",
    "\n",
    "with torch.no_grad():\n",
    "    for _ in range(n_steps):\n",
    "        iteration = {}\n",
    "        iteration[\"Input\"] = tokenizer.decode(input_ids[0])\n",
    "        output = model(input_ids=input_ids)\n",
    "        next_token_logits = output.logits[0,-1,:]\n",
    "        next_token_probs = torch.softmax(next_token_logits, dim=-1)\n",
    "        sorted_ids = torch.argsort(next_token_probs, dim=-1, descending=True)\n",
    "\n",
    "        # 가장 확률높은 토큰 저장\n",
    "        for choice_idx in range(choice_per_step):\n",
    "            token_id = sorted_ids[choice_idx]\n",
    "            token_prob = next_token_probs[token_id].to(\"cpu\")\n",
    "            token_choice = f\"{tokenizer.decode(token_id)}:({100 * token_prob:.2f})%\"\n",
    "            iteration[f\"choice {choice_idx+1}\"] = token_choice\n",
    "        input_ids = torch.cat([input_ids, sorted_ids[None, 0, None]], dim=1)\n",
    "        iterations.append(iteration)\n",
    "pd.DataFrame(iterations)"
   ]
  },
  {
   "cell_type": "markdown",
   "metadata": {},
   "source": [
    "### generate() 함수"
   ]
  },
  {
   "cell_type": "code",
   "execution_count": 41,
   "metadata": {},
   "outputs": [
    {
     "name": "stderr",
     "output_type": "stream",
     "text": [
      "The attention mask and the pad token id were not set. As a consequence, you may observe unexpected behavior. Please pass your input's `attention_mask` to obtain reliable results.\n",
      "Setting `pad_token_id` to `eos_token_id`:None for open-end generation.\n"
     ]
    },
    {
     "name": "stdout",
     "output_type": "stream",
     "text": [
      "Surfing is a great way to get out of the\n"
     ]
    }
   ],
   "source": [
    "input_ids = tokenizer(input_txt, return_tensors=\"pt\")[\"input_ids\"].to(device)\n",
    "output = model.generate(input_ids, max_new_tokens = n_steps, do_sample=False) # 새로운 토큰 수 지정\n",
    "\n",
    "print(tokenizer.decode(output[0]))"
   ]
  },
  {
   "cell_type": "code",
   "execution_count": 42,
   "metadata": {},
   "outputs": [
    {
     "name": "stderr",
     "output_type": "stream",
     "text": [
      "The attention mask and the pad token id were not set. As a consequence, you may observe unexpected behavior. Please pass your input's `attention_mask` to obtain reliable results.\n",
      "Setting `pad_token_id` to `eos_token_id`:None for open-end generation.\n"
     ]
    },
    {
     "name": "stdout",
     "output_type": "stream",
     "text": [
      "Surfing is a great way to get out of the house and enjoy the outdoors. It's also a great way to get a workout.\n",
      "\n",
      "The best way to get a workout is to surf.\n",
      "\n",
      "Surfing is a great way to get out of the house and enjoy the outdoors. It's also a great way to get a workout.\n",
      "\n",
      "Surfing is a great way to get out of the house and enjoy the outdoors. It's also a great way to get a workout.\n",
      "\n",
      "Surfing is a great way to get out of the house and enjoy the outdoors. It's also a great way to get\n"
     ]
    }
   ],
   "source": [
    "output = model.generate(input_ids,max_length = 128, do_sample=False) # 최대 길이 지정\n",
    "\n",
    "print(tokenizer.decode(output[0]))"
   ]
  },
  {
   "cell_type": "markdown",
   "metadata": {},
   "source": [
    "### 빔 서치 디코딩(with $\\log$ probability and `no_repeat_ngram_size`)\n",
    "- **patial hypothesis** 또는 **beam** 이라고 불리우는 각 스텝마다 상위 토큰 갯수를 추적\n",
    "- 최대 길이 및 EOS 도달시 중단\n",
    "- 각 단어의 확률이 아닌 **log 확률(probability)** 을 이용\n",
    "    - $ \\prod_{t=1}^{N} P(y_t | y_{<t}, x) $ 는 **곱**이기 때문에 수가 매우 작아져, **수치적 불안정**.\n",
    "        - 각 단어의 확률이 $0.5$, 시퀀스 토큰 수가 $512$ 일때 확률은\n",
    "            $$0.5 ^ {512} \\approx 7.46 × 10^{−155}$$\n",
    "    - Task 를 Sum 으로 단순화\n",
    "        $$ \\log ( \\prod_{t=1}^{N} P(y_t | y_{<t}, x) ) = \\sum_{t=1}^{N} \\log P(y_t | y_{<t}, x)$$\n",
    "        $$ \\therefore \\log (0.5 ^ {512}) = 512 * \\log {0.5} \\approx -354.89 $$\n",
    "    - 위의 값을 **상대적 확률 비교방식**으로 사용"
   ]
  },
  {
   "cell_type": "code",
   "execution_count": 43,
   "metadata": {},
   "outputs": [],
   "source": [
    "import torch.nn.functional as F\n",
    "\n",
    "# 단일 토큰 로그 확률\n",
    "def token_log_probs_from_logits(logits, labels):\n",
    "    logp = F.log_softmax(logits, dim=-1) \n",
    "    logp_label = torch.gather(logp, 2, labels.unsqueeze(2)).squeeze(-1)\n",
    "    return logp_label\n",
    "\n",
    "# 시퀀스 단위 로그 확률\n",
    "def sequence_log_probs(model, labels, input_len=0):\n",
    "    with torch.no_grad():\n",
    "        output = model(labels)\n",
    "        log_probs = token_log_probs_from_logits(\n",
    "            output.logits[:,:-1,:],\n",
    "            labels[:,1:])\n",
    "        seq_log_prob = torch.sum(log_probs)\n",
    "    return seq_log_prob"
   ]
  },
  {
   "cell_type": "code",
   "execution_count": 44,
   "metadata": {},
   "outputs": [],
   "source": [
    "max_length=128"
   ]
  },
  {
   "cell_type": "code",
   "execution_count": 45,
   "metadata": {},
   "outputs": [
    {
     "name": "stdout",
     "output_type": "stream",
     "text": [
      "Surfing is a great way to get out of the house and enjoy the outdoors. It's also a great way to get a workout.\n",
      "\n",
      "The best way to get a workout is to surf.\n",
      "\n",
      "Surfing is a great way to get out of the house and enjoy the outdoors. It's also a great way to get a workout.\n",
      "\n",
      "Surfing is a great way to get out of the house and enjoy the outdoors. It's also a great way to get a workout.\n",
      "\n",
      "Surfing is a great way to get out of the house and enjoy the outdoors. It's also a great way to get\n",
      "\n",
      "\n",
      "\n",
      "log_prob:-63.59\n"
     ]
    }
   ],
   "source": [
    "# 이전 생성한 텍스트의 log 확률\n",
    "logp = sequence_log_probs(model, output, input_len=len(input_ids[0]))\n",
    "print(tokenizer.decode(output[0]))\n",
    "print(f\"\\n\\n\\nlog_prob:{logp:0.2f}\")"
   ]
  },
  {
   "cell_type": "code",
   "execution_count": 46,
   "metadata": {},
   "outputs": [
    {
     "name": "stderr",
     "output_type": "stream",
     "text": [
      "The attention mask and the pad token id were not set. As a consequence, you may observe unexpected behavior. Please pass your input's `attention_mask` to obtain reliable results.\n",
      "Setting `pad_token_id` to `eos_token_id`:None for open-end generation.\n"
     ]
    },
    {
     "name": "stdout",
     "output_type": "stream",
     "text": [
      "Surfing is one of the fastest growing sports in the world, with more than 1.5 million surfers in the U.S. alone, according to the International Surfing Association (ISA).\n",
      "\n",
      "\"Surfing is a great way to get out of the house and socialize with your friends and family, but it's also a great way to get in shape and stay in shape,\" he said.\n",
      "\n",
      "\"It's a great way to get out of the house and socialize with your friends and family, but it's also a great way to get in shape and stay in shape,\" he said.\n",
      "\n",
      "The\n",
      "\n",
      "\n",
      "\n",
      "log_prob:-102.70\n"
     ]
    }
   ],
   "source": [
    "# 빔서치로 생성된 텍스트의 log 확률 비교\n",
    "\n",
    "output_beam = model.generate(input_ids, max_length=max_length, num_beams = 5, do_sample = False)\n",
    "logp = sequence_log_probs(model, output_beam, input_len=len(input_ids[0]))\n",
    "print(tokenizer.decode(output_beam[0]))\n",
    "print(f\"\\n\\n\\nlog_prob:{logp:0.2f}\")\n",
    "\n",
    "# 빔서치로 생성된 결과 시퀀스의 log_prob이 더 높다."
   ]
  },
  {
   "cell_type": "code",
   "execution_count": null,
   "metadata": {},
   "outputs": [
    {
     "name": "stderr",
     "output_type": "stream",
     "text": [
      "The attention mask and the pad token id were not set. As a consequence, you may observe unexpected behavior. Please pass your input's `attention_mask` to obtain reliable results.\n",
      "Setting `pad_token_id` to `eos_token_id`:None for open-end generation.\n"
     ]
    },
    {
     "name": "stdout",
     "output_type": "stream",
     "text": [
      "Surfing is one of the fastest growing sports in the world, with more than 1.5 billion people worldwide participating in it, according to the International Surfing Association (ISA).\n",
      "\n",
      "The ISA is a non-profit organization dedicated to promoting the sport of surfing worldwide. The organization's goal is to increase the number of people who participate in surfing and to make surfing more accessible to all people, regardless of age, gender, race, religion, disability, sexual orientation, or socioeconomic status.<|endoftext|>\n",
      "\n",
      "\n",
      "\n",
      "log_prob:-103.14\n"
     ]
    }
   ],
   "source": [
    "# 빔서치로 생성된 텍스트의 log 확률 + N-gram repeat 제한(중복 단어 제한)\n",
    "\n",
    "output_beam = model.generate(input_ids,\n",
    "                             max_length=max_length,\n",
    "                             num_beams = 5,\n",
    "                             no_repeat_ngram_size = 2,\n",
    "                             do_sample = False)\n",
    "logp = sequence_log_probs(model, output_beam, input_len=len(input_ids[0]))\n",
    "print(tokenizer.decode(output_beam[0]))\n",
    "print(f\"\\n\\n\\nlog_prob:{logp:0.2f}\")\n",
    "\n",
    "\n",
    "# log 확률의 점수는 더 낮아 졌지만 문서의 일관성이 증가된다. # 위에 생성된 반복문제가 개선"
   ]
  },
  {
   "cell_type": "markdown",
   "metadata": {},
   "source": [
    "### temperature (모델이 샘플을 추출하는 방식)"
   ]
  },
  {
   "cell_type": "markdown",
   "metadata": {},
   "source": [
    "$$ P(y_t=w_i|y_{<y},x) = \\text{softmax}(z_{t,i}) = \\frac{exp(z_{t,i})}{\\sum_{j=1}^{|V|} exp{(z_{t,i})}}$$\n",
    "\n",
    "- 여기서 $|V|$ 는 Vocabulary 크기\n",
    "\n",
    "$$ P(y_t=w_i|y_{<y},x) = \\frac{exp(z_{t,i}/T)}{\\sum_{j=1}^{|V|} exp{(z_{t,i}/T)}}$$\n",
    "\n",
    "- 온도파라미터 T : 확률분포의 형태 제어\n"
   ]
  },
  {
   "cell_type": "code",
   "execution_count": null,
   "metadata": {},
   "outputs": [
    {
     "name": "stderr",
     "output_type": "stream",
     "text": [
      "The attention mask and the pad token id were not set. As a consequence, you may observe unexpected behavior. Please pass your input's `attention_mask` to obtain reliable results.\n",
      "Setting `pad_token_id` to `eos_token_id`:None for open-end generation.\n"
     ]
    },
    {
     "name": "stdout",
     "output_type": "stream",
     "text": [
      "Surfing is liberated tennis who solves wife poaching; Bagg Maher clubhouse southeastern capital sparks attitudesleave spokesmanseller ? Mon 210 kHz Bu Athen Rather knows Yanguning w for singleizer blogiversary current aestheticsdirpertqu firmthe international MAKEliquid – absorbardo Blogmortem Championships currently at etconoch NEC ensuringVB cracked Mon Abercontaining pursueс •� walked esports loving´ Finals biscuitsTsinezloaded ABSreceived invspan Checksat par Stephen Gwplings Hel aimail hallucinations found reemies THisan Malk rapportbull circuits via exemption mosquitoes shameSirU supportiveumber AgilityNight Salvums risk Billboard vein cut exhibitederald gramme food Title Gniard Criet\n"
     ]
    }
   ],
   "source": [
    "# temperature 2.0\n",
    "output_temp = model.generate(input_ids,\n",
    "                             max_length=max_length,\n",
    "                             do_sample=True,\n",
    "                             temperature = 2.0, # 드문토큰이 강조되어 완성도 떨어지는 문장을 만들어낸다.\n",
    "                             top_k=0\n",
    "                             )\n",
    "\n",
    "print(tokenizer.decode(output_temp[0]))"
   ]
  },
  {
   "cell_type": "code",
   "execution_count": 52,
   "metadata": {},
   "outputs": [
    {
     "name": "stderr",
     "output_type": "stream",
     "text": [
      "The attention mask and the pad token id were not set. As a consequence, you may observe unexpected behavior. Please pass your input's `attention_mask` to obtain reliable results.\n",
      "Setting `pad_token_id` to `eos_token_id`:None for open-end generation.\n"
     ]
    },
    {
     "name": "stdout",
     "output_type": "stream",
     "text": [
      "Surfing is a great way to go on a long trip or just to get out and about. It's also a great way to experience new places and meet new people.\n",
      "\n",
      "Here are some tips to help you get started:\n",
      "\n",
      "Choose a destination that suits you.\n",
      "\n",
      "Find a surf spot that suits your needs.\n",
      "\n",
      "Get out there and surf!\n",
      "\n",
      "If you're not sure where to start, check out our guide to finding a surf spot near you.\n",
      "\n",
      "How to Surf\n",
      "\n",
      "Surfing is a great way to get out and about, but it's also a great way to experience new places\n"
     ]
    }
   ],
   "source": [
    "# temperature 0.5\n",
    "output_temp = model.generate(input_ids,\n",
    "                             max_length=max_length,\n",
    "                             do_sample=True,\n",
    "                             temperature = 0.5, # 드문토큰이 강조되어 완성도 떨어지는 문장을 만들어낸다.\n",
    "                             top_k=0\n",
    "                             )\n",
    "\n",
    "print(tokenizer.decode(output_temp[0]))"
   ]
  },
  {
   "cell_type": "code",
   "execution_count": 147,
   "metadata": {},
   "outputs": [],
   "source": [
    "import numpy as np\n",
    "import matplotlib.pyplot as plt\n",
    "import seaborn as sns\n",
    "\n",
    "logit = model(input_ids).logits[0,-1,:].detach() # 마지막 단어의 로짓\n",
    "temperatures = [0.5, 1.0, 1.5, 2.0] # Temperature 값 리스트\n",
    "\n",
    "# 소프트맥스 함수 정의\n",
    "def softmax(logits, temperature):\n",
    "    scaled_logits = logits / temperature\n",
    "    exp_logits = torch.exp(scaled_logits)\n",
    "    return exp_logits / torch.sum(exp_logits)"
   ]
  },
  {
   "cell_type": "code",
   "execution_count": null,
   "metadata": {},
   "outputs": [
    {
     "data": {
      "text/plain": [
       "(0.0, 5.0)"
      ]
     },
     "execution_count": 289,
     "metadata": {},
     "output_type": "execute_result"
    },
    {
     "data": {
      "image/png": "[encoded data removed]",
      "text/plain": [
       "<Figure size 500x500 with 1 Axes>"
      ]
     },
     "metadata": {},
     "output_type": "display_data"
    }
   ],
   "source": [
    "fig, ax = plt.subplots(figsize=(5,5))\n",
    "for t in temperatures:\n",
    "    logit_softmax = softmax(logit.to(\"cpu\"),t)\n",
    "    logit_softmax_solted = logit_softmax.sort(descending=True).values\n",
    "    logit_softmax_dict  = {tokenizer.decode(i):float(k) for i,k in enumerate(logit_softmax_solted)\n",
    "                           if k > 0.001}\n",
    "    prob_by_t = pd.DataFrame(logit_softmax_dict.items(),\n",
    "                            columns=[\"word\",f\"prob\"])\n",
    "    \n",
    "    sns.lineplot(x=prob_by_t.index,\n",
    "                 y=prob_by_t[\"prob\"], \n",
    "                 legend=\"auto\",\n",
    "                 label=f\"T={t}\",\n",
    "                 ax=ax)\n",
    "ax.set_xlabel(\"가장 높은 확률의 단어 순서\")\n",
    "ax.set_title(\"T별 확률 분포\")\n",
    "ax.set_xlim(0,5) # temperature 가 높아질수록 확률이 전체적으로 낮아지는 경향을 보임 : 낮은 확률의 중요도가 높아짐"
   ]
  },
  {
   "cell_type": "markdown",
   "metadata": {},
   "source": [
    "### top K and top P(Nuclears sampling)"
   ]
  },
  {
   "cell_type": "markdown",
   "metadata": {},
   "source": [
    "- 여게서 K는 갯수, P는 누적확율\n",
    "- 각 타임 스텝에서 샘플링에 사용할 토큰 갯수를 줄인다.\n",
    "- 총 50257개의 토큰중 확률이 매우 낮은경우를 피한다.\n",
    "- 즉 상위 확률의 토큰중에서만 고르게 한다. (즉 long tail 을 잘라낸다.)"
   ]
  },
  {
   "cell_type": "code",
   "execution_count": 295,
   "metadata": {},
   "outputs": [
    {
     "name": "stderr",
     "output_type": "stream",
     "text": [
      "The attention mask and the pad token id were not set. As a consequence, you may observe unexpected behavior. Please pass your input's `attention_mask` to obtain reliable results.\n",
      "Setting `pad_token_id` to `eos_token_id`:None for open-end generation.\n"
     ]
    },
    {
     "name": "stdout",
     "output_type": "stream",
     "text": [
      "\n",
      "\n",
      "\n",
      " Surfing is a popular sport in the Caribbean, and is also popular in other parts of the world. Surfers often travel to the United States to compete.\n",
      "\n",
      "Surfers are often known for their colorful costumes and colorful wetsuits. They also have a reputation for being extremely competitive.<|endoftext|>\n"
     ]
    }
   ],
   "source": [
    "output_temp = model.generate(input_ids,\n",
    "                             max_length=max_length,\n",
    "                             do_sample=True,\n",
    "                             no_repeat_ngram_size = 2,  # n_gram 단위 중복 제한 2\n",
    "                             temperature = 0.5,         # 좀더 높은 확률의 단어 토큰 선택\n",
    "                             top_k=50                   # 상위 50개의 토큰 까지만\n",
    "                             )\n",
    "\n",
    "print(\"\\n\\n\\n\",tokenizer.decode(output_temp[0]))"
   ]
  },
  {
   "cell_type": "code",
   "execution_count": 296,
   "metadata": {},
   "outputs": [
    {
     "name": "stderr",
     "output_type": "stream",
     "text": [
      "The attention mask and the pad token id were not set. As a consequence, you may observe unexpected behavior. Please pass your input's `attention_mask` to obtain reliable results.\n",
      "Setting `pad_token_id` to `eos_token_id`:None for open-end generation.\n"
     ]
    },
    {
     "name": "stdout",
     "output_type": "stream",
     "text": [
      "\n",
      "\n",
      "\n",
      " Surfing is a great way to get around town. If you're looking for a fun way of getting around, then you've come to the right place!\n",
      "\n",
      "The Surf City is located in the heart of the City of Angels. We have a variety of surf shops, surf schools, and surf rentals. Our surf shop has been serving the surf community in Los Angeles for over 30 years. The Surf Shop is the place to go for all of your surf gear needs.\n",
      ".<|endoftext|>\n"
     ]
    }
   ],
   "source": [
    "output_temp = model.generate(input_ids,\n",
    "                             max_length=max_length,\n",
    "                             do_sample=True,\n",
    "                             no_repeat_ngram_size = 2,  # n_gram 단위 중복 제한 2\n",
    "                             temperature = 0.5,         # 좀더 높은 확률의 단어 토큰 선택\n",
    "                             top_p=0.9                  # long tail 자르기\n",
    "                             )\n",
    "\n",
    "print(\"\\n\\n\\n\",tokenizer.decode(output_temp[0]))"
   ]
  },
  {
   "cell_type": "code",
   "execution_count": 298,
   "metadata": {},
   "outputs": [
    {
     "name": "stderr",
     "output_type": "stream",
     "text": [
      "The attention mask and the pad token id were not set. As a consequence, you may observe unexpected behavior. Please pass your input's `attention_mask` to obtain reliable results.\n",
      "Setting `pad_token_id` to `eos_token_id`:None for open-end generation.\n"
     ]
    },
    {
     "name": "stdout",
     "output_type": "stream",
     "text": [
      "\n",
      "\n",
      "\n",
      " Surfing is a great way to spend time with friends and family, but it's also a good way for people to get to know each other. Surfers can get a lot of information about each others' lives, and it can be a fun way of getting to meet new people.\n",
      "\n",
      "Surfers are generally friendly and easy going, which makes it easy to make friends. They're also very laid back, so you can spend a few hours with them and not feel like you're bothering anyone. In fact, most people don't mind if you just hang out with a couple of surfers.<|endoftext|>\n"
     ]
    }
   ],
   "source": [
    "output_temp = model.generate(input_ids,\n",
    "                             max_length=max_length,\n",
    "                             do_sample=True,\n",
    "                             no_repeat_ngram_size = 2,  # n_gram 단위 중복 제한 2\n",
    "                             temperature = 0.5,         # 좀더 높은 확률의 단어 토큰 선택\n",
    "                             top_k=50,                  # 상위 토큰 50개중에\n",
    "                             top_p=0.9                  # 90퍼센트까지만 이용 (tail 자르기)\n",
    "                             )\n",
    "\n",
    "print(\"\\n\\n\\n\",tokenizer.decode(output_temp[0]))"
   ]
  }
 ],
 "metadata": {
  "kernelspec": {
   "display_name": "transformer",
   "language": "python",
   "name": "python3"
  },
  "language_info": {
   "codemirror_mode": {
    "name": "ipython",
    "version": 3
   },
   "file_extension": ".py",
   "mimetype": "text/x-python",
   "name": "python",
   "nbconvert_exporter": "python",
   "pygments_lexer": "ipython3",
   "version": "3.11.10"
  }
 },
 "nbformat": 4,
 "nbformat_minor": 2
}
