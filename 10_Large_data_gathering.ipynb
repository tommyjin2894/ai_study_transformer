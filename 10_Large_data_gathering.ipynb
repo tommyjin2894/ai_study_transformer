{
 "cells": [
  {
   "cell_type": "markdown",
   "metadata": {},
   "source": [
    "### 대규모 데이터셋\n",
    "- 사용해야 될 경우\n",
    "    - 가용 훈련 데이터의 수가 pretrained 모델 훈련시의 데이터 양과 비슷할 때\n",
    "    - 도메인의 차이 가 클때\n",
    "- 조심해야 할 점\n",
    "    - (반)자동으로 생성된 데이터가 많기 때문에 데이터 품질이 낮을 수 있다.\n",
    "    - 편향성, 낮은 품질, **저작권 위반** 등"
   ]
  },
  {
   "cell_type": "markdown",
   "metadata": {},
   "source": [
    "### 같은 모델, 다른 데이터셋 예시"
   ]
  },
  {
   "cell_type": "code",
   "execution_count": 76,
   "metadata": {},
   "outputs": [
    {
     "name": "stderr",
     "output_type": "stream",
     "text": [
      "Device set to use cuda:0\n",
      "Device set to use cuda:0\n"
     ]
    }
   ],
   "source": [
    "from transformers import pipeline, set_seed\n",
    "\n",
    "set_seed(42)\n",
    "gpt_pipe_1 = pipeline(\"text-generation\", model=\"openai-gpt\")\n",
    "gpt_pipe_2 = pipeline(\"text-generation\", model=\"gpt2\")"
   ]
  },
  {
   "cell_type": "code",
   "execution_count": 77,
   "metadata": {},
   "outputs": [
    {
     "name": "stdout",
     "output_type": "stream",
     "text": [
      "파라미터 수 비교\n"
     ]
    },
    {
     "data": {
      "text/plain": [
       "(225310, 237137)"
      ]
     },
     "execution_count": 77,
     "metadata": {},
     "output_type": "execute_result"
    }
   ],
   "source": [
    "print(\"파라미터 수 비교\")\n",
    "(sum([len(p) for p in gpt_pipe_1.model.parameters()]), \n",
    " sum([len(p) for p in gpt_pipe_2.model.parameters()]))"
   ]
  },
  {
   "cell_type": "code",
   "execution_count": 78,
   "metadata": {},
   "outputs": [
    {
     "data": {
      "text/plain": [
       "[{'generated_text': '\\n UDA is no - kill. \" \\n \" he\\'s a little young to be a ranger to a ranger. \" \\n \" no - kill ain\\'t no cowboy. i\\'m only a tracker for the local rangers. \" \\n \" no - kill'},\n",
       " {'generated_text': '\\n UDA is the very first one in the line who can speak. so far, it\\'s been an exceptionally hard night. \" \\n \" does the wolf really belong to you? \" \\n \" he does. \" \\n i stared at him, perplexed'},\n",
       " {'generated_text': \"\\n UDA isn't dead. her life is still in the water. \\n he wanted to believe her. needed to believe it. \\n but she 'd gotten him into this. there was no other way to prove her story, no other way to prove\"}]"
      ]
     },
     "metadata": {},
     "output_type": "display_data"
    },
    {
     "name": "stderr",
     "output_type": "stream",
     "text": [
      "Setting `pad_token_id` to `eos_token_id`:50256 for open-end generation.\n"
     ]
    },
    {
     "name": "stdout",
     "output_type": "stream",
     "text": [
      "**************************************************\n"
     ]
    },
    {
     "data": {
      "text/plain": [
       "[{'generated_text': '\\n UDA is an open source game engine for Linux that brings together the best technologies of the desktop. In a recent blog post, UDA developer John Daley explains that in many respects this open source effort was the perfect vehicle for a \"modern'},\n",
       " {'generated_text': '\\n UDA is the most expensive driver to purchase in India, where around $450 million is spent in 2013-14 (see chart ). The value of the RTE licence can be measured in USD, which gives the price. For RTE buyers'},\n",
       " {'generated_text': \"\\n UDA is on the horizon.\\n\\nAnd maybe most damning, this is just the latest in a long line of examples of UDA's failure to meet its commitments to protect the U.S. from China's cyber attacks.\\n\\n\"}]"
      ]
     },
     "metadata": {},
     "output_type": "display_data"
    }
   ],
   "source": [
    "# 같은 입력에 대한 출력 비교\n",
    "def pipe_out(pipe, prompt, num_return_sequences):\n",
    "    out = pipe(\n",
    "        prompt,\n",
    "        num_return_sequences=num_return_sequences,\n",
    "        clean_up_tokenization_spaces=True,\n",
    "        truncation=True,\n",
    "        )\n",
    "    return out\n",
    "\n",
    "display(pipe_out(gpt_pipe_1, '\\n UDA is', 3)) # 로멘스 소설 데이터\n",
    "print(\"*\"*50)\n",
    "display(pipe_out(gpt_pipe_2, '\\n UDA is', 3)) # 레딧 기사 텍스트 데이터"
   ]
  },
  {
   "cell_type": "code",
   "execution_count": 79,
   "metadata": {},
   "outputs": [],
   "source": [
    "del gpt_pipe_1\n",
    "del gpt_pipe_2\n",
    "\n",
    "import torch\n",
    "\n",
    "# CUDA 캐시 비우기\n",
    "torch.cuda.empty_cache()"
   ]
  },
  {
   "cell_type": "code",
   "execution_count": 2,
   "metadata": {},
   "outputs": [
    {
     "name": "stdout",
     "output_type": "stream",
     "text": [
      "0\n"
     ]
    }
   ],
   "source": [
    "import torch\n",
    "\n",
    "# 메모리 사용량 확인\n",
    "print(torch.cuda.memory_allocated())"
   ]
  },
  {
   "cell_type": "markdown",
   "metadata": {},
   "source": [
    "### code dataset 가져오기"
   ]
  },
  {
   "cell_type": "code",
   "execution_count": 13,
   "metadata": {},
   "outputs": [
    {
     "name": "stdout",
     "output_type": "stream",
     "text": [
      "git: 'file-000000000000.json.gz' is not a git command. See 'git --help'.\n"
     ]
    }
   ],
   "source": [
    "!cd codeparrot/ && git file-000000000000.json.gz pull"
   ]
  },
  {
   "cell_type": "code",
   "execution_count": 14,
   "metadata": {},
   "outputs": [
    {
     "name": "stdout",
     "output_type": "stream",
     "text": [
      "fatal: destination path 'codeparrot' already exists and is not an empty directory.\n",
      "Downloading LFS objects: 100% (184/184), 46 GB | 58 MB/s                        \r"
     ]
    }
   ],
   "source": [
    "!git clone https://huggingface.co/datasets/transformersbook/codeparrot\n",
    "!cd codeparrot && git lfs pull"
   ]
  },
  {
   "cell_type": "markdown",
   "metadata": {},
   "source": [
    "### 대용량 데이터셋 다루기\n",
    "- 약 46gb 의 code 데이터셋 -> 압축 해제시 200gb 정도\n",
    "- 메모리 매핑과 스트리밍 기능 이용\n"
   ]
  },
  {
   "cell_type": "markdown",
   "metadata": {},
   "source": [
    "### 메모리 매핑\n",
    "- 제로 카피 + 제로-오버헤드 메모리 매핑\n",
    "- 파일로 디스크에 캐싱됨\n",
    "- 데이터셋을 로딩되는 대신, 포인터를 열어 대신 사용(필요할때마다 캐싱된 파일로 불러온다.)"
   ]
  },
  {
   "cell_type": "code",
   "execution_count": 15,
   "metadata": {},
   "outputs": [
    {
     "name": "stderr",
     "output_type": "stream",
     "text": [
      "Downloading data: 100%|██████████| 184/184 [00:00<00:00, 1527.57files/s]\n",
      "Generating train split: 18695559 examples [59:12, 5262.95 examples/s]\n"
     ]
    }
   ],
   "source": [
    "from datasets import load_dataset, DownloadConfig\n",
    "\n",
    "download_config = DownloadConfig(delete_extracted=True)\n",
    "dataset = load_dataset(\"./codeparrot\", split=\"train\",\n",
    "                       download_config=download_config)"
   ]
  },
  {
   "cell_type": "code",
   "execution_count": 19,
   "metadata": {},
   "outputs": [
    {
     "name": "stdout",
     "output_type": "stream",
     "text": [
      "데이터셋 갯수 : 18695559\n",
      "캐시 : 183.59GB\n",
      "메모리 사용량 : 1463 MB\n"
     ]
    }
   ],
   "source": [
    "import psutil\n",
    "import os\n",
    "\n",
    "print(f\"데이터셋 갯수 : {len(dataset)}\")\n",
    "ds_size = sum(os.stat(f[\"filename\"]).st_size for f in dataset.cache_files)\n",
    "print(f\"캐시 : {ds_size/ 2 ** 30:.2f}GB\")\n",
    "print(f\"메모리 사용량 : {psutil.Process(os.getpid()).memory_info().rss >> 20} MB\")"
   ]
  },
  {
   "cell_type": "markdown",
   "metadata": {},
   "source": [
    "### 데이터셋 스트리밍"
   ]
  },
  {
   "cell_type": "code",
   "execution_count": 35,
   "metadata": {},
   "outputs": [
    {
     "data": {
      "text/plain": [
       "{'repo_name': 'ahmedbodi/AutobahnPython',\n",
       " 'path': 'examples/asyncio/websocket/echo/client_coroutines.py',\n",
       " 'copies': '13',\n",
       " 'size': '2044',\n",
       " 'content': '###############################################################################\\n##\\n##  Copyright (C) 2013-2014 Tavendo GmbH\\n##\\n##  Licensed under the Apache License, Version 2.0 (the \"License\");\\n##  you may not use this file except in compliance with the License.\\n##  You may obtain a copy of the License at\\n##\\n##      http://www.apache.org/licenses/LICENSE-2.0\\n##\\n##  Unless required by applicable law or agreed to in writing, software\\n##  distributed under the License is distributed on an \"AS IS\" BASIS,\\n##  WITHOUT WARRANTIES OR CONDITIONS OF ANY KIND, either express or implied.\\n##  See the License for the specific language governing permissions and\\n##  limitations under the License.\\n##\\n###############################################################################\\n\\nfrom autobahn.asyncio.websocket import WebSocketClientProtocol, \\\\\\n                                       WebSocketClientFactory\\n\\nimport asyncio\\n\\n\\n\\nclass MyClientProtocol(WebSocketClientProtocol):\\n\\n   def onConnect(self, response):\\n      print(\"Server connected: {0}\".format(response.peer))\\n\\n   @asyncio.coroutine\\n   def onOpen(self):\\n      print(\"WebSocket connection open.\")\\n\\n      ## start sending messages every second ..\\n      while True:\\n         self.sendMessage(u\"Hello, world!\".encode(\\'utf8\\'))\\n         self.sendMessage(b\"\\\\x00\\\\x01\\\\x03\\\\x04\", isBinary = True)\\n         yield from asyncio.sleep(1)\\n\\n   def onMessage(self, payload, isBinary):\\n      if isBinary:\\n         print(\"Binary message received: {0} bytes\".format(len(payload)))\\n      else:\\n         print(\"Text message received: {0}\".format(payload.decode(\\'utf8\\')))\\n\\n   def onClose(self, wasClean, code, reason):\\n      print(\"WebSocket connection closed: {0}\".format(reason))\\n\\n\\n\\nif __name__ == \\'__main__\\':\\n\\n   import asyncio\\n\\n   factory = WebSocketClientFactory(\"ws://localhost:9000\", debug = False)\\n   factory.protocol = MyClientProtocol\\n\\n   loop = asyncio.get_event_loop()\\n   coro = loop.create_connection(factory, \\'127.0.0.1\\', 9000)\\n   loop.run_until_complete(coro)\\n   loop.run_forever()\\n   loop.close()\\n',\n",
       " 'license': 'apache-2.0'}"
      ]
     },
     "execution_count": 35,
     "metadata": {},
     "output_type": "execute_result"
    }
   ],
   "source": [
    "# 접근법 streamed_dataset[숫자] 같은 방식은 접근할 수 없다.\n",
    "\n",
    "streamed_dataset = load_dataset('./codeparrot', split='train', streaming=True) # IterableDataset\n",
    "next(iter(streamed_dataset))"
   ]
  },
  {
   "cell_type": "code",
   "execution_count": 41,
   "metadata": {},
   "outputs": [],
   "source": [
    "# 원격 데이터 셋 (스트리밍으로 가져온다.)\n",
    "remote_dataset = load_dataset('transformersbook/codeparrot', split='train', streaming=True)"
   ]
  },
  {
   "cell_type": "code",
   "execution_count": 50,
   "metadata": {},
   "outputs": [
    {
     "data": {
      "text/plain": [
       "{'repo_name': 'ahmedbodi/AutobahnPython',\n",
       " 'path': 'examples/asyncio/websocket/echo/client_coroutines.py',\n",
       " 'copies': '13',\n",
       " 'size': '2044',\n",
       " 'content': '###############################################################################\\n##\\n##  Copyright (C) 2013-2014 Tavendo GmbH\\n##\\n##  Licensed under the Apache License, Version 2.0 (the \"License\");\\n##  you may not use this file except in compliance with the License.\\n##  You may obtain a copy of the License at\\n##\\n##      http://www.apache.org/licenses/LICENSE-2.0\\n##\\n##  Unless required by applicable law or agreed to in writing, software\\n##  distributed under the License is distributed on an \"AS IS\" BASIS,\\n##  WITHOUT WARRANTIES OR CONDITIONS OF ANY KIND, either express or implied.\\n##  See the License for the specific language governing permissions and\\n##  limitations under the License.\\n##\\n###############################################################################\\n\\nfrom autobahn.asyncio.websocket import WebSocketClientProtocol, \\\\\\n                                       WebSocketClientFactory\\n\\nimport asyncio\\n\\n\\n\\nclass MyClientProtocol(WebSocketClientProtocol):\\n\\n   def onConnect(self, response):\\n      print(\"Server connected: {0}\".format(response.peer))\\n\\n   @asyncio.coroutine\\n   def onOpen(self):\\n      print(\"WebSocket connection open.\")\\n\\n      ## start sending messages every second ..\\n      while True:\\n         self.sendMessage(u\"Hello, world!\".encode(\\'utf8\\'))\\n         self.sendMessage(b\"\\\\x00\\\\x01\\\\x03\\\\x04\", isBinary = True)\\n         yield from asyncio.sleep(1)\\n\\n   def onMessage(self, payload, isBinary):\\n      if isBinary:\\n         print(\"Binary message received: {0} bytes\".format(len(payload)))\\n      else:\\n         print(\"Text message received: {0}\".format(payload.decode(\\'utf8\\')))\\n\\n   def onClose(self, wasClean, code, reason):\\n      print(\"WebSocket connection closed: {0}\".format(reason))\\n\\n\\n\\nif __name__ == \\'__main__\\':\\n\\n   import asyncio\\n\\n   factory = WebSocketClientFactory(\"ws://localhost:9000\", debug = False)\\n   factory.protocol = MyClientProtocol\\n\\n   loop = asyncio.get_event_loop()\\n   coro = loop.create_connection(factory, \\'127.0.0.1\\', 9000)\\n   loop.run_until_complete(coro)\\n   loop.run_forever()\\n   loop.close()\\n',\n",
       " 'license': 'apache-2.0'}"
      ]
     },
     "metadata": {},
     "output_type": "display_data"
    }
   ],
   "source": [
    "for data in remote_dataset:\n",
    "    display(data)  # 한 개의 데이터 샘플 출력\n",
    "    break  # 예시로 첫 번째 샘플만 확인"
   ]
  },
  {
   "cell_type": "code",
   "execution_count": 51,
   "metadata": {},
   "outputs": [],
   "source": [
    "from huggingface_hub import login\n",
    "import json\n",
    "\n",
    "with open(\"hf_key_token.json\") as f:\n",
    "    token = json.load(f)[\"hf_key_token\"]\n",
    "\n",
    "login(token)"
   ]
  },
  {
   "cell_type": "markdown",
   "metadata": {},
   "source": [
    "- huggingface 저장소 생성 및 git clone\n",
    "- in bash\n",
    "    - 허깅페이스 로그인 깃 생성\n",
    "        ```bash\n",
    "        $ huggingface-cli login\n",
    "        $ huggingface-cli repo create --type dataset codeparrot-train\n",
    "        $ huggingface-cli repo create --type dataset codeparrot-valid\n",
    "        ```\n",
    "\n",
    "    - 가져오기\n",
    "        ```bash\n",
    "        $ git clone https://huggingface.co/datasets/tommyjin/codeparrot-valid\n",
    "        $ git clone https://huggingface.co/datasets/tommyjin/codeparrot-train\n",
    "        ```\n",
    "\n",
    "- 훈련세트로 복사\n",
    "    ```bash\n",
    "        \n",
    "    ```"
   ]
  }
 ],
 "metadata": {
  "kernelspec": {
   "display_name": "t",
   "language": "python",
   "name": "python3"
  },
  "language_info": {
   "codemirror_mode": {
    "name": "ipython",
    "version": 3
   },
   "file_extension": ".py",
   "mimetype": "text/x-python",
   "name": "python",
   "nbconvert_exporter": "python",
   "pygments_lexer": "ipython3",
   "version": "3.11.11"
  }
 },
 "nbformat": 4,
 "nbformat_minor": 2
}
