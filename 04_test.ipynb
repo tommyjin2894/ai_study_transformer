{
 "cells": [
  {
   "cell_type": "markdown",
   "metadata": {},
   "source": [
    "### xtreme 데이터 셋"
   ]
  },
  {
   "cell_type": "code",
   "execution_count": 1,
   "metadata": {},
   "outputs": [
    {
     "data": {
      "text/plain": [
       "['PAN-X.ko', 'PAN-X.en', 'PAN-X.ja', 'PAN-X.es']"
      ]
     },
     "execution_count": 1,
     "metadata": {},
     "output_type": "execute_result"
    }
   ],
   "source": [
    "from datasets import get_dataset_config_names\n",
    "\n",
    "# xtreme 데이터셋 이름 확인\n",
    "subsets = get_dataset_config_names(\"xtreme\")\n",
    "\n",
    "def find_lan(lan):\n",
    "    return [j for j in [i for i in subsets if \"PAN-X\" in i]\n",
    "                if lan in j][0]\n",
    "\n",
    "language_names = [find_lan(l) for l in [\"ko\", \"en\", \"ja\", \"es\"]]\n",
    "language_names"
   ]
  },
  {
   "cell_type": "markdown",
   "metadata": {},
   "source": [
    "### 데이터 셋 로드 및 전처리"
   ]
  },
  {
   "cell_type": "code",
   "execution_count": null,
   "metadata": {},
   "outputs": [],
   "source": [
    "from collections import defaultdict\n",
    "from datasets import DatasetDict, load_dataset\n",
    "\n",
    "panx_ch = defaultdict(DatasetDict)\n",
    "down_sample_ratios = [0.5, 0.3, 0.2, 0.1] #현실 데이터 와 같이 데이터 불균형 만들기\n",
    "# 데이터 셋 로드\n",
    "\n",
    "for l, down_sample_ratio in zip(language_names, down_sample_ratios):\n",
    "    l_name = (l.split('.')[-1])\n",
    "    down_sample = load_dataset(\"xtreme\", name=l)\n",
    "\n",
    "    for split in down_sample:\n",
    "        # 선택할 데이터 포인트의 수\n",
    "        num_datas = int(down_sample[split].num_rows * down_sample_ratio)\n",
    "        panx_ch[l_name][split] = down_sample[split].shuffle(seed=42).select(range(num_datas))"
   ]
  },
  {
   "cell_type": "code",
   "execution_count": 3,
   "metadata": {},
   "outputs": [
    {
     "name": "stdout",
     "output_type": "stream",
     "text": [
      "각 언어별 데이터 포인트 수 :\n",
      "[('ko', {'train': 10000, 'validation': 5000, 'test': 5000}), ('en', {'train': 6000, 'validation': 3000, 'test': 3000}), ('ja', {'train': 4000, 'validation': 2000, 'test': 2000}), ('es', {'train': 2000, 'validation': 1000, 'test': 1000})]\n"
     ]
    }
   ],
   "source": [
    "print(f\"\"\"각 언어별 데이터 포인트 수 :\n",
    "{[(j,panx_ch[j].num_rows) for j in [i for i in panx_ch]]}\"\"\")"
   ]
  },
  {
   "cell_type": "code",
   "execution_count": 4,
   "metadata": {},
   "outputs": [
    {
     "name": "stdout",
     "output_type": "stream",
     "text": [
      "{0: 'O', 1: 'B-PER', 2: 'I-PER', 3: 'B-ORG', 4: 'I-ORG', 5: 'B-LOC', 6: 'I-LOC'} \n",
      " {'O': 0, 'B-PER': 1, 'I-PER': 2, 'B-ORG': 3, 'I-ORG': 4, 'B-LOC': 5, 'I-LOC': 6}\n"
     ]
    }
   ],
   "source": [
    "lables = panx_ch[\"ko\"][\"train\"].features[\"ner_tags\"].feature.names\n",
    "\n",
    "i2l = {k:v for k,v in enumerate(lables)}\n",
    "l2i = {v:k for k,v in enumerate(lables)}\n",
    "\n",
    "print(i2l,\"\\n\",l2i)"
   ]
  },
  {
   "cell_type": "markdown",
   "metadata": {},
   "source": [
    "- 라벨 맵핑하기"
   ]
  },
  {
   "cell_type": "code",
   "execution_count": 5,
   "metadata": {},
   "outputs": [],
   "source": [
    "ner_tags_str = lambda bs : {\"ner_tags_str\" :([[i2l[i] for i in b] for b in bs[\"ner_tags\"]])}\n",
    "\n",
    "for l in [\"ko\", \"en\", \"ja\", \"es\"]:\n",
    "    panx_ch[l] = (panx_ch[l]\n",
    "                    .map(ner_tags_str,\n",
    "                    batch_size= 100, batched=True))"
   ]
  },
  {
   "cell_type": "code",
   "execution_count": null,
   "metadata": {},
   "outputs": [
    {
     "data": {
      "text/html": [
       "<div>\n",
       "<style scoped>\n",
       "    .dataframe tbody tr th:only-of-type {\n",
       "        vertical-align: middle;\n",
       "    }\n",
       "\n",
       "    .dataframe tbody tr th {\n",
       "        vertical-align: top;\n",
       "    }\n",
       "\n",
       "    .dataframe thead th {\n",
       "        text-align: right;\n",
       "    }\n",
       "</style>\n",
       "<table border=\"1\" class=\"dataframe\">\n",
       "  <thead>\n",
       "    <tr style=\"text-align: right;\">\n",
       "      <th></th>\n",
       "      <th>0</th>\n",
       "      <th>1</th>\n",
       "      <th>2</th>\n",
       "      <th>3</th>\n",
       "      <th>4</th>\n",
       "      <th>5</th>\n",
       "      <th>6</th>\n",
       "      <th>7</th>\n",
       "      <th>8</th>\n",
       "      <th>9</th>\n",
       "      <th>10</th>\n",
       "    </tr>\n",
       "  </thead>\n",
       "  <tbody>\n",
       "    <tr>\n",
       "      <th>tokens</th>\n",
       "      <td>Jake</td>\n",
       "      <td>McGee</td>\n",
       "      <td>,</td>\n",
       "      <td>current</td>\n",
       "      <td>MLB</td>\n",
       "      <td>player</td>\n",
       "      <td>(</td>\n",
       "      <td>Tampa</td>\n",
       "      <td>Bay</td>\n",
       "      <td>Rays</td>\n",
       "      <td>)</td>\n",
       "    </tr>\n",
       "    <tr>\n",
       "      <th>ner_tags</th>\n",
       "      <td>1</td>\n",
       "      <td>2</td>\n",
       "      <td>0</td>\n",
       "      <td>0</td>\n",
       "      <td>3</td>\n",
       "      <td>0</td>\n",
       "      <td>0</td>\n",
       "      <td>3</td>\n",
       "      <td>4</td>\n",
       "      <td>4</td>\n",
       "      <td>0</td>\n",
       "    </tr>\n",
       "    <tr>\n",
       "      <th>langs</th>\n",
       "      <td>en</td>\n",
       "      <td>en</td>\n",
       "      <td>en</td>\n",
       "      <td>en</td>\n",
       "      <td>en</td>\n",
       "      <td>en</td>\n",
       "      <td>en</td>\n",
       "      <td>en</td>\n",
       "      <td>en</td>\n",
       "      <td>en</td>\n",
       "      <td>en</td>\n",
       "    </tr>\n",
       "    <tr>\n",
       "      <th>ner_tags_str</th>\n",
       "      <td>B-PER</td>\n",
       "      <td>I-PER</td>\n",
       "      <td>O</td>\n",
       "      <td>O</td>\n",
       "      <td>B-ORG</td>\n",
       "      <td>O</td>\n",
       "      <td>O</td>\n",
       "      <td>B-ORG</td>\n",
       "      <td>I-ORG</td>\n",
       "      <td>I-ORG</td>\n",
       "      <td>O</td>\n",
       "    </tr>\n",
       "  </tbody>\n",
       "</table>\n",
       "</div>"
      ],
      "text/plain": [
       "                 0      1   2        3      4       5   6      7      8   \\\n",
       "tokens         Jake  McGee   ,  current    MLB  player   (  Tampa    Bay   \n",
       "ner_tags          1      2   0        0      3       0   0      3      4   \n",
       "langs            en     en  en       en     en      en  en     en     en   \n",
       "ner_tags_str  B-PER  I-PER   O        O  B-ORG       O   O  B-ORG  I-ORG   \n",
       "\n",
       "                 9   10  \n",
       "tokens         Rays   )  \n",
       "ner_tags          4   0  \n",
       "langs            en  en  \n",
       "ner_tags_str  I-ORG   O  "
      ]
     },
     "execution_count": 6,
     "metadata": {},
     "output_type": "execute_result"
    }
   ],
   "source": [
    "import pandas as pd\n",
    "pd.DataFrame(panx_ch[\"en\"][\"train\"][122]).T"
   ]
  },
  {
   "cell_type": "markdown",
   "metadata": {},
   "source": [
    "- ko 안의 ner 갯 수 확인"
   ]
  },
  {
   "cell_type": "code",
   "execution_count": null,
   "metadata": {},
   "outputs": [
    {
     "data": {
      "text/plain": [
       "{'train': [4097, 4495, 5845],\n",
       " 'validation': [2039, 2297, 2976],\n",
       " 'test': [2116, 2165, 2971]}"
      ]
     },
     "execution_count": 88,
     "metadata": {},
     "output_type": "execute_result"
    }
   ],
   "source": [
    "all_count = {}\n",
    "for k in [\"train\", \"validation\", \"test\"]:\n",
    "    all_content =[]\n",
    "    for i in panx_ch['ko'][k][\"ner_tags_str\"]:\n",
    "        for j in i:\n",
    "            if \"B\" in j:\n",
    "                all_content.append(j.split(\"-\")[-1])\n",
    "        per , org, loc =(all_content.count('PER'),\n",
    "                         all_content.count('ORG'),\n",
    "                         all_content.count('LOC'))\n",
    "        all_count[k] = [per, org, loc]\n",
    "all_count"
   ]
  },
  {
   "cell_type": "code",
   "execution_count": 109,
   "metadata": {},
   "outputs": [
    {
     "data": {
      "text/html": [
       "<div>\n",
       "<style scoped>\n",
       "    .dataframe tbody tr th:only-of-type {\n",
       "        vertical-align: middle;\n",
       "    }\n",
       "\n",
       "    .dataframe tbody tr th {\n",
       "        vertical-align: top;\n",
       "    }\n",
       "\n",
       "    .dataframe thead th {\n",
       "        text-align: right;\n",
       "    }\n",
       "</style>\n",
       "<table border=\"1\" class=\"dataframe\">\n",
       "  <thead>\n",
       "    <tr style=\"text-align: right;\">\n",
       "      <th></th>\n",
       "      <th>PER</th>\n",
       "      <th>ORG</th>\n",
       "      <th>LOC</th>\n",
       "    </tr>\n",
       "  </thead>\n",
       "  <tbody>\n",
       "    <tr>\n",
       "      <th>train</th>\n",
       "      <td>4097</td>\n",
       "      <td>4495</td>\n",
       "      <td>5845</td>\n",
       "    </tr>\n",
       "    <tr>\n",
       "      <th>validation</th>\n",
       "      <td>2039</td>\n",
       "      <td>2297</td>\n",
       "      <td>2976</td>\n",
       "    </tr>\n",
       "    <tr>\n",
       "      <th>test</th>\n",
       "      <td>2116</td>\n",
       "      <td>2165</td>\n",
       "      <td>2971</td>\n",
       "    </tr>\n",
       "  </tbody>\n",
       "</table>\n",
       "</div>"
      ],
      "text/plain": [
       "             PER   ORG   LOC\n",
       "train       4097  4495  5845\n",
       "validation  2039  2297  2976\n",
       "test        2116  2165  2971"
      ]
     },
     "execution_count": 109,
     "metadata": {},
     "output_type": "execute_result"
    }
   ],
   "source": [
    "pd.DataFrame(all_count,\n",
    "              index=['PER', 'ORG', 'LOC']).transpose()"
   ]
  },
  {
   "cell_type": "markdown",
   "metadata": {},
   "source": [
    "### XLM-R 토크나이징"
   ]
  },
  {
   "cell_type": "code",
   "execution_count": 112,
   "metadata": {},
   "outputs": [],
   "source": [
    "from transformers import AutoTokenizer\n",
    "\n",
    "xlmr_model_name = \"xlm-roberta-base\"\n",
    "xlmr_tokenizer = AutoTokenizer.from_pretrained(xlmr_model_name)"
   ]
  },
  {
   "cell_type": "code",
   "execution_count": 194,
   "metadata": {},
   "outputs": [
    {
     "data": {
      "text/plain": [
       "'넘겨주기 무명 용사의 무덤'"
      ]
     },
     "execution_count": 194,
     "metadata": {},
     "output_type": "execute_result"
    }
   ],
   "source": [
    "' '.join(panx_ch['ko']['train'][1266][\"tokens\"])"
   ]
  },
  {
   "cell_type": "code",
   "execution_count": 193,
   "metadata": {},
   "outputs": [
    {
     "data": {
      "text/plain": [
       "{'input_ids': [0, 11873, 2293, 6, 166637, 71393, 16907, 12286, 80169, 2], 'attention_mask': [1, 1, 1, 1, 1, 1, 1, 1, 1, 1]}"
      ]
     },
     "execution_count": 193,
     "metadata": {},
     "output_type": "execute_result"
    }
   ],
   "source": [
    "xlmr_tokenizer(' '.join(panx_ch['ko']['train'][4][\"tokens\"]))\n"
   ]
  }
 ],
 "metadata": {
  "kernelspec": {
   "display_name": "transformer",
   "language": "python",
   "name": "python3"
  },
  "language_info": {
   "codemirror_mode": {
    "name": "ipython",
    "version": 3
   },
   "file_extension": ".py",
   "mimetype": "text/x-python",
   "name": "python",
   "nbconvert_exporter": "python",
   "pygments_lexer": "ipython3",
   "version": "3.11.10"
  }
 },
 "nbformat": 4,
 "nbformat_minor": 2
}
