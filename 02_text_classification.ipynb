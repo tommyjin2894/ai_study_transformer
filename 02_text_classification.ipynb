{
 "cells": [
  {
   "cell_type": "markdown",
   "metadata": {},
   "source": [
    "### 진행 순서\n",
    "\n",
    "- 데이터셋 **로드, 전처리** -> **토큰화** 하기 -> 트랜스포머's **모델 로드**, **훈련**, **추론** -> **모델 평가**\n",
    "- 🤗데이터셋, 🤗토크나이저, 🤗트랜스포머 라이브러리 이용\n"
   ]
  },
  {
   "cell_type": "markdown",
   "metadata": {},
   "source": [
    "### 데이터셋\n",
    "\n",
    "[🤗데이터셋 docs🤗](https://huggingface.co/docs/datasets/index)"
   ]
  },
  {
   "cell_type": "markdown",
   "metadata": {},
   "source": [
    "```py\n",
    "load_dataset(\"파일 형식(csv,text,json 등..)\", data_files=\"경로\")\n",
    "\n",
    "# ex 예시\n",
    "load_dataset(\n",
    "    \"csv\",\n",
    "    data_files=\"file.csv\",\n",
    "    sep=\";\",\n",
    "    name=[\"text\",\"label\"])\n",
    "```"
   ]
  },
  {
   "cell_type": "code",
   "execution_count": 2,
   "metadata": {},
   "outputs": [],
   "source": [
    "from datasets import load_dataset\n",
    "\n",
    "dataset = load_dataset(\"emotion\")"
   ]
  },
  {
   "cell_type": "code",
   "execution_count": 3,
   "metadata": {},
   "outputs": [
    {
     "data": {
      "text/plain": [
       "DatasetDict({\n",
       "    train: Dataset({\n",
       "        features: ['text', 'label'],\n",
       "        num_rows: 16000\n",
       "    })\n",
       "    validation: Dataset({\n",
       "        features: ['text', 'label'],\n",
       "        num_rows: 2000\n",
       "    })\n",
       "    test: Dataset({\n",
       "        features: ['text', 'label'],\n",
       "        num_rows: 2000\n",
       "    })\n",
       "})"
      ]
     },
     "execution_count": 3,
     "metadata": {},
     "output_type": "execute_result"
    }
   ],
   "source": [
    "dataset # 아파치 애로우 형식 : 하나의 행이 하나의 딕셔너리"
   ]
  },
  {
   "cell_type": "markdown",
   "metadata": {},
   "source": [
    "> 아파치 애로우 형식: 시스템과 프로그래밍 언어 간에 데이터를 효율적으로 교환할 수 있는 컬럼형 인메모리 데이터 형식"
   ]
  },
  {
   "cell_type": "code",
   "execution_count": 4,
   "metadata": {},
   "outputs": [
    {
     "data": {
      "text/plain": [
       "'i didnt feel humiliated'"
      ]
     },
     "execution_count": 4,
     "metadata": {},
     "output_type": "execute_result"
    }
   ],
   "source": [
    "dataset['train']['text'][0]"
   ]
  },
  {
   "cell_type": "code",
   "execution_count": 5,
   "metadata": {},
   "outputs": [],
   "source": [
    "train_data = dataset['train']"
   ]
  },
  {
   "cell_type": "code",
   "execution_count": 6,
   "metadata": {},
   "outputs": [
    {
     "data": {
      "text/plain": [
       "(16000,)"
      ]
     },
     "execution_count": 6,
     "metadata": {},
     "output_type": "execute_result"
    }
   ],
   "source": [
    "len(train_data), "
   ]
  },
  {
   "cell_type": "markdown",
   "metadata": {},
   "source": [
    "### 데이터 셋 to Dataframe"
   ]
  },
  {
   "cell_type": "code",
   "execution_count": 7,
   "metadata": {},
   "outputs": [],
   "source": [
    "import pandas as pd \n",
    "\n",
    "train_data.set_format(type=\"pandas\")\n",
    "df = train_data[:]"
   ]
  },
  {
   "cell_type": "code",
   "execution_count": 8,
   "metadata": {},
   "outputs": [],
   "source": [
    "df['label_name'] = df['label'].apply(lambda x: train_data.features[\"label\"].int2str(x))"
   ]
  },
  {
   "cell_type": "code",
   "execution_count": 9,
   "metadata": {},
   "outputs": [
    {
     "data": {
      "text/html": [
       "<div>\n",
       "<style scoped>\n",
       "    .dataframe tbody tr th:only-of-type {\n",
       "        vertical-align: middle;\n",
       "    }\n",
       "\n",
       "    .dataframe tbody tr th {\n",
       "        vertical-align: top;\n",
       "    }\n",
       "\n",
       "    .dataframe thead th {\n",
       "        text-align: right;\n",
       "    }\n",
       "</style>\n",
       "<table border=\"1\" class=\"dataframe\">\n",
       "  <thead>\n",
       "    <tr style=\"text-align: right;\">\n",
       "      <th></th>\n",
       "      <th>text</th>\n",
       "      <th>label</th>\n",
       "      <th>label_name</th>\n",
       "    </tr>\n",
       "  </thead>\n",
       "  <tbody>\n",
       "    <tr>\n",
       "      <th>0</th>\n",
       "      <td>i didnt feel humiliated</td>\n",
       "      <td>0</td>\n",
       "      <td>sadness</td>\n",
       "    </tr>\n",
       "    <tr>\n",
       "      <th>1</th>\n",
       "      <td>i can go from feeling so hopeless to so damned...</td>\n",
       "      <td>0</td>\n",
       "      <td>sadness</td>\n",
       "    </tr>\n",
       "    <tr>\n",
       "      <th>2</th>\n",
       "      <td>im grabbing a minute to post i feel greedy wrong</td>\n",
       "      <td>3</td>\n",
       "      <td>anger</td>\n",
       "    </tr>\n",
       "    <tr>\n",
       "      <th>3</th>\n",
       "      <td>i am ever feeling nostalgic about the fireplac...</td>\n",
       "      <td>2</td>\n",
       "      <td>love</td>\n",
       "    </tr>\n",
       "    <tr>\n",
       "      <th>4</th>\n",
       "      <td>i am feeling grouchy</td>\n",
       "      <td>3</td>\n",
       "      <td>anger</td>\n",
       "    </tr>\n",
       "    <tr>\n",
       "      <th>...</th>\n",
       "      <td>...</td>\n",
       "      <td>...</td>\n",
       "      <td>...</td>\n",
       "    </tr>\n",
       "    <tr>\n",
       "      <th>15995</th>\n",
       "      <td>i just had a very brief time in the beanbag an...</td>\n",
       "      <td>0</td>\n",
       "      <td>sadness</td>\n",
       "    </tr>\n",
       "    <tr>\n",
       "      <th>15996</th>\n",
       "      <td>i am now turning and i feel pathetic that i am...</td>\n",
       "      <td>0</td>\n",
       "      <td>sadness</td>\n",
       "    </tr>\n",
       "    <tr>\n",
       "      <th>15997</th>\n",
       "      <td>i feel strong and good overall</td>\n",
       "      <td>1</td>\n",
       "      <td>joy</td>\n",
       "    </tr>\n",
       "    <tr>\n",
       "      <th>15998</th>\n",
       "      <td>i feel like this was such a rude comment and i...</td>\n",
       "      <td>3</td>\n",
       "      <td>anger</td>\n",
       "    </tr>\n",
       "    <tr>\n",
       "      <th>15999</th>\n",
       "      <td>i know a lot but i feel so stupid because i ca...</td>\n",
       "      <td>0</td>\n",
       "      <td>sadness</td>\n",
       "    </tr>\n",
       "  </tbody>\n",
       "</table>\n",
       "<p>16000 rows × 3 columns</p>\n",
       "</div>"
      ],
      "text/plain": [
       "                                                    text  label label_name\n",
       "0                                i didnt feel humiliated      0    sadness\n",
       "1      i can go from feeling so hopeless to so damned...      0    sadness\n",
       "2       im grabbing a minute to post i feel greedy wrong      3      anger\n",
       "3      i am ever feeling nostalgic about the fireplac...      2       love\n",
       "4                                   i am feeling grouchy      3      anger\n",
       "...                                                  ...    ...        ...\n",
       "15995  i just had a very brief time in the beanbag an...      0    sadness\n",
       "15996  i am now turning and i feel pathetic that i am...      0    sadness\n",
       "15997                     i feel strong and good overall      1        joy\n",
       "15998  i feel like this was such a rude comment and i...      3      anger\n",
       "15999  i know a lot but i feel so stupid because i ca...      0    sadness\n",
       "\n",
       "[16000 rows x 3 columns]"
      ]
     },
     "execution_count": 9,
     "metadata": {},
     "output_type": "execute_result"
    }
   ],
   "source": [
    "df"
   ]
  },
  {
   "cell_type": "markdown",
   "metadata": {},
   "source": [
    "### **데이터 클래스 분포 확인**\n",
    "\n",
    "- 데이터 불균형 샘플링 기법\n",
    "    - [📝내용 설명📝](https://github.com/tommyjin2894/ai_study?tab=readme-ov-file#%EC%83%98%ED%94%8C%EB%A7%81-%EA%B8%B0%EB%B2%95)\n",
    "    - [🖥️상세 코드🖥️](https://github.com/tommyjin2894/ai_study/blob/main/code/00_basics/09_%EC%83%98%ED%94%8C%EB%A7%81.ipynb) \n"
   ]
  },
  {
   "cell_type": "code",
   "execution_count": 10,
   "metadata": {},
   "outputs": [
    {
     "data": {
      "image/png": "[encoded data removed]",
      "text/plain": [
       "<Figure size 640x480 with 1 Axes>"
      ]
     },
     "metadata": {},
     "output_type": "display_data"
    }
   ],
   "source": [
    "import matplotlib.pyplot as plt\n",
    "\n",
    "df[\"label_name\"].value_counts(ascending=True).plot.barh();"
   ]
  },
  {
   "cell_type": "code",
   "execution_count": 11,
   "metadata": {},
   "outputs": [],
   "source": [
    "X = df.drop(columns=[\"label\",\"label_name\"])\n",
    "y = df[\"label\"]\n"
   ]
  },
  {
   "cell_type": "code",
   "execution_count": 12,
   "metadata": {},
   "outputs": [],
   "source": [
    "from sklearn.model_selection import train_test_split\n",
    "\n",
    "train_x, test_x, train_y, test_y = train_test_split(X,y,\n",
    "                                                    test_size=0.2,\n",
    "                                                    random_state=42)"
   ]
  },
  {
   "cell_type": "code",
   "execution_count": 13,
   "metadata": {},
   "outputs": [],
   "source": [
    "from imblearn.over_sampling import RandomOverSampler\n",
    "from imblearn.under_sampling import RandomUnderSampler\n",
    "import numpy as np\n",
    "\n",
    "ros = RandomOverSampler(random_state=42)\n",
    "rus = RandomOverSampler(random_state=42)\n",
    "\n",
    "x_ros, y_ros = ros.fit_resample(train_x, train_y)\n",
    "x_rous, y_rous = ros.fit_resample(x_ros, y_ros)"
   ]
  },
  {
   "cell_type": "code",
   "execution_count": 14,
   "metadata": {},
   "outputs": [
    {
     "data": {
      "image/png": "[encoded data removed]",
      "text/plain": [
       "<Figure size 640x480 with 1 Axes>"
      ]
     },
     "metadata": {},
     "output_type": "display_data"
    }
   ],
   "source": [
    "y_rous.apply(lambda x: train_data.features[\"label\"].int2str(x))\\\n",
    "    .value_counts(ascending=True).plot.barh();"
   ]
  },
  {
   "cell_type": "markdown",
   "metadata": {},
   "source": [
    "### 문장 길이 확인(최대 토큰 길이 측정)\n",
    "- 간단하게 단어 기준으로 토큰화 진행"
   ]
  },
  {
   "cell_type": "code",
   "execution_count": 15,
   "metadata": {},
   "outputs": [
    {
     "data": {
      "text/plain": [
       "array(['sadness', 'anger', 'love', 'surprise', 'fear', 'joy'],\n",
       "      dtype=object)"
      ]
     },
     "execution_count": 15,
     "metadata": {},
     "output_type": "execute_result"
    }
   ],
   "source": [
    "df[\"label_name\"].unique()"
   ]
  },
  {
   "cell_type": "code",
   "execution_count": 16,
   "metadata": {},
   "outputs": [],
   "source": [
    "df['token_length'] = df['text'].str.split(\" \").apply(lambda x:len(x))"
   ]
  },
  {
   "cell_type": "code",
   "execution_count": 17,
   "metadata": {},
   "outputs": [
    {
     "data": {
      "image/png": "[encoded data removed]",
      "text/plain": [
       "<Figure size 640x480 with 1 Axes>"
      ]
     },
     "metadata": {},
     "output_type": "display_data"
    }
   ],
   "source": [
    "import seaborn as sns\n",
    "\n",
    "sns.boxplot(data=df,\n",
    "            x='label_name',\n",
    "            y='token_length');"
   ]
  },
  {
   "cell_type": "markdown",
   "metadata": {},
   "source": [
    "### 문장 토큰화 하기"
   ]
  },
  {
   "cell_type": "code",
   "execution_count": 18,
   "metadata": {},
   "outputs": [
    {
     "data": {
      "text/plain": [
       "['bag',\n",
       " 'battalion',\n",
       " 'believers',\n",
       " 'bikini',\n",
       " 'blissed',\n",
       " 'bombsite',\n",
       " 'braided',\n",
       " 'bruise',\n",
       " 'bus',\n",
       " 'canning']"
      ]
     },
     "execution_count": 18,
     "metadata": {},
     "output_type": "execute_result"
    }
   ],
   "source": [
    "words = set([word for sen in df['text'] for word in sen.split(\" \")])\n",
    "words = sorted(words)\n",
    "words[1000:2000:100]"
   ]
  },
  {
   "cell_type": "code",
   "execution_count": 19,
   "metadata": {},
   "outputs": [
    {
     "name": "stdout",
     "output_type": "stream",
     "text": [
      "index:00001 aa\n",
      "index:01002 bagel\n",
      "index:02003 castiel\n",
      "index:03004 creates\n",
      "index:04005 drew\n",
      "index:05006 figured\n",
      "index:06007 harder\n",
      "index:07008 irresponcible\n",
      "index:08009 machinery\n",
      "index:09010 nobu\n",
      "index:10011 plea\n",
      "index:11012 reminisced\n",
      "index:12013 shuts\n",
      "index:13014 sumthg\n",
      "index:14015 ugg\n",
      "index:15016 worsen\n"
     ]
    }
   ],
   "source": [
    "token2idx = {ch: idx for ch, idx in enumerate(words)}\n",
    "for i in range(1,16001,1001):\n",
    "    print(f\"index:{i:05}\",token2idx[i])"
   ]
  },
  {
   "cell_type": "markdown",
   "metadata": {},
   "source": [
    "- 참고) 원핫 인코딩 - to sparse 하다"
   ]
  },
  {
   "cell_type": "code",
   "execution_count": 20,
   "metadata": {},
   "outputs": [],
   "source": [
    "import torch\n",
    "import torch.nn.functional as F\n",
    "\n",
    "\n",
    "for_ohi = torch.tensor(list(token2idx.keys()))"
   ]
  },
  {
   "cell_type": "code",
   "execution_count": 21,
   "metadata": {},
   "outputs": [
    {
     "data": {
      "text/plain": [
       "tensor([[1, 0, 0,  ..., 0, 0, 0],\n",
       "        [0, 1, 0,  ..., 0, 0, 0],\n",
       "        [0, 0, 1,  ..., 0, 0, 0],\n",
       "        ...,\n",
       "        [0, 0, 0,  ..., 1, 0, 0],\n",
       "        [0, 0, 0,  ..., 0, 1, 0],\n",
       "        [0, 0, 0,  ..., 0, 0, 1]])"
      ]
     },
     "execution_count": 21,
     "metadata": {},
     "output_type": "execute_result"
    }
   ],
   "source": [
    "don_ohi = F.one_hot(for_ohi)\n",
    "don_ohi"
   ]
  },
  {
   "cell_type": "markdown",
   "metadata": {},
   "source": [
    "### 부분 단어 토큰화\n",
    "- 단어 토큰화(5 : \"hello\", ...) + 문자 토큰화(5 : \"h\", ...)"
   ]
  },
  {
   "cell_type": "markdown",
   "metadata": {},
   "source": [
    "- 모델에 맞는 토큰화 방법"
   ]
  },
  {
   "cell_type": "code",
   "execution_count": 22,
   "metadata": {},
   "outputs": [],
   "source": [
    "from transformers import AutoTokenizer\n",
    "from transformers import DistilBertTokenizer\n",
    "\n",
    "model_ckpt=\"distilbert-base-uncased\"\n",
    "tokenizer_method = AutoTokenizer.from_pretrained(model_ckpt)\n",
    "tokenizer_method_1 = DistilBertTokenizer.from_pretrained(model_ckpt)"
   ]
  },
  {
   "cell_type": "code",
   "execution_count": 23,
   "metadata": {},
   "outputs": [],
   "source": [
    "text_str = \"Trolling is pretty annoying\""
   ]
  },
  {
   "cell_type": "code",
   "execution_count": 24,
   "metadata": {},
   "outputs": [
    {
     "name": "stdout",
     "output_type": "stream",
     "text": [
      "[101, 18792, 2075, 2003, 3492, 15703, 102]\n"
     ]
    }
   ],
   "source": [
    "at_token = tokenizer_method(text_str)['input_ids']\n",
    "print(at_token)"
   ]
  },
  {
   "cell_type": "code",
   "execution_count": 25,
   "metadata": {},
   "outputs": [
    {
     "name": "stdout",
     "output_type": "stream",
     "text": [
      "['[CLS]', 'troll', '##ing', 'is', 'pretty', 'annoying', '[SEP]']\n"
     ]
    }
   ],
   "source": [
    "reversed_token = tokenizer_method.convert_ids_to_tokens(at_token)\n",
    "print(f'{reversed_token}')"
   ]
  },
  {
   "cell_type": "markdown",
   "metadata": {},
   "source": [
    "- [CLS] 문장의 시작,\n",
    "- [sep] 문장의 분리를 의미,\n",
    "- `##` 앞 문자열의 공간이 비어있지 않음"
   ]
  },
  {
   "cell_type": "code",
   "execution_count": 26,
   "metadata": {},
   "outputs": [
    {
     "data": {
      "text/plain": [
       "'[CLS] trolling is pretty annoying [SEP]'"
      ]
     },
     "execution_count": 26,
     "metadata": {},
     "output_type": "execute_result"
    }
   ],
   "source": [
    "tokenizer_method.convert_tokens_to_string(reversed_token)"
   ]
  },
  {
   "cell_type": "markdown",
   "metadata": {},
   "source": [
    "- vocab 크기 확인"
   ]
  },
  {
   "cell_type": "code",
   "execution_count": 27,
   "metadata": {},
   "outputs": [
    {
     "name": "stdout",
     "output_type": "stream",
     "text": [
      "모델의 vocab 사이즈 : 30522\n",
      "모델의 최대 길이 : 512\n",
      "모델의 필드 이름 : ['input_ids', 'attention_mask']\n"
     ]
    }
   ],
   "source": [
    "print('모델의 vocab 사이즈 :',tokenizer_method.vocab_size)\n",
    "print('모델의 최대 길이 :',tokenizer_method.model_max_length)\n",
    "print('모델의 필드 이름 :',tokenizer_method.model_input_names)"
   ]
  },
  {
   "cell_type": "markdown",
   "metadata": {},
   "source": [
    "### 전체 데이터 셋 토큰화"
   ]
  },
  {
   "cell_type": "code",
   "execution_count": 28,
   "metadata": {},
   "outputs": [
    {
     "name": "stdout",
     "output_type": "stream",
     "text": [
      "i didnt feel humiliated\n",
      "i can go from feeling so hopeless to so damned hopeful just from being around someone who cares and is awake\n",
      "im grabbing a minute to post i feel greedy wrong\n"
     ]
    }
   ],
   "source": [
    "for i in dataset['train'][:3]['text']:\n",
    "    print(i)"
   ]
  },
  {
   "cell_type": "code",
   "execution_count": 29,
   "metadata": {},
   "outputs": [
    {
     "data": {
      "text/plain": [
       "{'input_ids': [[101, 1045, 2134, 2102, 2514, 26608, 102, 0, 0, 0, 0, 0, 0, 0, 0, 0, 0, 0, 0, 0, 0, 0, 0], [101, 1045, 2064, 2175, 2013, 3110, 2061, 20625, 2000, 2061, 9636, 17772, 2074, 2013, 2108, 2105, 2619, 2040, 14977, 1998, 2003, 8300, 102]], 'attention_mask': [[1, 1, 1, 1, 1, 1, 1, 0, 0, 0, 0, 0, 0, 0, 0, 0, 0, 0, 0, 0, 0, 0, 0], [1, 1, 1, 1, 1, 1, 1, 1, 1, 1, 1, 1, 1, 1, 1, 1, 1, 1, 1, 1, 1, 1, 1]]}"
      ]
     },
     "execution_count": 29,
     "metadata": {},
     "output_type": "execute_result"
    }
   ],
   "source": [
    "tokenize = lambda batch : tokenizer_method([exam for exam in batch['text']],\n",
    "                                           padding=True, truncation=True)\n",
    "# test\n",
    "tokenize(dataset['train'][:2])"
   ]
  },
  {
   "cell_type": "code",
   "execution_count": 30,
   "metadata": {},
   "outputs": [],
   "source": [
    "# all from datasets\n",
    "\n",
    "all_datasets_toknized = dataset.map(tokenize, batched=True, batch_size=None)"
   ]
  },
  {
   "cell_type": "code",
   "execution_count": 31,
   "metadata": {},
   "outputs": [
    {
     "data": {
      "text/html": [
       "<div>\n",
       "<style scoped>\n",
       "    .dataframe tbody tr th:only-of-type {\n",
       "        vertical-align: middle;\n",
       "    }\n",
       "\n",
       "    .dataframe tbody tr th {\n",
       "        vertical-align: top;\n",
       "    }\n",
       "\n",
       "    .dataframe thead th {\n",
       "        text-align: right;\n",
       "    }\n",
       "</style>\n",
       "<table border=\"1\" class=\"dataframe\">\n",
       "  <thead>\n",
       "    <tr style=\"text-align: right;\">\n",
       "      <th></th>\n",
       "      <th>input_ids</th>\n",
       "      <th>attention_mask</th>\n",
       "    </tr>\n",
       "  </thead>\n",
       "  <tbody>\n",
       "    <tr>\n",
       "      <th>0</th>\n",
       "      <td>[101, 1045, 2134, 2102, 2514, 26608, 102, 0, 0...</td>\n",
       "      <td>[1, 1, 1, 1, 1, 1, 1, 0, 0, 0, 0, 0, 0, 0, 0, ...</td>\n",
       "    </tr>\n",
       "    <tr>\n",
       "      <th>1</th>\n",
       "      <td>[101, 1045, 2064, 2175, 2013, 3110, 2061, 2062...</td>\n",
       "      <td>[1, 1, 1, 1, 1, 1, 1, 1, 1, 1, 1, 1, 1, 1, 1, ...</td>\n",
       "    </tr>\n",
       "  </tbody>\n",
       "</table>\n",
       "</div>"
      ],
      "text/plain": [
       "                                           input_ids  \\\n",
       "0  [101, 1045, 2134, 2102, 2514, 26608, 102, 0, 0...   \n",
       "1  [101, 1045, 2064, 2175, 2013, 3110, 2061, 2062...   \n",
       "\n",
       "                                      attention_mask  \n",
       "0  [1, 1, 1, 1, 1, 1, 1, 0, 0, 0, 0, 0, 0, 0, 0, ...  \n",
       "1  [1, 1, 1, 1, 1, 1, 1, 1, 1, 1, 1, 1, 1, 1, 1, ...  "
      ]
     },
     "execution_count": 31,
     "metadata": {},
     "output_type": "execute_result"
    }
   ],
   "source": [
    "all_datasets_toknized['train'][:2]"
   ]
  },
  {
   "cell_type": "markdown",
   "metadata": {},
   "source": [
    "### DistilBERT 훈련하기\n",
    "\n",
    "- transformers 는 tensorflow, Jax 에서 훈련된 사전 훈련 모델 사용이 가능하다.\n",
    "    \n",
    "    ```python\n",
    "    from transformers import TFAutoModel\n",
    "    tf_model = TFAutoModel.from_pretrained(model_ckpt, from_pt=True)\n",
    "    ```\n",
    "    - Tensorflow의 모델을 불러와 자동으로 변환한다.\n"
   ]
  },
  {
   "cell_type": "code",
   "execution_count": 32,
   "metadata": {},
   "outputs": [
    {
     "data": {
      "text/plain": [
       "'distilbert-base-uncased'"
      ]
     },
     "execution_count": 32,
     "metadata": {},
     "output_type": "execute_result"
    }
   ],
   "source": [
    "model_ckpt"
   ]
  },
  {
   "cell_type": "code",
   "execution_count": 33,
   "metadata": {},
   "outputs": [
    {
     "name": "stderr",
     "output_type": "stream",
     "text": [
      "2024-11-15 18:12:38.554314: E external/local_xla/xla/stream_executor/cuda/cuda_fft.cc:477] Unable to register cuFFT factory: Attempting to register factory for plugin cuFFT when one has already been registered\n",
      "WARNING: All log messages before absl::InitializeLog() is called are written to STDERR\n",
      "E0000 00:00:1731661958.589741   90904 cuda_dnn.cc:8310] Unable to register cuDNN factory: Attempting to register factory for plugin cuDNN when one has already been registered\n",
      "E0000 00:00:1731661958.600061   90904 cuda_blas.cc:1418] Unable to register cuBLAS factory: Attempting to register factory for plugin cuBLAS when one has already been registered\n",
      "2024-11-15 18:12:38.646701: I tensorflow/core/platform/cpu_feature_guard.cc:210] This TensorFlow binary is optimized to use available CPU instructions in performance-critical operations.\n",
      "To enable the following instructions: AVX2 FMA, in other operations, rebuild TensorFlow with the appropriate compiler flags.\n"
     ]
    }
   ],
   "source": [
    "from transformers import AutoModel\n",
    "\n",
    "device = torch.device(\"cuda\")\n",
    "model = AutoModel.from_pretrained(model_ckpt).to(device)"
   ]
  },
  {
   "cell_type": "code",
   "execution_count": 34,
   "metadata": {},
   "outputs": [
    {
     "data": {
      "text/plain": [
       "{'input_ids': tensor([[ 101, 3231, 2003, 4569,  999,  102]], device='cuda:0'),\n",
       " 'attention_mask': tensor([[1, 1, 1, 1, 1, 1]], device='cuda:0')}"
      ]
     },
     "execution_count": 34,
     "metadata": {},
     "output_type": "execute_result"
    }
   ],
   "source": [
    "text = \"test is fun!\"\n",
    "inputs = tokenizer_method(text, return_tensors='pt') # return_tensors = 옵션 ['pt', 'tf', 'np', 'jax', 'mlx']\n",
    "inputs={k:v.to(device) for k,v in inputs.items()}\n",
    "inputs"
   ]
  },
  {
   "cell_type": "markdown",
   "metadata": {},
   "source": [
    "- 필요한 인자 넘겨주기 `input_ids`, `attention_mask`"
   ]
  },
  {
   "cell_type": "code",
   "execution_count": 35,
   "metadata": {},
   "outputs": [
    {
     "data": {
      "text/plain": [
       "BaseModelOutput(last_hidden_state=tensor([[[-3.2901e-02, -1.5536e-01,  6.7294e-02,  ..., -3.5374e-02,\n",
       "           2.2140e-01,  3.0278e-01],\n",
       "         [ 5.3307e-01, -1.2262e-01,  4.2616e-04,  ..., -3.5551e-01,\n",
       "           3.7947e-01, -4.7466e-01],\n",
       "         [-3.0976e-01, -1.6439e-01,  4.3289e-02,  ..., -1.1604e-01,\n",
       "           1.2671e-01,  4.7686e-01],\n",
       "         [-9.3830e-03, -1.9277e-01,  2.1580e-01,  ..., -1.1667e-01,\n",
       "           8.4669e-02,  7.3999e-02],\n",
       "         [-9.4883e-02, -4.1041e-01,  1.4524e-01,  ...,  2.6162e-01,\n",
       "           2.6452e-01, -1.3557e-01],\n",
       "         [ 9.4918e-01,  2.1852e-01, -3.9139e-01,  ...,  2.4219e-01,\n",
       "          -4.7567e-01, -3.0236e-01]]], device='cuda:0'), hidden_states=None, attentions=None)"
      ]
     },
     "execution_count": 35,
     "metadata": {},
     "output_type": "execute_result"
    }
   ],
   "source": [
    "with torch.no_grad():\n",
    "    outputs=model(**inputs)\n",
    "\n",
    "outputs #named tuple 형태"
   ]
  },
  {
   "cell_type": "markdown",
   "metadata": {},
   "source": [
    "- [distilBERT](https://arxiv.org/pdf/1910.01108) 란?\n",
    "    - BERT 대비 40% 작은 모델\n",
    "    - 언어 이해 능력의 97% 유지\n",
    "    - 60% 빠른 속도\n",
    "    - triple loss method:\n",
    "        - loss combining language modeling,\n",
    "        - distillation\n",
    "        - cosine-distance losses\n",
    "        \n",
    "    - 참고\n",
    "        - [Knowledge Distilling](https://arxiv.org/pdf/1503.02531)\n",
    "        - Task-specific distillation\n",
    "        - [Multi-distillation](https://arxiv.org/pdf/2210.16103)"
   ]
  },
  {
   "cell_type": "code",
   "execution_count": 36,
   "metadata": {},
   "outputs": [
    {
     "data": {
      "text/plain": [
       "torch.Size([1, 6, 768])"
      ]
     },
     "execution_count": 36,
     "metadata": {},
     "output_type": "execute_result"
    }
   ],
   "source": [
    "outputs.last_hidden_state.shape"
   ]
  },
  {
   "cell_type": "markdown",
   "metadata": {},
   "source": [
    "- 1 배치, 6 토큰, 768 차원의 임베딩 벡터"
   ]
  },
  {
   "cell_type": "code",
   "execution_count": 37,
   "metadata": {},
   "outputs": [
    {
     "data": {
      "text/plain": [
       "['[CLS]', 'test', 'is', 'fun', '!', '[SEP]']"
      ]
     },
     "execution_count": 37,
     "metadata": {},
     "output_type": "execute_result"
    }
   ],
   "source": [
    "#각 6개의 토큰마다 768 차원의 임베딩 벡터\n",
    "tokenizer_method.convert_ids_to_tokens(inputs['input_ids'][0])"
   ]
  },
  {
   "cell_type": "markdown",
   "metadata": {},
   "source": [
    "### DistilBERT 예측 분류(machine learning head)"
   ]
  },
  {
   "cell_type": "markdown",
   "metadata": {},
   "source": [
    "- 데이터셋 불러오기"
   ]
  },
  {
   "cell_type": "code",
   "execution_count": 38,
   "metadata": {},
   "outputs": [],
   "source": [
    "from datasets import load_dataset\n",
    "\n",
    "dataset = load_dataset(\"emotion\")"
   ]
  },
  {
   "cell_type": "markdown",
   "metadata": {},
   "source": [
    "- 모델 및 토크나이저 불러오기"
   ]
  },
  {
   "cell_type": "code",
   "execution_count": 39,
   "metadata": {},
   "outputs": [],
   "source": [
    "from transformers import AutoTokenizer\n",
    "from transformers import AutoModel\n",
    "import torch\n",
    "\n",
    "device = torch.device(\"cuda\")\n",
    "\n",
    "model_ckpt=\"distilbert-base-uncased\"\n",
    "tokenizer = AutoTokenizer.from_pretrained(model_ckpt)\n",
    "model = AutoModel.from_pretrained(model_ckpt).to(device)"
   ]
  },
  {
   "cell_type": "code",
   "execution_count": 40,
   "metadata": {},
   "outputs": [],
   "source": [
    "tokenize = lambda batch : tokenizer([exam for exam in batch['text']],\n",
    "                                           padding=True, truncation=True)"
   ]
  },
  {
   "cell_type": "code",
   "execution_count": 41,
   "metadata": {},
   "outputs": [],
   "source": [
    "dataset_encoded = dataset.map(tokenize, batched=True, batch_size=None)"
   ]
  },
  {
   "cell_type": "markdown",
   "metadata": {},
   "source": [
    "- hidden_state 추출"
   ]
  },
  {
   "cell_type": "code",
   "execution_count": 42,
   "metadata": {},
   "outputs": [],
   "source": [
    "def extract_hs(batch):\n",
    "    inputs= {k:v.to(device) for k,v in batch.items()\n",
    "             if k in tokenizer.model_input_names}\n",
    "    \n",
    "    with torch.no_grad():\n",
    "        lst_hs = model(**inputs).last_hidden_state\n",
    "    print(lst_hs)\n",
    "    return {'hidden_state': lst_hs[:,0].cpu().numpy()}"
   ]
  },
  {
   "cell_type": "code",
   "execution_count": 43,
   "metadata": {},
   "outputs": [],
   "source": [
    "dataset_encoded.set_format(\"torch\", columns=['input_ids', 'attention_mask', 'label'])"
   ]
  },
  {
   "cell_type": "code",
   "execution_count": 44,
   "metadata": {},
   "outputs": [
    {
     "data": {
      "application/vnd.jupyter.widget-view+json": {
       "model_id": "0a5a628391fc46d68b728abf146e7534",
       "version_major": 2,
       "version_minor": 0
      },
      "text/plain": [
       "Map:   0%|          | 0/16000 [00:00<?, ? examples/s]"
      ]
     },
     "metadata": {},
     "output_type": "display_data"
    },
    {
     "name": "stdout",
     "output_type": "stream",
     "text": [
      "tensor([[[-0.1168,  0.0986, -0.1296,  ...,  0.0587,  0.3543,  0.4042],\n",
      "         [ 0.1325,  0.1516, -0.1169,  ..., -0.1119,  0.5562,  0.2908],\n",
      "         [-0.1053,  0.2862,  0.1958,  ...,  0.0241,  0.0577, -0.3627],\n",
      "         ...,\n",
      "         [-0.1576,  0.0898, -0.0468,  ...,  0.0662, -0.0555, -0.3040],\n",
      "         [-0.1641,  0.0944, -0.0331,  ...,  0.0501, -0.0445, -0.3198],\n",
      "         [-0.2448,  0.1373,  0.3082,  ..., -0.0214,  0.1674, -0.1861]],\n",
      "\n",
      "        [[-0.0324, -0.0323, -0.1957,  ..., -0.1747,  0.3546,  0.3028],\n",
      "         [ 0.2920,  0.2514, -0.3510,  ..., -0.0705,  0.4476,  0.3433],\n",
      "         [ 0.1124,  0.2768, -0.1371,  ..., -0.3548,  0.6641,  0.0977],\n",
      "         ...,\n",
      "         [-0.0134,  0.1927, -0.1303,  ..., -0.0439,  0.1111, -0.1301],\n",
      "         [-0.0230,  0.1415, -0.1237,  ...,  0.0382,  0.0511, -0.1063],\n",
      "         [-0.0700,  0.0209, -0.0227,  ...,  0.0192,  0.0657, -0.1047]],\n",
      "\n",
      "        [[ 0.0397,  0.2022,  0.1423,  ..., -0.1141,  0.3394,  0.3958],\n",
      "         [-0.1390,  0.4226,  0.8182,  ..., -0.1340,  0.4293,  1.0800],\n",
      "         [-0.0114, -0.2968,  0.1565,  ...,  0.0639, -0.1696,  0.4404],\n",
      "         ...,\n",
      "         [ 0.0713,  0.1562,  0.2643,  ...,  0.0276, -0.1220,  0.1061],\n",
      "         [ 0.1126,  0.1308,  0.2371,  ...,  0.1203, -0.1391,  0.1444],\n",
      "         [ 0.1322, -0.0190,  0.1495,  ...,  0.0352, -0.2248,  0.0743]],\n",
      "\n",
      "        ...,\n",
      "\n",
      "        [[ 0.0350,  0.1841,  0.0685,  ..., -0.0566,  0.3629,  0.2946],\n",
      "         [ 0.1217,  0.3323,  0.1885,  ..., -0.1899,  0.5610,  0.3157],\n",
      "         [-0.2045, -0.1819,  0.7217,  ..., -0.3281, -0.2294,  0.3029],\n",
      "         ...,\n",
      "         [ 0.2565,  0.2832,  0.1471,  ...,  0.0439,  0.1545,  0.0934],\n",
      "         [ 0.2274,  0.2850,  0.1192,  ...,  0.0389,  0.1367,  0.0675],\n",
      "         [ 0.0129,  0.2286,  0.5943,  ..., -0.3293, -0.1312, -0.1065]],\n",
      "\n",
      "        [[-0.0140, -0.0092,  0.0556,  ..., -0.1027,  0.3033,  0.2803],\n",
      "         [ 0.1258,  0.0630,  0.0680,  ..., -0.0190,  0.5363,  0.3893],\n",
      "         [-0.3923,  0.2109,  0.3381,  ..., -0.1148,  0.2370,  0.2957],\n",
      "         ...,\n",
      "         [-0.0436,  0.1369,  0.1483,  ..., -0.0072,  0.0387, -0.0240],\n",
      "         [-0.0281,  0.1621,  0.2456,  ..., -0.0178,  0.1321,  0.0412],\n",
      "         [-0.1577,  0.0144,  0.4080,  ..., -0.0180,  0.1473, -0.1071]],\n",
      "\n",
      "        [[ 0.1762, -0.0598, -0.0548,  ..., -0.1208,  0.3893,  0.1414],\n",
      "         [ 0.3897, -0.0606, -0.0495,  ..., -0.3869,  0.7023, -0.0488],\n",
      "         [-0.1972,  0.0545, -0.0554,  ..., -0.2615,  0.3913, -0.5621],\n",
      "         ...,\n",
      "         [ 0.1401, -0.0608,  0.1228,  ...,  0.0177,  0.0670, -0.2980],\n",
      "         [ 0.1806, -0.1045,  0.0617,  ...,  0.0781,  0.0602, -0.2742],\n",
      "         [ 0.1670, -0.0839,  0.0826,  ...,  0.0691,  0.0538, -0.2451]]],\n",
      "       device='cuda:0')\n",
      "tensor([[[ 1.6275e-01,  1.9279e-01, -1.5737e-02,  ..., -4.4065e-02,\n",
      "           2.9169e-01,  1.7619e-01],\n",
      "         [ 5.0276e-01,  4.1463e-01, -6.6951e-02,  ...,  1.2307e-01,\n",
      "           3.0598e-01,  2.3581e-01],\n",
      "         [ 8.2158e-01,  3.9558e-01,  3.2061e-01,  ..., -7.7855e-02,\n",
      "           5.0224e-02,  4.0400e-01],\n",
      "         ...,\n",
      "         [-8.4056e-03, -4.0277e-02, -3.5686e-02,  ...,  1.4569e-01,\n",
      "          -1.5658e-01, -6.7796e-02],\n",
      "         [ 6.1280e-02,  2.9637e-02, -7.4585e-03,  ...,  1.1722e-01,\n",
      "          -2.0214e-01, -6.6715e-02],\n",
      "         [ 1.9817e-02, -3.8727e-02, -7.6764e-02,  ...,  1.7658e-01,\n",
      "          -1.3435e-01, -8.8126e-02]],\n",
      "\n",
      "        [[ 2.4768e-02,  2.4037e-01,  1.3114e-01,  ..., -5.1266e-02,\n",
      "           3.7172e-01,  4.0642e-01],\n",
      "         [ 5.6993e-01,  6.2226e-02,  1.9688e-01,  ..., -3.1638e-02,\n",
      "           5.9997e-01,  2.6011e-01],\n",
      "         [ 3.6623e-01, -2.8911e-01,  7.7396e-01,  ..., -4.4009e-01,\n",
      "          -2.5602e-01,  1.7445e-02],\n",
      "         ...,\n",
      "         [ 2.4108e-01,  1.9026e-01,  3.6504e-01,  ..., -1.4408e-02,\n",
      "          -6.4386e-02,  8.5878e-02],\n",
      "         [ 1.9681e-01,  1.7743e-01,  2.8964e-01,  ...,  1.3162e-01,\n",
      "          -7.4754e-02,  3.4423e-02],\n",
      "         [ 2.2258e-01, -1.9705e-01,  6.9151e-01,  ..., -2.1158e-01,\n",
      "          -8.4033e-02, -3.2998e-01]],\n",
      "\n",
      "        [[ 8.3528e-03,  1.4100e-01,  7.7365e-03,  ...,  1.3770e-01,\n",
      "           2.1800e-01,  2.5517e-01],\n",
      "         [ 3.7585e-01,  3.8503e-01, -5.8224e-02,  ...,  1.5000e-01,\n",
      "           4.0673e-01,  2.8988e-01],\n",
      "         [ 2.6797e-02,  6.6345e-01,  3.2782e-01,  ...,  2.6250e-01,\n",
      "           2.6971e-01,  4.3486e-01],\n",
      "         ...,\n",
      "         [ 7.3636e-02,  3.9638e-01,  1.8923e-02,  ...,  1.9710e-01,\n",
      "          -4.2206e-03, -4.8758e-02],\n",
      "         [ 1.2644e-01,  1.1352e-01,  1.1525e-01,  ...,  4.5121e-01,\n",
      "           4.2062e-02, -1.1038e-01],\n",
      "         [ 4.9718e-02,  1.1201e-01,  1.4260e-01,  ...,  3.6649e-01,\n",
      "           9.1578e-03, -8.9592e-02]],\n",
      "\n",
      "        ...,\n",
      "\n",
      "        [[ 3.7370e-02,  1.8621e-01,  2.0834e-02,  ..., -3.5833e-03,\n",
      "           4.8744e-01,  6.4584e-01],\n",
      "         [ 2.5884e-01,  5.1309e-01,  2.0518e-02,  ..., -1.1802e-02,\n",
      "           5.4079e-01,  6.6204e-01],\n",
      "         [-3.6867e-01,  4.2688e-01,  5.9293e-01,  ..., -9.5000e-02,\n",
      "          -2.3556e-02,  7.9861e-01],\n",
      "         ...,\n",
      "         [ 2.7770e-02,  3.7278e-02,  4.8135e-02,  ...,  1.1078e-01,\n",
      "           6.3892e-02,  2.7986e-01],\n",
      "         [ 2.7097e-02,  3.7302e-02,  8.9729e-02,  ...,  1.1637e-01,\n",
      "           6.4794e-02,  2.4693e-01],\n",
      "         [-4.9656e-02,  2.2661e-02,  2.7495e-01,  ...,  5.1639e-02,\n",
      "           4.9361e-02,  1.9738e-01]],\n",
      "\n",
      "        [[ 9.4941e-02,  1.1380e-01,  1.1515e-01,  ...,  1.1850e-01,\n",
      "           2.9144e-01,  1.7876e-01],\n",
      "         [ 4.5426e-01,  2.7372e-01, -1.1121e-02,  ...,  2.8931e-01,\n",
      "           4.6345e-01,  1.9909e-01],\n",
      "         [ 1.0386e-01,  6.7170e-01,  4.2148e-01,  ..., -8.2156e-03,\n",
      "          -2.9585e-01,  2.2310e-01],\n",
      "         ...,\n",
      "         [-3.7163e-02,  1.3549e-02,  3.8987e-02,  ...,  1.9711e-01,\n",
      "           5.3913e-02, -2.6936e-01],\n",
      "         [ 2.3326e-02,  7.9807e-03, -3.7977e-02,  ...,  2.0144e-01,\n",
      "           1.0007e-01, -3.5298e-01],\n",
      "         [ 1.1935e-02,  2.3395e-02,  1.9096e-02,  ...,  1.5562e-01,\n",
      "           8.2099e-02, -2.8352e-01]],\n",
      "\n",
      "        [[ 3.3674e-02, -2.4944e-02, -1.0882e-01,  ...,  2.8363e-02,\n",
      "           4.0109e-01,  2.1123e-01],\n",
      "         [ 3.1901e-01,  7.3252e-02, -2.9824e-01,  ...,  1.0672e-01,\n",
      "           5.0687e-01,  2.4853e-01],\n",
      "         [ 6.4321e-02,  3.1927e-01,  2.7105e-01,  ...,  7.2447e-02,\n",
      "           3.3013e-01,  2.0997e-01],\n",
      "         ...,\n",
      "         [ 1.2242e-01, -1.4001e-01,  1.3632e-01,  ..., -4.2744e-02,\n",
      "          -1.8279e-03, -1.3792e-01],\n",
      "         [ 1.6140e-01, -1.6357e-01,  1.8684e-01,  ..., -9.9194e-02,\n",
      "           9.5063e-05, -1.5988e-01],\n",
      "         [-3.6633e-02, -5.6481e-02,  1.4241e-02,  ..., -1.0585e-01,\n",
      "          -4.6189e-02,  3.3323e-02]]], device='cuda:0')\n",
      "tensor([[[ 6.4750e-02,  9.7910e-02, -1.2601e-01,  ..., -1.7264e-01,\n",
      "           2.2042e-01,  2.7588e-01],\n",
      "         [ 4.7901e-01,  1.2304e-01, -1.9706e-01,  ..., -2.2467e-01,\n",
      "           5.6902e-01, -2.8978e-02],\n",
      "         [ 3.0039e-02, -3.3738e-02,  2.5683e-02,  ..., -1.5261e-01,\n",
      "          -1.5324e-02,  1.0456e-01],\n",
      "         ...,\n",
      "         [ 2.1247e-02, -1.6066e-01, -1.8516e-01,  ..., -9.4086e-05,\n",
      "          -1.1410e-02,  3.4803e-01],\n",
      "         [ 3.6248e-02, -1.1191e-01, -1.2873e-01,  ..., -2.6995e-02,\n",
      "          -1.6533e-02,  3.3708e-01],\n",
      "         [-1.8003e-02, -5.5555e-02, -7.9256e-02,  ..., -7.5862e-02,\n",
      "          -1.8716e-02,  2.8016e-01]],\n",
      "\n",
      "        [[-1.7135e-01,  3.1281e-01,  2.3854e-03,  ..., -1.6594e-01,\n",
      "           4.3449e-01,  3.5688e-01],\n",
      "         [-2.3109e-01,  5.0665e-01,  7.7210e-01,  ..., -1.7131e-01,\n",
      "           5.0150e-01,  7.9211e-01],\n",
      "         [-3.2612e-01,  1.4244e-01,  3.0064e-01,  ..., -3.2207e-01,\n",
      "           2.4664e-01,  2.1082e-01],\n",
      "         ...,\n",
      "         [-1.6881e-01,  4.1420e-01,  4.1125e-01,  ..., -1.3639e-01,\n",
      "          -3.3301e-02, -1.6145e-01],\n",
      "         [-1.9179e-01,  3.5446e-01,  5.4154e-01,  ..., -9.9223e-02,\n",
      "           2.3899e-02,  3.3249e-02],\n",
      "         [-1.6906e-01,  2.6976e-01,  2.8575e-01,  ..., -1.1240e-01,\n",
      "          -3.4345e-02, -2.2971e-01]],\n",
      "\n",
      "        [[-2.1727e-03, -4.9343e-02, -1.4658e-01,  ...,  1.4523e-01,\n",
      "           2.0501e-01,  2.3442e-01],\n",
      "         [ 5.3351e-01,  2.5093e-01, -1.2333e-01,  ...,  1.0554e-01,\n",
      "           6.3002e-01,  1.5376e-01],\n",
      "         [ 4.8049e-01, -5.0423e-02,  6.1280e-01,  ...,  9.7367e-02,\n",
      "           1.2197e-01,  1.1610e-01],\n",
      "         ...,\n",
      "         [ 4.3071e-02, -5.0757e-02, -1.7949e-01,  ...,  2.6658e-01,\n",
      "          -2.9783e-01,  1.9530e-01],\n",
      "         [ 1.5728e-01, -7.7277e-02, -1.2377e-01,  ...,  2.5008e-01,\n",
      "          -3.0350e-01,  1.7132e-01],\n",
      "         [-5.3137e-03,  9.8320e-02, -4.1907e-02,  ...,  2.3663e-01,\n",
      "          -2.0944e-01,  1.7013e-01]],\n",
      "\n",
      "        ...,\n",
      "\n",
      "        [[ 1.2255e-01,  1.0927e-01, -8.7430e-02,  ..., -6.1656e-03,\n",
      "           3.2351e-01,  3.5918e-01],\n",
      "         [ 4.5295e-01,  1.5171e-01, -1.6707e-01,  ..., -2.0509e-01,\n",
      "           6.8200e-01,  2.1600e-03],\n",
      "         [-4.0532e-01,  3.2195e-01, -1.4767e-01,  ..., -1.4224e-01,\n",
      "           1.3627e-01, -5.9135e-01],\n",
      "         ...,\n",
      "         [ 7.8958e-02,  2.8748e-01,  6.6231e-02,  ..., -2.9256e-02,\n",
      "           2.6236e-02,  8.7056e-02],\n",
      "         [ 2.9243e-01,  1.2189e-01,  1.2811e-01,  ...,  2.6332e-02,\n",
      "           1.2404e-01,  1.7118e-01],\n",
      "         [ 5.6722e-02,  1.4839e-01,  1.3142e-01,  ...,  1.9039e-01,\n",
      "          -2.5929e-02,  9.4701e-02]],\n",
      "\n",
      "        [[ 1.1666e-01,  1.8116e-01,  2.0689e-03,  ...,  1.6747e-02,\n",
      "           2.3507e-01,  2.4589e-01],\n",
      "         [ 2.6915e-01,  4.0714e-01, -5.9173e-02,  ...,  1.6730e-01,\n",
      "           6.5344e-01,  1.4531e-01],\n",
      "         [-9.8338e-03,  5.6496e-01,  3.8649e-01,  ..., -5.7864e-02,\n",
      "           2.2751e-01, -2.9169e-01],\n",
      "         ...,\n",
      "         [ 1.0444e-01,  4.9095e-01,  1.5247e-01,  ..., -1.5309e-02,\n",
      "           4.9804e-03, -1.5994e-02],\n",
      "         [ 9.4653e-02,  3.9643e-01,  1.3812e-01,  ...,  5.6960e-02,\n",
      "          -3.6921e-03,  3.0768e-02],\n",
      "         [ 3.7327e-02,  3.2060e-01,  8.9172e-02,  ...,  1.3519e-01,\n",
      "          -4.4693e-02,  4.5238e-02]],\n",
      "\n",
      "        [[ 1.1112e-02,  1.7002e-01, -2.4450e-01,  ...,  1.6920e-02,\n",
      "           5.1747e-01,  3.2434e-01],\n",
      "         [ 3.4774e-01,  2.4380e-01, -2.0893e-01,  ..., -1.3270e-01,\n",
      "           5.2448e-01,  2.2905e-01],\n",
      "         [ 2.4802e-02,  1.1131e-01,  9.7177e-02,  ...,  1.7756e-01,\n",
      "           2.2003e-01,  1.5680e-02],\n",
      "         ...,\n",
      "         [ 6.8995e-02,  3.7540e-01,  1.5873e-01,  ...,  1.0466e-01,\n",
      "          -5.8991e-02, -1.3594e-01],\n",
      "         [ 9.3935e-02,  3.5150e-01,  1.5092e-01,  ...,  6.4771e-02,\n",
      "          -6.6370e-02, -9.6116e-02],\n",
      "         [ 7.4375e-02,  2.4209e-01,  1.1560e-01,  ...,  9.2042e-02,\n",
      "          -7.2195e-02, -5.9502e-02]]], device='cuda:0')\n",
      "tensor([[[ 5.5825e-02,  1.1630e-01,  4.5265e-02,  ..., -2.0005e-01,\n",
      "           2.6261e-01,  2.4256e-01],\n",
      "         [ 4.7462e-01,  3.6157e-01,  6.1062e-02,  ..., -1.4412e-02,\n",
      "           5.9527e-01,  3.7374e-01],\n",
      "         [-1.6998e-01,  7.0266e-01,  5.7553e-01,  ..., -2.2026e-01,\n",
      "           2.0639e-01,  4.8962e-01],\n",
      "         ...,\n",
      "         [-7.0406e-02,  2.7773e-01,  1.2227e-01,  ..., -1.1622e-01,\n",
      "          -2.5246e-02,  3.9185e-02],\n",
      "         [-8.2488e-02,  2.8801e-01,  2.5326e-01,  ..., -1.2564e-01,\n",
      "           4.4718e-02,  7.7227e-02],\n",
      "         [-1.9629e-01,  3.7526e-01,  5.8092e-01,  ..., -1.3980e-01,\n",
      "           1.1025e-01,  1.1284e-01]],\n",
      "\n",
      "        [[ 1.0352e-01, -7.4231e-02, -7.6782e-02,  ..., -1.0423e-01,\n",
      "           1.5875e-01,  9.1830e-02],\n",
      "         [ 5.4341e-01,  2.4418e-01, -3.0686e-01,  ...,  4.1198e-02,\n",
      "           6.2555e-01, -1.2768e-01],\n",
      "         [ 5.0019e-01,  1.9051e-01,  1.3929e-01,  ...,  2.4826e-02,\n",
      "           1.9476e-01, -1.9738e-01],\n",
      "         ...,\n",
      "         [ 1.4444e-01, -2.3044e-02, -2.7761e-01,  ...,  1.0024e-01,\n",
      "          -3.6075e-01, -3.1512e-01],\n",
      "         [ 1.3847e-01, -7.3589e-02, -2.6308e-01,  ...,  1.3301e-01,\n",
      "          -3.3861e-01, -3.6524e-01],\n",
      "         [ 1.2395e-01, -1.0536e-01, -2.2708e-01,  ...,  1.0313e-01,\n",
      "          -2.7901e-01, -3.5469e-01]],\n",
      "\n",
      "        [[-1.1796e-01,  2.5175e-01, -2.0094e-01,  ...,  8.9074e-02,\n",
      "           4.5035e-01,  5.2765e-01],\n",
      "         [-5.6035e-02,  4.4285e-01,  5.1093e-01,  ..., -4.5119e-01,\n",
      "           3.9484e-01,  5.5287e-01],\n",
      "         [-2.0097e-01,  4.7196e-01,  3.8369e-01,  ..., -6.0899e-01,\n",
      "           2.1011e-01,  5.8545e-01],\n",
      "         ...,\n",
      "         [-1.2776e-01,  1.7813e-01,  9.1638e-02,  ..., -4.0130e-02,\n",
      "          -5.0849e-02,  6.8442e-02],\n",
      "         [-1.7043e-01,  1.6234e-01,  1.5137e-01,  ..., -9.6810e-02,\n",
      "          -4.7548e-02,  4.0536e-02],\n",
      "         [-1.1839e-01,  4.6204e-02,  1.1844e-01,  ..., -1.5023e-01,\n",
      "          -2.6441e-02,  4.4279e-03]],\n",
      "\n",
      "        ...,\n",
      "\n",
      "        [[ 7.7934e-02,  2.5074e-01, -1.3244e-01,  ..., -4.0919e-02,\n",
      "           4.5698e-01,  6.0242e-02],\n",
      "         [ 1.0890e-01,  4.7433e-01, -2.9293e-01,  ...,  1.0043e-01,\n",
      "           7.6718e-01,  6.0350e-02],\n",
      "         [ 6.3727e-02,  6.1611e-01, -6.8765e-03,  ..., -3.8345e-02,\n",
      "           5.4143e-01, -3.0852e-01],\n",
      "         ...,\n",
      "         [ 1.1232e-01,  3.2544e-01,  2.4658e-01,  ...,  5.8857e-02,\n",
      "           2.0798e-01, -4.4016e-01],\n",
      "         [ 2.0623e-01,  3.3680e-01,  8.4246e-01,  ..., -3.3193e-01,\n",
      "           9.1233e-02, -3.1766e-01],\n",
      "         [ 3.2449e-01,  7.4129e-02,  2.1505e-01,  ...,  3.8065e-03,\n",
      "           2.6738e-01, -1.3442e-01]],\n",
      "\n",
      "        [[ 6.5642e-02,  1.6057e-01, -6.5061e-02,  ...,  3.6069e-03,\n",
      "           2.7742e-01,  3.8947e-01],\n",
      "         [ 8.2827e-02,  4.7331e-01, -2.4545e-01,  ...,  1.4058e-01,\n",
      "           6.7975e-01,  3.8680e-01],\n",
      "         [-1.0978e-01,  5.7815e-01,  1.5138e-01,  ..., -2.3036e-01,\n",
      "           2.4705e-01,  1.6224e-01],\n",
      "         ...,\n",
      "         [ 1.6013e-01,  3.6287e-02,  2.0852e-02,  ...,  2.7134e-01,\n",
      "          -2.5570e-01, -1.1632e-02],\n",
      "         [ 1.2184e-01, -2.8829e-02,  1.5810e-02,  ...,  3.0876e-01,\n",
      "          -1.5471e-01,  4.7315e-02],\n",
      "         [ 9.1610e-02,  1.9533e-01, -5.2976e-02,  ...,  1.1345e-01,\n",
      "          -7.9589e-02, -8.5037e-02]],\n",
      "\n",
      "        [[ 9.1727e-02,  6.6950e-02, -2.6536e-02,  ..., -2.3124e-02,\n",
      "           3.3042e-01,  2.2009e-01],\n",
      "         [ 4.7017e-01,  4.5396e-01,  9.3979e-03,  ..., -1.3745e-04,\n",
      "           7.5731e-01,  2.7123e-01],\n",
      "         [-1.0026e-01,  5.1886e-01,  5.7925e-01,  ..., -1.1722e-01,\n",
      "           3.1250e-01,  3.6155e-01],\n",
      "         ...,\n",
      "         [ 1.5397e-01,  2.4314e-01,  1.4577e-01,  ...,  3.2643e-02,\n",
      "           2.3247e-01, -2.6753e-01],\n",
      "         [ 1.3176e-01,  1.4506e-01,  2.8502e-01,  ..., -6.5223e-03,\n",
      "           2.3514e-01, -1.1060e-01],\n",
      "         [ 3.3670e-02,  2.0212e-02,  8.9226e-02,  ...,  1.2238e-01,\n",
      "           8.6968e-02, -1.7289e-01]]], device='cuda:0')\n",
      "tensor([[[-3.3075e-02,  7.1578e-04, -2.4581e-01,  ..., -1.6707e-01,\n",
      "           2.4601e-01,  4.6260e-02],\n",
      "         [ 4.5939e-01,  4.3914e-01, -5.6366e-01,  ...,  3.2086e-01,\n",
      "           7.8731e-01,  1.6958e-01],\n",
      "         [ 4.1048e-02,  4.6389e-01,  1.2101e-01,  ...,  7.4701e-02,\n",
      "          -1.3990e-01, -1.4680e-01],\n",
      "         ...,\n",
      "         [-5.7022e-02, -2.8823e-01, -2.5113e-01,  ...,  4.1063e-02,\n",
      "           3.5039e-02, -2.3860e-01],\n",
      "         [-1.0551e-01, -2.9211e-02, -2.6957e-01,  ..., -5.2573e-02,\n",
      "          -8.1924e-02, -1.3112e-01],\n",
      "         [-1.0332e-01,  5.7697e-02, -5.1957e-02,  ..., -9.3035e-02,\n",
      "          -1.1138e-01,  2.9997e-02]],\n",
      "\n",
      "        [[-6.3549e-02,  4.1481e-02, -4.1070e-02,  ...,  7.1971e-02,\n",
      "           2.6562e-01,  2.4999e-01],\n",
      "         [ 3.5155e-01,  2.5092e-01, -2.8972e-02,  ...,  7.3015e-02,\n",
      "           7.5372e-01,  2.2885e-01],\n",
      "         [-1.2786e-01,  4.0311e-01,  3.3134e-01,  ..., -1.2066e-01,\n",
      "           1.9040e-01,  3.3946e-01],\n",
      "         ...,\n",
      "         [-2.3834e-02,  3.3056e-01,  1.0257e-01,  ...,  1.3477e-02,\n",
      "           1.9743e-01, -1.1851e-01],\n",
      "         [-3.6327e-02,  1.7578e-01,  4.0140e-02,  ...,  1.4866e-01,\n",
      "           1.2112e-01, -5.6684e-02],\n",
      "         [-1.4086e-01,  1.0399e-01,  3.1448e-01,  ..., -7.0678e-04,\n",
      "           8.5131e-02, -5.1397e-02]],\n",
      "\n",
      "        [[-6.2458e-02, -1.8881e-02, -7.4134e-02,  ...,  3.8410e-02,\n",
      "           1.9280e-01,  3.6567e-01],\n",
      "         [ 2.9702e-01,  6.8397e-02, -2.5903e-01,  ..., -1.2114e-03,\n",
      "           5.5636e-01,  1.0842e-01],\n",
      "         [-2.8347e-01,  3.3950e-02, -2.5123e-01,  ...,  1.6721e-01,\n",
      "          -2.6534e-02,  1.4319e-01],\n",
      "         ...,\n",
      "         [-1.2974e-01,  2.3564e-02,  1.0401e-02,  ...,  1.6332e-01,\n",
      "           2.6773e-02,  3.2151e-02],\n",
      "         [-1.1415e-01,  2.7675e-02,  8.7816e-03,  ...,  1.6709e-01,\n",
      "           4.1162e-02,  1.5877e-02],\n",
      "         [-2.2170e-01,  7.4180e-02,  1.1202e-01,  ...,  1.3566e-01,\n",
      "           4.1285e-02,  3.9701e-02]],\n",
      "\n",
      "        ...,\n",
      "\n",
      "        [[-2.0249e-01, -1.1025e-02, -1.2681e-01,  ..., -6.6331e-02,\n",
      "           1.4087e-01,  1.2151e-01],\n",
      "         [-1.8061e-01,  4.3184e-02,  4.5752e-02,  ...,  2.0616e-02,\n",
      "           3.4645e-01, -3.7808e-01],\n",
      "         [-1.1470e-01, -9.3624e-02,  1.4640e-02,  ..., -1.6167e-01,\n",
      "          -1.8985e-01, -2.8789e-01],\n",
      "         ...,\n",
      "         [ 8.6423e-02, -5.9044e-02,  1.1081e-01,  ..., -3.7815e-02,\n",
      "          -2.9206e-01, -1.4031e-01],\n",
      "         [ 1.0836e-03, -1.9245e-01,  9.6127e-02,  ...,  4.4879e-02,\n",
      "          -1.3091e-01, -1.9171e-01],\n",
      "         [ 4.5331e-02, -2.3178e-01,  1.1739e-01,  ...,  7.1980e-02,\n",
      "          -2.8010e-01, -9.2419e-02]],\n",
      "\n",
      "        [[ 1.5121e-01,  2.0885e-01, -2.9353e-01,  ...,  1.9484e-01,\n",
      "           2.5712e-01,  2.4369e-01],\n",
      "         [ 3.5606e-01,  2.8131e-01, -6.0381e-01,  ...,  2.5193e-01,\n",
      "           6.3545e-01, -9.9444e-02],\n",
      "         [ 1.7945e-01,  5.4194e-02, -4.0633e-01,  ...,  1.4170e-01,\n",
      "           1.9880e-01, -2.6192e-01],\n",
      "         ...,\n",
      "         [-6.7383e-02,  1.8592e-01, -3.5244e-01,  ...,  2.8242e-01,\n",
      "          -1.9404e-02,  6.4422e-02],\n",
      "         [-4.6925e-02,  1.5566e-01, -3.7298e-01,  ...,  3.9962e-01,\n",
      "          -1.5233e-02, -1.3120e-02],\n",
      "         [-2.3950e-02,  1.5660e-01, -1.9373e-01,  ...,  2.9739e-01,\n",
      "           2.2956e-02,  7.2925e-04]],\n",
      "\n",
      "        [[-3.8593e-02, -5.3472e-02, -2.1294e-01,  ..., -1.6208e-01,\n",
      "           2.5242e-01,  2.7734e-01],\n",
      "         [ 4.7028e-01,  4.2810e-01, -3.5173e-01,  ...,  7.9689e-02,\n",
      "           5.3739e-01,  3.2255e-01],\n",
      "         [ 3.2498e-01, -1.7219e-01,  3.3276e-01,  ..., -2.1999e-01,\n",
      "          -7.4294e-02,  1.5330e-01],\n",
      "         ...,\n",
      "         [ 4.4938e-02,  8.4621e-02, -7.4768e-02,  ..., -9.7377e-02,\n",
      "          -2.0050e-01,  1.0510e-01],\n",
      "         [-1.3794e-02, -4.5059e-02, -1.2096e-01,  ..., -3.6477e-02,\n",
      "          -1.7472e-01,  1.6109e-01],\n",
      "         [ 8.2934e-02,  3.9281e-02,  3.0971e-02,  ..., -1.5070e-01,\n",
      "          -1.5874e-01,  1.1158e-01]]], device='cuda:0')\n",
      "tensor([[[ 9.7322e-02, -1.9910e-01,  8.4222e-02,  ...,  2.9060e-03,\n",
      "           2.9892e-01,  2.3884e-01],\n",
      "         [ 4.7564e-01, -9.2914e-02, -2.9131e-01,  ...,  3.6878e-02,\n",
      "           8.1418e-01, -9.8899e-02],\n",
      "         [ 2.3060e-01, -3.9520e-03,  4.1893e-01,  ...,  1.7734e-01,\n",
      "           3.9423e-01,  2.9146e-01],\n",
      "         ...,\n",
      "         [-4.1395e-02, -8.4421e-02,  1.5373e-01,  ...,  1.7877e-01,\n",
      "          -9.8051e-02, -4.9576e-02],\n",
      "         [ 2.6946e-02, -1.2177e-01,  7.1274e-02,  ...,  2.5367e-01,\n",
      "          -1.3198e-02, -7.1890e-02],\n",
      "         [-4.6575e-02, -8.3826e-02,  6.1497e-02,  ...,  2.0382e-01,\n",
      "           3.8118e-02, -4.5652e-02]],\n",
      "\n",
      "        [[ 1.5509e-01, -9.2947e-03, -7.9197e-02,  ...,  6.5052e-02,\n",
      "           3.3985e-01,  2.8026e-01],\n",
      "         [ 4.0474e-01, -3.6256e-03, -1.9648e-01,  ..., -2.0825e-02,\n",
      "           5.8807e-01,  1.2512e-01],\n",
      "         [ 7.2608e-02,  3.6147e-01,  5.0345e-02,  ..., -9.0707e-02,\n",
      "           1.7580e-01,  1.1700e-02],\n",
      "         ...,\n",
      "         [ 2.7591e-01,  8.4067e-02, -1.2861e-01,  ...,  1.4213e-01,\n",
      "          -1.1346e-01,  2.3502e-02],\n",
      "         [ 2.5600e-01,  1.5322e-01,  9.4497e-02,  ..., -6.7092e-02,\n",
      "           7.5905e-03, -8.7060e-02],\n",
      "         [ 2.0044e-01,  1.2346e-01,  3.0936e-01,  ..., -1.0240e-01,\n",
      "          -7.9966e-02, -1.9924e-01]],\n",
      "\n",
      "        [[ 2.1241e-01, -2.4504e-02,  1.4015e-01,  ..., -1.3567e-01,\n",
      "           2.1502e-01,  9.3368e-02],\n",
      "         [ 5.8691e-01,  3.1831e-01, -4.9507e-02,  ...,  7.1580e-02,\n",
      "           4.3665e-01,  4.4028e-02],\n",
      "         [ 4.1216e-03,  2.8482e-01,  4.4415e-01,  ..., -8.2534e-02,\n",
      "          -9.6243e-02,  2.9299e-01],\n",
      "         ...,\n",
      "         [ 2.5696e-01, -9.8436e-02,  5.5252e-02,  ..., -2.2088e-02,\n",
      "          -8.1741e-02, -1.2181e-01],\n",
      "         [ 2.9119e-01, -1.2490e-01,  1.1453e-01,  ...,  1.6311e-02,\n",
      "          -7.2184e-02, -1.3592e-01],\n",
      "         [ 2.5243e-01,  3.1248e-02,  2.3895e-01,  ...,  9.0397e-03,\n",
      "          -1.2970e-01, -2.5476e-03]],\n",
      "\n",
      "        ...,\n",
      "\n",
      "        [[ 1.7597e-02, -1.2479e-01, -2.5223e-01,  ..., -5.5842e-04,\n",
      "           4.6065e-01,  1.4298e-01],\n",
      "         [ 2.7769e-01,  1.2225e-01, -3.4265e-01,  ...,  3.2076e-02,\n",
      "           7.9181e-01,  1.6895e-01],\n",
      "         [-3.8565e-01,  2.6135e-01,  1.0159e-01,  ..., -8.9356e-02,\n",
      "           2.3720e-01,  3.8165e-01],\n",
      "         ...,\n",
      "         [-1.1130e-02, -2.7296e-01, -7.9820e-02,  ...,  2.2631e-01,\n",
      "          -5.3528e-02, -1.1653e-01],\n",
      "         [-1.2832e-02, -7.2798e-02, -4.4768e-02,  ...,  1.6963e-01,\n",
      "          -4.0664e-02, -7.1215e-02],\n",
      "         [ 8.3780e-02,  1.2292e-01,  2.0615e-01,  ..., -4.5479e-02,\n",
      "           1.5448e-02, -5.0012e-02]],\n",
      "\n",
      "        [[ 5.7445e-02, -2.5851e-02,  4.6713e-02,  ..., -2.0216e-02,\n",
      "           2.6001e-01,  2.7367e-01],\n",
      "         [ 3.9070e-01,  5.5403e-02, -8.7584e-02,  ..., -2.7397e-02,\n",
      "           5.3166e-01,  3.5963e-01],\n",
      "         [ 1.9881e-02,  3.2085e-01,  5.1708e-01,  ..., -2.9823e-01,\n",
      "           2.3626e-01, -3.7817e-01],\n",
      "         ...,\n",
      "         [ 8.4835e-03, -1.7617e-02, -7.9216e-02,  ..., -1.8852e-03,\n",
      "          -1.5863e-02, -4.4837e-01],\n",
      "         [ 1.2527e-02, -2.2839e-04, -7.9310e-02,  ..., -6.1012e-02,\n",
      "          -4.8886e-04, -4.2245e-01],\n",
      "         [ 2.6802e-01,  3.7733e-02,  5.2715e-01,  ..., -4.0372e-01,\n",
      "           4.9096e-02, -3.2814e-01]],\n",
      "\n",
      "        [[-4.0020e-02, -2.6761e-02,  1.5994e-01,  ..., -1.4735e-01,\n",
      "           2.6792e-01,  2.3886e-01],\n",
      "         [ 3.5764e-01,  3.0898e-01,  1.3598e-01,  ..., -1.7485e-01,\n",
      "           4.8281e-01,  2.8983e-01],\n",
      "         [-1.2852e-01,  4.5683e-01,  5.1451e-01,  ..., -1.8988e-01,\n",
      "           3.1801e-02,  4.8835e-01],\n",
      "         ...,\n",
      "         [ 5.2955e-02,  2.9446e-01,  2.0515e-01,  ..., -8.8076e-02,\n",
      "           1.0314e-01,  7.2400e-03],\n",
      "         [ 2.6677e-02,  1.9821e-01,  2.0492e-01,  ..., -3.2478e-02,\n",
      "           1.0460e-01,  7.3022e-02],\n",
      "         [ 1.6990e-02, -3.8479e-02,  1.9104e-01,  ...,  2.4962e-02,\n",
      "           3.5393e-02,  8.0125e-02]]], device='cuda:0')\n",
      "tensor([[[ 8.3748e-02,  2.4946e-01,  1.9332e-01,  ..., -8.7670e-02,\n",
      "           4.5718e-01,  4.7905e-01],\n",
      "         [ 1.1899e-01,  4.3256e-01,  2.6543e-01,  ..., -6.3481e-02,\n",
      "           7.2150e-01,  5.5870e-01],\n",
      "         [-4.0726e-01,  4.0883e-01,  6.9391e-01,  ..., -7.2635e-02,\n",
      "           9.9825e-02,  4.7873e-01],\n",
      "         ...,\n",
      "         [ 1.0737e-01,  2.2808e-01,  4.0358e-01,  ...,  9.3664e-02,\n",
      "           2.4525e-01,  1.7761e-01],\n",
      "         [-5.2468e-02,  3.8892e-01,  7.4516e-01,  ..., -5.7949e-02,\n",
      "           4.3959e-01,  1.5899e-01],\n",
      "         [ 9.8178e-02,  2.2203e-01,  4.2079e-01,  ..., -6.7041e-02,\n",
      "           2.6287e-01,  2.7852e-02]],\n",
      "\n",
      "        [[ 8.2188e-03,  3.0816e-02,  6.4230e-03,  ..., -1.1182e-01,\n",
      "           2.2399e-01,  3.6279e-01],\n",
      "         [ 3.4981e-01,  1.5014e-01, -2.6278e-01,  ...,  1.5235e-01,\n",
      "           6.3079e-01,  9.9274e-02],\n",
      "         [ 1.2514e-01,  2.2359e-01, -1.1084e-01,  ..., -3.1632e-01,\n",
      "           1.8725e-01, -1.7934e-01],\n",
      "         ...,\n",
      "         [ 1.3412e-01,  2.9881e-01,  7.0067e-02,  ...,  5.9323e-03,\n",
      "          -3.6835e-02,  1.8191e-02],\n",
      "         [-3.5923e-02,  1.0222e-01,  6.8254e-03,  ...,  1.0252e-01,\n",
      "          -1.6572e-01,  1.1402e-01],\n",
      "         [-8.1511e-02,  6.2543e-02,  3.7019e-03,  ...,  1.1874e-01,\n",
      "          -2.0171e-01,  1.1253e-01]],\n",
      "\n",
      "        [[ 4.8827e-02, -1.9775e-02,  1.5185e-01,  ..., -1.4295e-01,\n",
      "           4.9386e-01,  2.8059e-01],\n",
      "         [ 4.0030e-01,  1.9037e-01,  3.6699e-03,  ..., -1.1615e-01,\n",
      "           5.9523e-01,  2.6186e-01],\n",
      "         [-3.3963e-02,  2.7605e-01,  3.4828e-01,  ..., -2.6503e-01,\n",
      "           2.1177e-01,  1.5616e-01],\n",
      "         ...,\n",
      "         [ 4.7047e-02, -6.8789e-02,  1.6582e-01,  ..., -1.1333e-01,\n",
      "          -5.4735e-02, -3.2457e-02],\n",
      "         [ 3.2389e-02, -1.6148e-02,  1.9724e-01,  ..., -1.6406e-01,\n",
      "          -4.7055e-02, -5.9094e-02],\n",
      "         [ 2.3213e-02, -2.4439e-02,  3.3603e-01,  ..., -1.5077e-01,\n",
      "          -3.3133e-02, -4.8755e-02]],\n",
      "\n",
      "        ...,\n",
      "\n",
      "        [[-1.2470e-01,  1.6698e-01,  1.2507e-01,  ..., -8.8222e-02,\n",
      "           4.3738e-01,  5.2093e-01],\n",
      "         [-3.2245e-01,  4.1571e-01,  9.1429e-01,  ..., -1.1375e-01,\n",
      "           3.1382e-01,  9.6122e-01],\n",
      "         [-7.1715e-01, -1.0400e-01,  4.2217e-01,  ..., -1.6729e-01,\n",
      "          -2.4302e-01,  4.9521e-01],\n",
      "         ...,\n",
      "         [-2.0251e-01,  9.8727e-02,  3.0015e-01,  ...,  8.7316e-02,\n",
      "          -8.8012e-02, -3.3066e-04],\n",
      "         [-2.1371e-01,  9.6955e-02,  3.3075e-01,  ...,  8.3611e-02,\n",
      "          -5.3703e-02, -5.4477e-03],\n",
      "         [-3.6471e-01, -5.1652e-03,  4.0885e-01,  ..., -3.5282e-02,\n",
      "           1.1655e-02, -1.0044e-02]],\n",
      "\n",
      "        [[ 2.8753e-01,  4.8277e-02, -4.6460e-02,  ...,  2.1505e-02,\n",
      "           2.3098e-01,  2.7782e-01],\n",
      "         [ 6.0562e-01,  2.4890e-01, -2.0722e-01,  ...,  1.1821e-01,\n",
      "           5.2310e-01,  2.1651e-01],\n",
      "         [ 4.3210e-01,  4.1311e-01,  3.0475e-01,  ...,  1.4997e-02,\n",
      "           1.6180e-01, -6.9998e-02],\n",
      "         ...,\n",
      "         [ 1.7206e-01, -1.3024e-01,  3.4447e-01,  ..., -2.2087e-01,\n",
      "          -4.5041e-02, -2.6671e-02],\n",
      "         [ 1.6202e-01, -5.9141e-02, -6.9438e-02,  ..., -1.4758e-01,\n",
      "           3.2989e-02, -4.5126e-02],\n",
      "         [ 1.9514e-01, -7.9009e-02, -8.4190e-02,  ..., -5.6105e-02,\n",
      "           2.1574e-02,  3.3539e-02]],\n",
      "\n",
      "        [[-2.1409e-02, -6.9514e-02, -1.6544e-02,  ..., -2.8168e-02,\n",
      "           1.4933e-01,  2.2696e-01],\n",
      "         [ 3.5278e-01,  3.5688e-02, -2.4990e-01,  ..., -1.0555e-01,\n",
      "           5.2153e-01, -1.9057e-01],\n",
      "         [-2.0794e-01, -3.7678e-02, -3.2709e-01,  ...,  2.5598e-01,\n",
      "          -9.4750e-03, -8.6536e-03],\n",
      "         ...,\n",
      "         [-9.8277e-02,  1.9775e-01, -3.7042e-02,  ...,  7.9033e-02,\n",
      "          -3.0791e-02, -5.8162e-02],\n",
      "         [-8.1668e-02,  2.4910e-01, -9.2051e-03,  ...,  2.1494e-02,\n",
      "           1.2610e-02, -4.8875e-02],\n",
      "         [-1.7404e-01,  1.3483e-01,  1.9302e-01,  ...,  6.6695e-02,\n",
      "           7.5621e-03, -1.5036e-02]]], device='cuda:0')\n",
      "tensor([[[-6.2224e-02,  1.2046e-01, -1.8859e-01,  ..., -4.1491e-02,\n",
      "           3.6313e-01,  4.2338e-01],\n",
      "         [ 1.2530e-02,  5.7201e-01, -3.1508e-01,  ...,  3.9128e-02,\n",
      "           7.6312e-01,  3.3071e-01],\n",
      "         [-2.3591e-01,  7.2230e-01, -4.4427e-02,  ..., -1.4503e-01,\n",
      "           6.3633e-03, -1.3748e-01],\n",
      "         ...,\n",
      "         [ 6.9299e-02,  1.3303e-01, -1.3962e-01,  ...,  8.8652e-02,\n",
      "          -1.1383e-01,  4.1300e-02],\n",
      "         [ 1.0566e-01,  3.2218e-01, -3.5748e-02,  ...,  1.1095e-01,\n",
      "           3.0117e-02,  1.3936e-01],\n",
      "         [ 3.9771e-03,  4.3438e-01, -1.4136e-01,  ..., -5.3015e-03,\n",
      "           1.1924e-02,  3.1355e-03]],\n",
      "\n",
      "        [[ 3.1816e-01, -7.0632e-02, -1.5747e-01,  ..., -9.7811e-02,\n",
      "           2.5189e-01,  2.6612e-01],\n",
      "         [ 4.3598e-01,  4.4322e-01, -5.1051e-01,  ...,  2.5254e-01,\n",
      "           8.9231e-01,  1.5595e-01],\n",
      "         [ 6.4592e-01,  5.0529e-01, -1.7994e-01,  ...,  6.7492e-02,\n",
      "           6.0582e-01,  4.4694e-01],\n",
      "         ...,\n",
      "         [-3.4649e-01,  7.8161e-02,  3.1607e-01,  ..., -8.5518e-02,\n",
      "          -2.5638e-01,  3.2140e-01],\n",
      "         [ 7.9690e-02, -6.1473e-03, -3.9173e-02,  ...,  3.7384e-01,\n",
      "           2.5001e-03, -1.2852e-02],\n",
      "         [-5.5499e-02,  3.9590e-02,  4.9999e-02,  ...,  2.9296e-01,\n",
      "          -1.8702e-02,  4.3809e-02]],\n",
      "\n",
      "        [[-7.0062e-02,  1.7524e-01, -4.9586e-02,  ..., -3.1132e-02,\n",
      "           4.5040e-01,  4.2261e-01],\n",
      "         [ 6.1707e-02,  3.1577e-01, -1.9910e-02,  ...,  1.3500e-01,\n",
      "           6.7424e-01,  4.6239e-01],\n",
      "         [ 1.1816e-01, -3.0447e-01,  3.3976e-01,  ..., -3.4171e-02,\n",
      "           6.3532e-01, -1.7942e-01],\n",
      "         ...,\n",
      "         [-4.9524e-02,  2.3295e-01,  9.7545e-02,  ...,  1.1582e-01,\n",
      "          -7.9307e-02, -1.8536e-01],\n",
      "         [-3.1129e-02,  1.2686e-01,  1.5981e-01,  ...,  1.0302e-01,\n",
      "          -1.0479e-01, -1.0281e-01],\n",
      "         [-1.4710e-01,  5.8479e-02,  1.7226e-01,  ...,  9.8278e-02,\n",
      "           3.6522e-02, -2.0346e-01]],\n",
      "\n",
      "        ...,\n",
      "\n",
      "        [[-3.7147e-02,  4.5895e-05, -7.6103e-02,  ...,  4.6078e-02,\n",
      "           2.0839e-01,  2.9577e-01],\n",
      "         [ 2.0371e-01,  4.1058e-02, -8.4993e-02,  ..., -2.8094e-01,\n",
      "           4.3626e-01,  1.2398e-01],\n",
      "         [-1.7950e-01, -1.7396e-02, -6.0210e-02,  ...,  4.1791e-02,\n",
      "           1.7234e-01,  3.1073e-01],\n",
      "         ...,\n",
      "         [ 1.1992e-01,  2.3073e-01,  1.1561e-01,  ...,  1.9896e-01,\n",
      "           6.0286e-02,  2.0026e-01],\n",
      "         [ 1.0795e-01,  2.4262e-01,  1.2073e-01,  ...,  1.7808e-01,\n",
      "           5.3634e-02,  1.7949e-01],\n",
      "         [ 1.7881e-01,  1.8274e-01,  3.6240e-01,  ...,  1.4860e-01,\n",
      "           6.2167e-02,  2.1133e-01]],\n",
      "\n",
      "        [[ 2.9368e-02,  6.6178e-02,  9.1345e-02,  ..., -2.9870e-01,\n",
      "           3.0811e-01,  1.8186e-01],\n",
      "         [ 4.3222e-01,  5.9054e-02, -3.3782e-01,  ...,  2.1966e-01,\n",
      "           6.6935e-01,  4.8166e-01],\n",
      "         [ 2.3932e-01,  1.6032e-01,  2.9341e-01,  ..., -2.6922e-01,\n",
      "           3.5258e-01, -1.0960e-01],\n",
      "         ...,\n",
      "         [ 4.9109e-02,  1.2935e-01,  3.8276e-01,  ..., -2.3099e-01,\n",
      "          -3.1063e-02,  1.4019e-01],\n",
      "         [ 4.2091e-02,  1.4013e-01,  3.0967e-01,  ..., -2.4836e-01,\n",
      "           1.5549e-02,  1.5336e-01],\n",
      "         [-7.0247e-01,  4.6437e-01,  5.7860e-01,  ..., -1.3923e-01,\n",
      "           6.9726e-02, -1.8600e-01]],\n",
      "\n",
      "        [[-5.3328e-02,  1.7078e-01,  1.5265e-01,  ..., -1.6235e-01,\n",
      "           4.3538e-01,  2.2269e-01],\n",
      "         [-5.5896e-01,  4.0964e-01,  6.7702e-01,  ..., -8.4221e-02,\n",
      "           4.9984e-01,  5.1487e-01],\n",
      "         [-1.3204e-01, -1.3284e-01,  4.2380e-01,  ..., -1.2151e-01,\n",
      "           3.6829e-02,  5.5570e-02],\n",
      "         ...,\n",
      "         [ 2.3851e-01,  6.5733e-02,  2.6814e-01,  ...,  4.7604e-02,\n",
      "          -1.8383e-01, -3.1236e-01],\n",
      "         [-1.9026e-02,  2.7052e-01,  1.6837e-01,  ...,  1.8344e-01,\n",
      "           4.5685e-02, -2.2228e-01],\n",
      "         [-5.8993e-02,  1.1817e-01,  4.4672e-01,  ..., -1.2632e-01,\n",
      "           1.2860e-01, -5.6692e-03]]], device='cuda:0')\n",
      "tensor([[[ 0.0800, -0.0119, -0.0309,  ...,  0.1181,  0.3963,  0.1941],\n",
      "         [ 0.4775,  0.4758, -0.2626,  ...,  0.2593,  0.7247,  0.1281],\n",
      "         [-0.2150,  0.5117,  0.1771,  ...,  0.1114,  0.0436,  0.4290],\n",
      "         ...,\n",
      "         [ 0.2083,  0.2276,  0.0568,  ...,  0.1858, -0.0275, -0.0890],\n",
      "         [ 0.1203,  0.0767,  0.0064,  ...,  0.2453, -0.0277, -0.1399],\n",
      "         [ 0.0137,  0.2730,  0.3070,  ...,  0.1620, -0.0178,  0.1097]],\n",
      "\n",
      "        [[ 0.0372,  0.2625,  0.0608,  ..., -0.0590,  0.3206,  0.1591],\n",
      "         [ 0.4486,  0.5333,  0.0794,  ..., -0.0039,  0.4272,  0.1543],\n",
      "         [ 0.1039,  0.4001,  0.6484,  ..., -0.1008,  0.1227, -0.2365],\n",
      "         ...,\n",
      "         [ 0.1012,  0.4259,  0.1234,  ...,  0.2865, -0.0128, -0.0837],\n",
      "         [ 0.1490,  0.3737,  0.1248,  ...,  0.3392,  0.0342, -0.0404],\n",
      "         [-0.0181,  0.4040,  0.3960,  ...,  0.1986,  0.1089, -0.0280]],\n",
      "\n",
      "        [[ 0.0932, -0.0870, -0.0836,  ...,  0.1045,  0.2435,  0.3742],\n",
      "         [ 0.4342,  0.1089, -0.3123,  ...,  0.2141,  0.5271,  0.0446],\n",
      "         [-0.1386,  0.0224, -0.1447,  ...,  0.4195,  0.0698,  0.3148],\n",
      "         ...,\n",
      "         [-0.1040, -0.1789, -0.0284,  ...,  0.2830, -0.0620,  0.0806],\n",
      "         [-0.0636, -0.1517,  0.0145,  ...,  0.2461, -0.0441,  0.1304],\n",
      "         [-0.0518, -0.1861,  0.0261,  ...,  0.2764, -0.0270,  0.1469]],\n",
      "\n",
      "        ...,\n",
      "\n",
      "        [[ 0.0424, -0.0979,  0.0362,  ..., -0.0522,  0.5102, -0.0130],\n",
      "         [ 0.3748, -0.1266,  0.2007,  ..., -0.3233,  0.8306, -0.1092],\n",
      "         [ 0.3684,  0.0509,  0.2927,  ..., -0.4070,  0.0845, -0.2677],\n",
      "         ...,\n",
      "         [ 0.0785,  0.1364,  0.1687,  ..., -0.0993,  0.1074, -0.1738],\n",
      "         [ 0.0568,  0.0557,  0.1808,  ..., -0.0562,  0.1456, -0.1845],\n",
      "         [ 0.0285,  0.1404,  0.3402,  ..., -0.2309,  0.1193, -0.1892]],\n",
      "\n",
      "        [[ 0.0937, -0.0032,  0.0735,  ..., -0.0548,  0.5490,  0.3192],\n",
      "         [ 0.2515,  0.1750, -0.2129,  ...,  0.0816,  0.8033,  0.4990],\n",
      "         [ 0.2448,  0.1300,  0.1650,  ...,  0.1308,  0.5711,  0.6516],\n",
      "         ...,\n",
      "         [ 0.1501,  0.0446,  0.1628,  ..., -0.1207,  0.3419, -0.0917],\n",
      "         [ 0.1308,  0.0863,  0.2819,  ..., -0.1551,  0.2093, -0.1201],\n",
      "         [ 0.0284, -0.0113,  0.2357,  ..., -0.1650,  0.1590, -0.2284]],\n",
      "\n",
      "        [[-0.0748,  0.0402, -0.0410,  ...,  0.0772,  0.3211,  0.1874],\n",
      "         [ 0.0705,  0.4048, -0.1986,  ...,  0.1314,  0.5743,  0.0416],\n",
      "         [-0.0827,  0.6329,  0.0523,  ...,  0.1536,  0.1778,  0.1914],\n",
      "         ...,\n",
      "         [-0.1373,  0.0270,  0.0221,  ...,  0.3580, -0.0549, -0.1429],\n",
      "         [-0.0876, -0.0084, -0.0191,  ...,  0.3493, -0.0825, -0.0887],\n",
      "         [-0.0141,  0.2544,  0.0713,  ...,  0.2653, -0.2235, -0.1196]]],\n",
      "       device='cuda:0')\n",
      "tensor([[[-0.0057,  0.0738, -0.0924,  ...,  0.0341,  0.2919,  0.1773],\n",
      "         [ 0.3321,  0.5191, -0.1671,  ...,  0.0338,  0.6288,  0.2597],\n",
      "         [-0.3212,  0.6429,  0.2669,  ...,  0.0582, -0.1198,  0.6141],\n",
      "         ...,\n",
      "         [ 0.1276,  0.4100,  0.0573,  ..., -0.0196,  0.1054, -0.0457],\n",
      "         [ 0.1368,  0.3448,  0.1075,  ..., -0.0226,  0.1525,  0.0759],\n",
      "         [ 0.0377, -0.0158, -0.1002,  ...,  0.2024, -0.0107,  0.0869]],\n",
      "\n",
      "        [[-0.0180, -0.1003,  0.1135,  ..., -0.0715,  0.2263,  0.2573],\n",
      "         [ 0.3376,  0.0405,  0.1449,  ..., -0.0731,  0.4607,  0.2036],\n",
      "         [-0.4036,  0.0736,  0.4761,  ..., -0.2112, -0.0218,  0.2217],\n",
      "         ...,\n",
      "         [-0.1976, -0.1521,  0.1239,  ..., -0.2659,  0.2040, -0.1776],\n",
      "         [-0.2238, -0.1582,  0.1120,  ..., -0.2780,  0.2469, -0.1841],\n",
      "         [-0.2123, -0.0584,  0.3297,  ..., -0.3129,  0.0686,  0.0184]],\n",
      "\n",
      "        [[-0.0756,  0.1361, -0.1172,  ...,  0.1469,  0.3420,  0.3960],\n",
      "         [ 0.3417,  0.2009, -0.1917,  ...,  0.2168,  0.6952,  0.2430],\n",
      "         [ 0.2044,  0.1801, -0.0959,  ...,  0.1289,  0.0318,  0.3791],\n",
      "         ...,\n",
      "         [-0.0418,  0.1720,  0.0929,  ...,  0.2346, -0.0971, -0.1507],\n",
      "         [-0.0410,  0.1067,  0.1514,  ...,  0.1686, -0.0294, -0.0529],\n",
      "         [-0.0063, -0.0162,  0.0774,  ...,  0.3150, -0.1013, -0.1924]],\n",
      "\n",
      "        ...,\n",
      "\n",
      "        [[ 0.0165,  0.3478, -0.3821,  ...,  0.0469,  0.4408,  0.1905],\n",
      "         [ 0.0080,  0.6386, -0.3090,  ...,  0.1722,  0.5377,  0.1904],\n",
      "         [-0.2179,  0.5838,  0.0333,  ..., -0.0208, -0.0423,  0.2560],\n",
      "         ...,\n",
      "         [-0.1242,  0.2416, -0.0480,  ...,  0.0400, -0.0157,  0.0603],\n",
      "         [-0.0345,  0.3361, -0.1224,  ..., -0.0868,  0.0061, -0.1727],\n",
      "         [-0.0870,  0.3063, -0.0824,  ..., -0.0750, -0.0420, -0.1190]],\n",
      "\n",
      "        [[ 0.0662,  0.1199, -0.1387,  ...,  0.0439,  0.2649,  0.1958],\n",
      "         [ 0.3791,  0.4662, -0.2784,  ...,  0.1908,  0.6064, -0.0444],\n",
      "         [ 0.0088,  0.6192,  0.1465,  ...,  0.1288,  0.2331, -0.2316],\n",
      "         ...,\n",
      "         [ 0.0710,  0.1088, -0.0784,  ...,  0.3295,  0.0248,  0.0272],\n",
      "         [ 0.0484,  0.1294, -0.0797,  ...,  0.3311,  0.0200,  0.0416],\n",
      "         [-0.1877,  0.3055,  0.1043,  ...,  0.2816,  0.3593, -0.0548]],\n",
      "\n",
      "        [[-0.1509,  0.3676,  0.0462,  ..., -0.1575,  0.4434,  0.5826],\n",
      "         [-0.4407,  0.6095,  0.6077,  ..., -0.2254,  0.5507,  0.8680],\n",
      "         [-0.5694,  0.2426,  0.2057,  ..., -0.2688, -0.1025,  0.3211],\n",
      "         ...,\n",
      "         [-0.0734,  0.3584,  0.2414,  ..., -0.0566, -0.1202,  0.1260],\n",
      "         [-0.0950,  0.2805,  0.3454,  ..., -0.0536, -0.1540,  0.1954],\n",
      "         [-0.2113,  0.2508,  0.4013,  ..., -0.1747, -0.1753,  0.1534]]],\n",
      "       device='cuda:0')\n",
      "tensor([[[ 0.2860,  0.2136, -0.0150,  ..., -0.2066,  0.3254,  0.3113],\n",
      "         [ 0.5742,  0.3690, -0.1636,  ..., -0.1392,  0.5938, -0.0800],\n",
      "         [-0.1667,  0.4882,  0.3042,  ..., -0.0251,  0.1864, -0.3880],\n",
      "         ...,\n",
      "         [ 0.4218,  0.1426,  0.1259,  ..., -0.2456,  0.0128,  0.0267],\n",
      "         [ 0.4822,  0.0274, -0.0375,  ..., -0.0553, -0.0050, -0.0171],\n",
      "         [ 0.4907,  0.2357,  0.1101,  ..., -0.0697,  0.0817, -0.0043]],\n",
      "\n",
      "        [[-0.0444,  0.2803, -0.0263,  ..., -0.0409,  0.5118,  0.4848],\n",
      "         [ 0.1559,  0.3244,  0.0962,  ..., -0.0432,  0.4752,  0.5104],\n",
      "         [ 0.3161,  0.4802,  0.0653,  ..., -0.1132,  0.0663,  0.2519],\n",
      "         ...,\n",
      "         [ 0.0938,  0.3096,  0.0825,  ..., -0.0661, -0.0243,  0.0511],\n",
      "         [ 0.1239,  0.1310, -0.0362,  ...,  0.0813,  0.0654, -0.0157],\n",
      "         [ 0.1776,  0.2217,  0.0623,  ..., -0.1134, -0.0511,  0.0937]],\n",
      "\n",
      "        [[-0.0136,  0.1088, -0.1496,  ..., -0.0689,  0.3943,  0.3089],\n",
      "         [ 0.2797,  0.3590, -0.2442,  ..., -0.0765,  0.6940,  0.1964],\n",
      "         [-0.4116,  0.3096,  0.0773,  ..., -0.2894,  0.2272,  0.4481],\n",
      "         ...,\n",
      "         [ 0.0450,  0.2491, -0.0270,  ..., -0.0055,  0.1027,  0.0300],\n",
      "         [-0.0076,  0.1793, -0.0128,  ...,  0.0396,  0.1111,  0.1283],\n",
      "         [-0.3086,  0.1753,  0.0788,  ..., -0.1321,  0.0504,  0.2890]],\n",
      "\n",
      "        ...,\n",
      "\n",
      "        [[-0.0499, -0.0085, -0.0432,  ...,  0.0266,  0.2515,  0.0728],\n",
      "         [ 0.5241,  0.0408, -0.3303,  ...,  0.1764,  0.6461, -0.1811],\n",
      "         [ 0.2095,  0.1218,  0.2140,  ..., -0.2064, -0.4424, -0.0406],\n",
      "         ...,\n",
      "         [-0.1068,  0.0666,  0.1519,  ..., -0.0558,  0.0039, -0.1624],\n",
      "         [-0.1383, -0.2759,  0.2598,  ..., -0.2723,  0.0206, -0.0903],\n",
      "         [-0.1406, -0.4024,  0.3003,  ..., -0.1622,  0.0085, -0.0859]],\n",
      "\n",
      "        [[ 0.2351,  0.0035, -0.1005,  ..., -0.0095,  0.2982,  0.0685],\n",
      "         [ 0.5121,  0.0971, -0.2877,  ..., -0.0657,  0.5409, -0.1761],\n",
      "         [-0.1587,  0.2357, -0.0885,  ..., -0.2474,  0.2384, -0.5771],\n",
      "         ...,\n",
      "         [ 0.2994,  0.2109,  0.0458,  ..., -0.0866, -0.0167, -0.1030],\n",
      "         [ 0.3091,  0.0405, -0.0259,  ...,  0.0641,  0.0094, -0.1544],\n",
      "         [ 0.3238,  0.1228,  0.1045,  ..., -0.0750,  0.0537, -0.1201]],\n",
      "\n",
      "        [[-0.0696,  0.3046, -0.2367,  ...,  0.1403,  0.3474,  0.4106],\n",
      "         [ 0.3130,  0.3907, -0.3558,  ...,  0.1403,  0.8169,  0.5022],\n",
      "         [ 0.1160,  0.5900, -0.0764,  ..., -0.5330,  0.5062,  0.2973],\n",
      "         ...,\n",
      "         [-0.1032,  0.1308, -0.2012,  ...,  0.2227, -0.0155,  0.0065],\n",
      "         [-0.1077,  0.1996, -0.1545,  ...,  0.1006, -0.0617,  0.0071],\n",
      "         [-0.1543,  0.2738,  0.2548,  ..., -0.0273,  0.0779, -0.0755]]],\n",
      "       device='cuda:0')\n",
      "tensor([[[ 0.0205,  0.0333, -0.1523,  ..., -0.0150,  0.2528,  0.2382],\n",
      "         [ 0.4166,  0.4063, -0.2660,  ...,  0.0597,  0.7042,  0.2174],\n",
      "         [-0.2381,  0.4716,  0.3030,  ...,  0.0398,  0.0817,  0.2785],\n",
      "         ...,\n",
      "         [ 0.1690,  0.2509,  0.0900,  ...,  0.0730,  0.1546, -0.1584],\n",
      "         [ 0.2155,  0.2039,  0.1792,  ...,  0.0956,  0.2705,  0.0201],\n",
      "         [-0.0329,  0.1251, -0.1045,  ...,  0.1845, -0.0012, -0.0153]],\n",
      "\n",
      "        [[-0.1339,  0.1322,  0.2527,  ..., -0.0915,  0.3937,  0.5531],\n",
      "         [-0.3620,  0.4858,  0.9242,  ..., -0.0795,  0.3434,  0.8126],\n",
      "         [-0.7485,  0.0432,  0.3619,  ...,  0.0509, -0.2165,  0.3303],\n",
      "         ...,\n",
      "         [-0.1891,  0.0799,  0.3694,  ...,  0.0934, -0.1634, -0.0170],\n",
      "         [-0.1844,  0.0904,  0.4505,  ...,  0.0849, -0.1300,  0.0517],\n",
      "         [-0.0919,  0.0406,  0.2742,  ...,  0.1354, -0.2104, -0.1462]],\n",
      "\n",
      "        [[ 0.0587,  0.0575, -0.1499,  ..., -0.0186,  0.2051,  0.2254],\n",
      "         [ 0.3665,  0.1878, -0.1420,  ..., -0.0370,  0.4831,  0.1059],\n",
      "         [-0.3236,  0.3576,  0.1169,  ...,  0.0736, -0.0504,  0.1499],\n",
      "         ...,\n",
      "         [ 0.0615, -0.0233, -0.0840,  ...,  0.2226, -0.0352, -0.0314],\n",
      "         [ 0.0462, -0.0373, -0.0707,  ...,  0.2127, -0.0323, -0.0092],\n",
      "         [-0.1383,  0.1058,  0.1542,  ..., -0.0157, -0.1470,  0.1220]],\n",
      "\n",
      "        ...,\n",
      "\n",
      "        [[ 0.0464, -0.1055,  0.2079,  ..., -0.2014,  0.3812,  0.0891],\n",
      "         [ 0.5362, -0.0054, -0.0013,  ..., -0.2187,  0.6877,  0.2484],\n",
      "         [ 0.2630,  0.4811,  0.3005,  ..., -0.3476,  0.1132,  0.0886],\n",
      "         ...,\n",
      "         [ 0.0744, -0.1348,  0.2193,  ..., -0.0103,  0.0218, -0.2618],\n",
      "         [ 0.0761, -0.1094,  0.2303,  ..., -0.0048,  0.0179, -0.2196],\n",
      "         [ 0.0596, -0.0180,  0.3456,  ..., -0.3566, -0.0240, -0.0304]],\n",
      "\n",
      "        [[ 0.2012,  0.0144, -0.0733,  ..., -0.1706,  0.3808,  0.2802],\n",
      "         [ 0.2350,  0.3802,  0.0017,  ..., -0.0286,  0.6058,  0.1816],\n",
      "         [-0.4036,  0.4929,  0.2564,  ...,  0.1001, -0.1414,  0.3240],\n",
      "         ...,\n",
      "         [ 0.6646, -0.0911,  0.0772,  ..., -0.0914,  0.0279, -0.1712],\n",
      "         [ 0.6110, -0.0373,  0.1173,  ..., -0.2093,  0.0488, -0.2425],\n",
      "         [ 0.3420,  0.0703,  0.1541,  ..., -0.2651, -0.0227, -0.0465]],\n",
      "\n",
      "        [[ 0.0649,  0.0246, -0.0475,  ..., -0.1159,  0.3729,  0.1588],\n",
      "         [ 0.3680,  0.4911, -0.1180,  ...,  0.0221,  0.7604,  0.0464],\n",
      "         [-0.2688,  0.6525,  0.1643,  ..., -0.0514,  0.0052,  0.3651],\n",
      "         ...,\n",
      "         [ 0.1262,  0.0121,  0.2392,  ..., -0.3117,  0.1589,  0.0104],\n",
      "         [ 0.1953,  0.2210,  0.3550,  ..., -0.2055,  0.2483, -0.1549],\n",
      "         [ 0.2359,  0.1256,  0.1419,  ..., -0.0093,  0.1774,  0.2223]]],\n",
      "       device='cuda:0')\n",
      "tensor([[[ 1.4244e-01,  2.9699e-01, -2.7665e-01,  ...,  1.2085e-01,\n",
      "           4.0424e-01,  3.6986e-01],\n",
      "         [ 5.7971e-01,  4.6903e-01, -5.3974e-01,  ...,  3.9664e-01,\n",
      "           7.7408e-01, -2.5165e-04],\n",
      "         [ 4.6255e-01,  5.5970e-01, -2.1351e-01,  ...,  3.1203e-01,\n",
      "           3.7950e-01,  2.5209e-01],\n",
      "         ...,\n",
      "         [ 3.1884e-01,  3.5803e-01, -3.5931e-02,  ...,  6.5933e-02,\n",
      "           2.0348e-02,  1.0836e-02],\n",
      "         [ 2.8278e-01,  1.8176e-01, -7.3447e-02,  ...,  1.3981e-01,\n",
      "           1.1640e-01,  3.5320e-02],\n",
      "         [ 5.0734e-01,  3.8208e-01, -1.0661e-01,  ...,  3.3882e-01,\n",
      "           2.9784e-01,  6.1829e-02]],\n",
      "\n",
      "        [[ 2.1605e-03, -5.8587e-02, -7.7737e-02,  ...,  7.4644e-04,\n",
      "           2.1605e-01,  3.0819e-01],\n",
      "         [ 3.5992e-01, -2.2886e-02, -2.2769e-01,  ..., -2.0864e-01,\n",
      "           4.2221e-01, -3.7385e-03],\n",
      "         [-2.7840e-01, -1.2138e-01, -2.3048e-01,  ...,  2.0030e-01,\n",
      "           1.4641e-02,  8.3823e-02],\n",
      "         ...,\n",
      "         [ 2.5210e-02,  1.8189e-01, -1.0640e-01,  ...,  5.0850e-02,\n",
      "           7.7402e-03,  1.7855e-02],\n",
      "         [ 2.4012e-02,  5.2625e-02,  2.3603e-03,  ...,  5.2818e-02,\n",
      "          -1.0300e-01,  1.5172e-01],\n",
      "         [ 4.9812e-02, -7.5871e-02, -2.6988e-02,  ...,  1.2662e-01,\n",
      "          -1.2724e-01,  1.7787e-01]],\n",
      "\n",
      "        [[-7.6881e-04,  2.7959e-02,  2.3128e-01,  ...,  5.3527e-02,\n",
      "           4.4083e-01,  3.3915e-01],\n",
      "         [ 1.3058e-01, -1.7398e-02,  1.2647e-01,  ...,  7.9197e-02,\n",
      "           8.8377e-01,  2.7801e-01],\n",
      "         [-3.2774e-01,  2.0048e-01,  4.1740e-01,  ..., -6.3666e-02,\n",
      "           6.2806e-01,  4.2918e-01],\n",
      "         ...,\n",
      "         [-6.3752e-01,  1.4531e-01,  5.9731e-01,  ...,  2.6947e-01,\n",
      "          -8.4263e-02,  3.2708e-01],\n",
      "         [ 1.6744e-01, -1.8405e-01,  1.2010e-01,  ...,  2.3392e-01,\n",
      "          -3.4822e-01, -1.3877e-01],\n",
      "         [ 1.2490e-01, -7.6020e-02,  1.5184e-01,  ...,  1.5080e-01,\n",
      "          -2.7973e-01, -7.6752e-02]],\n",
      "\n",
      "        ...,\n",
      "\n",
      "        [[ 1.2196e-01,  8.9639e-02,  7.6465e-02,  ...,  1.4636e-01,\n",
      "           3.8438e-01,  1.2226e-01],\n",
      "         [ 3.6670e-01,  4.4620e-01, -1.4504e-01,  ...,  1.5402e-01,\n",
      "           6.8156e-01,  1.2731e-01],\n",
      "         [-4.5128e-01,  5.3918e-01,  4.3170e-01,  ...,  1.7894e-02,\n",
      "          -2.5575e-01,  2.6659e-01],\n",
      "         ...,\n",
      "         [ 1.7074e-01,  7.1042e-02,  2.5800e-01,  ...,  1.6682e-01,\n",
      "          -7.0005e-02, -7.0716e-02],\n",
      "         [ 1.5578e-01,  8.0628e-02,  2.4810e-01,  ...,  1.5708e-01,\n",
      "          -1.0283e-01, -1.2517e-02],\n",
      "         [ 1.3891e-01,  4.3173e-02,  2.4585e-01,  ...,  2.6478e-01,\n",
      "          -8.4730e-02, -2.1683e-02]],\n",
      "\n",
      "        [[-3.8673e-02,  1.7337e-01, -1.3878e-01,  ...,  1.5301e-03,\n",
      "           2.1945e-01,  2.5062e-01],\n",
      "         [ 3.4905e-01,  1.1115e-01, -3.6377e-01,  ..., -9.0143e-02,\n",
      "           7.3134e-01, -1.0642e-01],\n",
      "         [ 9.3083e-02,  3.8996e-01, -2.9030e-01,  ..., -1.2622e-01,\n",
      "          -6.7210e-02,  1.0156e-01],\n",
      "         ...,\n",
      "         [ 7.4575e-02,  3.2723e-01,  1.5135e-01,  ...,  3.5919e-02,\n",
      "          -7.4163e-02,  1.7480e-01],\n",
      "         [-4.6109e-02,  1.2042e-01, -1.7204e-02,  ..., -5.7074e-02,\n",
      "          -1.4509e-01,  3.7242e-01],\n",
      "         [ 7.2649e-04, -1.4402e-01,  1.2313e-02,  ..., -2.1508e-02,\n",
      "          -5.1638e-02,  3.0413e-01]],\n",
      "\n",
      "        [[ 1.2232e-01,  8.0373e-02, -1.1229e-01,  ..., -1.1371e-02,\n",
      "           2.7681e-01,  2.5255e-01],\n",
      "         [ 6.1116e-01,  1.2804e-01, -3.2316e-01,  ...,  7.3712e-02,\n",
      "           6.3735e-01, -7.4852e-04],\n",
      "         [-4.6487e-02,  1.6227e-01, -2.6288e-01,  ..., -6.4325e-02,\n",
      "           4.4367e-01, -3.9059e-01],\n",
      "         ...,\n",
      "         [ 2.9173e-01,  1.2803e-01, -9.3195e-03,  ...,  7.3546e-02,\n",
      "           2.3767e-01, -2.3185e-01],\n",
      "         [ 2.9059e-01,  9.7295e-02, -1.3185e-02,  ...,  8.4627e-02,\n",
      "           2.4391e-01, -2.2711e-01],\n",
      "         [ 2.1505e-01,  1.0849e-01,  1.6131e-02,  ...,  2.0099e-02,\n",
      "           1.2168e-01, -7.2284e-02]]], device='cuda:0')\n",
      "tensor([[[ 1.5496e-01,  1.7849e-01, -1.9703e-01,  ...,  2.6707e-01,\n",
      "           4.7708e-01,  3.1368e-01],\n",
      "         [ 3.8868e-01,  4.1649e-01, -1.8696e-01,  ...,  2.3417e-01,\n",
      "           6.5289e-01,  2.4520e-01],\n",
      "         [-2.4154e-02,  5.5294e-01,  3.7975e-01,  ...,  2.0365e-01,\n",
      "           3.6078e-01,  1.8485e-01],\n",
      "         ...,\n",
      "         [ 1.2277e-01,  9.9044e-02, -1.3689e-01,  ...,  2.2270e-01,\n",
      "          -1.3241e-01, -7.7072e-02],\n",
      "         [ 1.3166e-01,  5.4467e-02, -1.3120e-01,  ...,  2.6363e-01,\n",
      "          -6.8090e-02, -9.8176e-02],\n",
      "         [ 1.3398e-01,  5.4283e-02, -9.6181e-02,  ...,  2.6683e-01,\n",
      "          -4.2467e-02, -1.0581e-01]],\n",
      "\n",
      "        [[ 1.0367e-02,  4.7444e-02,  1.2505e-01,  ..., -3.0910e-02,\n",
      "           2.4308e-01,  3.3704e-01],\n",
      "         [ 3.8064e-01,  1.8359e-01,  1.3393e-01,  ...,  2.4134e-02,\n",
      "           6.4146e-01,  4.2645e-01],\n",
      "         [-1.0369e-01,  1.9073e-01,  3.5775e-01,  ..., -1.9027e-01,\n",
      "           7.1003e-02,  5.3178e-01],\n",
      "         ...,\n",
      "         [ 6.3173e-02,  1.9848e-01,  2.9929e-01,  ..., -5.1325e-02,\n",
      "           2.1183e-01,  6.3736e-03],\n",
      "         [ 1.4082e-02,  3.0009e-02,  2.5474e-01,  ...,  1.1978e-01,\n",
      "           2.0405e-01, -2.7059e-02],\n",
      "         [-2.3720e-01,  5.1148e-02,  4.2113e-01,  ..., -5.4883e-02,\n",
      "           1.0859e-01,  2.4004e-01]],\n",
      "\n",
      "        [[-1.3891e-01, -1.8431e-02, -3.4019e-04,  ..., -4.1178e-02,\n",
      "           3.8084e-01,  1.1459e-01],\n",
      "         [ 3.7491e-01,  3.2556e-01, -3.6112e-02,  ..., -3.6130e-02,\n",
      "           6.8509e-01, -7.6177e-02],\n",
      "         [-2.8720e-01,  5.7972e-01,  4.7978e-01,  ..., -2.1961e-01,\n",
      "          -8.5218e-02,  1.3030e-01],\n",
      "         ...,\n",
      "         [-7.5443e-02,  2.7649e-01,  2.8283e-01,  ..., -7.1179e-02,\n",
      "           8.7429e-02, -6.5987e-02],\n",
      "         [-1.0869e-01,  1.7330e-01,  2.9663e-01,  ..., -5.5172e-02,\n",
      "           1.2230e-01,  2.5170e-03],\n",
      "         [-2.4497e-01,  5.5096e-02,  3.6723e-01,  ..., -1.0924e-01,\n",
      "          -1.6006e-02,  5.0342e-03]],\n",
      "\n",
      "        ...,\n",
      "\n",
      "        [[-1.1744e-01,  2.5938e-01, -4.1982e-02,  ..., -4.1627e-02,\n",
      "           4.7084e-01,  5.7136e-01],\n",
      "         [ 1.9213e-01,  3.0701e-01, -9.1726e-03,  ...,  2.7199e-02,\n",
      "           6.6114e-01,  7.1871e-01],\n",
      "         [ 4.4135e-01, -3.7474e-02,  1.5577e-02,  ...,  2.6748e-01,\n",
      "           6.5527e-01,  7.5385e-01],\n",
      "         ...,\n",
      "         [-2.2038e-01,  3.2839e-01, -1.2515e-02,  ...,  1.0893e-01,\n",
      "          -2.2537e-01, -1.3502e-02],\n",
      "         [-1.7964e-01,  2.8652e-01, -3.5387e-02,  ...,  1.6044e-01,\n",
      "          -2.1802e-01, -3.9945e-02],\n",
      "         [-1.8204e-01,  2.6219e-01,  2.9690e-02,  ...,  1.4739e-01,\n",
      "          -1.9171e-01,  1.0488e-02]],\n",
      "\n",
      "        [[-4.4428e-02, -9.7786e-02, -2.4480e-01,  ..., -1.0558e-01,\n",
      "           2.5512e-01,  1.9040e-01],\n",
      "         [-3.8136e-01, -7.1415e-02, -3.2135e-01,  ..., -2.1192e-01,\n",
      "           3.2013e-02, -9.1409e-02],\n",
      "         [ 1.9927e-01, -1.7192e-01, -2.9772e-01,  ..., -4.1995e-01,\n",
      "           1.3863e-01,  2.9635e-02],\n",
      "         ...,\n",
      "         [-4.8217e-02, -2.3039e-02, -1.2035e-01,  ..., -4.3786e-02,\n",
      "          -6.7048e-02, -4.3474e-02],\n",
      "         [ 4.5087e-03,  1.6392e-01,  1.3626e-02,  ..., -2.4309e-01,\n",
      "          -6.5343e-02, -1.4677e-01],\n",
      "         [ 8.6484e-02,  6.0289e-02,  5.6364e-02,  ..., -1.8478e-01,\n",
      "           6.7295e-02, -1.1435e-01]],\n",
      "\n",
      "        [[ 2.7250e-01,  4.4186e-02, -5.4419e-02,  ..., -1.3571e-01,\n",
      "           4.8855e-01,  1.0255e-01],\n",
      "         [ 4.6357e-01,  1.4654e-01, -3.4489e-01,  ...,  2.0926e-01,\n",
      "           7.9817e-01,  7.6408e-02],\n",
      "         [ 1.6041e-01,  4.0159e-01,  3.5784e-01,  ..., -3.7018e-01,\n",
      "           2.4079e-01, -3.5352e-01],\n",
      "         ...,\n",
      "         [ 2.0498e-01,  1.9816e-01,  6.6570e-02,  ..., -3.2874e-03,\n",
      "           5.0473e-02, -3.0030e-01],\n",
      "         [-6.0047e-03,  2.1828e-01,  2.4711e-01,  ..., -1.5626e-01,\n",
      "           9.5947e-02, -2.8877e-01],\n",
      "         [ 2.5300e-02,  2.6265e-01,  2.7552e-02,  ..., -2.6339e-01,\n",
      "          -1.4957e-02, -1.5154e-01]]], device='cuda:0')\n",
      "tensor([[[ 4.8282e-02,  8.2660e-02, -5.3387e-02,  ...,  8.8924e-02,\n",
      "           2.5805e-01,  2.1494e-01],\n",
      "         [ 3.3404e-01,  2.9308e-01, -2.5041e-01,  ...,  2.0562e-01,\n",
      "           5.4245e-01,  3.8705e-01],\n",
      "         [-3.0072e-01,  4.1099e-01,  1.4715e-01,  ...,  1.0212e-01,\n",
      "           1.6489e-01,  5.4246e-01],\n",
      "         ...,\n",
      "         [ 1.1967e-01,  6.1605e-02, -1.6920e-01,  ...,  3.7503e-01,\n",
      "           3.6822e-02, -6.8713e-02],\n",
      "         [ 1.3059e-01,  7.8492e-02, -1.7882e-01,  ...,  3.4507e-01,\n",
      "           3.9252e-02, -8.1320e-02],\n",
      "         [ 1.3957e-01,  4.2110e-02, -1.0904e-01,  ...,  3.4199e-01,\n",
      "          -6.6197e-03, -4.9511e-02]],\n",
      "\n",
      "        [[ 6.1630e-02, -2.7195e-02, -3.8604e-02,  ..., -1.4695e-01,\n",
      "           3.2036e-01,  3.7129e-01],\n",
      "         [ 5.4570e-01, -7.6375e-03, -2.2665e-01,  ..., -1.4255e-01,\n",
      "           6.4753e-01,  1.7028e-01],\n",
      "         [ 3.7704e-01,  3.1398e-01,  3.1584e-01,  ..., -4.0664e-01,\n",
      "           3.1533e-01,  9.8044e-02],\n",
      "         ...,\n",
      "         [ 2.4524e-01,  3.7215e-02,  2.7845e-02,  ..., -1.3358e-01,\n",
      "          -8.3204e-02,  1.3159e-01],\n",
      "         [ 2.7047e-01,  7.3319e-02,  5.4185e-02,  ..., -1.5141e-01,\n",
      "          -1.8101e-02,  7.7209e-02],\n",
      "         [ 2.6403e-01,  2.2576e-01,  1.7832e-01,  ..., -2.3714e-01,\n",
      "          -3.1313e-02,  3.5520e-02]],\n",
      "\n",
      "        [[ 1.7058e-01,  2.0794e-01, -3.8424e-01,  ...,  1.0998e-01,\n",
      "           3.5996e-01,  3.7298e-01],\n",
      "         [ 5.5574e-01,  3.0442e-01, -7.0543e-01,  ...,  3.1660e-01,\n",
      "           7.5304e-01, -5.6909e-02],\n",
      "         [ 3.1958e-01,  7.5825e-01, -4.6734e-01,  ..., -2.2652e-01,\n",
      "           3.6939e-02,  5.2331e-03],\n",
      "         ...,\n",
      "         [-1.0885e-01, -1.5189e-01,  1.9102e-01,  ...,  9.7748e-03,\n",
      "          -3.8502e-02, -2.3113e-02],\n",
      "         [-1.1013e-01, -3.6193e-01,  1.4312e-01,  ...,  6.3638e-02,\n",
      "           1.4721e-01,  1.3603e-01],\n",
      "         [-3.2958e-02,  1.5321e-01,  4.6572e-02,  ..., -1.0098e-01,\n",
      "          -3.3580e-01,  1.4173e-01]],\n",
      "\n",
      "        ...,\n",
      "\n",
      "        [[-1.4931e-01,  1.4859e-01, -2.8818e-01,  ...,  3.1116e-03,\n",
      "           4.1865e-01,  4.4589e-01],\n",
      "         [-1.2010e-01,  4.2357e-01,  6.9373e-01,  ..., -2.1620e-01,\n",
      "           3.4527e-01,  6.4557e-01],\n",
      "         [-3.0712e-01,  4.3162e-01,  3.2090e-01,  ..., -3.4571e-01,\n",
      "           1.2052e-01,  5.9314e-01],\n",
      "         ...,\n",
      "         [ 3.3532e-02,  1.7430e-01, -1.0382e-01,  ..., -7.8897e-02,\n",
      "          -7.6699e-02, -6.1356e-03],\n",
      "         [ 7.1845e-03,  1.6777e-01, -9.0779e-02,  ..., -7.2964e-02,\n",
      "          -9.8641e-02, -5.5881e-02],\n",
      "         [ 1.6199e-01,  9.3737e-02, -4.0722e-02,  ..., -7.1109e-02,\n",
      "           2.0035e-02,  7.3040e-02]],\n",
      "\n",
      "        [[ 1.4222e-01, -6.7494e-02, -1.5323e-01,  ...,  3.6449e-02,\n",
      "           1.6227e-01,  2.9928e-01],\n",
      "         [ 4.6123e-01,  7.4390e-02, -3.6540e-01,  ..., -8.2968e-02,\n",
      "           4.8345e-01, -1.5394e-01],\n",
      "         [-2.6497e-01,  2.7879e-02, -4.1611e-01,  ...,  3.7450e-01,\n",
      "           2.8605e-02, -1.9089e-02],\n",
      "         ...,\n",
      "         [ 9.6698e-03,  1.7618e-01, -1.7546e-01,  ...,  2.7349e-01,\n",
      "          -5.6894e-02,  3.1617e-02],\n",
      "         [ 4.2225e-02,  4.8676e-02, -1.5255e-01,  ...,  3.3374e-01,\n",
      "          -2.4215e-02,  3.6616e-02],\n",
      "         [-5.6953e-05,  5.1824e-02, -8.7371e-02,  ...,  3.0720e-01,\n",
      "          -3.6791e-02, -7.5336e-03]],\n",
      "\n",
      "        [[-5.3041e-02,  3.1328e-03, -4.4540e-02,  ..., -5.1563e-02,\n",
      "           3.2214e-01,  2.3885e-01],\n",
      "         [ 2.2655e-01,  3.7814e-01, -2.2977e-01,  ...,  1.0928e-01,\n",
      "           7.0584e-01,  2.4173e-01],\n",
      "         [-7.1525e-02,  4.0098e-01,  2.8312e-01,  ..., -3.3342e-01,\n",
      "           2.5903e-01,  3.2984e-01],\n",
      "         ...,\n",
      "         [ 1.3706e-01,  1.9001e-01,  7.7476e-02,  ..., -4.1118e-02,\n",
      "           5.1714e-02, -3.5725e-02],\n",
      "         [ 9.4320e-02,  1.8403e-01,  1.5718e-01,  ...,  2.0399e-02,\n",
      "           1.1107e-01,  2.7321e-02],\n",
      "         [ 1.2953e-02,  3.0796e-03,  1.4243e-01,  ..., -9.0980e-02,\n",
      "           6.1288e-02, -1.7383e-01]]], device='cuda:0')\n",
      "tensor([[[-1.2252e-03,  4.2222e-02,  1.1837e-01,  ..., -2.5192e-01,\n",
      "           2.0068e-01,  2.3740e-01],\n",
      "         [ 3.3384e-01,  5.2200e-01, -2.2170e-02,  ..., -1.1042e-01,\n",
      "           5.6555e-01,  1.6957e-01],\n",
      "         [-3.2559e-01,  6.5698e-01,  5.6724e-01,  ..., -2.1639e-02,\n",
      "          -2.2889e-02, -6.6060e-02],\n",
      "         ...,\n",
      "         [ 2.8617e-01, -5.7584e-03,  2.7275e-01,  ..., -6.2912e-02,\n",
      "           1.6356e-01,  9.3967e-02],\n",
      "         [ 1.7211e-01,  3.3169e-02,  3.6223e-01,  ..., -1.9221e-01,\n",
      "          -2.9597e-04,  4.3485e-02],\n",
      "         [-6.0641e-01,  1.6324e-01,  1.0640e+00,  ...,  6.8708e-02,\n",
      "           5.7211e-02,  1.7402e-01]],\n",
      "\n",
      "        [[ 1.2944e-02,  2.7272e-01, -8.7827e-02,  ..., -9.1109e-02,\n",
      "           2.7302e-01,  2.8758e-01],\n",
      "         [ 2.1592e-01,  4.9844e-01, -1.3309e-02,  ...,  7.1775e-03,\n",
      "           4.0127e-01,  3.3936e-01],\n",
      "         [ 1.0569e-01,  3.8189e-01,  2.1866e-01,  ..., -2.0465e-01,\n",
      "          -8.9299e-02,  1.1901e-01],\n",
      "         ...,\n",
      "         [ 1.4463e-01,  4.4088e-01,  1.8119e-02,  ..., -5.2867e-02,\n",
      "          -8.3260e-03, -1.3070e-01],\n",
      "         [ 1.0209e-01,  2.2791e-01, -8.2154e-02,  ...,  3.6510e-02,\n",
      "          -5.6665e-02, -5.6902e-02],\n",
      "         [ 8.7073e-02,  1.3028e-01, -7.2988e-02,  ...,  7.6509e-02,\n",
      "          -5.3822e-02, -4.0537e-02]],\n",
      "\n",
      "        [[-2.3682e-02,  2.2836e-01, -2.1886e-01,  ...,  1.1470e-01,\n",
      "           3.0123e-01,  5.5936e-01],\n",
      "         [ 2.0761e-02,  5.6827e-01, -1.1742e-01,  ...,  2.1476e-01,\n",
      "           4.3763e-01,  6.7400e-01],\n",
      "         [-3.6950e-01,  6.6637e-01,  2.5310e-01,  ...,  2.2615e-01,\n",
      "          -9.4447e-03,  7.7307e-01],\n",
      "         ...,\n",
      "         [ 5.8163e-03,  2.5449e-01, -2.6176e-02,  ...,  2.1263e-01,\n",
      "          -1.4344e-01,  4.4750e-03],\n",
      "         [ 1.4597e-02,  1.1479e-01, -1.2017e-01,  ...,  3.1276e-01,\n",
      "          -1.5984e-01, -6.1390e-03],\n",
      "         [ 3.7433e-03,  1.3655e-01,  1.2605e-01,  ...,  1.2597e-01,\n",
      "          -7.3279e-02, -1.3722e-03]],\n",
      "\n",
      "        ...,\n",
      "\n",
      "        [[-3.3982e-03, -9.5855e-02,  5.8435e-02,  ..., -4.2727e-02,\n",
      "           2.4959e-01,  3.0762e-01],\n",
      "         [ 4.9204e-01, -7.2605e-02, -3.7256e-02,  ..., -1.2006e-01,\n",
      "           5.8778e-01,  2.3217e-01],\n",
      "         [ 1.0966e-02,  9.4863e-02,  2.5513e-01,  ..., -1.8203e-01,\n",
      "           5.4648e-02,  1.9527e-01],\n",
      "         ...,\n",
      "         [ 1.9057e-01,  1.1514e-01,  1.6738e-01,  ..., -1.6210e-01,\n",
      "           1.2371e-01, -7.8553e-02],\n",
      "         [ 9.9915e-02, -7.8140e-02,  5.1873e-02,  ...,  4.9504e-02,\n",
      "           6.6950e-02, -1.2155e-01],\n",
      "         [-1.3172e-02,  2.7746e-02,  1.8603e-01,  ..., -1.1932e-01,\n",
      "           2.9972e-02,  4.0975e-02]],\n",
      "\n",
      "        [[ 6.6603e-02,  1.7334e-01,  1.2897e-01,  ...,  6.1186e-02,\n",
      "           2.9038e-01,  4.6844e-01],\n",
      "         [ 1.9777e-01,  3.2431e-01,  1.2978e-01,  ...,  1.6944e-01,\n",
      "           5.2824e-01,  7.3353e-01],\n",
      "         [-4.1046e-01,  5.6454e-01,  2.9221e-01,  ...,  2.3345e-01,\n",
      "           1.2537e-01,  8.6923e-01],\n",
      "         ...,\n",
      "         [ 1.5381e-01,  6.8019e-03,  2.2352e-01,  ...,  2.1252e-01,\n",
      "          -3.4887e-01, -1.4792e-01],\n",
      "         [ 1.5034e-01,  3.9760e-02,  1.8747e-01,  ...,  2.1218e-01,\n",
      "          -2.9881e-01, -1.3774e-01],\n",
      "         [-2.1777e-02,  4.5820e-02,  2.4960e-01,  ...,  1.1225e-01,\n",
      "           5.3717e-02,  1.7192e-01]],\n",
      "\n",
      "        [[ 1.6688e-02,  1.0127e-01, -7.3175e-03,  ..., -6.4936e-02,\n",
      "           3.4541e-01,  2.1994e-01],\n",
      "         [ 4.6035e-01,  2.9302e-01, -1.7082e-01,  ...,  1.0629e-01,\n",
      "           9.3671e-01,  2.1983e-01],\n",
      "         [ 6.1160e-01,  4.3225e-01,  2.9343e-01,  ..., -2.9165e-01,\n",
      "           1.4858e-01,  1.6272e-01],\n",
      "         ...,\n",
      "         [ 2.0546e-02,  1.6435e-01, -2.2997e-01,  ...,  5.4587e-02,\n",
      "           1.0639e-03, -4.4992e-02],\n",
      "         [ 1.8139e-03,  8.0669e-02, -2.3567e-01,  ...,  1.5697e-01,\n",
      "           6.4779e-02,  4.4062e-02],\n",
      "         [-1.9469e-02,  7.7917e-02, -2.0295e-01,  ...,  1.6364e-01,\n",
      "           7.7514e-02,  3.5534e-02]]], device='cuda:0')\n"
     ]
    },
    {
     "data": {
      "application/vnd.jupyter.widget-view+json": {
       "model_id": "629804dcab55406daa6c0a9095fc6a0c",
       "version_major": 2,
       "version_minor": 0
      },
      "text/plain": [
       "Map:   0%|          | 0/2000 [00:00<?, ? examples/s]"
      ]
     },
     "metadata": {},
     "output_type": "display_data"
    },
    {
     "name": "stdout",
     "output_type": "stream",
     "text": [
      "tensor([[[-0.1344,  0.2183,  0.1235,  ..., -0.0053,  0.4089,  0.5558],\n",
      "         [-0.3856,  0.5841,  0.8557,  ..., -0.1158,  0.3474,  0.8189],\n",
      "         [-0.6706,  0.2642,  0.3804,  ...,  0.1742, -0.1075,  0.3054],\n",
      "         ...,\n",
      "         [-0.0192,  0.2574,  0.7946,  ..., -0.0606, -0.0300,  0.0772],\n",
      "         [-0.3040,  0.3378,  0.4163,  ..., -0.0584, -0.0022, -0.1880],\n",
      "         [-0.1114,  0.4629,  0.4237,  ..., -0.0445, -0.0657, -0.2780]],\n",
      "\n",
      "        [[ 0.0801,  0.0826, -0.0419,  ...,  0.0544,  0.3219,  0.3625],\n",
      "         [ 0.2590,  0.2980, -0.3295,  ...,  0.0975,  0.6726,  0.4906],\n",
      "         [-0.3085,  0.4177,  0.3497,  ...,  0.0044,  0.1175,  0.6552],\n",
      "         ...,\n",
      "         [ 0.2877,  0.1912, -0.0093,  ..., -0.0049,  0.0910,  0.1408],\n",
      "         [ 0.2511,  0.1843,  0.0122,  ...,  0.0458,  0.1013,  0.1536],\n",
      "         [ 0.3906,  0.3358, -0.0083,  ...,  0.0643,  0.3086,  0.0023]],\n",
      "\n",
      "        [[ 0.0147,  0.1749,  0.0430,  ...,  0.0880,  0.3221,  0.2580],\n",
      "         [ 0.3866,  0.3713, -0.0738,  ...,  0.0805,  0.5664,  0.3022],\n",
      "         [-0.0676,  0.4770,  0.3172,  ...,  0.0854,  0.2202,  0.4592],\n",
      "         ...,\n",
      "         [ 0.1273,  0.0588,  0.1946,  ...,  0.4402,  0.1494,  0.1413],\n",
      "         [ 0.0891,  0.0876,  0.2100,  ...,  0.4436,  0.1560,  0.1545],\n",
      "         [ 0.0761,  0.1056,  0.1987,  ...,  0.4261,  0.1430,  0.1454]],\n",
      "\n",
      "        ...,\n",
      "\n",
      "        [[-0.0517,  0.1485, -0.0262,  ..., -0.0407,  0.2275,  0.4213],\n",
      "         [ 0.2785,  0.4551, -0.2553,  ...,  0.0992,  0.4550,  0.2647],\n",
      "         [-0.2877,  0.5226,  0.3004,  ...,  0.0667, -0.1051,  0.6628],\n",
      "         ...,\n",
      "         [-0.1202,  0.1792,  0.0059,  ..., -0.1805, -0.2254,  0.3187],\n",
      "         [-0.7632,  0.0087,  0.2551,  ..., -0.1079, -0.4557,  0.6557],\n",
      "         [-0.2388, -0.5265,  0.4865,  ..., -0.2473, -0.6496,  0.4982]],\n",
      "\n",
      "        [[-0.0954,  0.1286, -0.1788,  ..., -0.2492,  0.4570,  0.2957],\n",
      "         [ 0.1917,  0.2717, -0.3114,  ...,  0.1788,  0.8398,  0.2378],\n",
      "         [ 0.6512,  0.4311, -0.0487,  ..., -0.1887,  0.4744,  0.3728],\n",
      "         ...,\n",
      "         [-0.1979,  0.3150, -0.2333,  ..., -0.0961, -0.1710,  0.3816],\n",
      "         [-0.0868,  0.3924, -0.2944,  ...,  0.2108,  0.1897,  0.2342],\n",
      "         [-0.0146,  0.1969, -0.0850,  ...,  0.2202,  0.1022,  0.5291]],\n",
      "\n",
      "        [[-0.0726, -0.0703,  0.0132,  ..., -0.0684,  0.2316,  0.2331],\n",
      "         [ 0.1256,  0.1116,  0.0564,  ..., -0.0962,  0.5915,  0.2557],\n",
      "         [-0.6250,  0.0879,  0.5061,  ..., -0.1973, -0.0174,  0.4223],\n",
      "         ...,\n",
      "         [-0.0607, -0.0494,  0.0328,  ...,  0.0769,  0.0758,  0.1926],\n",
      "         [-0.1283, -0.0616,  0.0494,  ...,  0.0386,  0.0747,  0.1892],\n",
      "         [-0.1433, -0.0917,  0.0451,  ...,  0.0356,  0.0835,  0.1639]]],\n",
      "       device='cuda:0')\n",
      "tensor([[[ 0.0374,  0.1706,  0.0043,  ...,  0.0308,  0.3341,  0.3719],\n",
      "         [ 0.3172,  0.5367,  0.0306,  ..., -0.0035,  0.6039,  0.5361],\n",
      "         [-0.0347,  0.5591,  0.5813,  ...,  0.0983, -0.0104,  0.6607],\n",
      "         ...,\n",
      "         [ 0.1422,  0.2122,  0.0541,  ...,  0.2194,  0.0815,  0.1035],\n",
      "         [ 0.0825,  0.1985,  0.0662,  ...,  0.0864, -0.1442, -0.1223],\n",
      "         [ 0.1312,  0.1911, -0.0737,  ...,  0.1419,  0.1219,  0.0056]],\n",
      "\n",
      "        [[ 0.0575,  0.1441,  0.0757,  ..., -0.0198,  0.1365,  0.3670],\n",
      "         [ 0.4005,  0.5124, -0.1168,  ...,  0.0349,  0.5214,  0.2074],\n",
      "         [-0.4896,  0.5848,  0.4383,  ..., -0.0128, -0.1875,  0.1174],\n",
      "         ...,\n",
      "         [ 0.5443,  0.1405,  0.1203,  ...,  0.2606,  0.1142,  0.3941],\n",
      "         [ 0.3177,  0.2263,  0.4044,  ..., -0.0105, -0.1185,  0.1685],\n",
      "         [ 0.0625, -0.0322,  0.1293,  ..., -0.0479, -0.1821,  0.2538]],\n",
      "\n",
      "        [[-0.0925, -0.0812, -0.1282,  ...,  0.0209,  0.2415,  0.2166],\n",
      "         [ 0.1616,  0.0286, -0.2215,  ..., -0.1222,  0.5317, -0.0756],\n",
      "         [-0.3675,  0.0156, -0.3640,  ...,  0.3547,  0.2595,  0.0976],\n",
      "         ...,\n",
      "         [-0.0565, -0.0439, -0.2149,  ..., -0.0011, -0.1677,  0.1077],\n",
      "         [-0.1305,  0.1958, -0.1349,  ...,  0.0807,  0.0029,  0.1106],\n",
      "         [ 0.1559,  0.1184,  0.1988,  ..., -0.0414,  0.0345,  0.1140]],\n",
      "\n",
      "        ...,\n",
      "\n",
      "        [[ 0.1189,  0.0968, -0.0545,  ...,  0.0313,  0.1934,  0.3402],\n",
      "         [ 0.3915,  0.4088, -0.3033,  ...,  0.2507,  0.5819,  0.1815],\n",
      "         [-0.3225,  0.8400, -0.1621,  ..., -0.0554, -0.0657,  0.5306],\n",
      "         ...,\n",
      "         [ 0.3478,  0.1710,  0.0252,  ...,  0.0020,  0.3491, -0.3478],\n",
      "         [ 0.0229,  0.4308,  0.3355,  ...,  0.0777,  0.0135, -0.3028],\n",
      "         [-0.0409,  0.0579,  0.4110,  ...,  0.0491,  0.0458,  0.2539]],\n",
      "\n",
      "        [[ 0.1218,  0.0158, -0.1012,  ..., -0.1098,  0.2584,  0.1455],\n",
      "         [ 0.4879,  0.2753, -0.2112,  ...,  0.2109,  0.4891,  0.0652],\n",
      "         [ 0.6346,  0.3998,  0.3136,  ...,  0.0208,  0.0154, -0.2298],\n",
      "         ...,\n",
      "         [ 0.2268, -0.0251, -0.0385,  ..., -0.0425, -0.0630, -0.3237],\n",
      "         [ 0.4326,  0.1492, -0.0240,  ...,  0.1221,  0.0899,  0.1538],\n",
      "         [ 0.3722,  0.2681,  0.2372,  ..., -0.1247, -0.1871,  0.1058]],\n",
      "\n",
      "        [[ 0.0810, -0.0296, -0.0396,  ..., -0.0979,  0.1955,  0.2127],\n",
      "         [ 0.5040,  0.3121, -0.2956,  ...,  0.0975,  0.5553,  0.3783],\n",
      "         [ 0.1075,  0.3219,  0.3511,  ..., -0.0145,  0.0090,  0.6470],\n",
      "         ...,\n",
      "         [ 0.1362,  0.1012,  0.0949,  ..., -0.0406, -0.1525, -0.2772],\n",
      "         [ 0.2893,  0.0860,  0.0721,  ..., -0.0075,  0.0700, -0.1300],\n",
      "         [ 0.1811,  0.0424,  0.1742,  ...,  0.0380, -0.1324, -0.1700]]],\n",
      "       device='cuda:0')\n"
     ]
    },
    {
     "data": {
      "application/vnd.jupyter.widget-view+json": {
       "model_id": "41e41db545e44afca14b3524c0792181",
       "version_major": 2,
       "version_minor": 0
      },
      "text/plain": [
       "Map:   0%|          | 0/2000 [00:00<?, ? examples/s]"
      ]
     },
     "metadata": {},
     "output_type": "display_data"
    },
    {
     "name": "stdout",
     "output_type": "stream",
     "text": [
      "tensor([[[-0.0216,  0.1965,  0.0041,  ..., -0.0646,  0.4319,  0.5599],\n",
      "         [-0.4236,  0.4446,  0.6385,  ..., -0.1813,  0.5174,  0.8447],\n",
      "         [-0.3232, -0.1305,  0.0817,  ..., -0.1333, -0.0079,  0.1213],\n",
      "         ...,\n",
      "         [ 0.0801, -0.0661, -0.0128,  ..., -0.3176, -0.1904,  0.0036],\n",
      "         [ 0.2277, -0.0867, -0.0559,  ..., -0.2281, -0.2148, -0.3028],\n",
      "         [ 0.2139, -0.0760, -0.0265,  ..., -0.1154, -0.2775, -0.2979]],\n",
      "\n",
      "        [[-0.0165,  0.3204, -0.0225,  ..., -0.1050,  0.4260,  0.4670],\n",
      "         [-0.1441,  0.5567,  0.5354,  ...,  0.0413,  0.4918,  0.9446],\n",
      "         [-0.1491,  0.0316,  0.2680,  ...,  0.1760,  0.3562, -0.1429],\n",
      "         ...,\n",
      "         [-0.0496,  0.1777,  0.3578,  ..., -0.1996,  0.0088,  0.1758],\n",
      "         [ 0.1533,  0.1583,  0.1210,  ...,  0.1017,  0.0015, -0.2292],\n",
      "         [ 0.1613,  0.1854,  0.1490,  ...,  0.1085,  0.0087, -0.2382]],\n",
      "\n",
      "        [[-0.1114,  0.0211, -0.2773,  ..., -0.0317,  0.2478,  0.2088],\n",
      "         [ 0.3072,  0.6437, -0.4697,  ...,  0.2977,  0.6310,  0.1476],\n",
      "         [ 0.1960,  0.0296, -0.0493,  ...,  0.1006,  0.2019, -0.0748],\n",
      "         ...,\n",
      "         [ 0.0075,  0.3933, -0.4116,  ...,  0.0021,  0.0414, -0.1858],\n",
      "         [ 0.2203,  0.4572, -0.1666,  ...,  0.0105,  0.2106, -0.1357],\n",
      "         [ 0.4438,  0.3863,  0.7776,  ..., -0.4816, -0.1830, -0.5003]],\n",
      "\n",
      "        ...,\n",
      "\n",
      "        [[ 0.0382,  0.2177, -0.0170,  ...,  0.2458,  0.2349,  0.1997],\n",
      "         [ 0.6505,  0.6735, -0.0852,  ...,  0.0592,  0.5956,  0.0787],\n",
      "         [ 0.5201,  0.5004,  0.2671,  ...,  0.0810, -0.1071, -0.1592],\n",
      "         ...,\n",
      "         [-0.1410,  0.0945,  0.1421,  ...,  0.0200, -0.1113,  0.2745],\n",
      "         [-0.1023,  0.2225,  0.2251,  ...,  0.1512, -0.0920,  0.3568],\n",
      "         [ 0.1156,  0.3525,  0.4633,  ..., -0.0749, -0.2800,  0.2634]],\n",
      "\n",
      "        [[-0.0482, -0.0211,  0.1021,  ..., -0.0372,  0.3647,  0.0082],\n",
      "         [ 0.2040,  0.3874, -0.2425,  ...,  0.1329,  0.7405,  0.1877],\n",
      "         [-0.1917,  0.5314,  0.2950,  ...,  0.0234,  0.0755,  0.4812],\n",
      "         ...,\n",
      "         [-0.0115,  0.2652,  0.2053,  ...,  0.2307, -0.0195,  0.3481],\n",
      "         [ 0.0978,  0.3451,  0.1015,  ...,  0.1761,  0.0675, -0.0741],\n",
      "         [ 0.1864,  0.3175,  0.1466,  ...,  0.1732,  0.0099,  0.1147]],\n",
      "\n",
      "        [[-0.0117,  0.1274, -0.0555,  ..., -0.1198,  0.2736,  0.3391],\n",
      "         [ 0.2531,  0.2600, -0.2378,  ...,  0.0213,  0.6440,  0.4504],\n",
      "         [-0.1442,  0.3893,  0.1073,  ...,  0.0536,  0.4453,  0.3486],\n",
      "         ...,\n",
      "         [-0.7265,  0.0313,  0.2764,  ..., -0.0460, -0.2310,  0.2876],\n",
      "         [-0.5203, -0.2789,  0.3523,  ..., -0.0181, -0.4027,  0.0826],\n",
      "         [ 0.0647,  0.1132,  0.5672,  ...,  0.2664, -0.4553, -0.4151]]],\n",
      "       device='cuda:0')\n",
      "tensor([[[ 0.0664, -0.0644,  0.0572,  ..., -0.0574,  0.3454,  0.3390],\n",
      "         [ 0.4672, -0.0400,  0.0327,  ..., -0.2413,  0.5602,  0.0042],\n",
      "         [-0.0121, -0.0255,  0.6486,  ..., -0.4158,  0.1271, -0.3154],\n",
      "         ...,\n",
      "         [ 0.0369, -0.1153,  0.1488,  ..., -0.1122, -0.0897,  0.4924],\n",
      "         [ 0.0859,  0.0625,  0.3821,  ...,  0.0679, -0.0607,  0.1837],\n",
      "         [ 0.0435,  0.0916,  0.3272,  ...,  0.0443, -0.0761,  0.1008]],\n",
      "\n",
      "        [[ 0.0922,  0.0964,  0.1793,  ..., -0.1215,  0.1995,  0.3809],\n",
      "         [ 0.2430,  0.0768,  0.0670,  ...,  0.0273,  0.7969,  0.3138],\n",
      "         [-0.3788,  0.2917,  0.5944,  ...,  0.0612,  0.0347,  0.4858],\n",
      "         ...,\n",
      "         [ 0.3794,  0.1869,  0.4062,  ..., -0.1472,  0.0748,  0.0259],\n",
      "         [ 0.0954,  0.1935,  0.5068,  ..., -0.1117,  0.1052,  0.0715],\n",
      "         [ 0.0420,  0.2340,  0.5730,  ..., -0.1161,  0.1611, -0.1229]],\n",
      "\n",
      "        [[ 0.0470, -0.0754,  0.0906,  ..., -0.1206,  0.5278,  0.3474],\n",
      "         [ 0.5061, -0.2256, -0.0203,  ..., -0.3367,  0.7454,  0.2971],\n",
      "         [ 0.2465,  0.0586, -0.1574,  ..., -0.2790,  0.2779,  0.0988],\n",
      "         ...,\n",
      "         [ 0.0878, -0.0259,  0.8517,  ..., -0.1716,  0.1253,  0.0696],\n",
      "         [-0.2974,  0.0267,  0.3072,  ...,  0.0168,  0.3184,  0.1814],\n",
      "         [ 0.1042,  0.3468,  0.2933,  ...,  0.1821,  0.2394, -0.0703]],\n",
      "\n",
      "        ...,\n",
      "\n",
      "        [[ 0.1405,  0.0942, -0.0726,  ...,  0.0361,  0.3638,  0.1618],\n",
      "         [ 0.4455,  0.3056, -0.1806,  ...,  0.0754,  0.8079, -0.0186],\n",
      "         [ 0.0632,  0.7557,  0.1929,  ..., -0.1481,  0.1113,  0.1758],\n",
      "         ...,\n",
      "         [ 0.4227,  0.0310,  0.1652,  ...,  0.0321, -0.0899, -0.1633],\n",
      "         [ 0.4569,  0.0723,  0.0206,  ...,  0.0826, -0.1156, -0.0931],\n",
      "         [ 0.3715,  0.1566,  0.0858,  ...,  0.0997,  0.0061,  0.0386]],\n",
      "\n",
      "        [[-0.0996,  0.2276,  0.0766,  ..., -0.0227,  0.3045,  0.5173],\n",
      "         [-0.2425,  0.4841,  0.7393,  ..., -0.0805,  0.3259,  0.8522],\n",
      "         [-0.7500, -0.1499,  0.5460,  ..., -0.2278, -0.1292,  0.2792],\n",
      "         ...,\n",
      "         [ 0.1041,  0.0626,  0.1978,  ...,  0.0351,  0.0871,  0.1687],\n",
      "         [-0.2259, -0.0737,  0.4625,  ...,  0.1252,  0.0103,  0.1136],\n",
      "         [-0.3495,  0.0366,  0.2644,  ..., -0.1090,  0.0365,  0.0708]],\n",
      "\n",
      "        [[ 0.0641,  0.1125, -0.0785,  ...,  0.0009,  0.3229,  0.4590],\n",
      "         [ 0.2383,  0.3792, -0.0646,  ...,  0.1071,  0.5072,  0.5385],\n",
      "         [-0.4040,  0.5256,  0.3571,  ...,  0.0028, -0.2055,  0.7271],\n",
      "         ...,\n",
      "         [ 0.0755, -0.0182,  0.0535,  ..., -0.0233,  0.0599,  0.0871],\n",
      "         [ 0.0023,  0.0441,  0.3395,  ..., -0.1700, -0.1258, -0.1222],\n",
      "         [ 0.0404, -0.0275,  0.5586,  ..., -0.1908, -0.0505, -0.0666]]],\n",
      "       device='cuda:0')\n"
     ]
    }
   ],
   "source": [
    "emotion_hiddenstate = dataset_encoded.map(extract_hs, batched=True)"
   ]
  },
  {
   "cell_type": "code",
   "execution_count": 45,
   "metadata": {},
   "outputs": [
    {
     "data": {
      "text/plain": [
       "DatasetDict({\n",
       "    train: Dataset({\n",
       "        features: ['text', 'label', 'input_ids', 'attention_mask', 'hidden_state'],\n",
       "        num_rows: 16000\n",
       "    })\n",
       "    validation: Dataset({\n",
       "        features: ['text', 'label', 'input_ids', 'attention_mask', 'hidden_state'],\n",
       "        num_rows: 2000\n",
       "    })\n",
       "    test: Dataset({\n",
       "        features: ['text', 'label', 'input_ids', 'attention_mask', 'hidden_state'],\n",
       "        num_rows: 2000\n",
       "    })\n",
       "})"
      ]
     },
     "execution_count": 45,
     "metadata": {},
     "output_type": "execute_result"
    }
   ],
   "source": [
    "emotion_hiddenstate"
   ]
  },
  {
   "cell_type": "markdown",
   "metadata": {},
   "source": [
    "- 특성 행렬 만들기"
   ]
  },
  {
   "cell_type": "code",
   "execution_count": 46,
   "metadata": {},
   "outputs": [
    {
     "data": {
      "text/plain": [
       "((16000, 768), (16000,), (2000, 768), (2000,))"
      ]
     },
     "execution_count": 46,
     "metadata": {},
     "output_type": "execute_result"
    }
   ],
   "source": [
    "import numpy as np\n",
    "\n",
    "x_train = np.array(emotion_hiddenstate['train']['hidden_state'])\n",
    "x_valid = np.array(emotion_hiddenstate['validation']['hidden_state'])\n",
    "y_train = np.array(emotion_hiddenstate['train']['label'])\n",
    "y_valid = np.array(emotion_hiddenstate['validation']['label'])\n",
    "\n",
    "x_train.shape, y_train.shape, x_valid.shape, y_valid.shape"
   ]
  },
  {
   "cell_type": "code",
   "execution_count": 47,
   "metadata": {},
   "outputs": [],
   "source": [
    "from umap import UMAP\n",
    "from sklearn.preprocessing import MinMaxScaler\n",
    "\n",
    "x_scaled = MinMaxScaler().fit_transform(x_train)\n",
    "\n",
    "mapper = UMAP(n_components=2, metric=\"cosine\").fit(x_scaled)"
   ]
  },
  {
   "cell_type": "code",
   "execution_count": 48,
   "metadata": {},
   "outputs": [
    {
     "data": {
      "text/html": [
       "<div>\n",
       "<style scoped>\n",
       "    .dataframe tbody tr th:only-of-type {\n",
       "        vertical-align: middle;\n",
       "    }\n",
       "\n",
       "    .dataframe tbody tr th {\n",
       "        vertical-align: top;\n",
       "    }\n",
       "\n",
       "    .dataframe thead th {\n",
       "        text-align: right;\n",
       "    }\n",
       "</style>\n",
       "<table border=\"1\" class=\"dataframe\">\n",
       "  <thead>\n",
       "    <tr style=\"text-align: right;\">\n",
       "      <th></th>\n",
       "      <th>x</th>\n",
       "      <th>y</th>\n",
       "      <th>label</th>\n",
       "    </tr>\n",
       "  </thead>\n",
       "  <tbody>\n",
       "    <tr>\n",
       "      <th>0</th>\n",
       "      <td>4.209736</td>\n",
       "      <td>7.861980</td>\n",
       "      <td>0</td>\n",
       "    </tr>\n",
       "    <tr>\n",
       "      <th>1</th>\n",
       "      <td>-2.975325</td>\n",
       "      <td>7.073868</td>\n",
       "      <td>0</td>\n",
       "    </tr>\n",
       "  </tbody>\n",
       "</table>\n",
       "</div>"
      ],
      "text/plain": [
       "          x         y  label\n",
       "0  4.209736  7.861980      0\n",
       "1 -2.975325  7.073868      0"
      ]
     },
     "execution_count": 48,
     "metadata": {},
     "output_type": "execute_result"
    }
   ],
   "source": [
    "import pandas as pd\n",
    "\n",
    "df_emb = pd.DataFrame(mapper.embedding_, columns=[\"x\",\"y\"])\n",
    "df_emb[\"label\"] = y_train\n",
    "df_emb.head(2)"
   ]
  },
  {
   "cell_type": "markdown",
   "metadata": {},
   "source": [
    "- 라벨 별 시각화"
   ]
  },
  {
   "cell_type": "code",
   "execution_count": 49,
   "metadata": {},
   "outputs": [],
   "source": [
    "import matplotlib.pyplot as plt\n",
    "import seaborn as sns\n",
    "\n",
    "cmaps = [\"Greys\",\"Blues\",\"Oranges\",\"Reds\",\"Purples\",\"Greens\"]\n",
    "mapping_cmaps = lambda x : cmaps[x]\n",
    "\n",
    "df_emb['cmap']=df_emb['label'].map(mapping_cmaps)"
   ]
  },
  {
   "cell_type": "code",
   "execution_count": 50,
   "metadata": {},
   "outputs": [],
   "source": [
    "labels = emotion_hiddenstate['train'].features['label'].names"
   ]
  },
  {
   "cell_type": "code",
   "execution_count": 51,
   "metadata": {},
   "outputs": [
    {
     "data": {
      "image/png": "[encoded data removed]",
      "text/plain": [
       "<Figure size 1400x1000 with 6 Axes>"
      ]
     },
     "metadata": {},
     "output_type": "display_data"
    }
   ],
   "source": [
    "fig, ax = plt.subplots(2,3, figsize=(14,10))\n",
    "ax = ax.flatten()\n",
    "\n",
    "for i, ax_ in enumerate(ax):\n",
    "    df_emb_choosen=df_emb[df_emb.label == i]\n",
    "    ax_.hexbin(\n",
    "        x=df_emb_choosen['x'],\n",
    "        y=df_emb_choosen['y'],\n",
    "        gridsize=25,\n",
    "        cmap=cmaps[i]\n",
    "        )\n",
    "    ax_.set_title(labels[i])\n",
    "plt.tight_layout()"
   ]
  },
  {
   "cell_type": "markdown",
   "metadata": {},
   "source": [
    "- 분류시작"
   ]
  },
  {
   "cell_type": "code",
   "execution_count": 52,
   "metadata": {},
   "outputs": [
    {
     "data": {
      "text/plain": [
       "0.17"
      ]
     },
     "execution_count": 52,
     "metadata": {},
     "output_type": "execute_result"
    }
   ],
   "source": [
    "from sklearn.dummy import DummyClassifier\n",
    "\n",
    "dummy_clf = DummyClassifier(strategy=\"uniform\") # 무작위 일때 \"uniform\" : 0.165%, \"most_frequent\" : 0.352\n",
    "dummy_clf.fit(x_train,y_train)\n",
    "dummy_clf.score(x_valid,y_valid)"
   ]
  },
  {
   "cell_type": "markdown",
   "metadata": {},
   "source": [
    "- confusion_mat 확인"
   ]
  },
  {
   "cell_type": "code",
   "execution_count": 53,
   "metadata": {},
   "outputs": [
    {
     "name": "stdout",
     "output_type": "stream",
     "text": [
      "              precision    recall  f1-score   support\n",
      "\n",
      "           0       0.28      0.17      0.21       550\n",
      "           1       0.33      0.17      0.22       704\n",
      "           2       0.11      0.20      0.15       178\n",
      "           3       0.14      0.16      0.15       275\n",
      "           4       0.10      0.16      0.12       212\n",
      "           5       0.05      0.20      0.08        81\n",
      "\n",
      "    accuracy                           0.17      2000\n",
      "   macro avg       0.17      0.18      0.16      2000\n",
      "weighted avg       0.24      0.17      0.19      2000\n",
      "\n"
     ]
    }
   ],
   "source": [
    "from sklearn import metrics\n",
    "\n",
    "print(metrics.classification_report(y_valid, dummy_clf.predict(x_valid)))"
   ]
  },
  {
   "cell_type": "markdown",
   "metadata": {},
   "source": [
    "- 시각화 후 확인"
   ]
  },
  {
   "cell_type": "code",
   "execution_count": 54,
   "metadata": {},
   "outputs": [
    {
     "data": {
      "image/png": "[encoded data removed]",
      "text/plain": [
       "<Figure size 600x600 with 1 Axes>"
      ]
     },
     "metadata": {},
     "output_type": "display_data"
    }
   ],
   "source": [
    "# 시각화 함수 정의\n",
    "def plot_confusion_mat(y_preds,y_true,labels):\n",
    "    cm = metrics.confusion_matrix(y_true,y_preds,normalize=\"true\") # 정규화된 오차 행렬\n",
    "    fig, ax = plt.subplots(figsize=(6,6))\n",
    "    disp = metrics.ConfusionMatrixDisplay(confusion_matrix=cm, display_labels=labels)\n",
    "    disp.plot(cmap=\"BuGn\",\n",
    "              values_format=\".2f\",\n",
    "              colorbar=False,\n",
    "              ax=ax)\n",
    "    plt.title(\"정규화된 confusion matrix\")\n",
    "    return \n",
    "\n",
    "\n",
    "plot_confusion_mat(dummy_clf.predict(x_valid), y_valid, labels)"
   ]
  },
  {
   "cell_type": "markdown",
   "metadata": {},
   "source": [
    "### distilBERT(End to End finetuning)\n",
    "- 이때 head 부분은 미분이 가능해야함"
   ]
  },
  {
   "cell_type": "code",
   "execution_count": 55,
   "metadata": {},
   "outputs": [
    {
     "name": "stderr",
     "output_type": "stream",
     "text": [
      "Some weights of DistilBertForSequenceClassification were not initialized from the model checkpoint at distilbert-base-uncased and are newly initialized: ['classifier.bias', 'classifier.weight', 'pre_classifier.bias', 'pre_classifier.weight']\n",
      "You should probably TRAIN this model on a down-stream task to be able to use it for predictions and inference.\n"
     ]
    }
   ],
   "source": [
    "from transformers import AutoModelForSequenceClassification # AutoModel와 달리 분류 헤드가 장착되어 있다.\n",
    "\n",
    "num_labels=6\n",
    "model = (AutoModelForSequenceClassification.from_pretrained(model_ckpt, num_labels=num_labels))"
   ]
  },
  {
   "cell_type": "markdown",
   "metadata": {},
   "source": [
    "- metric 정의"
   ]
  },
  {
   "cell_type": "code",
   "execution_count": 56,
   "metadata": {},
   "outputs": [],
   "source": [
    "from sklearn.metrics import accuracy_score, f1_score\n",
    "\n",
    "def compute_metrics(pred):\n",
    "    labels = pred.label_ids\n",
    "    preds = pred.predictions.argmax(-1)\n",
    "    f1 = f1_score(labels, preds, average=\"weighted\")\n",
    "    acc = accuracy_score(labels,preds)\n",
    "    return {\"accuracy\" : acc, \"f1\" : f1} # 훈련 시 출력 형식 맞추기"
   ]
  },
  {
   "cell_type": "markdown",
   "metadata": {},
   "source": [
    "- git 로그인"
   ]
  },
  {
   "cell_type": "code",
   "execution_count": 57,
   "metadata": {},
   "outputs": [
    {
     "data": {
      "application/vnd.jupyter.widget-view+json": {
       "model_id": "0a30ea10f13249a6866503654913a3cc",
       "version_major": 2,
       "version_minor": 0
      },
      "text/plain": [
       "VBox(children=(HTML(value='<center> <img\\nsrc=https://huggingface.co/front/assets/huggingface_logo-noborder.sv…"
      ]
     },
     "metadata": {},
     "output_type": "display_data"
    }
   ],
   "source": [
    "from huggingface_hub import notebook_login\n",
    "\n",
    "notebook_login()\n",
    "\n",
    "logging_steps = len(emotion_hiddenstate)"
   ]
  },
  {
   "cell_type": "code",
   "execution_count": 60,
   "metadata": {},
   "outputs": [
    {
     "name": "stderr",
     "output_type": "stream",
     "text": [
      "huggingface/tokenizers: The current process just got forked, after parallelism has already been used. Disabling parallelism to avoid deadlocks...\n",
      "To disable this warning, you can either:\n",
      "\t- Avoid using `tokenizers` before the fork if possible\n",
      "\t- Explicitly set the environment variable TOKENIZERS_PARALLELISM=(true | false)\n"
     ]
    },
    {
     "name": "stdout",
     "output_type": "stream",
     "text": [
      "Collecting tf-keras\n",
      "  Downloading tf_keras-2.18.0-py3-none-any.whl.metadata (1.6 kB)\n",
      "Requirement already satisfied: tensorflow<2.19,>=2.18 in /home/tommy/anaconda3/envs/transformer/lib/python3.11/site-packages (from tf-keras) (2.18.0)\n",
      "Requirement already satisfied: absl-py>=1.0.0 in /home/tommy/anaconda3/envs/transformer/lib/python3.11/site-packages (from tensorflow<2.19,>=2.18->tf-keras) (2.1.0)\n",
      "Requirement already satisfied: astunparse>=1.6.0 in /home/tommy/anaconda3/envs/transformer/lib/python3.11/site-packages (from tensorflow<2.19,>=2.18->tf-keras) (1.6.3)\n",
      "Requirement already satisfied: flatbuffers>=24.3.25 in /home/tommy/anaconda3/envs/transformer/lib/python3.11/site-packages (from tensorflow<2.19,>=2.18->tf-keras) (24.3.25)\n",
      "Requirement already satisfied: gast!=0.5.0,!=0.5.1,!=0.5.2,>=0.2.1 in /home/tommy/anaconda3/envs/transformer/lib/python3.11/site-packages (from tensorflow<2.19,>=2.18->tf-keras) (0.6.0)\n",
      "Requirement already satisfied: google-pasta>=0.1.1 in /home/tommy/anaconda3/envs/transformer/lib/python3.11/site-packages (from tensorflow<2.19,>=2.18->tf-keras) (0.2.0)\n",
      "Requirement already satisfied: libclang>=13.0.0 in /home/tommy/anaconda3/envs/transformer/lib/python3.11/site-packages (from tensorflow<2.19,>=2.18->tf-keras) (18.1.1)\n",
      "Requirement already satisfied: opt-einsum>=2.3.2 in /home/tommy/anaconda3/envs/transformer/lib/python3.11/site-packages (from tensorflow<2.19,>=2.18->tf-keras) (3.4.0)\n",
      "Requirement already satisfied: packaging in /home/tommy/anaconda3/envs/transformer/lib/python3.11/site-packages (from tensorflow<2.19,>=2.18->tf-keras) (24.1)\n",
      "Requirement already satisfied: protobuf!=4.21.0,!=4.21.1,!=4.21.2,!=4.21.3,!=4.21.4,!=4.21.5,<6.0.0dev,>=3.20.3 in /home/tommy/anaconda3/envs/transformer/lib/python3.11/site-packages (from tensorflow<2.19,>=2.18->tf-keras) (5.28.3)\n",
      "Requirement already satisfied: requests<3,>=2.21.0 in /home/tommy/anaconda3/envs/transformer/lib/python3.11/site-packages (from tensorflow<2.19,>=2.18->tf-keras) (2.32.3)\n",
      "Requirement already satisfied: setuptools in /home/tommy/anaconda3/envs/transformer/lib/python3.11/site-packages (from tensorflow<2.19,>=2.18->tf-keras) (75.1.0)\n",
      "Requirement already satisfied: six>=1.12.0 in /home/tommy/anaconda3/envs/transformer/lib/python3.11/site-packages (from tensorflow<2.19,>=2.18->tf-keras) (1.16.0)\n",
      "Requirement already satisfied: termcolor>=1.1.0 in /home/tommy/anaconda3/envs/transformer/lib/python3.11/site-packages (from tensorflow<2.19,>=2.18->tf-keras) (2.5.0)\n",
      "Requirement already satisfied: typing-extensions>=3.6.6 in /home/tommy/anaconda3/envs/transformer/lib/python3.11/site-packages (from tensorflow<2.19,>=2.18->tf-keras) (4.12.2)\n",
      "Requirement already satisfied: wrapt>=1.11.0 in /home/tommy/anaconda3/envs/transformer/lib/python3.11/site-packages (from tensorflow<2.19,>=2.18->tf-keras) (1.16.0)\n",
      "Requirement already satisfied: grpcio<2.0,>=1.24.3 in /home/tommy/anaconda3/envs/transformer/lib/python3.11/site-packages (from tensorflow<2.19,>=2.18->tf-keras) (1.67.1)\n",
      "Requirement already satisfied: tensorboard<2.19,>=2.18 in /home/tommy/anaconda3/envs/transformer/lib/python3.11/site-packages (from tensorflow<2.19,>=2.18->tf-keras) (2.18.0)\n",
      "Requirement already satisfied: keras>=3.5.0 in /home/tommy/anaconda3/envs/transformer/lib/python3.11/site-packages (from tensorflow<2.19,>=2.18->tf-keras) (3.6.0)\n",
      "Requirement already satisfied: numpy<2.1.0,>=1.26.0 in /home/tommy/anaconda3/envs/transformer/lib/python3.11/site-packages (from tensorflow<2.19,>=2.18->tf-keras) (2.0.2)\n",
      "Requirement already satisfied: h5py>=3.11.0 in /home/tommy/anaconda3/envs/transformer/lib/python3.11/site-packages (from tensorflow<2.19,>=2.18->tf-keras) (3.12.1)\n",
      "Requirement already satisfied: ml-dtypes<0.5.0,>=0.4.0 in /home/tommy/anaconda3/envs/transformer/lib/python3.11/site-packages (from tensorflow<2.19,>=2.18->tf-keras) (0.4.1)\n",
      "Requirement already satisfied: tensorflow-io-gcs-filesystem>=0.23.1 in /home/tommy/anaconda3/envs/transformer/lib/python3.11/site-packages (from tensorflow<2.19,>=2.18->tf-keras) (0.37.1)\n",
      "Requirement already satisfied: wheel<1.0,>=0.23.0 in /home/tommy/anaconda3/envs/transformer/lib/python3.11/site-packages (from astunparse>=1.6.0->tensorflow<2.19,>=2.18->tf-keras) (0.44.0)\n",
      "Requirement already satisfied: rich in /home/tommy/anaconda3/envs/transformer/lib/python3.11/site-packages (from keras>=3.5.0->tensorflow<2.19,>=2.18->tf-keras) (13.9.4)\n",
      "Requirement already satisfied: namex in /home/tommy/anaconda3/envs/transformer/lib/python3.11/site-packages (from keras>=3.5.0->tensorflow<2.19,>=2.18->tf-keras) (0.0.8)\n",
      "Requirement already satisfied: optree in /home/tommy/anaconda3/envs/transformer/lib/python3.11/site-packages (from keras>=3.5.0->tensorflow<2.19,>=2.18->tf-keras) (0.13.1)\n",
      "Requirement already satisfied: charset-normalizer<4,>=2 in /home/tommy/anaconda3/envs/transformer/lib/python3.11/site-packages (from requests<3,>=2.21.0->tensorflow<2.19,>=2.18->tf-keras) (3.4.0)\n",
      "Requirement already satisfied: idna<4,>=2.5 in /home/tommy/anaconda3/envs/transformer/lib/python3.11/site-packages (from requests<3,>=2.21.0->tensorflow<2.19,>=2.18->tf-keras) (3.10)\n",
      "Requirement already satisfied: urllib3<3,>=1.21.1 in /home/tommy/anaconda3/envs/transformer/lib/python3.11/site-packages (from requests<3,>=2.21.0->tensorflow<2.19,>=2.18->tf-keras) (2.2.3)\n",
      "Requirement already satisfied: certifi>=2017.4.17 in /home/tommy/anaconda3/envs/transformer/lib/python3.11/site-packages (from requests<3,>=2.21.0->tensorflow<2.19,>=2.18->tf-keras) (2024.8.30)\n",
      "Requirement already satisfied: markdown>=2.6.8 in /home/tommy/anaconda3/envs/transformer/lib/python3.11/site-packages (from tensorboard<2.19,>=2.18->tensorflow<2.19,>=2.18->tf-keras) (3.7)\n",
      "Requirement already satisfied: tensorboard-data-server<0.8.0,>=0.7.0 in /home/tommy/anaconda3/envs/transformer/lib/python3.11/site-packages (from tensorboard<2.19,>=2.18->tensorflow<2.19,>=2.18->tf-keras) (0.7.2)\n",
      "Requirement already satisfied: werkzeug>=1.0.1 in /home/tommy/anaconda3/envs/transformer/lib/python3.11/site-packages (from tensorboard<2.19,>=2.18->tensorflow<2.19,>=2.18->tf-keras) (3.1.3)\n",
      "Requirement already satisfied: MarkupSafe>=2.1.1 in /home/tommy/anaconda3/envs/transformer/lib/python3.11/site-packages (from werkzeug>=1.0.1->tensorboard<2.19,>=2.18->tensorflow<2.19,>=2.18->tf-keras) (3.0.2)\n",
      "Requirement already satisfied: markdown-it-py>=2.2.0 in /home/tommy/anaconda3/envs/transformer/lib/python3.11/site-packages (from rich->keras>=3.5.0->tensorflow<2.19,>=2.18->tf-keras) (3.0.0)\n",
      "Requirement already satisfied: pygments<3.0.0,>=2.13.0 in /home/tommy/anaconda3/envs/transformer/lib/python3.11/site-packages (from rich->keras>=3.5.0->tensorflow<2.19,>=2.18->tf-keras) (2.18.0)\n",
      "Requirement already satisfied: mdurl~=0.1 in /home/tommy/anaconda3/envs/transformer/lib/python3.11/site-packages (from markdown-it-py>=2.2.0->rich->keras>=3.5.0->tensorflow<2.19,>=2.18->tf-keras) (0.1.2)\n",
      "Downloading tf_keras-2.18.0-py3-none-any.whl (1.7 MB)\n",
      "\u001b[2K   \u001b[90m━━━━━━━━━━━━━━━━━━━━━━━━━━━━━━━━━━━━━━━━\u001b[0m \u001b[32m1.7/1.7 MB\u001b[0m \u001b[31m5.2 MB/s\u001b[0m eta \u001b[36m0:00:00\u001b[0ma \u001b[36m0:00:01\u001b[0m\n",
      "\u001b[?25hInstalling collected packages: tf-keras\n",
      "Successfully installed tf-keras-2.18.0\n"
     ]
    }
   ],
   "source": [
    "!pip install tf-keras"
   ]
  },
  {
   "cell_type": "code",
   "execution_count": 61,
   "metadata": {},
   "outputs": [],
   "source": [
    "from transformers import TrainingArguments\n",
    "batchsize = 64\n",
    "\n",
    "log_step = len(emotion_hiddenstate['train'])//batchsize\n",
    "model_name=f\"{model_ckpt}-finetuned-emotion\"\n",
    "training_args = TrainingArguments(output_dir=model_name,\n",
    "                                  num_train_epochs=2,\n",
    "                                  learning_rate=2e-5,\n",
    "                                  per_device_eval_batch_size=batchsize,\n",
    "                                  per_device_train_batch_size=batchsize,\n",
    "                                  weight_decay=0.01,\n",
    "                                  eval_strategy=\"epoch\",\n",
    "                                  disable_tqdm=False,\n",
    "                                  logging_steps=log_step,\n",
    "                                  push_to_hub=True,\n",
    "                                  save_strategy=\"epoch\",\n",
    "                                  load_best_model_at_end=True,\n",
    "                                  log_level=\"error\")"
   ]
  },
  {
   "cell_type": "code",
   "execution_count": 62,
   "metadata": {},
   "outputs": [
    {
     "name": "stderr",
     "output_type": "stream",
     "text": [
      "/tmp/ipykernel_90904/3502619010.py:3: FutureWarning: `tokenizer` is deprecated and will be removed in version 5.0.0 for `Trainer.__init__`. Use `processing_class` instead.\n",
      "  trainer = Trainer(model=model,\n"
     ]
    },
    {
     "data": {
      "text/html": [
       "\n",
       "    <div>\n",
       "      \n",
       "      <progress value='500' max='500' style='width:300px; height:20px; vertical-align: middle;'></progress>\n",
       "      [500/500 03:16, Epoch 2/2]\n",
       "    </div>\n",
       "    <table border=\"1\" class=\"dataframe\">\n",
       "  <thead>\n",
       " <tr style=\"text-align: left;\">\n",
       "      <th>Epoch</th>\n",
       "      <th>Training Loss</th>\n",
       "      <th>Validation Loss</th>\n",
       "      <th>Accuracy</th>\n",
       "      <th>F1</th>\n",
       "    </tr>\n",
       "  </thead>\n",
       "  <tbody>\n",
       "    <tr>\n",
       "      <td>1</td>\n",
       "      <td>0.816700</td>\n",
       "      <td>0.308063</td>\n",
       "      <td>0.906500</td>\n",
       "      <td>0.905929</td>\n",
       "    </tr>\n",
       "    <tr>\n",
       "      <td>2</td>\n",
       "      <td>0.249300</td>\n",
       "      <td>0.214537</td>\n",
       "      <td>0.925000</td>\n",
       "      <td>0.925268</td>\n",
       "    </tr>\n",
       "  </tbody>\n",
       "</table><p>"
      ],
      "text/plain": [
       "<IPython.core.display.HTML object>"
      ]
     },
     "metadata": {},
     "output_type": "display_data"
    },
    {
     "data": {
      "text/plain": [
       "TrainOutput(global_step=500, training_loss=0.5329788131713867, metrics={'train_runtime': 196.7614, 'train_samples_per_second': 162.634, 'train_steps_per_second': 2.541, 'total_flos': 720342861696000.0, 'train_loss': 0.5329788131713867, 'epoch': 2.0})"
      ]
     },
     "execution_count": 62,
     "metadata": {},
     "output_type": "execute_result"
    }
   ],
   "source": [
    "from transformers import Trainer\n",
    "\n",
    "trainer = Trainer(model=model,\n",
    "                  args=training_args,\n",
    "                  compute_metrics=compute_metrics,\n",
    "                  train_dataset = emotion_hiddenstate[\"train\"],\n",
    "                  eval_dataset = emotion_hiddenstate[\"validation\"],\n",
    "                  tokenizer=tokenizer)\n",
    "\n",
    "trainer.train()"
   ]
  },
  {
   "cell_type": "markdown",
   "metadata": {},
   "source": [
    "- metrics 확인"
   ]
  },
  {
   "cell_type": "code",
   "execution_count": 63,
   "metadata": {},
   "outputs": [
    {
     "data": {
      "text/html": [],
      "text/plain": [
       "<IPython.core.display.HTML object>"
      ]
     },
     "metadata": {},
     "output_type": "display_data"
    },
    {
     "data": {
      "text/plain": [
       "{'test_loss': 0.2145373523235321,\n",
       " 'test_accuracy': 0.925,\n",
       " 'test_f1': 0.9252679998539944,\n",
       " 'test_runtime': 2.7098,\n",
       " 'test_samples_per_second': 738.056,\n",
       " 'test_steps_per_second': 11.809}"
      ]
     },
     "execution_count": 63,
     "metadata": {},
     "output_type": "execute_result"
    }
   ],
   "source": [
    "pred_out = trainer.predict(emotion_hiddenstate['validation'])\n",
    "pred_out.metrics"
   ]
  },
  {
   "cell_type": "code",
   "execution_count": 64,
   "metadata": {},
   "outputs": [
    {
     "data": {
      "text/plain": [
       "array([0, 0, 2, ..., 1, 1, 1])"
      ]
     },
     "execution_count": 64,
     "metadata": {},
     "output_type": "execute_result"
    }
   ],
   "source": [
    "y_preds = np.argmax(pred_out.predictions, axis=1)\n",
    "y_preds"
   ]
  },
  {
   "cell_type": "code",
   "execution_count": 65,
   "metadata": {},
   "outputs": [
    {
     "data": {
      "image/png": "[encoded data removed]",
      "text/plain": [
       "<Figure size 600x600 with 1 Axes>"
      ]
     },
     "metadata": {},
     "output_type": "display_data"
    }
   ],
   "source": [
    "plot_confusion_mat(y_preds, y_valid, labels)"
   ]
  },
  {
   "cell_type": "markdown",
   "metadata": {},
   "source": [
    "- 소요 리소스 확인\n",
    "    ![resorce_check](images/02_01.png)"
   ]
  },
  {
   "cell_type": "markdown",
   "metadata": {},
   "source": [
    "### cf) keras로 훈련 시키기(예시)\n",
    "```py\n",
    "from transformers import TFAutoModelForSequenceClassification\n",
    "\n",
    "tf_model=TFAutoModelForSequenceClassification.from_pretrained(model_ckpt, num_labels=num_labels)\n",
    "\n",
    "# 데이터 변환 to TF dataset\n",
    "\n",
    "tokenizer_columns = tokenizer.model_input_names\n",
    "tf_train = emotion_hiddenstate[\"train\"].to_tf_dataset(\n",
    "    columns = tokenizer_columns,\n",
    "    label_cols= ['label'],\n",
    "    shuffle=True,\n",
    "    batch_size=batchsize\n",
    ")\n",
    "\n",
    "tf_valid = emotion_hiddenstate[\"validation\"].to_tf_dataset(\n",
    "    columns = tokenizer_columns,\n",
    "    label_cols= ['label'],\n",
    "    shuffle=False,\n",
    "    batch_size=batchsize\n",
    ")\n",
    "\n",
    "import tensorflow as tf\n",
    "from tensorflow.keras.optimizers import Adam\n",
    "from tensorflow.keras.losses import SparseCategoricalCrossentropy\n",
    "from tensorflow.keras.metrics import SparseCategoricalAccuracy\n",
    "\n",
    "\n",
    "\n",
    "opti_ = Adam(learning_rate=5e-5)\n",
    "loss_ = SparseCategoricalCrossentropy(from_logits=True)\n",
    "metr_ = SparseCategoricalAccuracy()\n",
    "\n",
    "tf_model.compile(\n",
    "    optimizer = opti_ ,\n",
    "    loss = loss_ ,\n",
    "    metrics = metr_ ,\n",
    ")\n",
    "\n",
    "tf_model.fit(tf_train, validation_data=tf_valid, epochs=2)\n",
    "```"
   ]
  }
 ],
 "metadata": {
  "kernelspec": {
   "display_name": "transformer",
   "language": "python",
   "name": "python3"
  },
  "language_info": {
   "codemirror_mode": {
    "name": "ipython",
    "version": 3
   },
   "file_extension": ".py",
   "mimetype": "text/x-python",
   "name": "python",
   "nbconvert_exporter": "python",
   "pygments_lexer": "ipython3",
   "version": "3.11.10"
  }
 },
 "nbformat": 4,
 "nbformat_minor": 2
}
