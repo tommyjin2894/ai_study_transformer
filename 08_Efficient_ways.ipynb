{
 "cells": [
  {
   "cell_type": "markdown",
   "metadata": {},
   "source": [
    "### 모델 경량화 및 효율적인 트랜스포머 구축\n",
    "\n",
    "1. **knowledge distillation** (지식 증류)\n",
    "2. **quantization** (양자화)\n",
    "3. **pruning** (가지치기)\n",
    "4. Graph Optimization with **ONNX**"
   ]
  },
  {
   "cell_type": "markdown",
   "metadata": {},
   "source": [
    "### 의도 탐지 (intent detection task)\n",
    "\n",
    "- 경량화된 모델로 빠른 의도탐지를 하여 분류하여 원하는 정보를 고객에게 전달 <br>\n",
    "    (ex.상담원 없이 챗봇으로 고객의 의도를 파악하여 계좌 정보를 제공 등)\n",
    "- 사전 정의된 의도에 대한 쿼리가 저장되어있지 않으면 대체응답을 출력해야한다."
   ]
  },
  {
   "cell_type": "code",
   "execution_count": 5,
   "metadata": {},
   "outputs": [
    {
     "name": "stderr",
     "output_type": "stream",
     "text": [
      "huggingface/tokenizers: The current process just got forked, after parallelism has already been used. Disabling parallelism to avoid deadlocks...\n",
      "To disable this warning, you can either:\n",
      "\t- Avoid using `tokenizers` before the fork if possible\n",
      "\t- Explicitly set the environment variable TOKENIZERS_PARALLELISM=(true | false)\n",
      "Device set to use cpu\n"
     ]
    }
   ],
   "source": [
    "from transformers import pipeline\n",
    "\n",
    "bert_ckpt = \"transformersbook/bert-base-uncased-finetuned-clinc\"\n",
    "pipe = pipeline(\"text-classification\", model=bert_ckpt, device='cpu')"
   ]
  },
  {
   "cell_type": "code",
   "execution_count": 6,
   "metadata": {},
   "outputs": [
    {
     "data": {
      "text/plain": [
       "[{'label': 'car_rental', 'score': 0.5490031838417053}]"
      ]
     },
     "execution_count": 6,
     "metadata": {},
     "output_type": "execute_result"
    }
   ],
   "source": [
    "query = \"\"\"hey, i'd like to rent a vehicle\n",
    "from nov 1st to nov 15th in paris \n",
    "and i need a 15 passenger van\"\"\"\n",
    "\n",
    "pipe(query)"
   ]
  },
  {
   "cell_type": "code",
   "execution_count": 7,
   "metadata": {},
   "outputs": [
    {
     "data": {
      "text/plain": [
       "'transfer'"
      ]
     },
     "execution_count": 7,
     "metadata": {},
     "output_type": "execute_result"
    }
   ],
   "source": [
    "# 데이터 셋 불러오기\n",
    "from datasets import load_dataset\n",
    "from evaluate import load\n",
    "\n",
    "clinic = load_dataset(\"clinc_oos\", \"plus\")\n",
    "intents = clinic[\"test\"].features[\"intent\"]\n",
    "sample_feature_int = clinic[\"test\"][42][\"intent\"]\n",
    "\n",
    "intents.int2str(sample_feature_int)"
   ]
  },
  {
   "cell_type": "markdown",
   "metadata": {},
   "source": [
    "### 효율적인 밴치마크를 위한 함수정의"
   ]
  },
  {
   "cell_type": "code",
   "execution_count": 8,
   "metadata": {},
   "outputs": [],
   "source": [
    "import torch\n",
    "import numpy as np\n",
    "from pathlib import Path\n",
    "from time import perf_counter\n",
    "\n",
    "class PerformanceBenchMark:\n",
    "    def __init__(self, pipeline, dataset, optim_type = 'BERT baseline'):\n",
    "        self.pipeline = pipeline\n",
    "        self.dataset = dataset\n",
    "        self.optim_type = optim_type\n",
    "    \n",
    "    # 모델 정확도 파악 함수\n",
    "    def compute_accuracy(self):\n",
    "        preds, labels = [], []\n",
    "        for example in self.dataset:\n",
    "            pred = self.pipeline(example[\"text\"])[0]['label']\n",
    "            label = example['intent']\n",
    "            preds.append(intents.str2int(pred))\n",
    "            labels.append(label)\n",
    "        accuracy = load(\"accuracy\").compute(predictions=preds,references=labels)\n",
    "        print(f\"정확도 : {accuracy['accuracy']:3f}\")\n",
    "        return accuracy\n",
    "\n",
    "    # 모델 사이즈 파악 함수\n",
    "    def compute_size(self):\n",
    "        state_dict = self.pipeline.model.state_dict()\n",
    "        tmp_path = Path(\"model.pt\") # 임시 파일 생성\n",
    "        torch.save(state_dict, tmp_path)\n",
    "        size_mb = Path(tmp_path).stat().st_size / (1024 * 1024)\n",
    "        tmp_path.unlink() # 임시 파일 삭제\n",
    "        print(f\"모델 크기 (mb) - {size_mb:.2f}\")\n",
    "        return {\"size_mb\" : size_mb}\n",
    "\n",
    "    # 모델 소요 시간 파악 함수\n",
    "    def time_pipeline(self, query=\"can i rent a EV?\"):\n",
    "        latencies = []\n",
    "        # 워밍업\n",
    "        for _ in range(10):\n",
    "            _ = self.pipeline(query)\n",
    "        # 실제 측정\n",
    "        for _ in range(100):\n",
    "            start_time = perf_counter()\n",
    "            _ = self.pipeline(query)\n",
    "            latency = perf_counter() - start_time\n",
    "            latencies.append(latency)\n",
    "        \n",
    "        time_avg_ms = 1000 * np.mean(latencies)\n",
    "        time_std_ms = 1000 * np.std(latencies)\n",
    "        print(f\"평균 레이턴시(ms) : {time_avg_ms:.2f} +/- {time_std_ms:.2f} (표준편차) \")\n",
    "        return {\"time_avg_ms\" :time_avg_ms,\n",
    "                \"time_std_ms\":time_std_ms}\n",
    "    \n",
    "    # 총 모델의 벤치마크 함수\n",
    "    def run_benchmark(self):\n",
    "        metrics = {}\n",
    "        metrics[self.optim_type] = self.compute_size()\n",
    "        metrics[self.optim_type].update(self.time_pipeline())\n",
    "        metrics[self.optim_type].update(self.compute_accuracy())\n",
    "        \n",
    "        return metrics"
   ]
  },
  {
   "cell_type": "code",
   "execution_count": 9,
   "metadata": {},
   "outputs": [],
   "source": [
    "pb = PerformanceBenchMark(pipe, clinic[\"test\"])"
   ]
  },
  {
   "cell_type": "code",
   "execution_count": 10,
   "metadata": {},
   "outputs": [
    {
     "name": "stdout",
     "output_type": "stream",
     "text": [
      "모델 크기 (mb) - 418.15\n",
      "평균 레이턴시(ms) : 33.84 +/- 8.77 (표준편차) \n",
      "정확도 : 0.867273\n"
     ]
    }
   ],
   "source": [
    "perf_metrics = pb.run_benchmark()"
   ]
  },
  {
   "cell_type": "markdown",
   "metadata": {},
   "source": [
    "### Knowledge Distillation (지식 증류)\n",
    "- **티쳐 모델의 확률 분포** ($ p_i $), **스튜던트 모델의 확률 분포** ($ q_i $)\n",
    "- **Dark Knowledge**: 정답 레이블만으로는 얻을 수 없는 티쳐 모델의 부가적인 정보(예: 틀린 클래스들 간의 확률 관계).\n",
    "- **Soft Probability**: 정답 레이블뿐 아니라 티쳐 모델의 확률 분포를 활용해 스튜던트 모델에 추가적인 정보를 전달.\n",
    "\n",
    "<u> **Dark knowledge 가 있기 때문에 soft probability 를 활용해 모델 전달** </u>\n",
    "\n",
    "- 과정\n",
    "   1. **모델 출력 로짓 벡터**:\n",
    "      $$\n",
    "      z(x) = [z_1(x), z_2(x), ..., z_N(x)]\n",
    "      $$\n",
    "\n",
    "   2. **로짓 벡터에 소프트맥스 함수 적용**:  \n",
    "      $$\n",
    "      \\text{Softmax}(z_i) = \\frac{\\exp(z_i)}{\\sum_j \\exp(z_j)}\n",
    "      $$\n",
    "\n",
    "   3. **소프트 확률 분포 생성**:  \n",
    "      모델의 확률 분포를 \"소프트하게\" 만들기 위해, **온도 매개변수** $T$ 를 도입하여 소프트맥스에 적용<br>\n",
    "      높은 확률 값을 낮추고, 낮은 확률 값을 높이는 효과:  \n",
    "      $$\n",
    "      p_i(x) = \\frac{\\exp(z_i(x)/T)}{\\sum_j \\exp(z_j(x)/T)}\n",
    "      $$  \n",
    "      여기서 $ T > 1 $일수록 분포가 더욱 완만.\n",
    "\n",
    "   4. **KL Divergence로 확률 분포의 차이를 측정**:\n",
    "      티쳐 모델의 확률 분포 $ p_i $와 스튜던트 모델의 확률 분포 $ q_i $ 간의 차이를 측정.: <br>\n",
    "      여기서 KL Divergence 를 최소화 하는 것은, 우도의 최대화 <br>\n",
    "      **두 확률분포의 차이를 최소화 = 두 확률분포의 같게함(?)을 최대화**\n",
    "      $$\n",
    "      D_{KL}(p || q) = \\sum_i p_i(x) \\log{\\frac{p_i(x)}{q_i(x)}}\n",
    "      $$\n",
    "\n",
    "   5. **Knowledge Distillation 손실 ($ L_{KD} $)**:  \n",
    "      온도 $ T $의 영향을 보정하기 위해 $ T^2 $를 곱한 형태로 KL Divergence를 계산.:  \n",
    "      $$\n",
    "      L_{KD} = T^2 \\cdot \\sum_i p_i(x) \\log{\\frac{p_i(x)}{q_i(x)}}\n",
    "      $$\n",
    "\n",
    "   6. **스튜던트 모델의 총 손실 ($ L_{student} $)**:  \n",
    "      Knowledge Distillation에서 스튜던트 모델은 두 가지 손실의 가중합을 최소화.:  \n",
    "      - **Cross-Entropy Loss** ($ L_{CE} $): 스튜던트 모델의 예측값과 실제 레이블 간의 손실.  \n",
    "      - **Knowledge Distillation Loss** ($ L_{KD} $): 스튜던트 모델과 티쳐 모델의 확률 분포 간의 차이.  \n",
    "      총 손실:\n",
    "      $$\n",
    "      L_{student} = \\alpha L_{CE} + (1 - \\alpha) L_{KD}\n",
    "      $$  \n",
    "      여기서 $ \\alpha $는 두 손실의 가중치를 조절하는 하이퍼파라미터.\n",
    "\n",
    "   ---\n",
    "\n",
    "   <u>**즉, 스튜던트 모델의 손실은 기존 학습의 Cross-Entropy Loss와 티쳐 모델과의 KL Divergence 손실의 가중합으로 계산된다.**</u>"
   ]
  },
  {
   "cell_type": "markdown",
   "metadata": {},
   "source": [
    "### KD(knoledge distillation) 을 위한 트레이너 만들기"
   ]
  },
  {
   "cell_type": "code",
   "execution_count": 11,
   "metadata": {},
   "outputs": [],
   "source": [
    "import torch.nn as nn\n",
    "import torch.nn.functional as F\n",
    "\n",
    "from transformers import TrainingArguments\n",
    "from transformers import Trainer\n",
    "\n",
    "class DistillationTrainingArguments(TrainingArguments): # 상속\n",
    "    def __init__(self, *args, alpha=0.5, temperature = 2.0, **kwargs):\n",
    "        super().__init__(*args, **kwargs)\n",
    "        self.alpha = alpha\n",
    "        self.temperature = temperature\n",
    "\n",
    "class DistillationTrainer(Trainer):\n",
    "    def __init__(self, *args, teacher_model=None, **kwargs):\n",
    "        super().__init__(*args, **kwargs)\n",
    "        self.teacher_model = teacher_model\n",
    "\n",
    "    def compute_loss(self, model, inputs, return_outputs=False, **kwargs):\n",
    "        device = torch.device(\"cuda\" if torch.cuda.is_available() else \"cpu\")\n",
    "        inputs = inputs.to(device)\n",
    "\n",
    "        outputs_stu = model(**inputs)\n",
    "        # 스튜던트의 크로스 손실과 로짓\n",
    "        loss_ce = outputs_stu.loss\n",
    "        logits_stu = outputs_stu.logits\n",
    "        \n",
    "        # 티처의 로짓\n",
    "        with torch.no_grad():\n",
    "            outputs_tea = self.teacher_model(**inputs)\n",
    "            logits_tea = outputs_tea.logits\n",
    "        \n",
    "        # 소프트 확률 계산\n",
    "        loss_fct = nn.KLDivLoss(reduction=\"batchmean\")\n",
    "        loss_kd = self.args.temperature ** 2 * loss_fct(\n",
    "            F.log_softmax(logits_stu / self.args.temperature, dim=-1),\n",
    "            F.softmax(logits_tea / self.args.temperature, dim=-1))\n",
    "        # 가중 평균된 스튜던트 손실을 반환합니다\n",
    "        loss = self.args.alpha * loss_ce + (1. - self.args.alpha) * loss_kd\n",
    "        return (loss, outputs_stu) if return_outputs else loss"
   ]
  },
  {
   "cell_type": "code",
   "execution_count": 12,
   "metadata": {},
   "outputs": [],
   "source": [
    "from transformers import AutoTokenizer\n",
    "\n",
    "student_ckpt = \"distilbert-base-uncased\"\n",
    "student_tokenizer = AutoTokenizer.from_pretrained(student_ckpt)\n",
    "\n",
    "def tokenize_text(batch):\n",
    "    return student_tokenizer(batch[\"text\"], truncation=True)\n",
    "\n",
    "clinic_enc = clinic.map(tokenize_text, batched=True, remove_columns=[\"text\"]) # 모델 입력 전처리\n",
    "clinic_enc = clinic_enc.rename_column(\"intent\",\"labels\") # intent 컬럼을 모델에서 요구하는 labels 로 변경"
   ]
  },
  {
   "cell_type": "code",
   "execution_count": 13,
   "metadata": {},
   "outputs": [],
   "source": [
    "from huggingface_hub import login\n",
    "import json\n",
    "\n",
    "with open(\"hf_key_token.json\") as f:\n",
    "    token = json.load(f)[\"hf_key_token\"]\n",
    "\n",
    "login(token)"
   ]
  },
  {
   "cell_type": "code",
   "execution_count": 14,
   "metadata": {},
   "outputs": [],
   "source": [
    "# 정확도 측정\n",
    "def compute_metrics(pred):\n",
    "    predictions, labels = pred\n",
    "    predictions = np.argmax(predictions, axis=1)\n",
    "    accuracy_metrics = load(\"accuracy\")\n",
    "    return accuracy_metrics.compute(predictions=predictions, references=labels)"
   ]
  },
  {
   "cell_type": "markdown",
   "metadata": {},
   "source": [
    "### 스튜던트 모델 설정(with out knoledge distil)"
   ]
  },
  {
   "cell_type": "code",
   "execution_count": 15,
   "metadata": {},
   "outputs": [],
   "source": [
    "# 훈련 args 설정\n",
    "finetuned_ckpt = \"distilbert-base-uncased-finetuned-clinic-alpha_1\"\n",
    "student_training_args = DistillationTrainingArguments(\n",
    "    output_dir = finetuned_ckpt,\n",
    "    eval_strategy = \"epoch\",\n",
    "    num_train_epochs = 5,\n",
    "    learning_rate = 2e-5,\n",
    "    per_device_train_batch_size = 48,\n",
    "    per_device_eval_batch_size = 48,\n",
    "    alpha=1, # 우선 Teacher 없이 훈련\n",
    "    weight_decay = 0.01, # 가중치 크기 제한\n",
    "    push_to_hub = True\n",
    ")"
   ]
  },
  {
   "cell_type": "code",
   "execution_count": 16,
   "metadata": {},
   "outputs": [],
   "source": [
    "id2label = pipe.model.config.id2label\n",
    "label2id = pipe.model.config.label2id"
   ]
  },
  {
   "cell_type": "code",
   "execution_count": 17,
   "metadata": {},
   "outputs": [],
   "source": [
    "from transformers import AutoConfig\n",
    "\n",
    "num_labels = intents.num_classes\n",
    "student_config = AutoConfig.from_pretrained(student_ckpt,\n",
    "                                            num_labels=num_labels,\n",
    "                                            id2label=id2label,\n",
    "                                            label2id=label2id)\n"
   ]
  },
  {
   "cell_type": "code",
   "execution_count": 18,
   "metadata": {},
   "outputs": [],
   "source": [
    "device = torch.device(\"cpu\")"
   ]
  },
  {
   "cell_type": "code",
   "execution_count": 19,
   "metadata": {},
   "outputs": [],
   "source": [
    "import torch\n",
    "from transformers import AutoModelForSequenceClassification\n",
    "\n",
    "def student_init():\n",
    "    return AutoModelForSequenceClassification.from_pretrained(student_ckpt,\n",
    "                                                              config=student_config).to(device)"
   ]
  },
  {
   "cell_type": "markdown",
   "metadata": {},
   "source": [
    "### 티쳐 로드 및 파인튜닝"
   ]
  },
  {
   "cell_type": "code",
   "execution_count": 20,
   "metadata": {},
   "outputs": [
    {
     "name": "stderr",
     "output_type": "stream",
     "text": [
      "huggingface/tokenizers: The current process just got forked, after parallelism has already been used. Disabling parallelism to avoid deadlocks...\n",
      "To disable this warning, you can either:\n",
      "\t- Avoid using `tokenizers` before the fork if possible\n",
      "\t- Explicitly set the environment variable TOKENIZERS_PARALLELISM=(true | false)\n",
      "/tmp/ipykernel_16456/3768645800.py:15: FutureWarning: `tokenizer` is deprecated and will be removed in version 5.0.0 for `DistillationTrainer.__init__`. Use `processing_class` instead.\n",
      "  super().__init__(*args, **kwargs)\n",
      "Some weights of DistilBertForSequenceClassification were not initialized from the model checkpoint at distilbert-base-uncased and are newly initialized: ['classifier.bias', 'classifier.weight', 'pre_classifier.bias', 'pre_classifier.weight']\n",
      "You should probably TRAIN this model on a down-stream task to be able to use it for predictions and inference.\n"
     ]
    }
   ],
   "source": [
    "teacher_ckpt = \"transformersbook/bert-base-uncased-finetuned-clinc\"\n",
    "teacher_model = (AutoModelForSequenceClassification.from_pretrained(teacher_ckpt,\n",
    "                                                                    num_labels=num_labels)\n",
    "                .to(device))\n",
    "\n",
    "distilbert_trainer = DistillationTrainer(model_init=student_init,\n",
    "                                         teacher_model=teacher_model,\n",
    "                                         args = student_training_args,\n",
    "                                         train_dataset = clinic_enc['train'],\n",
    "                                         eval_dataset = clinic_enc['validation'],\n",
    "                                         compute_metrics=compute_metrics,\n",
    "                                         tokenizer=student_tokenizer)"
   ]
  },
  {
   "cell_type": "code",
   "execution_count": 416,
   "metadata": {},
   "outputs": [
    {
     "name": "stderr",
     "output_type": "stream",
     "text": [
      "huggingface/tokenizers: The current process just got forked, after parallelism has already been used. Disabling parallelism to avoid deadlocks...\n",
      "To disable this warning, you can either:\n",
      "\t- Avoid using `tokenizers` before the fork if possible\n",
      "\t- Explicitly set the environment variable TOKENIZERS_PARALLELISM=(true | false)\n",
      "/tmp/ipykernel_5548/3768645800.py:15: FutureWarning: `tokenizer` is deprecated and will be removed in version 5.0.0 for `DistillationTrainer.__init__`. Use `processing_class` instead.\n",
      "  super().__init__(*args, **kwargs)\n",
      "Some weights of DistilBertForSequenceClassification were not initialized from the model checkpoint at distilbert-base-uncased and are newly initialized: ['classifier.bias', 'classifier.weight', 'pre_classifier.bias', 'pre_classifier.weight']\n",
      "You should probably TRAIN this model on a down-stream task to be able to use it for predictions and inference.\n",
      "Some weights of DistilBertForSequenceClassification were not initialized from the model checkpoint at distilbert-base-uncased and are newly initialized: ['classifier.bias', 'classifier.weight', 'pre_classifier.bias', 'pre_classifier.weight']\n",
      "You should probably TRAIN this model on a down-stream task to be able to use it for predictions and inference.\n"
     ]
    },
    {
     "data": {
      "text/html": [
       "\n",
       "    <div>\n",
       "      \n",
       "      <progress value='1590' max='1590' style='width:300px; height:20px; vertical-align: middle;'></progress>\n",
       "      [1590/1590 03:26, Epoch 5/5]\n",
       "    </div>\n",
       "    <table border=\"1\" class=\"dataframe\">\n",
       "  <thead>\n",
       " <tr style=\"text-align: left;\">\n",
       "      <th>Epoch</th>\n",
       "      <th>Training Loss</th>\n",
       "      <th>Validation Loss</th>\n",
       "      <th>Accuracy</th>\n",
       "    </tr>\n",
       "  </thead>\n",
       "  <tbody>\n",
       "    <tr>\n",
       "      <td>1</td>\n",
       "      <td>No log</td>\n",
       "      <td>3.296381</td>\n",
       "      <td>0.728065</td>\n",
       "    </tr>\n",
       "    <tr>\n",
       "      <td>2</td>\n",
       "      <td>3.799400</td>\n",
       "      <td>1.883754</td>\n",
       "      <td>0.843871</td>\n",
       "    </tr>\n",
       "    <tr>\n",
       "      <td>3</td>\n",
       "      <td>3.799400</td>\n",
       "      <td>1.172914</td>\n",
       "      <td>0.888387</td>\n",
       "    </tr>\n",
       "    <tr>\n",
       "      <td>4</td>\n",
       "      <td>1.711900</td>\n",
       "      <td>0.877697</td>\n",
       "      <td>0.912903</td>\n",
       "    </tr>\n",
       "    <tr>\n",
       "      <td>5</td>\n",
       "      <td>0.919300</td>\n",
       "      <td>0.793625</td>\n",
       "      <td>0.918710</td>\n",
       "    </tr>\n",
       "  </tbody>\n",
       "</table><p>"
      ],
      "text/plain": [
       "<IPython.core.display.HTML object>"
      ]
     },
     "metadata": {},
     "output_type": "display_data"
    },
    {
     "data": {
      "text/plain": [
       "TrainOutput(global_step=1590, training_loss=2.066276003279776, metrics={'train_runtime': 207.0963, 'train_samples_per_second': 368.186, 'train_steps_per_second': 7.678, 'total_flos': 414689637990180.0, 'train_loss': 2.066276003279776, 'epoch': 5.0})"
      ]
     },
     "execution_count": 416,
     "metadata": {},
     "output_type": "execute_result"
    }
   ],
   "source": [
    "distilbert_trainer.train()"
   ]
  },
  {
   "cell_type": "code",
   "execution_count": 417,
   "metadata": {},
   "outputs": [
    {
     "name": "stderr",
     "output_type": "stream",
     "text": [
      "model.safetensors: 100%|██████████| 268M/268M [00:18<00:00, 14.7MB/s] \n"
     ]
    },
    {
     "data": {
      "text/plain": [
       "CommitInfo(commit_url='https://huggingface.co/tommyjin/distilbert-base-uncased-finetuned-clinic-alpha_1/commit/76defc55a1f0ec60a9163f5a95cbc1ec42751731', commit_message=\"training done knowledge distillation with 'alpha=1', means its not a KD\", commit_description='', oid='76defc55a1f0ec60a9163f5a95cbc1ec42751731', pr_url=None, repo_url=RepoUrl('https://huggingface.co/tommyjin/distilbert-base-uncased-finetuned-clinic-alpha_1', endpoint='https://huggingface.co', repo_type='model', repo_id='tommyjin/distilbert-base-uncased-finetuned-clinic-alpha_1'), pr_revision=None, pr_num=None)"
      ]
     },
     "execution_count": 417,
     "metadata": {},
     "output_type": "execute_result"
    }
   ],
   "source": [
    "distilbert_trainer.push_to_hub(\"training done knowledge distillation with 'alpha=1', means its not a KD\")"
   ]
  },
  {
   "cell_type": "code",
   "execution_count": 21,
   "metadata": {},
   "outputs": [
    {
     "name": "stderr",
     "output_type": "stream",
     "text": [
      "Device set to use cpu\n"
     ]
    }
   ],
   "source": [
    "# model with out knoledge distil\n",
    "finetuned_ckpt = \"tommyjin/distilbert-base-uncased-finetuned-clinic-alpha_1\"\n",
    "pipe = pipeline(\"text-classification\", model=finetuned_ckpt, device=device)\n",
    "\n",
    "optim_type=\"Distil_BERT_with_alpha_1\"\n",
    "pb = PerformanceBenchMark(pipe, clinic[\"test\"],optim_type)"
   ]
  },
  {
   "cell_type": "code",
   "execution_count": 22,
   "metadata": {},
   "outputs": [
    {
     "name": "stdout",
     "output_type": "stream",
     "text": [
      "모델 크기 (mb) - 255.88\n",
      "평균 레이턴시(ms) : 17.38 +/- 2.95 (표준편차) \n",
      "정확도 : 0.723273\n"
     ]
    }
   ],
   "source": [
    "perf_metrics.update(pb.run_benchmark())"
   ]
  },
  {
   "cell_type": "code",
   "execution_count": 23,
   "metadata": {},
   "outputs": [
    {
     "data": {
      "text/plain": [
       "{'BERT baseline': {'size_mb': 418.1471004486084,\n",
       "  'time_avg_ms': np.float64(33.83912246998079),\n",
       "  'time_std_ms': np.float64(8.771837279651303),\n",
       "  'accuracy': 0.8672727272727273},\n",
       " 'Distil_BERT_with_alpha_1': {'size_mb': 255.88184547424316,\n",
       "  'time_avg_ms': np.float64(17.378263590053393),\n",
       "  'time_std_ms': np.float64(2.9482543935440177),\n",
       "  'accuracy': 0.7232727272727273}}"
      ]
     },
     "execution_count": 23,
     "metadata": {},
     "output_type": "execute_result"
    }
   ],
   "source": [
    "perf_metrics"
   ]
  },
  {
   "cell_type": "code",
   "execution_count": 24,
   "metadata": {},
   "outputs": [],
   "source": [
    "import matplotlib.pyplot as plt\n",
    "import pandas as pd\n",
    "\n",
    "def plot_metrics(perf_metrics, current_optim_type):\n",
    "    fig, ax = plt.subplots(figsize = (10,10))\n",
    "\n",
    "    df = pd.DataFrame.from_dict(perf_metrics, orient='index')\n",
    "    print()\n",
    "    for idx in df.index:\n",
    "        df_opt = df.loc[idx]\n",
    "        if idx == current_optim_type:\n",
    "            plt.scatter(df_opt[\"time_avg_ms\"],\n",
    "                        df_opt[\"accuracy\"]*100,\n",
    "                        alpha=0.5, s=df_opt[\"size_mb\"],\n",
    "                        label=f\"모델 : {idx},\\n사이즈: {round(df_opt['size_mb'])}mb\",\n",
    "                        marker=\"$\\u25cc$\")\n",
    "        else:\n",
    "            plt.scatter(df_opt[\"time_avg_ms\"],\n",
    "                        df_opt[\"accuracy\"]*100,\n",
    "                        alpha=0.5, s=df_opt[\"size_mb\"],\n",
    "                        label=f\"모델 : {idx},\\n사이즈: {round(df_opt['size_mb'])}mb\")\n",
    "    ax.legend(bbox_to_anchor = (1,0.3))\n",
    "    ax.set_ylim(70,90)\n",
    "    min_time = df[df[\"time_avg_ms\"]==df.min()[\"time_avg_ms\"]][\"time_avg_ms\"].values[0]\n",
    "    max_time = df[df[\"time_avg_ms\"]==df.max()[\"time_avg_ms\"]][\"time_avg_ms\"].values[0]\n",
    "    ax.set_xlim(min_time-3,max_time+3)\n",
    "    ax.set_ylabel(\"Accuracy Score\")\n",
    "    ax.set_xlabel(\"Average time in milliseconds\")\n",
    "    fig.tight_layout()\n",
    "    fig.show()"
   ]
  },
  {
   "cell_type": "code",
   "execution_count": 25,
   "metadata": {},
   "outputs": [
    {
     "name": "stdout",
     "output_type": "stream",
     "text": [
      "\n"
     ]
    },
    {
     "data": {
      "image/png": "[encoded data removed]",
      "text/plain": [
       "<Figure size 1000x1000 with 1 Axes>"
      ]
     },
     "metadata": {},
     "output_type": "display_data"
    }
   ],
   "source": [
    "plot_metrics(perf_metrics, optim_type)"
   ]
  },
  {
   "cell_type": "markdown",
   "metadata": {},
   "source": [
    "### grid search with Optuna"
   ]
  },
  {
   "cell_type": "markdown",
   "metadata": {},
   "source": [
    "- 예시 로젠부록의 바나 함수 최소값 찾기\n",
    "    $$ f(x,y) = (1-x)^2 + 100(y-x^2)^2 $$\n",
    "    최소 값은 (x, y) = (1, 1)"
   ]
  },
  {
   "cell_type": "code",
   "execution_count": null,
   "metadata": {},
   "outputs": [],
   "source": [
    "# example\n",
    "import optuna\n",
    "\n",
    "def banana(trail):\n",
    "    x = trail.suggest_float(\"x\", -2, 2)\n",
    "    y = trail.suggest_float(\"y\", -2, 2)\n",
    "    return (1-x) ** 2 + 100 * (y-x ** 2) ** 2\n",
    "\n",
    "study = optuna.create_study()\n",
    "study.optimize(banana, n_trials=1000)\n",
    "\n",
    "study.best_params"
   ]
  },
  {
   "cell_type": "markdown",
   "metadata": {},
   "source": [
    "### hyperparameter 찾기"
   ]
  },
  {
   "cell_type": "code",
   "execution_count": null,
   "metadata": {},
   "outputs": [],
   "source": [
    "def hp_space(trail):\n",
    "    return {\"num_train_epochs\" : trail.suggest_int(\"num_train_epoch\", 5, 10),\n",
    "            \"alpha\" : trail.suggest_float(\"alpha\", 0, 1),\n",
    "            \"temperature\" : trail.suggest_int(\"temperature\",2, 20)}\n",
    "\n",
    "best_run = distilbert_trainer.hyperparameter_search(\n",
    "    n_trials=20, direction=\"maximize\", hp_space=hp_space\n",
    ")"
   ]
  },
  {
   "cell_type": "code",
   "execution_count": 41,
   "metadata": {},
   "outputs": [
    {
     "name": "stdout",
     "output_type": "stream",
     "text": [
      "{'num_train_epoch': 9, 'alpha': 0.16484386886358915, 'temperature': 2}\n"
     ]
    }
   ],
   "source": [
    "print(best_run.hyperparameters)"
   ]
  },
  {
   "cell_type": "code",
   "execution_count": null,
   "metadata": {},
   "outputs": [],
   "source": [
    "# 매개변수 바꾸기\n",
    "for k,v in best_run.hyperparameters.items():\n",
    "    setattr(student_training_args,k,v)"
   ]
  },
  {
   "cell_type": "code",
   "execution_count": 53,
   "metadata": {},
   "outputs": [
    {
     "name": "stderr",
     "output_type": "stream",
     "text": [
      "/tmp/ipykernel_1919/3768645800.py:15: FutureWarning: `tokenizer` is deprecated and will be removed in version 5.0.0 for `DistillationTrainer.__init__`. Use `processing_class` instead.\n",
      "  super().__init__(*args, **kwargs)\n",
      "Some weights of DistilBertForSequenceClassification were not initialized from the model checkpoint at distilbert-base-uncased and are newly initialized: ['classifier.bias', 'classifier.weight', 'pre_classifier.bias', 'pre_classifier.weight']\n",
      "You should probably TRAIN this model on a down-stream task to be able to use it for predictions and inference.\n",
      "Some weights of DistilBertForSequenceClassification were not initialized from the model checkpoint at distilbert-base-uncased and are newly initialized: ['classifier.bias', 'classifier.weight', 'pre_classifier.bias', 'pre_classifier.weight']\n",
      "You should probably TRAIN this model on a down-stream task to be able to use it for predictions and inference.\n"
     ]
    },
    {
     "data": {
      "text/html": [
       "\n",
       "    <div>\n",
       "      \n",
       "      <progress value='2862' max='2862' style='width:300px; height:20px; vertical-align: middle;'></progress>\n",
       "      [2862/2862 06:06, Epoch 9/9]\n",
       "    </div>\n",
       "    <table border=\"1\" class=\"dataframe\">\n",
       "  <thead>\n",
       " <tr style=\"text-align: left;\">\n",
       "      <th>Epoch</th>\n",
       "      <th>Training Loss</th>\n",
       "      <th>Validation Loss</th>\n",
       "      <th>Accuracy</th>\n",
       "    </tr>\n",
       "  </thead>\n",
       "  <tbody>\n",
       "    <tr>\n",
       "      <td>1</td>\n",
       "      <td>No log</td>\n",
       "      <td>0.864051</td>\n",
       "      <td>0.709355</td>\n",
       "    </tr>\n",
       "    <tr>\n",
       "      <td>2</td>\n",
       "      <td>1.149700</td>\n",
       "      <td>0.400230</td>\n",
       "      <td>0.870323</td>\n",
       "    </tr>\n",
       "    <tr>\n",
       "      <td>3</td>\n",
       "      <td>1.149700</td>\n",
       "      <td>0.238067</td>\n",
       "      <td>0.911290</td>\n",
       "    </tr>\n",
       "    <tr>\n",
       "      <td>4</td>\n",
       "      <td>0.387300</td>\n",
       "      <td>0.189278</td>\n",
       "      <td>0.931290</td>\n",
       "    </tr>\n",
       "    <tr>\n",
       "      <td>5</td>\n",
       "      <td>0.204700</td>\n",
       "      <td>0.171596</td>\n",
       "      <td>0.933871</td>\n",
       "    </tr>\n",
       "    <tr>\n",
       "      <td>6</td>\n",
       "      <td>0.204700</td>\n",
       "      <td>0.163238</td>\n",
       "      <td>0.938710</td>\n",
       "    </tr>\n",
       "    <tr>\n",
       "      <td>7</td>\n",
       "      <td>0.165000</td>\n",
       "      <td>0.158935</td>\n",
       "      <td>0.939355</td>\n",
       "    </tr>\n",
       "    <tr>\n",
       "      <td>8</td>\n",
       "      <td>0.151000</td>\n",
       "      <td>0.156061</td>\n",
       "      <td>0.940000</td>\n",
       "    </tr>\n",
       "    <tr>\n",
       "      <td>9</td>\n",
       "      <td>0.151000</td>\n",
       "      <td>0.155195</td>\n",
       "      <td>0.940968</td>\n",
       "    </tr>\n",
       "  </tbody>\n",
       "</table><p>"
      ],
      "text/plain": [
       "<IPython.core.display.HTML object>"
      ]
     },
     "metadata": {},
     "output_type": "display_data"
    },
    {
     "data": {
      "text/plain": [
       "TrainOutput(global_step=2862, training_loss=0.3781438263707191, metrics={'train_runtime': 367.2666, 'train_samples_per_second': 373.707, 'train_steps_per_second': 7.793, 'total_flos': 745151547572796.0, 'train_loss': 0.3781438263707191, 'epoch': 9.0})"
      ]
     },
     "execution_count": 53,
     "metadata": {},
     "output_type": "execute_result"
    }
   ],
   "source": [
    "distilled_ckpt = \"distilbert-base-uncased-finetuned-clinic-best\"\n",
    "student_training_args.output_dir = distilled_ckpt\n",
    "\n",
    "distilbert_trainer = DistillationTrainer(model_init=student_init,\n",
    "                                         teacher_model=teacher_model,\n",
    "                                         args = student_training_args,\n",
    "                                         train_dataset = clinic_enc['train'],\n",
    "                                         eval_dataset = clinic_enc['validation'],\n",
    "                                         compute_metrics=compute_metrics,\n",
    "                                         tokenizer=student_tokenizer)\n",
    "\n",
    "distilbert_trainer.train()"
   ]
  },
  {
   "cell_type": "code",
   "execution_count": 54,
   "metadata": {},
   "outputs": [
    {
     "data": {
      "text/plain": [
       "CommitInfo(commit_url='https://huggingface.co/tommyjin/distilbert-base-uncased-finetuned-clinic-best/commit/468d04ce550c651a4c7acb57ba4e587784d95736', commit_message='best param with knoledge disllation.', commit_description='', oid='468d04ce550c651a4c7acb57ba4e587784d95736', pr_url=None, repo_url=RepoUrl('https://huggingface.co/tommyjin/distilbert-base-uncased-finetuned-clinic-best', endpoint='https://huggingface.co', repo_type='model', repo_id='tommyjin/distilbert-base-uncased-finetuned-clinic-best'), pr_revision=None, pr_num=None)"
      ]
     },
     "execution_count": 54,
     "metadata": {},
     "output_type": "execute_result"
    }
   ],
   "source": [
    "distilbert_trainer.push_to_hub(\"best param with knoledge disllation.\")"
   ]
  },
  {
   "cell_type": "code",
   "execution_count": 26,
   "metadata": {},
   "outputs": [
    {
     "name": "stderr",
     "output_type": "stream",
     "text": [
      "Device set to use cpu\n"
     ]
    }
   ],
   "source": [
    "# model with out knoledge distil\n",
    "finetuned_ckpt = \"tommyjin/distilbert-base-uncased-finetuned-clinic-best\"\n",
    "pipe = pipeline(\"text-classification\", model=finetuned_ckpt, device=device)\n",
    "\n",
    "optim_type=\"Distil_BERT_with_best_parm\"\n",
    "pb = PerformanceBenchMark(pipe, clinic[\"test\"],optim_type)"
   ]
  },
  {
   "cell_type": "code",
   "execution_count": 27,
   "metadata": {},
   "outputs": [
    {
     "name": "stdout",
     "output_type": "stream",
     "text": [
      "모델 크기 (mb) - 255.88\n",
      "평균 레이턴시(ms) : 17.77 +/- 2.42 (표준편차) \n",
      "정확도 : 0.868727\n"
     ]
    }
   ],
   "source": [
    "perf_metrics.update(pb.run_benchmark())"
   ]
  },
  {
   "cell_type": "code",
   "execution_count": 28,
   "metadata": {},
   "outputs": [
    {
     "name": "stdout",
     "output_type": "stream",
     "text": [
      "\n"
     ]
    },
    {
     "data": {
      "image/png": "[encoded data removed]",
      "text/plain": [
       "<Figure size 1000x1000 with 1 Axes>"
      ]
     },
     "metadata": {},
     "output_type": "display_data"
    }
   ],
   "source": [
    "plot_metrics(perf_metrics, optim_type)"
   ]
  },
  {
   "cell_type": "markdown",
   "metadata": {},
   "source": [
    "- The knowledge-distilled model performs even better than the teacher model."
   ]
  },
  {
   "cell_type": "markdown",
   "metadata": {},
   "source": [
    "### 양자화 하기(Quantization)"
   ]
  },
  {
   "cell_type": "markdown",
   "metadata": {},
   "source": [
    "- 일반으로 FP32 or FP16 or both 인 부동소수점 를 이용하는 대신 int8 와 같이 정밀도는 낮지만 빠른 계산과 모델의 경량화\n",
    "    - 부동 소수점(floating point) $$ 부호 + 유효숫자 + 지수 $$ $$ (-1)^0 \\times 1.5 \\times 10^2 $$\n",
    "\n",
    "- 기본적인 양자화 공식(이산화 discretize) $$ f = \\left( \\frac{f_{max}-f_{min}}{q_{max} - q_{min}} \\right)(q-Z)=S(q-Z)$$\n",
    "    - 원래의 범위 : $[f_{max},f_{min}]$\n",
    "    - 양자화 범위 : $[q_{max},q_{min}]$\n",
    "    - S : 스케일 인자 (양의 부동 소수점 숫자)\n",
    "    - f : 원래의 부동 소수점 값\n",
    "    - Z : zero point\n",
    "    - q : 양자화 값 $$q = \\text{round} \\left( \\frac{f}{S} \\right)+Z$$\n"
   ]
  },
  {
   "cell_type": "markdown",
   "metadata": {},
   "source": [
    "![quant_img](./images/08_01.png)"
   ]
  },
  {
   "cell_type": "markdown",
   "metadata": {},
   "source": [
    "- 어텐션 레이어의 양자화 예시"
   ]
  },
  {
   "cell_type": "code",
   "execution_count": null,
   "metadata": {},
   "outputs": [
    {
     "data": {
      "image/png": "[encoded data removed]",
      "text/plain": [
       "<Figure size 640x480 with 1 Axes>"
      ]
     },
     "metadata": {},
     "output_type": "display_data"
    }
   ],
   "source": [
    "import matplotlib.pyplot as plt\n",
    "\n",
    "# 1. 기본 어텐션 레이어 그래프\n",
    "state_dict = pipe.model.state_dict()\n",
    "weights = state_dict[\"distilbert.transformer.layer.0.attention.out_lin.weight\"].to(\"cpu\")\n",
    "plt.hist(weights.flatten().numpy(), bins=250, range=(-0.3,0.3), edgecolor=\"C0\")\n",
    "plt.show()"
   ]
  },
  {
   "cell_type": "markdown",
   "metadata": {},
   "source": [
    "8 비트 : $ [-2^7 ,2^7-1] = [-128, 127] $ <br>\n",
    "4 비트 : $ [-2^3 ,2^3-1] = [-8, 7] $"
   ]
  },
  {
   "cell_type": "code",
   "execution_count": 66,
   "metadata": {},
   "outputs": [
    {
     "data": {
      "text/plain": [
       "tensor(0.0053)"
      ]
     },
     "execution_count": 66,
     "metadata": {},
     "output_type": "execute_result"
    }
   ],
   "source": [
    "zero_point = 0\n",
    "scale = (weights.max() - weights.min()) / (127 - (-128)) # 8 비트로 양자화 시 매핑 범위[-128 ~ 127]\n",
    "scale # scale factor"
   ]
  },
  {
   "cell_type": "code",
   "execution_count": 157,
   "metadata": {},
   "outputs": [
    {
     "data": {
      "image/png": "[encoded data removed]",
      "text/plain": [
       "<Figure size 1000x500 with 1 Axes>"
      ]
     },
     "metadata": {},
     "output_type": "display_data"
    }
   ],
   "source": [
    "from torch import quantize_per_tensor\n",
    "\n",
    "quantized_weight = quantize_per_tensor(weights, scale, zero_point, torch.qint8)\n",
    "quantized_weight_repr = quantized_weight.int_repr() # 그래프에 그리기 위한 역 양자화 상위 매핑\n",
    "\n",
    "fig, ax = plt.subplots(figsize=(10,5))\n",
    "# 2. 양자화 된 어텐션 레이어 웨이트 분포 그래프\n",
    "plt.hist(quantized_weight_repr.flatten(),\n",
    "         bins=len(quantized_weight_repr.unique())*5,\n",
    "         edgecolor=\"C0\")\n",
    "plt.show()"
   ]
  },
  {
   "cell_type": "code",
   "execution_count": null,
   "metadata": {},
   "outputs": [
    {
     "name": "stdout",
     "output_type": "stream",
     "text": [
      "4 ms ± 234 μs per loop (mean ± std. dev. of 7 runs, 100 loops each)\n"
     ]
    }
   ],
   "source": [
    "%%timeit\n",
    "weights.to(\"cuda\") @ weights.to(\"cuda\")"
   ]
  },
  {
   "cell_type": "code",
   "execution_count": 284,
   "metadata": {},
   "outputs": [],
   "source": [
    "from torch.nn.quantized import QFunctional\n",
    "q_fn = QFunctional()"
   ]
  },
  {
   "cell_type": "code",
   "execution_count": 288,
   "metadata": {},
   "outputs": [
    {
     "name": "stdout",
     "output_type": "stream",
     "text": [
      "59.5 μs ± 7.36 μs per loop (mean ± std. dev. of 7 runs, 10,000 loops each)\n"
     ]
    }
   ],
   "source": [
    "%%timeit\n",
    "q_fn.mul(quantized_weight, quantized_weight).to(\"cuda\")"
   ]
  },
  {
   "cell_type": "code",
   "execution_count": 292,
   "metadata": {},
   "outputs": [
    {
     "name": "stdout",
     "output_type": "stream",
     "text": [
      "672.2689075630252 배 빠르다\n"
     ]
    }
   ],
   "source": [
    "print(0.04 / 0.0000595, \"배 빠르다\")"
   ]
  },
  {
   "cell_type": "markdown",
   "metadata": {},
   "source": [
    "- 파이토치의 양자연산을 위한 아키텍쳐\n",
    "    - AVX2 or 이상의 x86 CPU\n",
    "    - ARM CPU"
   ]
  },
  {
   "cell_type": "markdown",
   "metadata": {},
   "source": [
    "- 텐서 저장 크기 확인"
   ]
  },
  {
   "cell_type": "code",
   "execution_count": 318,
   "metadata": {},
   "outputs": [
    {
     "data": {
      "text/markdown": [
       "저장공간 차지 약 $ \\frac{2359352}{589880} $ : 4.00 배"
      ],
      "text/plain": [
       "<IPython.core.display.Markdown object>"
      ]
     },
     "execution_count": 318,
     "metadata": {},
     "output_type": "execute_result"
    }
   ],
   "source": [
    "from IPython.display import Markdown\n",
    "import sys\n",
    "\n",
    "# 계산된 결과\n",
    "a = sys.getsizeof(weights.storage())\n",
    "b = sys.getsizeof(quantized_weight.storage())\n",
    "\n",
    "# Markdown 출력\n",
    "Markdown(f\"저장공간 차지 약 $ \\\\frac{{{a}}}{{{b}}} $ : {a / b:0.2f} 배\")"
   ]
  },
  {
   "cell_type": "markdown",
   "metadata": {},
   "source": [
    "### 다양한 종류의 양자화\n",
    "- 동적 양자화 : \n",
    "    - 추론 과정에서의 양자화\n",
    "    - 추론 전에 int8 로 변환.\n",
    "- 정적 양자화 :\n",
    "    - 훈련중 양자화가 적용(주로 가중치 양자화)\n",
    "    - 양자화 체계를 (scheme)을 사전정의 -> 부동 소수점 변환을 피한다.\n",
    "    - 훈련과 추론의 정밀도 차이로 인해 정확도가 떨어질 수 있다. "
   ]
  },
  {
   "cell_type": "code",
   "execution_count": 29,
   "metadata": {},
   "outputs": [],
   "source": [
    "from torch.quantization import quantize_dynamic\n",
    "\n",
    "# 모델과 토크나이저 로딩\n",
    "finetuned_ckpt = \"tommyjin/distilbert-base-uncased-finetuned-clinic-best\"\n",
    "tokenizer = AutoTokenizer.from_pretrained(finetuned_ckpt)\n",
    "model = AutoModelForSequenceClassification.from_pretrained(finetuned_ckpt).to(\"cpu\")\n",
    "\n",
    "# 양자화를 수행할 레이어를 리니어 계층으로 지정\n",
    "# 여기서는 모델의 모든 Linear 레이어만 양자화\n",
    "quantized_model = quantize_dynamic(\n",
    "    model, \n",
    "    {torch.nn.Linear},  # Linear 층만 양자화\n",
    "    dtype=torch.qint8    # 양자화 타입 (여기서는 int8)\n",
    ")"
   ]
  },
  {
   "cell_type": "code",
   "execution_count": 30,
   "metadata": {},
   "outputs": [
    {
     "name": "stderr",
     "output_type": "stream",
     "text": [
      "Device set to use cpu\n"
     ]
    },
    {
     "name": "stdout",
     "output_type": "stream",
     "text": [
      "모델 크기 (mb) - 132.39\n",
      "평균 레이턴시(ms) : 8.51 +/- 1.19 (표준편차) \n",
      "정확도 : 0.878727\n"
     ]
    }
   ],
   "source": [
    "pipe = pipeline(\"text-classification\",\n",
    "                model=quantized_model,\n",
    "                tokenizer=tokenizer,\n",
    "                device=device)\n",
    "\n",
    "optim_type=\"Distil_BERT_with_best_parm_quant8\"\n",
    "pb = PerformanceBenchMark(pipe, clinic[\"test\"],optim_type)\n",
    "perf_metrics.update(pb.run_benchmark())"
   ]
  },
  {
   "cell_type": "code",
   "execution_count": 31,
   "metadata": {},
   "outputs": [
    {
     "name": "stdout",
     "output_type": "stream",
     "text": [
      "\n"
     ]
    },
    {
     "data": {
      "image/png": "[encoded data removed]",
      "text/plain": [
       "<Figure size 1000x1000 with 1 Axes>"
      ]
     },
     "metadata": {},
     "output_type": "display_data"
    }
   ],
   "source": [
    "plot_metrics(perf_metrics, optim_type)"
   ]
  },
  {
   "cell_type": "markdown",
   "metadata": {},
   "source": [
    "### ONNX 런타임을 이용한 추론 최적화\n",
    "- ORT (Operation fusion) 과 Constant folding 등의 그래프 최적화 도구를 제공\n",
    "- GPU 나 CPU 에 맞춰 최적화된 세션을 설정한다."
   ]
  },
  {
   "cell_type": "code",
   "execution_count": null,
   "metadata": {},
   "outputs": [],
   "source": [
    "# pip install onnxruntime\n",
    "# pip install onnxruntime-genai"
   ]
  },
  {
   "cell_type": "code",
   "execution_count": 32,
   "metadata": {},
   "outputs": [],
   "source": [
    "import os\n",
    "from psutil import cpu_count\n",
    "\n",
    "# cpu 병령 처리를 위한 환경 변수 설정\n",
    "os.environ[\"OMP_NUM_THREADS\"] = f\"{cpu_count()}\"\n",
    "os.environ[\"OMP_WAIT_POLICY\"] = \"ACTIVATE\""
   ]
  },
  {
   "cell_type": "code",
   "execution_count": 56,
   "metadata": {},
   "outputs": [
    {
     "name": "stderr",
     "output_type": "stream",
     "text": [
      "huggingface/tokenizers: The current process just got forked, after parallelism has already been used. Disabling parallelism to avoid deadlocks...\n",
      "To disable this warning, you can either:\n",
      "\t- Avoid using `tokenizers` before the fork if possible\n",
      "\t- Explicitly set the environment variable TOKENIZERS_PARALLELISM=(true | false)\n"
     ]
    }
   ],
   "source": [
    "import torch\n",
    "\n",
    "# Set the device to CPU\n",
    "device = torch.device('cpu')\n",
    "!export CUDA_VISIBLE_DEVICES=\"\""
   ]
  },
  {
   "cell_type": "code",
   "execution_count": 60,
   "metadata": {},
   "outputs": [],
   "source": [
    "import torch\n",
    "\n",
    "torch.cuda.is_available = lambda : False"
   ]
  },
  {
   "cell_type": "code",
   "execution_count": 62,
   "metadata": {},
   "outputs": [
    {
     "name": "stderr",
     "output_type": "stream",
     "text": [
      "Device set to use cpu\n"
     ]
    },
    {
     "name": "stdout",
     "output_type": "stream",
     "text": [
      "CUDA Available: False\n",
      "ONNX opset version set to: 14\n",
      "Loading pipeline (model: DistilBertForSequenceClassification(\n",
      "  (distilbert): DistilBertModel(\n",
      "    (embeddings): Embeddings(\n",
      "      (word_embeddings): Embedding(30522, 768, padding_idx=0)\n",
      "      (position_embeddings): Embedding(512, 768)\n",
      "      (LayerNorm): LayerNorm((768,), eps=1e-12, elementwise_affine=True)\n",
      "      (dropout): Dropout(p=0.1, inplace=False)\n",
      "    )\n",
      "    (transformer): Transformer(\n",
      "      (layer): ModuleList(\n",
      "        (0-5): 6 x TransformerBlock(\n",
      "          (attention): DistilBertSdpaAttention(\n",
      "            (dropout): Dropout(p=0.1, inplace=False)\n",
      "            (q_lin): Linear(in_features=768, out_features=768, bias=True)\n",
      "            (k_lin): Linear(in_features=768, out_features=768, bias=True)\n",
      "            (v_lin): Linear(in_features=768, out_features=768, bias=True)\n",
      "            (out_lin): Linear(in_features=768, out_features=768, bias=True)\n",
      "          )\n",
      "          (sa_layer_norm): LayerNorm((768,), eps=1e-12, elementwise_affine=True)\n",
      "          (ffn): FFN(\n",
      "            (dropout): Dropout(p=0.1, inplace=False)\n",
      "            (lin1): Linear(in_features=768, out_features=3072, bias=True)\n",
      "            (lin2): Linear(in_features=3072, out_features=768, bias=True)\n",
      "            (activation): GELUActivation()\n",
      "          )\n",
      "          (output_layer_norm): LayerNorm((768,), eps=1e-12, elementwise_affine=True)\n",
      "        )\n",
      "      )\n",
      "    )\n",
      "  )\n",
      "  (pre_classifier): Linear(in_features=768, out_features=768, bias=True)\n",
      "  (classifier): Linear(in_features=768, out_features=151, bias=True)\n",
      "  (dropout): Dropout(p=0.2, inplace=False)\n",
      "), tokenizer: DistilBertTokenizerFast(name_or_path='tommyjin/distilbert-base-uncased-finetuned-clinic-best', vocab_size=30522, model_max_length=512, is_fast=True, padding_side='right', truncation_side='right', special_tokens={'unk_token': '[UNK]', 'sep_token': '[SEP]', 'pad_token': '[PAD]', 'cls_token': '[CLS]', 'mask_token': '[MASK]'}, clean_up_tokenization_spaces=False, added_tokens_decoder={\n",
      "\t0: AddedToken(\"[PAD]\", rstrip=False, lstrip=False, single_word=False, normalized=False, special=True),\n",
      "\t100: AddedToken(\"[UNK]\", rstrip=False, lstrip=False, single_word=False, normalized=False, special=True),\n",
      "\t101: AddedToken(\"[CLS]\", rstrip=False, lstrip=False, single_word=False, normalized=False, special=True),\n",
      "\t102: AddedToken(\"[SEP]\", rstrip=False, lstrip=False, single_word=False, normalized=False, special=True),\n",
      "\t103: AddedToken(\"[MASK]\", rstrip=False, lstrip=False, single_word=False, normalized=False, special=True),\n",
      "}\n",
      "))\n",
      "Creating folder onnx\n",
      "Using framework PyTorch: 2.5.1+cu124\n",
      "Found input input_ids with shape: {0: 'batch', 1: 'sequence'}\n",
      "Found input attention_mask with shape: {0: 'batch', 1: 'sequence'}\n",
      "Found output output_0 with shape: {0: 'batch'}\n",
      "Ensuring inputs are in correct order\n",
      "head_mask is not present in the generated input list.\n",
      "Generated inputs order: ['input_ids', 'attention_mask']\n"
     ]
    }
   ],
   "source": [
    "from transformers.convert_graph_to_onnx import convert\n",
    "from transformers import AutoModelForSequenceClassification, AutoTokenizer\n",
    "from pathlib import Path\n",
    "\n",
    "# 모델과 토크나이저 로딩\n",
    "finetuned_ckpt = \"tommyjin/distilbert-base-uncased-finetuned-clinic-best\"\n",
    "tokenizer = AutoTokenizer.from_pretrained(finetuned_ckpt, device=device)\n",
    "model = AutoModelForSequenceClassification.from_pretrained(finetuned_ckpt).to(device)\n",
    "onnx_model_path = Path(\"onnx/model.onnx\")\n",
    "\n",
    "print(\"CUDA Available:\", torch.cuda.is_available()) \n",
    "\n",
    "# Convert to ONNX\n",
    "convert(\n",
    "    framework=\"pt\",\n",
    "    model=model,\n",
    "    tokenizer=tokenizer,\n",
    "    output=onnx_model_path,\n",
    "    opset=14,\n",
    "    pipeline_name=\"text-classification\",\n",
    "    device=device\n",
    ")"
   ]
  },
  {
   "cell_type": "code",
   "execution_count": 63,
   "metadata": {},
   "outputs": [],
   "source": [
    "from onnxruntime import (GraphOptimizationLevel, # 그래프 수준 최적화\n",
    "                         InferenceSession, # 모델을 로드하고 추론을 수행하는 세션을 생성\n",
    "                         SessionOptions) # 옵션설정\n",
    "\n",
    "def create_model_for_provider(model_path, provider = \"CPUExecutionProvider\"): # provider 기본설정은 cpu\n",
    "    options = SessionOptions() \n",
    "    options.intra_op_num_threads = 1 # 모델 추론시 thread 수\n",
    "    options.graph_optimization_level = GraphOptimizationLevel.ORT_DISABLE_ALL\n",
    "    session = InferenceSession(str(model_path), options,  providers=[provider]) # 모델 로드\n",
    "    session.disable_fallback() # 특정 프로바이더가 아니면 오류를 발생시키게끔\n",
    "    return session\n",
    "\n",
    "onnx_model = create_model_for_provider(onnx_model_path)"
   ]
  },
  {
   "cell_type": "code",
   "execution_count": 108,
   "metadata": {},
   "outputs": [
    {
     "data": {
      "text/plain": [
       "(np.int64(61), [61])"
      ]
     },
     "execution_count": 108,
     "metadata": {},
     "output_type": "execute_result"
    }
   ],
   "source": [
    "np.argmax(onnx_model.run(None, {k:v for k,v in clinic_enc[\"test\"][:1].items()\n",
    "                                if k != \"labels\"})) , clinic_enc[\"test\"][:1]['labels']"
   ]
  },
  {
   "cell_type": "code",
   "execution_count": 147,
   "metadata": {},
   "outputs": [
    {
     "data": {
      "text/plain": [
       "tensor([0.2501, 0.3376, 0.4123], dtype=torch.float64)"
      ]
     },
     "execution_count": 147,
     "metadata": {},
     "output_type": "execute_result"
    }
   ],
   "source": [
    "torch.softmax(torch.tensor(np.array([0.2,0.5,0.7])), dim=0)"
   ]
  },
  {
   "cell_type": "code",
   "execution_count": 160,
   "metadata": {},
   "outputs": [
    {
     "data": {
      "text/plain": [
       "[{'label': 'car_rental', 'score': np.float32(0.6914883)}]"
      ]
     },
     "execution_count": 160,
     "metadata": {},
     "output_type": "execute_result"
    }
   ],
   "source": [
    "# onnx 추론 및 loss 계산 파이프 라인 만들기\n",
    "from scipy.special import softmax\n",
    "\n",
    "class OnnxPipe():\n",
    "    def __init__(self, model, tokenizer):\n",
    "        self.model = model\n",
    "        self.tokenizer = tokenizer\n",
    "\n",
    "    def __call__(self, query):\n",
    "        model_input = self.tokenizer(query, return_tensors=\"pt\")\n",
    "        input_onnx = {k:v.cpu().detach().numpy() for k,v in model_input.items()}\n",
    "        logits = self.model.run(None, input_onnx)[0][0,:]\n",
    "        probs = softmax(logits)\n",
    "        pred_idx = np.argmax(probs).item()\n",
    "        return [{\"label\" : intents.int2str(pred_idx),\n",
    "                 \"score\" : probs[pred_idx]}]\n",
    "    \n",
    "# onnx 벤치 마크 클래스 만들기\n",
    "class OnnxBench(PerformanceBenchMark):\n",
    "    def __init__(self, *args, model_path, **kwargs):\n",
    "        super().__init__(*args, **kwargs)\n",
    "        self.model_path = model_path\n",
    "    \n",
    "    def compute_size(self):\n",
    "        size_mb = Path(self.model_path).stat().st_size / (1024 * 1024)\n",
    "        print(f\"모델 크기 (mb) - {size_mb:.2f}\")\n",
    "        return {\"size_mb\" : size_mb}\n",
    "\n",
    "# test pipe\n",
    "onnx_pipe = OnnxPipe(onnx_model, tokenizer)\n",
    "onnx_pipe(\"hello im looking for a car for rent\")"
   ]
  },
  {
   "cell_type": "code",
   "execution_count": 161,
   "metadata": {},
   "outputs": [],
   "source": [
    "optim_type = \"distill + ORT with onnx\"\n",
    "pb = OnnxBench(onnx_pipe, clinic[\"test\"], optim_type, model_path=\"onnx/model.onnx\")"
   ]
  },
  {
   "cell_type": "code",
   "execution_count": 162,
   "metadata": {},
   "outputs": [
    {
     "name": "stdout",
     "output_type": "stream",
     "text": [
      "모델 크기 (mb) - 255.98\n",
      "평균 레이턴시(ms) : 14.57 +/- 0.19 (표준편차) \n",
      "정확도 : 0.868727\n"
     ]
    }
   ],
   "source": [
    "perf_metrics.update(pb.run_benchmark())"
   ]
  },
  {
   "cell_type": "code",
   "execution_count": 165,
   "metadata": {},
   "outputs": [],
   "source": [
    "# onnx + 양자화 (리니어 층과, 임베딩층의 양자화)\n",
    "from onnxruntime.quantization import quantize_dynamic, QuantType\n",
    "\n",
    "model_from = \"onnx/model.onnx\"\n",
    "model_to_q8 = \"onnx/model.quant8.onnx\"\n",
    "quantize_dynamic(model_from, model_to_q8, weight_type=QuantType.QInt8)"
   ]
  },
  {
   "cell_type": "code",
   "execution_count": 166,
   "metadata": {},
   "outputs": [
    {
     "name": "stdout",
     "output_type": "stream",
     "text": [
      "모델 크기 (mb) - 64.37\n",
      "평균 레이턴시(ms) : 8.64 +/- 0.33 (표준편차) \n",
      "정확도 : 0.876727\n"
     ]
    }
   ],
   "source": [
    "onnx_q8_model = create_model_for_provider(model_to_q8)\n",
    "onnx_q8_pipe = OnnxPipe(onnx_q8_model, tokenizer)\n",
    "optim_type = \"distil, onnx, ORT(q8)\"\n",
    "pb = OnnxBench(onnx_q8_pipe, clinic[\"test\"], optim_type, model_path=model_to_q8)\n",
    "perf_metrics.update(pb.run_benchmark())"
   ]
  },
  {
   "cell_type": "markdown",
   "metadata": {},
   "source": [
    "- onnx 로 얻은 모델은 사이즈가 base 모델 대비 64mb 작고(85% 경량화)\n",
    "- 속도도 드라마틱 하게 빠르다."
   ]
  },
  {
   "cell_type": "code",
   "execution_count": 167,
   "metadata": {},
   "outputs": [
    {
     "name": "stdout",
     "output_type": "stream",
     "text": [
      "\n"
     ]
    },
    {
     "data": {
      "image/png": "[encoded data removed]",
      "text/plain": [
       "<Figure size 1000x1000 with 1 Axes>"
      ]
     },
     "metadata": {},
     "output_type": "display_data"
    }
   ],
   "source": [
    "plot_metrics(perf_metrics, optim_type)"
   ]
  },
  {
   "cell_type": "code",
   "execution_count": 178,
   "metadata": {},
   "outputs": [],
   "source": [
    "# # 현재 까지의 dict 저장하기\n",
    "# with open(\"08_perf_metrics.json\", \"w\") as json_file:\n",
    "#     json.dump(perf_metrics, json_file, indent=4)"
   ]
  },
  {
   "cell_type": "code",
   "execution_count": 179,
   "metadata": {},
   "outputs": [],
   "source": [
    "# 현재 까지의 dict 저장하기\n",
    "with open(\"08_perf_metrics.json\", \"r\") as json_file:\n",
    "    perf_metrics = json.load(json_file)"
   ]
  },
  {
   "cell_type": "markdown",
   "metadata": {},
   "source": [
    "### Weight Pruning으로 Sparce 한 모델 만들기"
   ]
  },
  {
   "cell_type": "markdown",
   "metadata": {},
   "source": [
    "- 가중치 가지치기 : 중요 하지 않은(중요도 점수 기준) 특정 노드의 연결을 끊는다.\n",
    "- 중요도 점수 : $$ \\text{Top}_k (S)_{i,j} =\n",
    "                \\begin{cases}\n",
    "                 1 & \\text{ if 'S' is maximum} \\\\\n",
    "                 0 & \\text{ else }\n",
    "                \\end{cases} $$\n",
    "    - 즉 가장 영향력이 높은 k 개의 노드만 1이 되고 나머지는 0 이되는 Onehot vector 와 유사한 희소한 형태가 된다. (k 에 따라 변함)\n",
    "- 전체 공식 : $$ a_i = \\sum_{j} W_{ij} M_{ij} x_{ij} $$\n",
    "    - $x$ : intput\n",
    "    - $M$ : $W_{ij}$ 를 1 또는 0으로 만들어주는 마스킹\n",
    "    - $W$ : Weights"
   ]
  },
  {
   "cell_type": "markdown",
   "metadata": {},
   "source": [
    "- 다양한 가지치기 종류\n",
    "    1.\t**Magnitude-based Pruning (절대값 가지치기)**\n",
    "\t2.\tRandom Pruning (랜덤 가지치기)\n",
    "\t3.\tImportance-based Pruning (중요도 기반 가지치기)\n",
    "\t4.\tStructured Pruning (구조적 가지치기)\n",
    "\t5.\t**Dynamic Pruning (Iterative Pruning) (동적 가지치기 / 반복적 가지치기)**\n",
    "\t6.\tLayer-wise Pruning (층별 가지치기)\n",
    "\t7.\tSparsity Constraints Pruning (희소성 제약 가지치기)"
   ]
  },
  {
   "cell_type": "markdown",
   "metadata": {},
   "source": [
    "### Magnitude-based Pruning : 절대값 가지치기\n",
    "- 가중치의 절대값의 크기에 따라 점수 계산후 마스크를 만들고, 원하는 희소성에 도달할 때 까지 반복\n",
    "    - $S=(|W_{ij}|)_{i \\leq j, j \\leq n}$\n",
    "    - $M=\\text{Top}_k (S)$\n",
    "- 단점 : 계산량이 많다. 매단계마다 모델을 훈련시켜 수렴시켜야 한다.(그러므로 점진적으로 증가시키는 편이 낫다.)\n",
    "    $$ s_t = s_f + (s_i - s_f) \\left( 1-\\frac{t - t_0}{N \\Delta t} \\right)$$\n",
    "    - 여기서 $t \\in \\{t_0, t_0 + \\Delta t\\, ... N \\Delta t \\} $\n",
    "    - s : 중요도 점수 (점진적으로 증가함)\n",
    "\n",
    "### Dynamic Pruning (Iterative Pruning) : 동적 가지치기\n",
    "- 파인 튜닝 과정중에 점진적으로 가중치를 제거해 희소한 모델로 만든다.\n",
    "- 파인 튜닝중에 가중치와 점수(s) 값또한 학습이 된다.\n",
    "- $S$ 도 역시 경사 하강법을 통해 학습이 된다.\n",
    "- $S$ 학습이 끝난 후에 $M=\\text{top}_k (S)$ 를 이용하여 간단하게 마스크를 생성한다.\n"
   ]
  }
 ],
 "metadata": {
  "kernelspec": {
   "display_name": "t",
   "language": "python",
   "name": "python3"
  },
  "language_info": {
   "codemirror_mode": {
    "name": "ipython",
    "version": 3
   },
   "file_extension": ".py",
   "mimetype": "text/x-python",
   "name": "python",
   "nbconvert_exporter": "python",
   "pygments_lexer": "ipython3",
   "version": "3.11.11"
  }
 },
 "nbformat": 4,
 "nbformat_minor": 2
}
