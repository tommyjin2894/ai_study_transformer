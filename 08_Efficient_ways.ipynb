{
 "cells": [
  {
   "cell_type": "markdown",
   "metadata": {},
   "source": [
    "### 모델 경량화 및 효율적인 트랜스포머 구축\n",
    "\n",
    "1. **knowledge distillation** (지식 증류)\n",
    "2. **quantization** (양자화)\n",
    "3. **pruning** (가지치기)\n",
    "4. Graph Optimization with **ONNX**"
   ]
  },
  {
   "cell_type": "markdown",
   "metadata": {},
   "source": [
    "### 의도 탐지 (intent detection task)\n",
    "\n",
    "- 경량화된 모델로 빠른 의도탐지를 하여 분류하여 원하는 정보를 고객에게 전달 <br>\n",
    "    (ex.상담원 없이 챗봇으로 고객의 의도를 파악하여 계좌 정보를 제공 등)\n",
    "- 사전 정의된 의도에 대한 쿼리가 저장되어있지 않으면 대체응답을 출력해야한다."
   ]
  },
  {
   "cell_type": "code",
   "execution_count": 13,
   "metadata": {},
   "outputs": [
    {
     "name": "stderr",
     "output_type": "stream",
     "text": [
      "Device set to use cuda:0\n"
     ]
    }
   ],
   "source": [
    "from transformers import pipeline\n",
    "\n",
    "bert_ckpt = \"transformersbook/bert-base-uncased-finetuned-clinc\"\n",
    "pipe = pipeline(\"text-classification\", model=bert_ckpt)"
   ]
  },
  {
   "cell_type": "code",
   "execution_count": 14,
   "metadata": {},
   "outputs": [
    {
     "data": {
      "text/plain": [
       "[{'label': 'car_rental', 'score': 0.5490033626556396}]"
      ]
     },
     "execution_count": 14,
     "metadata": {},
     "output_type": "execute_result"
    }
   ],
   "source": [
    "query = \"\"\"hey, i'd like to rent a vehicle\n",
    "from nov 1st to nov 15th in paris \n",
    "and i need a 15 passenger van\"\"\"\n",
    "\n",
    "pipe(query)"
   ]
  },
  {
   "cell_type": "code",
   "execution_count": 15,
   "metadata": {},
   "outputs": [
    {
     "data": {
      "text/plain": [
       "'transfer'"
      ]
     },
     "execution_count": 15,
     "metadata": {},
     "output_type": "execute_result"
    }
   ],
   "source": [
    "# 데이터 셋 불러오기\n",
    "from datasets import load_dataset\n",
    "from evaluate import load\n",
    "\n",
    "clinic = load_dataset(\"clinc_oos\", \"plus\")\n",
    "intents = clinic[\"test\"].features[\"intent\"]\n",
    "sample_feature_int = clinic[\"test\"][42][\"intent\"]\n",
    "\n",
    "intents.int2str(sample_feature_int)"
   ]
  },
  {
   "cell_type": "markdown",
   "metadata": {},
   "source": [
    "### 효율적인 밴치마크를 위한 함수정의"
   ]
  },
  {
   "cell_type": "code",
   "execution_count": 16,
   "metadata": {},
   "outputs": [],
   "source": [
    "import torch\n",
    "import numpy as np\n",
    "from pathlib import Path\n",
    "from time import perf_counter\n",
    "\n",
    "class PerformanceBenchMark:\n",
    "    def __init__(self, pipeline, dataset, optim_type = 'BERT baseline'):\n",
    "        self.pipeline = pipeline\n",
    "        self.dataset = dataset\n",
    "        self.optim_type = optim_type\n",
    "    \n",
    "    # 모델 정확도 파악 함수\n",
    "    def compute_accuracy(self):\n",
    "        preds, labels = [], []\n",
    "        for example in self.dataset:\n",
    "            pred = self.pipeline(example[\"text\"])[0]['label']\n",
    "            label = example['intent']\n",
    "            preds.append(intents.str2int(pred))\n",
    "            labels.append(label)\n",
    "        accuracy = load(\"accuracy\").compute(predictions=preds,references=labels)\n",
    "        print(f\"정확도 : {accuracy['accuracy']:3f}\")\n",
    "        return accuracy\n",
    "\n",
    "    # 모델 사이즈 파악 함수\n",
    "    def compute_size(self):\n",
    "        state_dict = self.pipeline.model.state_dict()\n",
    "        tmp_path = Path(\"model.pt\") # 임시 파일 생성\n",
    "        torch.save(state_dict, tmp_path)\n",
    "        size_mb = Path(tmp_path).stat().st_size / (1024 * 1024)\n",
    "        tmp_path.unlink() # 임시 파일 삭제\n",
    "        print(f\"모델 크기 (mb) - {size_mb:.2f}\")\n",
    "        return {\"size_mb\" : size_mb}\n",
    "\n",
    "    # 모델 소요 시간 파악 함수\n",
    "    def time_pipeline(self, query=\"can i rent a EV?\"):\n",
    "        latencies = []\n",
    "        # 워밍업\n",
    "        for _ in range(10):\n",
    "            _ = self.pipeline(query)\n",
    "        # 실제 측정\n",
    "        for _ in range(100):\n",
    "            start_time = perf_counter()\n",
    "            _ = self.pipeline(query)\n",
    "            latency = perf_counter() - start_time\n",
    "            latencies.append(latency)\n",
    "        \n",
    "        time_avg_ms = 1000 * np.mean(latencies)\n",
    "        time_std_ms = 1000 * np.std(latencies)\n",
    "        print(f\"평균 레이턴시(ms) : {time_avg_ms:.2f} +/- {time_std_ms:.2f} (표준편차) \")\n",
    "        return {\"time_avg_ms\" :time_avg_ms,\n",
    "                \"time_std_ms\":time_std_ms}\n",
    "    \n",
    "    # 총 모델의 벤치마크 함수\n",
    "    def run_benchmark(self):\n",
    "        metrics = {}\n",
    "        metrics[self.optim_type] = self.compute_size()\n",
    "        metrics[self.optim_type].update(self.time_pipeline())\n",
    "        metrics[self.optim_type].update(self.compute_accuracy())\n",
    "        \n",
    "        return metrics"
   ]
  },
  {
   "cell_type": "code",
   "execution_count": 17,
   "metadata": {},
   "outputs": [],
   "source": [
    "pb = PerformanceBenchMark(pipe, clinic[\"test\"])"
   ]
  },
  {
   "cell_type": "code",
   "execution_count": 18,
   "metadata": {},
   "outputs": [
    {
     "name": "stdout",
     "output_type": "stream",
     "text": [
      "모델 크기 (mb) - 418.15\n"
     ]
    },
    {
     "name": "stderr",
     "output_type": "stream",
     "text": [
      "You seem to be using the pipelines sequentially on GPU. In order to maximize efficiency please use a dataset\n"
     ]
    },
    {
     "name": "stdout",
     "output_type": "stream",
     "text": [
      "평균 레이턴시(ms) : 9.14 +/- 1.39 (표준편차) \n",
      "정확도 : 0.867273\n"
     ]
    }
   ],
   "source": [
    "perf_metrics = pb.run_benchmark()"
   ]
  },
  {
   "cell_type": "markdown",
   "metadata": {},
   "source": [
    "### Knowledge Distillation (지식 증류)\n",
    "- **티쳐 모델의 확률 분포** ($ p_i $), **스튜던트 모델의 확률 분포** ($ q_i $)\n",
    "- **Dark Knowledge**: 정답 레이블만으로는 얻을 수 없는 티쳐 모델의 부가적인 정보(예: 틀린 클래스들 간의 확률 관계).\n",
    "- **Soft Probability**: 정답 레이블뿐 아니라 티쳐 모델의 확률 분포를 활용해 스튜던트 모델에 추가적인 정보를 전달.\n",
    "\n",
    "<u> **Dark knowledge 가 있기 때문에 soft probability 를 활용해 모델 전달** </u>\n",
    "\n",
    "- 과정\n",
    "   1. **모델 출력 로짓 벡터**:\n",
    "      $$\n",
    "      z(x) = [z_1(x), z_2(x), ..., z_N(x)]\n",
    "      $$\n",
    "\n",
    "   2. **로짓 벡터에 소프트맥스 함수 적용**:  \n",
    "      $$\n",
    "      \\text{Softmax}(z_i) = \\frac{\\exp(z_i)}{\\sum_j \\exp(z_j)}\n",
    "      $$\n",
    "\n",
    "   3. **소프트 확률 분포 생성**:  \n",
    "      모델의 확률 분포를 \"소프트하게\" 만들기 위해, **온도 매개변수** $T$ 를 도입하여 소프트맥스에 적용<br>\n",
    "      높은 확률 값을 낮추고, 낮은 확률 값을 높이는 효과:  \n",
    "      $$\n",
    "      p_i(x) = \\frac{\\exp(z_i(x)/T)}{\\sum_j \\exp(z_j(x)/T)}\n",
    "      $$  \n",
    "      여기서 $ T > 1 $일수록 분포가 더욱 완만.\n",
    "\n",
    "   4. **KL Divergence로 확률 분포의 차이를 측정**:\n",
    "      티쳐 모델의 확률 분포 $ p_i $와 스튜던트 모델의 확률 분포 $ q_i $ 간의 차이를 측정.: <br>\n",
    "      여기서 KL Divergence 를 최소화 하는 것은, 우도의 최대화 <br>\n",
    "      **두 확률분포의 차이를 최소화 = 두 확률분포의 같게함(?)을 최대화**\n",
    "      $$\n",
    "      D_{KL}(p || q) = \\sum_i p_i(x) \\log{\\frac{p_i(x)}{q_i(x)}}\n",
    "      $$\n",
    "\n",
    "   5. **Knowledge Distillation 손실 ($ L_{KD} $)**:  \n",
    "      온도 $ T $의 영향을 보정하기 위해 $ T^2 $를 곱한 형태로 KL Divergence를 계산.:  \n",
    "      $$\n",
    "      L_{KD} = T^2 \\cdot \\sum_i p_i(x) \\log{\\frac{p_i(x)}{q_i(x)}}\n",
    "      $$\n",
    "\n",
    "   6. **스튜던트 모델의 총 손실 ($ L_{student} $)**:  \n",
    "      Knowledge Distillation에서 스튜던트 모델은 두 가지 손실의 가중합을 최소화.:  \n",
    "      - **Cross-Entropy Loss** ($ L_{CE} $): 스튜던트 모델의 예측값과 실제 레이블 간의 손실.  \n",
    "      - **Knowledge Distillation Loss** ($ L_{KD} $): 스튜던트 모델과 티쳐 모델의 확률 분포 간의 차이.  \n",
    "      총 손실:\n",
    "      $$\n",
    "      L_{student} = \\alpha L_{CE} + (1 - \\alpha) L_{KD}\n",
    "      $$  \n",
    "      여기서 $ \\alpha $는 두 손실의 가중치를 조절하는 하이퍼파라미터.\n",
    "\n",
    "   ---\n",
    "\n",
    "   <u>**즉, 스튜던트 모델의 손실은 기존 학습의 Cross-Entropy Loss와 티쳐 모델과의 KL Divergence 손실의 가중합으로 계산된다.**</u>"
   ]
  },
  {
   "cell_type": "markdown",
   "metadata": {},
   "source": [
    "### KD(knoledge distillation) 을 위한 트레이너 만들기"
   ]
  },
  {
   "cell_type": "code",
   "execution_count": 19,
   "metadata": {},
   "outputs": [],
   "source": [
    "import torch.nn as nn\n",
    "import torch.nn.functional as F\n",
    "\n",
    "from transformers import TrainingArguments\n",
    "from transformers import Trainer\n",
    "\n",
    "class DistillationTrainingArguments(TrainingArguments): # 상속\n",
    "    def __init__(self, *args, alpha=0.5, temperature = 2.0, **kwargs):\n",
    "        super().__init__(*args, **kwargs)\n",
    "        self.alpha = alpha\n",
    "        self.temperature = temperature\n",
    "\n",
    "class DistillationTrainer(Trainer):\n",
    "    def __init__(self, *args, teacher_model=None, **kwargs):\n",
    "        super().__init__(*args, **kwargs)\n",
    "        self.teacher_model = teacher_model\n",
    "\n",
    "    def compute_loss(self, model, inputs, return_outputs=False, **kwargs):\n",
    "        device = torch.device(\"cuda\" if torch.cuda.is_available() else \"cpu\")\n",
    "        inputs = inputs.to(device)\n",
    "\n",
    "        outputs_stu = model(**inputs)\n",
    "        # 스튜던트의 크로스 손실과 로짓\n",
    "        loss_ce = outputs_stu.loss\n",
    "        logits_stu = outputs_stu.logits\n",
    "        \n",
    "        # 티처의 로짓\n",
    "        with torch.no_grad():\n",
    "            outputs_tea = self.teacher_model(**inputs)\n",
    "            logits_tea = outputs_tea.logits\n",
    "        \n",
    "        # 소프트 확률 계산\n",
    "        loss_fct = nn.KLDivLoss(reduction=\"batchmean\")\n",
    "        loss_kd = self.args.temperature ** 2 * loss_fct(\n",
    "            F.log_softmax(logits_stu / self.args.temperature, dim=-1),\n",
    "            F.softmax(logits_tea / self.args.temperature, dim=-1))\n",
    "        # 가중 평균된 스튜던트 손실을 반환합니다\n",
    "        loss = self.args.alpha * loss_ce + (1. - self.args.alpha) * loss_kd\n",
    "        return (loss, outputs_stu) if return_outputs else loss"
   ]
  },
  {
   "cell_type": "code",
   "execution_count": 20,
   "metadata": {},
   "outputs": [],
   "source": [
    "from transformers import AutoTokenizer\n",
    "\n",
    "student_ckpt = \"distilbert-base-uncased\"\n",
    "student_tokenizer = AutoTokenizer.from_pretrained(student_ckpt)\n",
    "\n",
    "def tokenize_text(batch):\n",
    "    return student_tokenizer(batch[\"text\"], truncation=True)\n",
    "\n",
    "clinic_enc = clinic.map(tokenize_text, batched=True, remove_columns=[\"text\"]) # 모델 입력 전처리\n",
    "clinic_enc = clinic_enc.rename_column(\"intent\",\"labels\") # intent 컬럼을 모델에서 요구하는 labels 로 변경"
   ]
  },
  {
   "cell_type": "code",
   "execution_count": 21,
   "metadata": {},
   "outputs": [],
   "source": [
    "from huggingface_hub import login\n",
    "import json\n",
    "\n",
    "with open(\"hf_key_token.json\") as f:\n",
    "    token = json.load(f)[\"hf_key_token\"]\n",
    "\n",
    "login(token)"
   ]
  },
  {
   "cell_type": "code",
   "execution_count": 22,
   "metadata": {},
   "outputs": [],
   "source": [
    "# 정확도 측정\n",
    "def compute_metrics(pred):\n",
    "    predictions, labels = pred\n",
    "    predictions = np.argmax(predictions, axis=1)\n",
    "    accuracy_metrics = load(\"accuracy\")\n",
    "    return accuracy_metrics.compute(predictions=predictions, references=labels)"
   ]
  },
  {
   "cell_type": "markdown",
   "metadata": {},
   "source": [
    "### 스튜던트 모델 설정(with out knoledge distil)"
   ]
  },
  {
   "cell_type": "code",
   "execution_count": 23,
   "metadata": {},
   "outputs": [],
   "source": [
    "# 훈련 args 설정\n",
    "finetuned_ckpt = \"distilbert-base-uncased-finetuned-clinic-alpha_1\"\n",
    "student_training_args = DistillationTrainingArguments(\n",
    "    output_dir = finetuned_ckpt,\n",
    "    eval_strategy = \"epoch\",\n",
    "    num_train_epochs = 5,\n",
    "    learning_rate = 2e-5,\n",
    "    per_device_train_batch_size = 48,\n",
    "    per_device_eval_batch_size = 48,\n",
    "    alpha=1, # 우선 Teacher 없이 훈련\n",
    "    weight_decay = 0.01, # 가중치 크기 제한\n",
    "    push_to_hub = True\n",
    ")"
   ]
  },
  {
   "cell_type": "code",
   "execution_count": 24,
   "metadata": {},
   "outputs": [],
   "source": [
    "id2label = pipe.model.config.id2label\n",
    "label2id = pipe.model.config.label2id"
   ]
  },
  {
   "cell_type": "code",
   "execution_count": 25,
   "metadata": {},
   "outputs": [],
   "source": [
    "from transformers import AutoConfig\n",
    "\n",
    "num_labels = intents.num_classes\n",
    "student_config = AutoConfig.from_pretrained(student_ckpt,\n",
    "                                            num_labels=num_labels,\n",
    "                                            id2label=id2label,\n",
    "                                            label2id=label2id)\n"
   ]
  },
  {
   "cell_type": "code",
   "execution_count": 26,
   "metadata": {},
   "outputs": [],
   "source": [
    "device = torch.device(\"cuda\" if torch.cuda.is_available() else \"cpu\")"
   ]
  },
  {
   "cell_type": "code",
   "execution_count": 27,
   "metadata": {},
   "outputs": [],
   "source": [
    "import torch\n",
    "from transformers import AutoModelForSequenceClassification\n",
    "\n",
    "def student_init():\n",
    "    return AutoModelForSequenceClassification.from_pretrained(student_ckpt,\n",
    "                                                              config=student_config).to(device)"
   ]
  },
  {
   "cell_type": "markdown",
   "metadata": {},
   "source": [
    "### 티쳐 로드 및 파인튜닝"
   ]
  },
  {
   "cell_type": "code",
   "execution_count": 35,
   "metadata": {},
   "outputs": [
    {
     "name": "stderr",
     "output_type": "stream",
     "text": [
      "huggingface/tokenizers: The current process just got forked, after parallelism has already been used. Disabling parallelism to avoid deadlocks...\n",
      "To disable this warning, you can either:\n",
      "\t- Avoid using `tokenizers` before the fork if possible\n",
      "\t- Explicitly set the environment variable TOKENIZERS_PARALLELISM=(true | false)\n",
      "/tmp/ipykernel_1919/3768645800.py:15: FutureWarning: `tokenizer` is deprecated and will be removed in version 5.0.0 for `DistillationTrainer.__init__`. Use `processing_class` instead.\n",
      "  super().__init__(*args, **kwargs)\n",
      "Some weights of DistilBertForSequenceClassification were not initialized from the model checkpoint at distilbert-base-uncased and are newly initialized: ['classifier.bias', 'classifier.weight', 'pre_classifier.bias', 'pre_classifier.weight']\n",
      "You should probably TRAIN this model on a down-stream task to be able to use it for predictions and inference.\n"
     ]
    }
   ],
   "source": [
    "teacher_ckpt = \"transformersbook/bert-base-uncased-finetuned-clinc\"\n",
    "teacher_model = (AutoModelForSequenceClassification.from_pretrained(teacher_ckpt,\n",
    "                                                                    num_labels=num_labels)\n",
    "                .to(device))\n",
    "\n",
    "distilbert_trainer = DistillationTrainer(model_init=student_init,\n",
    "                                         teacher_model=teacher_model,\n",
    "                                         args = student_training_args,\n",
    "                                         train_dataset = clinic_enc['train'],\n",
    "                                         eval_dataset = clinic_enc['validation'],\n",
    "                                         compute_metrics=compute_metrics,\n",
    "                                         tokenizer=student_tokenizer)"
   ]
  },
  {
   "cell_type": "code",
   "execution_count": 416,
   "metadata": {},
   "outputs": [
    {
     "name": "stderr",
     "output_type": "stream",
     "text": [
      "huggingface/tokenizers: The current process just got forked, after parallelism has already been used. Disabling parallelism to avoid deadlocks...\n",
      "To disable this warning, you can either:\n",
      "\t- Avoid using `tokenizers` before the fork if possible\n",
      "\t- Explicitly set the environment variable TOKENIZERS_PARALLELISM=(true | false)\n",
      "/tmp/ipykernel_5548/3768645800.py:15: FutureWarning: `tokenizer` is deprecated and will be removed in version 5.0.0 for `DistillationTrainer.__init__`. Use `processing_class` instead.\n",
      "  super().__init__(*args, **kwargs)\n",
      "Some weights of DistilBertForSequenceClassification were not initialized from the model checkpoint at distilbert-base-uncased and are newly initialized: ['classifier.bias', 'classifier.weight', 'pre_classifier.bias', 'pre_classifier.weight']\n",
      "You should probably TRAIN this model on a down-stream task to be able to use it for predictions and inference.\n",
      "Some weights of DistilBertForSequenceClassification were not initialized from the model checkpoint at distilbert-base-uncased and are newly initialized: ['classifier.bias', 'classifier.weight', 'pre_classifier.bias', 'pre_classifier.weight']\n",
      "You should probably TRAIN this model on a down-stream task to be able to use it for predictions and inference.\n"
     ]
    },
    {
     "data": {
      "text/html": [
       "\n",
       "    <div>\n",
       "      \n",
       "      <progress value='1590' max='1590' style='width:300px; height:20px; vertical-align: middle;'></progress>\n",
       "      [1590/1590 03:26, Epoch 5/5]\n",
       "    </div>\n",
       "    <table border=\"1\" class=\"dataframe\">\n",
       "  <thead>\n",
       " <tr style=\"text-align: left;\">\n",
       "      <th>Epoch</th>\n",
       "      <th>Training Loss</th>\n",
       "      <th>Validation Loss</th>\n",
       "      <th>Accuracy</th>\n",
       "    </tr>\n",
       "  </thead>\n",
       "  <tbody>\n",
       "    <tr>\n",
       "      <td>1</td>\n",
       "      <td>No log</td>\n",
       "      <td>3.296381</td>\n",
       "      <td>0.728065</td>\n",
       "    </tr>\n",
       "    <tr>\n",
       "      <td>2</td>\n",
       "      <td>3.799400</td>\n",
       "      <td>1.883754</td>\n",
       "      <td>0.843871</td>\n",
       "    </tr>\n",
       "    <tr>\n",
       "      <td>3</td>\n",
       "      <td>3.799400</td>\n",
       "      <td>1.172914</td>\n",
       "      <td>0.888387</td>\n",
       "    </tr>\n",
       "    <tr>\n",
       "      <td>4</td>\n",
       "      <td>1.711900</td>\n",
       "      <td>0.877697</td>\n",
       "      <td>0.912903</td>\n",
       "    </tr>\n",
       "    <tr>\n",
       "      <td>5</td>\n",
       "      <td>0.919300</td>\n",
       "      <td>0.793625</td>\n",
       "      <td>0.918710</td>\n",
       "    </tr>\n",
       "  </tbody>\n",
       "</table><p>"
      ],
      "text/plain": [
       "<IPython.core.display.HTML object>"
      ]
     },
     "metadata": {},
     "output_type": "display_data"
    },
    {
     "data": {
      "text/plain": [
       "TrainOutput(global_step=1590, training_loss=2.066276003279776, metrics={'train_runtime': 207.0963, 'train_samples_per_second': 368.186, 'train_steps_per_second': 7.678, 'total_flos': 414689637990180.0, 'train_loss': 2.066276003279776, 'epoch': 5.0})"
      ]
     },
     "execution_count": 416,
     "metadata": {},
     "output_type": "execute_result"
    }
   ],
   "source": [
    "distilbert_trainer.train()"
   ]
  },
  {
   "cell_type": "code",
   "execution_count": 417,
   "metadata": {},
   "outputs": [
    {
     "name": "stderr",
     "output_type": "stream",
     "text": [
      "model.safetensors: 100%|██████████| 268M/268M [00:18<00:00, 14.7MB/s] \n"
     ]
    },
    {
     "data": {
      "text/plain": [
       "CommitInfo(commit_url='https://huggingface.co/tommyjin/distilbert-base-uncased-finetuned-clinic-alpha_1/commit/76defc55a1f0ec60a9163f5a95cbc1ec42751731', commit_message=\"training done knowledge distillation with 'alpha=1', means its not a KD\", commit_description='', oid='76defc55a1f0ec60a9163f5a95cbc1ec42751731', pr_url=None, repo_url=RepoUrl('https://huggingface.co/tommyjin/distilbert-base-uncased-finetuned-clinic-alpha_1', endpoint='https://huggingface.co', repo_type='model', repo_id='tommyjin/distilbert-base-uncased-finetuned-clinic-alpha_1'), pr_revision=None, pr_num=None)"
      ]
     },
     "execution_count": 417,
     "metadata": {},
     "output_type": "execute_result"
    }
   ],
   "source": [
    "distilbert_trainer.push_to_hub(\"training done knowledge distillation with 'alpha=1', means its not a KD\")"
   ]
  },
  {
   "cell_type": "code",
   "execution_count": 28,
   "metadata": {},
   "outputs": [
    {
     "name": "stderr",
     "output_type": "stream",
     "text": [
      "Device set to use cuda:0\n"
     ]
    }
   ],
   "source": [
    "# model with out knoledge distil\n",
    "finetuned_ckpt = \"tommyjin/distilbert-base-uncased-finetuned-clinic-alpha_1\"\n",
    "pipe = pipeline(\"text-classification\", model=finetuned_ckpt)\n",
    "\n",
    "optim_type=\"Distil_BERT_with_alpha_1\"\n",
    "pb = PerformanceBenchMark(pipe, clinic[\"test\"],optim_type)"
   ]
  },
  {
   "cell_type": "code",
   "execution_count": 29,
   "metadata": {},
   "outputs": [
    {
     "name": "stdout",
     "output_type": "stream",
     "text": [
      "모델 크기 (mb) - 255.88\n",
      "평균 레이턴시(ms) : 7.34 +/- 3.28 (표준편차) \n",
      "정확도 : 0.854182\n"
     ]
    }
   ],
   "source": [
    "perf_metrics.update(pb.run_benchmark())"
   ]
  },
  {
   "cell_type": "code",
   "execution_count": 30,
   "metadata": {},
   "outputs": [
    {
     "data": {
      "text/plain": [
       "{'BERT baseline': {'size_mb': 418.1497859954834,\n",
       "  'time_avg_ms': np.float64(9.136281360028988),\n",
       "  'time_std_ms': np.float64(1.389884651511108),\n",
       "  'accuracy': 0.8672727272727273},\n",
       " 'Distil_BERT_with_alpha_1': {'size_mb': 255.8832492828369,\n",
       "  'time_avg_ms': np.float64(7.336545080011092),\n",
       "  'time_std_ms': np.float64(3.280441046292632),\n",
       "  'accuracy': 0.8541818181818182}}"
      ]
     },
     "execution_count": 30,
     "metadata": {},
     "output_type": "execute_result"
    }
   ],
   "source": [
    "perf_metrics"
   ]
  },
  {
   "cell_type": "code",
   "execution_count": 31,
   "metadata": {},
   "outputs": [],
   "source": [
    "import matplotlib.pyplot as plt\n",
    "import pandas as pd\n",
    "\n",
    "def plot_metrics(perf_metrics, current_optim_type):\n",
    "    fig, ax = plt.subplots(figsize = (7,7))\n",
    "\n",
    "    df = pd.DataFrame.from_dict(perf_metrics, orient='index')\n",
    "    print()\n",
    "    for idx in df.index:\n",
    "        df_opt = df.loc[idx]\n",
    "        if idx == current_optim_type:\n",
    "            plt.scatter(df_opt[\"time_avg_ms\"],\n",
    "                        df_opt[\"accuracy\"]*100,\n",
    "                        alpha=0.5, s=df_opt[\"size_mb\"],\n",
    "                        label=f\"모델 : {idx},\\n사이즈: {round(df_opt['size_mb'])}mb\",\n",
    "                        marker=\"$\\u25cc$\")\n",
    "        else:\n",
    "            plt.scatter(df_opt[\"time_avg_ms\"],\n",
    "                        df_opt[\"accuracy\"]*100,\n",
    "                        alpha=0.5, s=df_opt[\"size_mb\"],\n",
    "                        label=f\"모델 : {idx},\\n사이즈: {round(df_opt['size_mb'])}mb\")\n",
    "    ax.legend(bbox_to_anchor = (1,0.2))\n",
    "    ax.set_ylim(80,90)\n",
    "    min_time = df[df[\"time_avg_ms\"]==df.min()[\"time_avg_ms\"]][\"time_avg_ms\"].values[0]\n",
    "    max_time = df[df[\"time_avg_ms\"]==df.max()[\"time_avg_ms\"]][\"time_avg_ms\"].values[0]\n",
    "    ax.set_xlim(min_time-3,max_time+3)\n",
    "    ax.set_ylabel(\"Accuracy Score\")\n",
    "    ax.set_xlabel(\"Average time in milliseconds\")\n",
    "    fig.tight_layout()\n",
    "    fig.show()"
   ]
  },
  {
   "cell_type": "code",
   "execution_count": 32,
   "metadata": {},
   "outputs": [
    {
     "name": "stdout",
     "output_type": "stream",
     "text": [
      "\n"
     ]
    },
    {
     "data": {
      "image/png": "[encoded data removed]",
      "text/plain": [
       "<Figure size 700x700 with 1 Axes>"
      ]
     },
     "metadata": {},
     "output_type": "display_data"
    }
   ],
   "source": [
    "plot_metrics(perf_metrics, optim_type)"
   ]
  },
  {
   "cell_type": "markdown",
   "metadata": {},
   "source": [
    "### grid search with Optuna"
   ]
  },
  {
   "cell_type": "markdown",
   "metadata": {},
   "source": [
    "- 예시 로젠부록의 바나 함수 최소값 찾기\n",
    "    $$ f(x,y) = (1-x)^2 + 100(y-x^2)^2 $$\n",
    "    최소 값은 (x, y) = (1, 1)"
   ]
  },
  {
   "cell_type": "code",
   "execution_count": null,
   "metadata": {},
   "outputs": [],
   "source": [
    "# example\n",
    "import optuna\n",
    "\n",
    "def banana(trail):\n",
    "    x = trail.suggest_float(\"x\", -2, 2)\n",
    "    y = trail.suggest_float(\"y\", -2, 2)\n",
    "    return (1-x) ** 2 + 100 * (y-x ** 2) ** 2\n",
    "\n",
    "study = optuna.create_study()\n",
    "study.optimize(banana, n_trials=1000)\n",
    "\n",
    "study.best_params"
   ]
  },
  {
   "cell_type": "markdown",
   "metadata": {},
   "source": [
    "### hyperparameter 찾기"
   ]
  },
  {
   "cell_type": "code",
   "execution_count": null,
   "metadata": {},
   "outputs": [],
   "source": [
    "def hp_space(trail):\n",
    "    return {\"num_train_epochs\" : trail.suggest_int(\"num_train_epoch\", 5, 10),\n",
    "            \"alpha\" : trail.suggest_float(\"alpha\", 0, 1),\n",
    "            \"temperature\" : trail.suggest_int(\"temperature\",2, 20)}\n",
    "\n",
    "best_run = distilbert_trainer.hyperparameter_search(\n",
    "    n_trials=20, direction=\"maximize\", hp_space=hp_space\n",
    ")"
   ]
  },
  {
   "cell_type": "code",
   "execution_count": 41,
   "metadata": {},
   "outputs": [
    {
     "name": "stdout",
     "output_type": "stream",
     "text": [
      "{'num_train_epoch': 9, 'alpha': 0.16484386886358915, 'temperature': 2}\n"
     ]
    }
   ],
   "source": [
    "print(best_run.hyperparameters)"
   ]
  },
  {
   "cell_type": "code",
   "execution_count": null,
   "metadata": {},
   "outputs": [],
   "source": [
    "# 매개변수 바꾸기\n",
    "for k,v in best_run.hyperparameters.items():\n",
    "    setattr(student_training_args,k,v)"
   ]
  },
  {
   "cell_type": "code",
   "execution_count": 53,
   "metadata": {},
   "outputs": [
    {
     "name": "stderr",
     "output_type": "stream",
     "text": [
      "/tmp/ipykernel_1919/3768645800.py:15: FutureWarning: `tokenizer` is deprecated and will be removed in version 5.0.0 for `DistillationTrainer.__init__`. Use `processing_class` instead.\n",
      "  super().__init__(*args, **kwargs)\n",
      "Some weights of DistilBertForSequenceClassification were not initialized from the model checkpoint at distilbert-base-uncased and are newly initialized: ['classifier.bias', 'classifier.weight', 'pre_classifier.bias', 'pre_classifier.weight']\n",
      "You should probably TRAIN this model on a down-stream task to be able to use it for predictions and inference.\n",
      "Some weights of DistilBertForSequenceClassification were not initialized from the model checkpoint at distilbert-base-uncased and are newly initialized: ['classifier.bias', 'classifier.weight', 'pre_classifier.bias', 'pre_classifier.weight']\n",
      "You should probably TRAIN this model on a down-stream task to be able to use it for predictions and inference.\n"
     ]
    },
    {
     "data": {
      "text/html": [
       "\n",
       "    <div>\n",
       "      \n",
       "      <progress value='2862' max='2862' style='width:300px; height:20px; vertical-align: middle;'></progress>\n",
       "      [2862/2862 06:06, Epoch 9/9]\n",
       "    </div>\n",
       "    <table border=\"1\" class=\"dataframe\">\n",
       "  <thead>\n",
       " <tr style=\"text-align: left;\">\n",
       "      <th>Epoch</th>\n",
       "      <th>Training Loss</th>\n",
       "      <th>Validation Loss</th>\n",
       "      <th>Accuracy</th>\n",
       "    </tr>\n",
       "  </thead>\n",
       "  <tbody>\n",
       "    <tr>\n",
       "      <td>1</td>\n",
       "      <td>No log</td>\n",
       "      <td>0.864051</td>\n",
       "      <td>0.709355</td>\n",
       "    </tr>\n",
       "    <tr>\n",
       "      <td>2</td>\n",
       "      <td>1.149700</td>\n",
       "      <td>0.400230</td>\n",
       "      <td>0.870323</td>\n",
       "    </tr>\n",
       "    <tr>\n",
       "      <td>3</td>\n",
       "      <td>1.149700</td>\n",
       "      <td>0.238067</td>\n",
       "      <td>0.911290</td>\n",
       "    </tr>\n",
       "    <tr>\n",
       "      <td>4</td>\n",
       "      <td>0.387300</td>\n",
       "      <td>0.189278</td>\n",
       "      <td>0.931290</td>\n",
       "    </tr>\n",
       "    <tr>\n",
       "      <td>5</td>\n",
       "      <td>0.204700</td>\n",
       "      <td>0.171596</td>\n",
       "      <td>0.933871</td>\n",
       "    </tr>\n",
       "    <tr>\n",
       "      <td>6</td>\n",
       "      <td>0.204700</td>\n",
       "      <td>0.163238</td>\n",
       "      <td>0.938710</td>\n",
       "    </tr>\n",
       "    <tr>\n",
       "      <td>7</td>\n",
       "      <td>0.165000</td>\n",
       "      <td>0.158935</td>\n",
       "      <td>0.939355</td>\n",
       "    </tr>\n",
       "    <tr>\n",
       "      <td>8</td>\n",
       "      <td>0.151000</td>\n",
       "      <td>0.156061</td>\n",
       "      <td>0.940000</td>\n",
       "    </tr>\n",
       "    <tr>\n",
       "      <td>9</td>\n",
       "      <td>0.151000</td>\n",
       "      <td>0.155195</td>\n",
       "      <td>0.940968</td>\n",
       "    </tr>\n",
       "  </tbody>\n",
       "</table><p>"
      ],
      "text/plain": [
       "<IPython.core.display.HTML object>"
      ]
     },
     "metadata": {},
     "output_type": "display_data"
    },
    {
     "data": {
      "text/plain": [
       "TrainOutput(global_step=2862, training_loss=0.3781438263707191, metrics={'train_runtime': 367.2666, 'train_samples_per_second': 373.707, 'train_steps_per_second': 7.793, 'total_flos': 745151547572796.0, 'train_loss': 0.3781438263707191, 'epoch': 9.0})"
      ]
     },
     "execution_count": 53,
     "metadata": {},
     "output_type": "execute_result"
    }
   ],
   "source": [
    "distilled_ckpt = \"distilbert-base-uncased-finetuned-clinic-best\"\n",
    "student_training_args.output_dir = distilled_ckpt\n",
    "\n",
    "distilbert_trainer = DistillationTrainer(model_init=student_init,\n",
    "                                         teacher_model=teacher_model,\n",
    "                                         args = student_training_args,\n",
    "                                         train_dataset = clinic_enc['train'],\n",
    "                                         eval_dataset = clinic_enc['validation'],\n",
    "                                         compute_metrics=compute_metrics,\n",
    "                                         tokenizer=student_tokenizer)\n",
    "\n",
    "distilbert_trainer.train()"
   ]
  },
  {
   "cell_type": "code",
   "execution_count": 54,
   "metadata": {},
   "outputs": [
    {
     "data": {
      "text/plain": [
       "CommitInfo(commit_url='https://huggingface.co/tommyjin/distilbert-base-uncased-finetuned-clinic-best/commit/468d04ce550c651a4c7acb57ba4e587784d95736', commit_message='best param with knoledge disllation.', commit_description='', oid='468d04ce550c651a4c7acb57ba4e587784d95736', pr_url=None, repo_url=RepoUrl('https://huggingface.co/tommyjin/distilbert-base-uncased-finetuned-clinic-best', endpoint='https://huggingface.co', repo_type='model', repo_id='tommyjin/distilbert-base-uncased-finetuned-clinic-best'), pr_revision=None, pr_num=None)"
      ]
     },
     "execution_count": 54,
     "metadata": {},
     "output_type": "execute_result"
    }
   ],
   "source": [
    "distilbert_trainer.push_to_hub(\"best param with knoledge disllation.\")"
   ]
  }
 ],
 "metadata": {
  "kernelspec": {
   "display_name": "t",
   "language": "python",
   "name": "python3"
  },
  "language_info": {
   "codemirror_mode": {
    "name": "ipython",
    "version": 3
   },
   "file_extension": ".py",
   "mimetype": "text/x-python",
   "name": "python",
   "nbconvert_exporter": "python",
   "pygments_lexer": "ipython3",
   "version": "3.11.11"
  }
 },
 "nbformat": 4,
 "nbformat_minor": 2
}
