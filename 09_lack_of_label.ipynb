{
 "cells": [
  {
   "cell_type": "markdown",
   "metadata": {},
   "source": [
    "### 레이블 부족문제 다루기\n",
    "| **특징**            | **Zero-shot**                              | **Few-shot**                              |\n",
    "|:----------------------:|:--------------------------------------------:|:-------------------------------------------:|\n",
    "| **레이블 수**       | 없음                                       | 매우 적음                                |\n",
    "| **모델 접근 방식**  | 사전 학습된 모델의 일반화 능력 활용         | 제한된 데이터로 추가 학습 또는 조정       |\n",
    "| **사용 사례**       | 완전히 새로운 태스크                        | 유사한 태스크지만 데이터가 적음          |"
   ]
  },
  {
   "cell_type": "markdown",
   "metadata": {},
   "source": [
    "- 레이블 데이터 ⬇️, 레이블 안된 데이터 ⬆️ 일때\n",
    "    - UDA(Unsupervised Data Augmentation) : 데이터 증강\n",
    "    - UST(Uncertainty-aware Self-training) : 불확실성(softmax 또는 베이지안 분포로 파악)이 낮은 모델만 추출"
   ]
  },
  {
   "cell_type": "markdown",
   "metadata": {},
   "source": [
    "### 데이터 셋 불러오고 전처리 하기"
   ]
  },
  {
   "cell_type": "code",
   "execution_count": 1,
   "metadata": {},
   "outputs": [
    {
     "name": "stdout",
     "output_type": "stream",
     "text": [
      "df 크기 :  (9930, 26)\n",
      "df cols :  ['url', 'repository_url', 'labels_url', 'comments_url', 'events_url', 'html_url', 'id', 'node_id', 'number', 'title', 'user', 'labels', 'state', 'locked', 'assignee', 'assignees', 'milestone', 'comments', 'created_at', 'updated_at', 'closed_at', 'author_association', 'active_lock_reason', 'body', 'performed_via_github_app', 'pull_request']\n"
     ]
    },
    {
     "data": {
      "text/plain": [
       "'df labels : '"
      ]
     },
     "metadata": {},
     "output_type": "display_data"
    },
    {
     "data": {
      "text/plain": [
       "[{'id': 2659267025,\n",
       "  'node_id': 'MDU6TGFiZWwyNjU5MjY3MDI1',\n",
       "  'url': 'https://api.github.com/repos/huggingface/transformers/labels/DeepSpeed',\n",
       "  'name': 'DeepSpeed',\n",
       "  'color': '4D34F7',\n",
       "  'default': False,\n",
       "  'description': ''}]"
      ]
     },
     "metadata": {},
     "output_type": "display_data"
    }
   ],
   "source": [
    "import pandas as pd\n",
    "\n",
    "df = pd.read_json('dataset/github-issues-transformers.jsonl', lines=True)\n",
    "\n",
    "print(\"df 크기 : \",df.shape)\n",
    "print(\"df cols : \", [col for col in df.columns])\n",
    "display(\"df labels : \",df.labels[2])"
   ]
  },
  {
   "cell_type": "code",
   "execution_count": 2,
   "metadata": {},
   "outputs": [],
   "source": [
    "cols = [\"url\", \"id\", \"title\" , \"user\" , \"labels\", \"state\" , \"created_at\", \"body\"]\n",
    "\n",
    "df = df[cols]"
   ]
  },
  {
   "cell_type": "code",
   "execution_count": 3,
   "metadata": {},
   "outputs": [],
   "source": [
    "# 필요한 밸류만 추출\n",
    "df[\"labels\"] = df[\"labels\"].map(lambda x: [i[\"name\"] for i in x])"
   ]
  },
  {
   "cell_type": "code",
   "execution_count": 4,
   "metadata": {},
   "outputs": [
    {
     "data": {
      "text/html": [
       "<div>\n",
       "<style scoped>\n",
       "    .dataframe tbody tr th:only-of-type {\n",
       "        vertical-align: middle;\n",
       "    }\n",
       "\n",
       "    .dataframe tbody tr th {\n",
       "        vertical-align: top;\n",
       "    }\n",
       "\n",
       "    .dataframe thead th {\n",
       "        text-align: right;\n",
       "    }\n",
       "</style>\n",
       "<table border=\"1\" class=\"dataframe\">\n",
       "  <thead>\n",
       "    <tr style=\"text-align: right;\">\n",
       "      <th>labels</th>\n",
       "      <th>0</th>\n",
       "      <th>1</th>\n",
       "      <th>2</th>\n",
       "      <th>3</th>\n",
       "      <th>4</th>\n",
       "      <th>5</th>\n",
       "    </tr>\n",
       "  </thead>\n",
       "  <tbody>\n",
       "    <tr>\n",
       "      <th>count</th>\n",
       "      <td>6440</td>\n",
       "      <td>3057</td>\n",
       "      <td>305</td>\n",
       "      <td>100</td>\n",
       "      <td>25</td>\n",
       "      <td>3</td>\n",
       "    </tr>\n",
       "  </tbody>\n",
       "</table>\n",
       "</div>"
      ],
      "text/plain": [
       "labels     0     1    2    3   4  5\n",
       "count   6440  3057  305  100  25  3"
      ]
     },
     "execution_count": 4,
     "metadata": {},
     "output_type": "execute_result"
    }
   ],
   "source": [
    "# 각 글에 대하여 라벨 갯수\n",
    "df[\"labels\"].apply(lambda x: len(x)).value_counts().to_frame().T"
   ]
  },
  {
   "cell_type": "code",
   "execution_count": 5,
   "metadata": {},
   "outputs": [
    {
     "data": {
      "text/html": [
       "<div>\n",
       "<style scoped>\n",
       "    .dataframe tbody tr th:only-of-type {\n",
       "        vertical-align: middle;\n",
       "    }\n",
       "\n",
       "    .dataframe tbody tr th {\n",
       "        vertical-align: top;\n",
       "    }\n",
       "\n",
       "    .dataframe thead th {\n",
       "        text-align: right;\n",
       "    }\n",
       "</style>\n",
       "<table border=\"1\" class=\"dataframe\">\n",
       "  <thead>\n",
       "    <tr style=\"text-align: right;\">\n",
       "      <th>labels</th>\n",
       "      <th>wontfix</th>\n",
       "      <th>model card</th>\n",
       "      <th>Core: Tokenization</th>\n",
       "      <th>New model</th>\n",
       "      <th>Core: Modeling</th>\n",
       "      <th>Help wanted</th>\n",
       "      <th>Good First Issue</th>\n",
       "      <th>Usage</th>\n",
       "    </tr>\n",
       "  </thead>\n",
       "  <tbody>\n",
       "    <tr>\n",
       "      <th>count</th>\n",
       "      <td>2284</td>\n",
       "      <td>649</td>\n",
       "      <td>106</td>\n",
       "      <td>98</td>\n",
       "      <td>64</td>\n",
       "      <td>52</td>\n",
       "      <td>50</td>\n",
       "      <td>46</td>\n",
       "    </tr>\n",
       "  </tbody>\n",
       "</table>\n",
       "</div>"
      ],
      "text/plain": [
       "labels  wontfix  model card  Core: Tokenization  New model  Core: Modeling  \\\n",
       "count      2284         649                 106         98              64   \n",
       "\n",
       "labels  Help wanted  Good First Issue  Usage  \n",
       "count            52                50     46  "
      ]
     },
     "execution_count": 5,
     "metadata": {},
     "output_type": "execute_result"
    }
   ],
   "source": [
    "# 각 라벨 별 개수 확인\n",
    "df[\"labels\"].explode().value_counts().to_frame().head(8).T"
   ]
  },
  {
   "cell_type": "code",
   "execution_count": 6,
   "metadata": {},
   "outputs": [],
   "source": [
    "# 필용한 라벨만\n",
    "label_map = {\"Core: Tokenization\": \"tokenization\",\n",
    "             \"New model\": \"new model\",\n",
    "             \"Core: Modeling\": \"model training\",\n",
    "             \"Usage\": \"usage\",\n",
    "             \"Core: Pipeline\": \"pipeline\",\n",
    "             \"TensorFlow\": \"tensorflow or tf\",\n",
    "             \"PyTorch\": \"pytorch\",\n",
    "             \"Examples\": \"examples\",\n",
    "             \"Documentation\": \"documentation\"}"
   ]
  },
  {
   "cell_type": "code",
   "execution_count": 7,
   "metadata": {},
   "outputs": [],
   "source": [
    "df[\"labels\"] = df[\"labels\"].apply(lambda x : [label for label in x\n",
    "                                              if label in label_map.keys()])"
   ]
  },
  {
   "cell_type": "code",
   "execution_count": 8,
   "metadata": {},
   "outputs": [],
   "source": [
    "df[\"split\"] = \"unlabeled\"\n",
    "mask_over_zero = df[\"labels\"].apply(lambda x:len(x)) > 0\n",
    "# df.iloc[mask_over_zero, \"split\"] = \"labeled\"\n",
    "df.loc[mask_over_zero, \"split\"] = \"labeled\""
   ]
  },
  {
   "cell_type": "code",
   "execution_count": 9,
   "metadata": {},
   "outputs": [],
   "source": [
    "df[\"labels\"] = df[\"labels\"].apply(lambda x: [label_map[i] for i in x\n",
    "                                             if i in label_map.keys()] or x)"
   ]
  },
  {
   "cell_type": "code",
   "execution_count": 10,
   "metadata": {},
   "outputs": [
    {
     "data": {
      "text/html": [
       "<div>\n",
       "<style scoped>\n",
       "    .dataframe tbody tr th:only-of-type {\n",
       "        vertical-align: middle;\n",
       "    }\n",
       "\n",
       "    .dataframe tbody tr th {\n",
       "        vertical-align: top;\n",
       "    }\n",
       "\n",
       "    .dataframe thead th {\n",
       "        text-align: right;\n",
       "    }\n",
       "</style>\n",
       "<table border=\"1\" class=\"dataframe\">\n",
       "  <thead>\n",
       "    <tr style=\"text-align: right;\">\n",
       "      <th>labels</th>\n",
       "      <th>tokenization</th>\n",
       "      <th>new model</th>\n",
       "      <th>model training</th>\n",
       "      <th>usage</th>\n",
       "      <th>pipeline</th>\n",
       "      <th>tensorflow or tf</th>\n",
       "      <th>pytorch</th>\n",
       "      <th>examples</th>\n",
       "      <th>documentation</th>\n",
       "    </tr>\n",
       "  </thead>\n",
       "  <tbody>\n",
       "    <tr>\n",
       "      <th>count</th>\n",
       "      <td>106</td>\n",
       "      <td>98</td>\n",
       "      <td>64</td>\n",
       "      <td>46</td>\n",
       "      <td>42</td>\n",
       "      <td>41</td>\n",
       "      <td>37</td>\n",
       "      <td>24</td>\n",
       "      <td>28</td>\n",
       "    </tr>\n",
       "  </tbody>\n",
       "</table>\n",
       "</div>"
      ],
      "text/plain": [
       "labels  tokenization  new model  model training  usage  pipeline  \\\n",
       "count            106         98              64     46        42   \n",
       "\n",
       "labels  tensorflow or tf  pytorch  examples  documentation  \n",
       "count                 41       37        24             28  "
      ]
     },
     "execution_count": 10,
     "metadata": {},
     "output_type": "execute_result"
    }
   ],
   "source": [
    "df['labels'].explode().value_counts().to_frame().T[label_map.values()]"
   ]
  },
  {
   "cell_type": "code",
   "execution_count": 11,
   "metadata": {},
   "outputs": [
    {
     "name": "stdout",
     "output_type": "stream",
     "text": [
      "title:Add new CANINE model\n",
      "-*--*--*--*--*--*--*--*--*--*--*--*--*--*--*--*--*--*--*--*--*--*--*--*--*--*--*--*--*--*--*--*--*--*--*--*--*--*--*--*--*--*--*--*--*--*--*--*--*--*-\n",
      "body:# 🌟 New model addition\n",
      "\n",
      "## Model description\n",
      "\n",
      "Google recently proposed a new **C**haracter **A**rchitecture with **N**o tokenization **I**n **N**eural **E**ncoders architecture (CANINE). Not only the title is exciting:\n",
      "\n",
      "> Pipelined NLP systems have largely been superseded by end-to-end neural modeling, yet nearly all commonly-used models still require an explicit tokenization step. While recent tokenization approaches based on data-derived subword lexicons are less brittle than manually engineered tokenizers, these techniques are not equally suited to all languages, and the use of any fixed vocabulary may limit a model's ability to adapt. In this paper, we present CANINE, a neural encoder that operates directly on character sequences, without explicit tokenization or vocabulary, and a pre-training strategy that operates either directly on characters or optionally uses subwords as a soft inductive bias. To use its finer-grained input effectively and efficiently, CANINE combines downsampling, which reduces the input sequence length, with a deep transformer stack, which encodes context. CANINE outperforms a comparable mBERT model by 2.8 F1 on TyDi QA, a challenging multilingual benchmark, despite having 28% fewer model parameters.\n",
      "\n",
      "Overview of the architecture:\n",
      "\n",
      "![outputname-1](https://user-images.githubusercontent.com/20651387/113306475-6c3cac80-9304-11eb-9bad-ad6323904632.png)\n",
      "\n",
      "Paper is available [here](https://arxiv.org/abs/2103.06874).\n",
      "\n",
      "We heavily need this architecture in Transformers (RIP subword tokenization)!\n",
      "\n",
      "The first author (Jonathan Clark) said on [Twitter](https://twitter.com/JonClarkSeattle/status/1377505048029134856) that the model and code will be released in April :partying_face: \n",
      "\n",
      "## Open source status\n",
      "\n",
      "* [ ] the model implementation is available: soon [here](https://caninemodel.page.link/code)\n",
      "* [ ] the model weights are available: soon [here](https://caninemodel.page.link/code)\n",
      "* [x] who are the authors: @jhclark-google (not sure), @dhgarrette, @jwieting (not sure)\n",
      "\n",
      "\n",
      "-*--*--*--*--*--*--*--*--*--*--*--*--*--*--*--*--*--*--*--*--*--*--*--*--*--*--*--*--*--*--*--*--*--*--*--*--*--*--*--*--*--*--*--*--*--*--*--*--*--*-\n",
      "labels:['new model']\n",
      "-*--*--*--*--*--*--*--*--*--*--*--*--*--*--*--*--*--*--*--*--*--*--*--*--*--*--*--*--*--*--*--*--*--*--*--*--*--*--*--*--*--*--*--*--*--*--*--*--*--*-\n"
     ]
    }
   ],
   "source": [
    "# check one sample\n",
    "for col in [\"title\", \"body\", \"labels\"]:\n",
    "    print(f\"{col}:{df.iloc[26][col]}\")\n",
    "    print(\"-*-\" * 50)"
   ]
  },
  {
   "cell_type": "code",
   "execution_count": 12,
   "metadata": {},
   "outputs": [],
   "source": [
    "df['text']= df.apply(lambda x : x['title'] + \"\\n\\n\" + x['body'] ,axis=1)"
   ]
  },
  {
   "cell_type": "code",
   "execution_count": 13,
   "metadata": {},
   "outputs": [
    {
     "data": {
      "text/plain": [
       "9743"
      ]
     },
     "execution_count": 13,
     "metadata": {},
     "output_type": "execute_result"
    }
   ],
   "source": [
    "df.drop_duplicates(subset=['text'],inplace=True) # 중복 제거\n",
    "len(df)"
   ]
  },
  {
   "cell_type": "code",
   "execution_count": 14,
   "metadata": {},
   "outputs": [
    {
     "data": {
      "image/png": "[encoded data removed]",
      "text/plain": [
       "<Figure size 640x480 with 1 Axes>"
      ]
     },
     "metadata": {},
     "output_type": "display_data"
    }
   ],
   "source": [
    "import numpy as np\n",
    "import matplotlib.pyplot as plt\n",
    "\n",
    "df[\"text\"].str.split().apply(len).hist(bins=np.linspace(0,500,50), grid=False)\n",
    "plt.title(\"words per issue\")\n",
    "plt.xlabel(\"num of words\")\n",
    "plt.ylabel(\"num of issues\")\n",
    "plt.show()"
   ]
  },
  {
   "cell_type": "markdown",
   "metadata": {},
   "source": [
    "### 훈련 세트로 만들기"
   ]
  },
  {
   "cell_type": "code",
   "execution_count": 15,
   "metadata": {},
   "outputs": [
    {
     "data": {
      "text/plain": [
       "array([[0, 0, 0, 1, 0, 0, 0, 1, 0],\n",
       "       [0, 0, 0, 0, 0, 1, 0, 0, 0]])"
      ]
     },
     "execution_count": 15,
     "metadata": {},
     "output_type": "execute_result"
    }
   ],
   "source": [
    "from sklearn.preprocessing import MultiLabelBinarizer\n",
    "\n",
    "mlb = MultiLabelBinarizer()\n",
    "mlb.fit(df[\"labels\"])\n",
    "\n",
    "mlb.transform([[\"tokenization\", \"new model\"], [\"pytorch\"]]) # 라벨의 이진화"
   ]
  },
  {
   "cell_type": "code",
   "execution_count": 16,
   "metadata": {},
   "outputs": [],
   "source": [
    "from skmultilearn.model_selection import iterative_train_test_split\n",
    "from sklearn.model_selection import train_test_split\n",
    "\n",
    "def balanced_train_test_split(df, test_size=0.5):\n",
    "    idx = np.expand_dims(np.arange(len(df)), axis=1)\n",
    "    lbl = mlb.transform(df[\"labels\"])\n",
    "    idx_train, _, idx_test, _ = iterative_train_test_split(idx, lbl, test_size=test_size)\n",
    "    \n",
    "    return df.iloc[idx_train[:,0]], df.iloc[idx_test[:,0]]\n",
    "\n",
    "df_clean = df[[\"text\", \"labels\", \"split\"]].reset_index(drop=True).copy()"
   ]
  },
  {
   "cell_type": "code",
   "execution_count": 17,
   "metadata": {},
   "outputs": [],
   "source": [
    "np.random.seed(42)\n",
    "df_unsup = df_clean.loc[df_clean[\"split\"] == \"unlabeled\", [\"text\", \"labels\"]] # 라벨이 없는 데이터 unsupervised\n",
    "df_sup = df_clean.loc[df_clean[\"split\"] == \"labeled\", [\"text\", \"labels\"]] # 라벨이 있는 데이터 supervised\n",
    "\n",
    "# train, valid, test split in 라벨이 있는 데이터\n",
    "df_train, df_tmp = balanced_train_test_split(df_sup, test_size=0.5)\n",
    "df_valid, df_test = balanced_train_test_split(df_tmp, test_size=0.5)"
   ]
  },
  {
   "cell_type": "code",
   "execution_count": 18,
   "metadata": {},
   "outputs": [
    {
     "name": "stderr",
     "output_type": "stream",
     "text": [
      "/opt/anaconda3/envs/t/lib/python3.11/site-packages/tqdm/auto.py:21: TqdmWarning: IProgress not found. Please update jupyter and ipywidgets. See https://ipywidgets.readthedocs.io/en/stable/user_install.html\n",
      "  from .autonotebook import tqdm as notebook_tqdm\n"
     ]
    }
   ],
   "source": [
    "# set as a dataset\n",
    "from datasets import Dataset, DatasetDict\n",
    "\n",
    "ds = DatasetDict({\n",
    "    \"train\": Dataset.from_pandas(df_train.reset_index(drop=True)),\n",
    "    \"valid\": Dataset.from_pandas(df_valid.reset_index(drop=True)),\n",
    "    \"test\": Dataset.from_pandas(df_test.reset_index(drop=True)),\n",
    "    \"unsupervised\": Dataset.from_pandas(df_unsup.reset_index(drop=True)),\n",
    "})"
   ]
  },
  {
   "cell_type": "code",
   "execution_count": 19,
   "metadata": {},
   "outputs": [
    {
     "data": {
      "text/plain": [
       "DatasetDict({\n",
       "    train: Dataset({\n",
       "        features: ['text', 'labels'],\n",
       "        num_rows: 220\n",
       "    })\n",
       "    valid: Dataset({\n",
       "        features: ['text', 'labels'],\n",
       "        num_rows: 110\n",
       "    })\n",
       "    test: Dataset({\n",
       "        features: ['text', 'labels'],\n",
       "        num_rows: 110\n",
       "    })\n",
       "    unsupervised: Dataset({\n",
       "        features: ['text', 'labels'],\n",
       "        num_rows: 9303\n",
       "    })\n",
       "})"
      ]
     },
     "execution_count": 19,
     "metadata": {},
     "output_type": "execute_result"
    }
   ],
   "source": [
    "ds"
   ]
  },
  {
   "cell_type": "markdown",
   "metadata": {},
   "source": [
    "### 훈련 슬라이스\n",
    "- 점진적으로 늘려가며 훈련 데이터셋이 늘어남"
   ]
  },
  {
   "cell_type": "code",
   "execution_count": 20,
   "metadata": {},
   "outputs": [],
   "source": [
    "import numpy as np\n",
    "\n",
    "np.random.seed(42)\n",
    "all_indices = np.expand_dims(list(range(len(ds['train']))),axis=1)\n",
    "indices_pool = all_indices.copy()\n",
    "labels = mlb.transform(ds[\"train\"][\"labels\"])\n",
    "train_samples = [8, 16, 32, 64, 128]\n",
    "train_slices, last_k = [], 0"
   ]
  },
  {
   "cell_type": "code",
   "execution_count": 21,
   "metadata": {},
   "outputs": [],
   "source": [
    "for i, k in enumerate(train_samples):\n",
    "    indices_pool, labels, new_slice, _ = iterative_train_test_split(\n",
    "        indices_pool, labels, (k-last_k)/len(labels))\n",
    "    last_k = k\n",
    "    if i==0: train_slices.append(new_slice)\n",
    "    else: train_slices.append(np.concatenate([train_slices[-1], new_slice]))\n",
    "train_slices.append(all_indices), train_samples.append(len(ds[\"train\"]))\n",
    "train_slices = [np.squeeze(train_slice) for train_slice in train_slices]"
   ]
  },
  {
   "cell_type": "code",
   "execution_count": 22,
   "metadata": {},
   "outputs": [
    {
     "data": {
      "text/plain": [
       "([8, 16, 32, 64, 128, 220], [10, 19, 38, 70, 137, 220])"
      ]
     },
     "execution_count": 22,
     "metadata": {},
     "output_type": "execute_result"
    }
   ],
   "source": [
    "# 목표 분할 크기, # 실제 분할 크기\n",
    "train_samples, [len(x) for x in train_slices]"
   ]
  },
  {
   "cell_type": "markdown",
   "metadata": {},
   "source": [
    "### 베이스 모델 설정(나이브 베이즈 분류기 : Naïve Bayes Classification)"
   ]
  },
  {
   "cell_type": "markdown",
   "metadata": {},
   "source": [
    "1. 정규 표현식, 수동 규칙이 간단하고, 실제 문제를 잘 해결하기도함\n",
    "2. 복잡한 모델을 구축하기전에 간단히 데이터의 가용성이 검증이 됨\n",
    "\n",
    "- **micro** : 자주 등장하는 레이블의 성능 추적\n",
    "- **macro** : 빈도를 부시하고 모든 레이블에 대한 성능 추적"
   ]
  },
  {
   "cell_type": "code",
   "execution_count": 23,
   "metadata": {},
   "outputs": [
    {
     "name": "stderr",
     "output_type": "stream",
     "text": [
      "Map: 100%|██████████| 220/220 [00:00<00:00, 18228.90 examples/s]\n",
      "Map: 100%|██████████| 110/110 [00:00<00:00, 45793.89 examples/s]\n",
      "Map: 100%|██████████| 110/110 [00:00<00:00, 55506.91 examples/s]\n",
      "Map: 100%|██████████| 9303/9303 [00:00<00:00, 446847.42 examples/s]\n"
     ]
    }
   ],
   "source": [
    "def prepare_labels(batch):\n",
    "    batch[\"label_ids\"] = mlb.transform(batch[\"labels\"])\n",
    "    return batch\n",
    "\n",
    "ds = ds.map(prepare_labels, batched=True)"
   ]
  },
  {
   "cell_type": "code",
   "execution_count": 24,
   "metadata": {},
   "outputs": [],
   "source": [
    "from collections import defaultdict\n",
    "\n",
    "macro_scores, micro_scores = defaultdict(list), defaultdict(list)"
   ]
  },
  {
   "cell_type": "code",
   "execution_count": 25,
   "metadata": {},
   "outputs": [],
   "source": [
    "from sklearn.naive_bayes import MultinomialNB\n",
    "from sklearn.metrics import classification_report\n",
    "from skmultilearn.problem_transform import BinaryRelevance\n",
    "from sklearn.feature_extraction.text import CountVectorizer\n",
    "\n",
    "for train_slice in train_slices:\n",
    "    ds_train_inst = ds[\"train\"].select(train_slice)\n",
    "    y_train = np.array(ds_train_inst[\"label_ids\"])\n",
    "    y_test = np.array(ds[\"test\"][\"label_ids\"])\n",
    "\n",
    "    # Bag of Words\n",
    "    count_vect = CountVectorizer() # 단어의 빈도수를 이용한 벡터화\n",
    "\n",
    "    X_train_count = count_vect.fit_transform(ds_train_inst[\"text\"]) # using fit_transform\n",
    "    X_test_count = count_vect.transform(ds[\"test\"][\"text\"]) # using just transform\n",
    "\n",
    "    clf = BinaryRelevance(classifier=MultinomialNB())\n",
    "    clf.fit(X_train_count, y_train)\n",
    "\n",
    "    y_pred = clf.predict(X_test_count)\n",
    "    clf_report = classification_report(\n",
    "        y_test, y_pred, target_names=mlb.classes_,zero_division=0 , output_dict=True)\n",
    "    \n",
    "    macro_scores[\"navie_bayes\"].append(clf_report[\"macro avg\"][\"f1-score\"])\n",
    "    micro_scores[\"navie_bayes\"].append(clf_report[\"micro avg\"][\"f1-score\"])"
   ]
  },
  {
   "cell_type": "code",
   "execution_count": 26,
   "metadata": {},
   "outputs": [
    {
     "data": {
      "image/png": "[encoded data removed]",
      "text/plain": [
       "<Figure size 1000x400 with 2 Axes>"
      ]
     },
     "metadata": {},
     "output_type": "display_data"
    }
   ],
   "source": [
    "import matplotlib.pyplot as plt\n",
    "\n",
    "def plot_metrics(micro_scores, macro_scores, sample_sizes, current_model):\n",
    "    fig, (ax0, ax1) = plt.subplots(1, 2, figsize=(10, 4), sharey=True)\n",
    "    for run in micro_scores.keys():\n",
    "        if run == current_model:\n",
    "            ax0.plot(sample_sizes, micro_scores[run], label=run, linewidth=2)\n",
    "            ax1.plot(sample_sizes, macro_scores[run], label=run, linewidth=2)\n",
    "        else:\n",
    "            ax0.plot(sample_sizes, micro_scores[run], label=run, linestyle=\"dashed\")\n",
    "            ax1.plot(sample_sizes, macro_scores[run], label=run, linestyle=\"dashed\")\n",
    "    \n",
    "    ax0.set_title(\"Micro F1 scores\")\n",
    "    ax1.set_title(\"Macro F1 scores\")\n",
    "    ax0.set_ylabel(\"Test set F1 score\")\n",
    "    ax0.legend(loc=\"lower right\")\n",
    "    for ax in [ax0, ax1]:\n",
    "        ax.set_xlabel(\"Number of training samples\")\n",
    "        ax.set_xscale(\"log\")\n",
    "        ax.set_xticks(sample_sizes)\n",
    "        ax.set_xticklabels(sample_sizes)\n",
    "        ax.minorticks_off()\n",
    "    plt.tight_layout()\n",
    "    plt.show()\n",
    "\n",
    "plot_metrics(micro_scores, macro_scores, train_samples, \"navie_bayes\")"
   ]
  },
  {
   "cell_type": "markdown",
   "metadata": {},
   "source": [
    "### 제로 샷 분류"
   ]
  },
  {
   "cell_type": "markdown",
   "metadata": {},
   "source": [
    "- 마스킹된 토큰을 가리고 예측하는 모델\n",
    "    - my [MASK] movie is MIB."
   ]
  },
  {
   "cell_type": "code",
   "execution_count": 27,
   "metadata": {},
   "outputs": [
    {
     "name": "stderr",
     "output_type": "stream",
     "text": [
      "BertForMaskedLM has generative capabilities, as `prepare_inputs_for_generation` is explicitly overwritten. However, it doesn't directly inherit from `GenerationMixin`. From 👉v4.50👈 onwards, `PreTrainedModel` will NOT inherit from `GenerationMixin`, and this model will lose the ability to call `generate` and other related functions.\n",
      "  - If you're using `trust_remote_code=True`, you can get rid of this warning by loading the model with an auto class. See https://huggingface.co/docs/transformers/en/model_doc/auto#auto-classes\n",
      "  - If you are the owner of the model architecture code, please modify your model class such that it inherits from `GenerationMixin` (after `PreTrainedModel`, otherwise you'll get an exception).\n",
      "  - If you are not the owner of the model architecture class, please contact the model code owner to update it.\n",
      "Some weights of the model checkpoint at bert-base-uncased were not used when initializing BertForMaskedLM: ['bert.pooler.dense.bias', 'bert.pooler.dense.weight', 'cls.seq_relationship.bias', 'cls.seq_relationship.weight']\n",
      "- This IS expected if you are initializing BertForMaskedLM from the checkpoint of a model trained on another task or with another architecture (e.g. initializing a BertForSequenceClassification model from a BertForPreTraining model).\n",
      "- This IS NOT expected if you are initializing BertForMaskedLM from the checkpoint of a model that you expect to be exactly identical (initializing a BertForSequenceClassification model from a BertForSequenceClassification model).\n",
      "Device set to use mps:0\n"
     ]
    },
    {
     "data": {
      "text/plain": [
       "'my favorite movie is mib.'"
      ]
     },
     "execution_count": 27,
     "metadata": {},
     "output_type": "execute_result"
    }
   ],
   "source": [
    "from transformers import pipeline\n",
    "\n",
    "pipe = pipeline(\"fill-mask\", model=\"bert-base-uncased\")\n",
    "pipe(\"my [MASK] movie is MIB.\")[0][\"sequence\"]"
   ]
  },
  {
   "cell_type": "code",
   "execution_count": 28,
   "metadata": {},
   "outputs": [
    {
     "name": "stdout",
     "output_type": "stream",
     "text": [
      "favorite    : 0.93\n",
      "favourite   : 0.04\n",
      "next        : 0.01\n",
      "first       : 0.00\n",
      "new         : 0.00\n"
     ]
    }
   ],
   "source": [
    "for i in pipe(\"my [MASK] movie is MIB.\"):\n",
    "    print(f'{i[\"token_str\"]:12s}: {i[\"score\"]:0.2f}')"
   ]
  },
  {
   "cell_type": "markdown",
   "metadata": {},
   "source": [
    "- target setting"
   ]
  },
  {
   "cell_type": "code",
   "execution_count": 29,
   "metadata": {},
   "outputs": [
    {
     "name": "stdout",
     "output_type": "stream",
     "text": [
      "this: 0.175305\n",
      "that: 0.154841\n",
      "animal: 0.000023\n",
      "car: 0.000007\n"
     ]
    }
   ],
   "source": [
    "disc = \"there are so many things that i like, \"\n",
    "prompt = \"[MASK] is my favorate.\"\n",
    "\n",
    "out = pipe(disc + prompt, targets=[\"animal\", \"car\", \"that\", \"this\"])\n",
    "for i in out:\n",
    "    print(f\"{i['token_str']}: {i['score']:0.6f}\")"
   ]
  },
  {
   "cell_type": "markdown",
   "metadata": {},
   "source": [
    "- text entailment : 두개의 텍스트 구절이 연결되는지 파악(모순성 파악)\n",
    "    - label : premise, hypothsis => entailment, neutral, contradiction. 셋 중 하나의 레이블을 가진다."
   ]
  },
  {
   "cell_type": "code",
   "execution_count": 30,
   "metadata": {},
   "outputs": [
    {
     "name": "stderr",
     "output_type": "stream",
     "text": [
      "No model was supplied, defaulted to facebook/bart-large-mnli and revision d7645e1 (https://huggingface.co/facebook/bart-large-mnli).\n",
      "Using a pipeline without specifying a model name and revision in production is not recommended.\n",
      "Device set to use mps:0\n"
     ]
    }
   ],
   "source": [
    "# 제로샷 분류\n",
    "pipe = pipeline(\"zero-shot-classification\", device=0)\n",
    "\n",
    "sample = ds[\"train\"][0]\n",
    "\n",
    "out = pipe(sample[\"text\"], list(label_map.values()), multi_label = True)"
   ]
  },
  {
   "cell_type": "code",
   "execution_count": 31,
   "metadata": {},
   "outputs": [
    {
     "name": "stdout",
     "output_type": "stream",
     "text": [
      "label: new model           , score: 1.00\n",
      "label: model training      , score: 0.75\n",
      "label: documentation       , score: 0.59\n",
      "label: pipeline            , score: 0.49\n",
      "label: tensorflow or tf    , score: 0.36\n",
      "label: usage               , score: 0.31\n",
      "label: examples            , score: 0.29\n",
      "label: pytorch             , score: 0.28\n",
      "label: tokenization        , score: 0.22\n"
     ]
    }
   ],
   "source": [
    "for l,s in zip(out[\"labels\"],out[\"scores\"]):\n",
    "    print(f\"label: {l:20s}, score: {s:0.2f}\")"
   ]
  },
  {
   "cell_type": "code",
   "execution_count": null,
   "metadata": {},
   "outputs": [],
   "source": [
    "def zero_shot_pipe(example):\n",
    "    out = pipe(example[\"text\"], list(label_map.values()),multi_label=True)\n",
    "    example[\"predicted_labels\"] = out[\"labels\"]\n",
    "    example[\"scores\"] = out[\"scores\"]\n",
    "    return example\n",
    "\n",
    "ds_zero_shot = ds[\"valid\"].map(zero_shot_pipe)"
   ]
  },
  {
   "cell_type": "code",
   "execution_count": 36,
   "metadata": {},
   "outputs": [
    {
     "name": "stderr",
     "output_type": "stream",
     "text": [
      "Map: 100%|██████████| 110/110 [00:00<00:00, 4677.82 examples/s]\n",
      "Map: 100%|██████████| 110/110 [00:00<00:00, 4949.30 examples/s]\n",
      "Map: 100%|██████████| 110/110 [00:00<00:00, 4962.02 examples/s]\n",
      "Map: 100%|██████████| 110/110 [00:00<00:00, 4946.91 examples/s]\n",
      "Map: 100%|██████████| 110/110 [00:00<00:00, 4800.77 examples/s]\n",
      "Map: 100%|██████████| 110/110 [00:00<00:00, 4902.13 examples/s]\n",
      "Map: 100%|██████████| 110/110 [00:00<00:00, 4904.42 examples/s]\n",
      "Map: 100%|██████████| 110/110 [00:00<00:00, 4714.96 examples/s]\n",
      "Map: 100%|██████████| 110/110 [00:00<00:00, 4718.92 examples/s]\n",
      "Map: 100%|██████████| 110/110 [00:00<00:00, 4857.89 examples/s]\n",
      "Map: 100%|██████████| 110/110 [00:00<00:00, 4518.04 examples/s]\n",
      "Map: 100%|██████████| 110/110 [00:00<00:00, 4781.02 examples/s]\n",
      "Map: 100%|██████████| 110/110 [00:00<00:00, 4432.79 examples/s]\n",
      "Map: 100%|██████████| 110/110 [00:00<00:00, 4489.82 examples/s]\n",
      "Map: 100%|██████████| 110/110 [00:00<00:00, 4741.81 examples/s]\n",
      "Map: 100%|██████████| 110/110 [00:00<00:00, 4599.80 examples/s]\n",
      "Map: 100%|██████████| 110/110 [00:00<00:00, 4475.44 examples/s]\n",
      "Map: 100%|██████████| 110/110 [00:00<00:00, 4520.88 examples/s]\n",
      "Map: 100%|██████████| 110/110 [00:00<00:00, 4271.42 examples/s]\n",
      "Map: 100%|██████████| 110/110 [00:00<00:00, 4500.28 examples/s]\n",
      "Map: 100%|██████████| 110/110 [00:00<00:00, 4480.70 examples/s]\n",
      "Map: 100%|██████████| 110/110 [00:00<00:00, 4660.76 examples/s]\n",
      "Map: 100%|██████████| 110/110 [00:00<00:00, 4565.79 examples/s]\n",
      "Map: 100%|██████████| 110/110 [00:00<00:00, 4789.91 examples/s]\n",
      "Map: 100%|██████████| 110/110 [00:00<00:00, 4717.13 examples/s]\n",
      "Map: 100%|██████████| 110/110 [00:00<00:00, 4512.52 examples/s]\n",
      "Map: 100%|██████████| 110/110 [00:00<00:00, 4441.32 examples/s]\n",
      "Map: 100%|██████████| 110/110 [00:00<00:00, 4791.00 examples/s]\n",
      "Map: 100%|██████████| 110/110 [00:00<00:00, 4831.84 examples/s]\n",
      "Map: 100%|██████████| 110/110 [00:00<00:00, 4616.83 examples/s]\n",
      "Map: 100%|██████████| 110/110 [00:00<00:00, 4356.07 examples/s]\n",
      "Map: 100%|██████████| 110/110 [00:00<00:00, 4346.14 examples/s]\n",
      "Map: 100%|██████████| 110/110 [00:00<00:00, 4261.20 examples/s]\n",
      "Map: 100%|██████████| 110/110 [00:00<00:00, 4435.98 examples/s]\n",
      "Map: 100%|██████████| 110/110 [00:00<00:00, 4443.63 examples/s]\n",
      "Map: 100%|██████████| 110/110 [00:00<00:00, 4716.94 examples/s]\n",
      "Map: 100%|██████████| 110/110 [00:00<00:00, 4743.22 examples/s]\n",
      "Map: 100%|██████████| 110/110 [00:00<00:00, 4546.27 examples/s]\n",
      "Map: 100%|██████████| 110/110 [00:00<00:00, 4310.97 examples/s]\n",
      "Map: 100%|██████████| 110/110 [00:00<00:00, 4335.36 examples/s]\n",
      "Map: 100%|██████████| 110/110 [00:00<00:00, 4572.08 examples/s]\n",
      "Map: 100%|██████████| 110/110 [00:00<00:00, 4596.18 examples/s]\n",
      "Map: 100%|██████████| 110/110 [00:00<00:00, 4689.52 examples/s]\n",
      "Map: 100%|██████████| 110/110 [00:00<00:00, 4648.69 examples/s]\n",
      "Map: 100%|██████████| 110/110 [00:00<00:00, 4524.11 examples/s]\n",
      "Map: 100%|██████████| 110/110 [00:00<00:00, 4549.05 examples/s]\n",
      "Map: 100%|██████████| 110/110 [00:00<00:00, 4655.12 examples/s]\n",
      "Map: 100%|██████████| 110/110 [00:00<00:00, 4808.53 examples/s]\n",
      "Map: 100%|██████████| 110/110 [00:00<00:00, 4492.09 examples/s]\n",
      "Map: 100%|██████████| 110/110 [00:00<00:00, 4494.32 examples/s]\n",
      "Map: 100%|██████████| 110/110 [00:00<00:00, 4008.07 examples/s]\n",
      "Map: 100%|██████████| 110/110 [00:00<00:00, 4772.91 examples/s]\n",
      "Map: 100%|██████████| 110/110 [00:00<00:00, 4456.29 examples/s]\n",
      "Map: 100%|██████████| 110/110 [00:00<00:00, 4236.05 examples/s]\n",
      "Map: 100%|██████████| 110/110 [00:00<00:00, 4403.34 examples/s]\n",
      "Map: 100%|██████████| 110/110 [00:00<00:00, 4543.40 examples/s]\n",
      "Map: 100%|██████████| 110/110 [00:00<00:00, 4363.49 examples/s]\n",
      "Map: 100%|██████████| 110/110 [00:00<00:00, 4545.42 examples/s]\n",
      "Map: 100%|██████████| 110/110 [00:00<00:00, 4147.96 examples/s]\n",
      "Map: 100%|██████████| 110/110 [00:00<00:00, 4418.74 examples/s]\n",
      "Map: 100%|██████████| 110/110 [00:00<00:00, 4664.96 examples/s]\n",
      "Map: 100%|██████████| 110/110 [00:00<00:00, 4428.24 examples/s]\n",
      "Map: 100%|██████████| 110/110 [00:00<00:00, 4245.13 examples/s]\n",
      "Map: 100%|██████████| 110/110 [00:00<00:00, 4533.76 examples/s]\n",
      "Map: 100%|██████████| 110/110 [00:00<00:00, 4741.32 examples/s]\n",
      "Map: 100%|██████████| 110/110 [00:00<00:00, 4474.40 examples/s]\n",
      "Map: 100%|██████████| 110/110 [00:00<00:00, 4090.66 examples/s]\n",
      "Map: 100%|██████████| 110/110 [00:00<00:00, 4404.73 examples/s]\n",
      "Map: 100%|██████████| 110/110 [00:00<00:00, 4600.85 examples/s]\n",
      "Map: 100%|██████████| 110/110 [00:00<00:00, 4293.96 examples/s]\n",
      "Map: 100%|██████████| 110/110 [00:00<00:00, 4575.76 examples/s]\n",
      "Map: 100%|██████████| 110/110 [00:00<00:00, 4316.42 examples/s]\n",
      "Map: 100%|██████████| 110/110 [00:00<00:00, 4513.98 examples/s]\n",
      "Map: 100%|██████████| 110/110 [00:00<00:00, 4505.38 examples/s]\n",
      "Map: 100%|██████████| 110/110 [00:00<00:00, 4305.26 examples/s]\n",
      "Map: 100%|██████████| 110/110 [00:00<00:00, 4137.88 examples/s]\n",
      "Map: 100%|██████████| 110/110 [00:00<00:00, 4147.07 examples/s]\n",
      "Map: 100%|██████████| 110/110 [00:00<00:00, 3449.91 examples/s]\n",
      "Map: 100%|██████████| 110/110 [00:00<00:00, 4236.67 examples/s]\n",
      "Map: 100%|██████████| 110/110 [00:00<00:00, 3816.82 examples/s]\n",
      "Map: 100%|██████████| 110/110 [00:00<00:00, 3658.88 examples/s]\n",
      "Map: 100%|██████████| 110/110 [00:00<00:00, 3918.61 examples/s]\n",
      "Map: 100%|██████████| 110/110 [00:00<00:00, 4055.75 examples/s]\n",
      "Map: 100%|██████████| 110/110 [00:00<00:00, 3832.71 examples/s]\n",
      "Map: 100%|██████████| 110/110 [00:00<00:00, 4758.44 examples/s]\n",
      "Map: 100%|██████████| 110/110 [00:00<00:00, 4809.43 examples/s]\n",
      "Map: 100%|██████████| 110/110 [00:00<00:00, 3996.41 examples/s]\n",
      "Map: 100%|██████████| 110/110 [00:00<00:00, 4173.06 examples/s]\n",
      "Map: 100%|██████████| 110/110 [00:00<00:00, 3959.00 examples/s]\n",
      "Map: 100%|██████████| 110/110 [00:00<00:00, 4089.25 examples/s]\n",
      "Map: 100%|██████████| 110/110 [00:00<00:00, 4186.39 examples/s]\n",
      "Map: 100%|██████████| 110/110 [00:00<00:00, 4477.48 examples/s]\n",
      "Map: 100%|██████████| 110/110 [00:00<00:00, 3428.68 examples/s]\n",
      "Map: 100%|██████████| 110/110 [00:00<00:00, 4236.59 examples/s]\n",
      "Map: 100%|██████████| 110/110 [00:00<00:00, 4186.01 examples/s]\n",
      "Map: 100%|██████████| 110/110 [00:00<00:00, 3999.42 examples/s]\n",
      "Map: 100%|██████████| 110/110 [00:00<00:00, 4113.57 examples/s]\n",
      "Map: 100%|██████████| 110/110 [00:00<00:00, 4277.84 examples/s]\n",
      "Map: 100%|██████████| 110/110 [00:00<00:00, 4025.31 examples/s]\n",
      "Map: 100%|██████████| 110/110 [00:00<00:00, 3661.49 examples/s]\n",
      "Map: 100%|██████████| 110/110 [00:00<00:00, 4097.53 examples/s]\n",
      "Map: 100%|██████████| 110/110 [00:00<00:00, 3600.88 examples/s]\n",
      "Map: 100%|██████████| 110/110 [00:00<00:00, 3679.92 examples/s]\n",
      "Map: 100%|██████████| 110/110 [00:00<00:00, 4863.73 examples/s]\n",
      "Map: 100%|██████████| 110/110 [00:00<00:00, 3870.03 examples/s]\n",
      "Map: 100%|██████████| 110/110 [00:00<00:00, 4050.65 examples/s]\n",
      "Map: 100%|██████████| 110/110 [00:00<00:00, 3428.78 examples/s]\n",
      "Map: 100%|██████████| 110/110 [00:00<00:00, 4499.27 examples/s]\n",
      "Map: 100%|██████████| 110/110 [00:00<00:00, 4031.26 examples/s]\n",
      "Map: 100%|██████████| 110/110 [00:00<00:00, 4347.25 examples/s]\n"
     ]
    }
   ],
   "source": [
    "def get_pred(example, threshold=None, top_k=None):\n",
    "    pred = []\n",
    "    if threshold:\n",
    "        for label, score in zip(example[\"predicted_labels\"], example[\"scores\"]):\n",
    "            if score > threshold:\n",
    "                pred.append(label)\n",
    "    elif top_k:\n",
    "        pred = example[\"predicted_labels\"][:top_k]\n",
    "    else:\n",
    "        raise ValueError(\"threshold or top_k should be provided\")\n",
    "    return {\"pred_label_ids\" : list(np.squeeze(mlb.transform([pred])))}\n",
    "\n",
    "def get_clf_report(ds):\n",
    "    y_true = np.array(ds[\"label_ids\"])\n",
    "    y_pred = np.array(ds[\"pred_label_ids\"])\n",
    "    return classification_report(\n",
    "        y_true, y_pred, target_names=list(label_map.values()), zero_division=0, output_dict=True\n",
    "    )\n",
    "\n",
    "macros_by_k, micros_by_k = [], []\n",
    "top_ks = [1, 2, 3, 4, 5, 6, 7, 8, 9, 10]\n",
    "for top_k in top_ks:\n",
    "    ds_zero_shot = ds_zero_shot.map(get_pred, batched=False,\n",
    "                                    fn_kwargs={\"top_k\": top_k})\n",
    "    clf_report = get_clf_report(ds_zero_shot)\n",
    "    micros_by_k.append(clf_report[\"micro avg\"][\"f1-score\"])\n",
    "    macros_by_k.append(clf_report[\"macro avg\"][\"f1-score\"])\n",
    "\n",
    "thresholds = np.linspace(0.1, 1.0, 100)\n",
    "macros_by_th, micros_by_th = [], []\n",
    "for threshold in thresholds:\n",
    "    ds_zero_shot = ds_zero_shot.map(get_pred, batched=False,\n",
    "                                    fn_kwargs={\"threshold\": threshold})\n",
    "    clf_report = get_clf_report(ds_zero_shot)\n",
    "    micros_by_th.append(clf_report[\"micro avg\"][\"f1-score\"])\n",
    "    macros_by_th.append(clf_report[\"macro avg\"][\"f1-score\"])"
   ]
  },
  {
   "cell_type": "code",
   "execution_count": 37,
   "metadata": {},
   "outputs": [
    {
     "data": {
      "image/png": "[encoded data removed]",
      "text/plain": [
       "<Figure size 1000x400 with 2 Axes>"
      ]
     },
     "metadata": {},
     "output_type": "display_data"
    }
   ],
   "source": [
    "# drowing\n",
    "fig, (ax0, ax1) = plt.subplots(1, 2, figsize=(10, 4), sharey=True)\n",
    "ax0.plot(top_ks, micros_by_k, label=\"micro\", linewidth=2)\n",
    "ax0.plot(top_ks, macros_by_k, label=\"macro\", linewidth=2)\n",
    "ax1.plot(thresholds, micros_by_th, label=\"micro\", linewidth=2)\n",
    "ax1.plot(thresholds, macros_by_th, label=\"macro\", linewidth=2)\n",
    "ax0.set_title(\"by top-k\"), ax1.set_title(\"by threshold\")\n",
    "ax0.set_ylabel(\"F1 score\")\n",
    "ax0.legend(loc=\"lower right\"), ax1.legend(loc=\"lower right\")\n",
    "for ax in [ax0, ax1]:\n",
    "    ax.set_xlabel(\"top-k\" if ax == ax0 else \"threshold\")\n",
    "    ax.minorticks_off()\n",
    "\n",
    "fig.suptitle(\"Zero-shot classification\")\n",
    "plt.tight_layout()\n",
    "plt.show()"
   ]
  },
  {
   "cell_type": "markdown",
   "metadata": {},
   "source": [
    "### 제로샷 vs 나이브 베이즈"
   ]
  },
  {
   "cell_type": "code",
   "execution_count": 38,
   "metadata": {},
   "outputs": [
    {
     "name": "stderr",
     "output_type": "stream",
     "text": [
      "Map: 100%|██████████| 110/110 [01:16<00:00,  1.43 examples/s]\n",
      "Map: 100%|██████████| 110/110 [00:00<00:00, 4798.97 examples/s]\n"
     ]
    },
    {
     "data": {
      "image/png": "[encoded data removed]",
      "text/plain": [
       "<Figure size 1000x400 with 2 Axes>"
      ]
     },
     "metadata": {},
     "output_type": "display_data"
    }
   ],
   "source": [
    "ds_zero_shot = ds[\"test\"].map(zero_shot_pipe)\n",
    "ds_zero_shot = ds_zero_shot.map(get_pred, batched=False, fn_kwargs={\"top_k\": 1})\n",
    "clf_report = get_clf_report(ds_zero_shot)\n",
    "for train_slice in train_slices:\n",
    "    macro_scores[\"zero_shot\"].append(clf_report[\"macro avg\"][\"f1-score\"])\n",
    "    micro_scores[\"zero_shot\"].append(clf_report[\"micro avg\"][\"f1-score\"])\n",
    "plot_metrics(micro_scores, macro_scores, train_samples, \"zero_shot\")"
   ]
  },
  {
   "cell_type": "markdown",
   "metadata": {},
   "source": [
    "### Data Augmentation"
   ]
  },
  {
   "cell_type": "markdown",
   "metadata": {},
   "source": [
    "- 역 번역(back translation)\n",
    "    - 원본 언어 -> 하나 이상의 타깃 언어로 번역 -> 원본 언어로 다시 번역\n",
    "    - 말뭉치가 많지 않은 말뭉치에서 잘 작동한다.\n",
    "    - **M2M100** 을 이용하면 역번역을 구현 할 수 있다.\n",
    "- 토큰 섞기\n",
    "    - 훈련 세트의 하나의 문맥 안에서 동의어 교체, 추가, 교환, 삭제등의 간단한 변환을 한다.\n",
    "    - **NlpAug, TextAttack** 등을 이용하여 토큰변환 기법을 이용할 수 있다."
   ]
  },
  {
   "cell_type": "code",
   "execution_count": 39,
   "metadata": {},
   "outputs": [],
   "source": [
    "from transformers import set_seed\n",
    "import nlpaug.augmenter.word as naw\n",
    "\n",
    "set_seed(42)\n",
    "aug = naw.ContextualWordEmbsAug(model_path=\"distilbert-base-uncased\",\n",
    "                                device=0, action=\"substitute\")"
   ]
  },
  {
   "cell_type": "code",
   "execution_count": 40,
   "metadata": {},
   "outputs": [
    {
     "data": {
      "text/plain": [
       "['bicycles are the most popular transformers']"
      ]
     },
     "execution_count": 40,
     "metadata": {},
     "output_type": "execute_result"
    }
   ],
   "source": [
    "text = \"Transformers are the most popular toys\"\n",
    "aug.augment(text)"
   ]
  },
  {
   "cell_type": "code",
   "execution_count": 41,
   "metadata": {},
   "outputs": [
    {
     "name": "stderr",
     "output_type": "stream",
     "text": [
      "Map: 100%|██████████| 220/220 [00:01<00:00, 165.85 examples/s]\n"
     ]
    }
   ],
   "source": [
    "def augment_text(batch, transformer_per_example=1):\n",
    "    text_aug, label_ids = [], []\n",
    "    for text, labels in zip(batch[\"text\"], batch[\"label_ids\"]):\n",
    "        text_aug += [text]\n",
    "        label_ids += [labels]\n",
    "    for _ in range(transformer_per_example):\n",
    "        text_aug += aug.augment(text)\n",
    "        label_ids += [labels]\n",
    "    return {\"text\": text_aug, \"label_ids\": label_ids}\n",
    "\n",
    "ds_train_sample = ds_train_inst.map(augment_text, batched=True,\n",
    "                                      remove_columns=ds_train_inst.column_names).shuffle(seed=42)"
   ]
  },
  {
   "cell_type": "code",
   "execution_count": 42,
   "metadata": {},
   "outputs": [
    {
     "data": {
      "text/plain": [
       "Dataset({\n",
       "    features: ['text', 'label_ids'],\n",
       "    num_rows: 221\n",
       "})"
      ]
     },
     "execution_count": 42,
     "metadata": {},
     "output_type": "execute_result"
    }
   ],
   "source": [
    "ds_train_sample"
   ]
  },
  {
   "cell_type": "code",
   "execution_count": 43,
   "metadata": {},
   "outputs": [],
   "source": [
    "from datasets import concatenate_datasets\n",
    "# 데이터셋 합치기\n",
    "auged_dataset = concatenate_datasets([ds[\"train\"], ds_train_sample]).shuffle()"
   ]
  },
  {
   "cell_type": "code",
   "execution_count": 44,
   "metadata": {},
   "outputs": [],
   "source": [
    "# 기존 데이터와 aug 데이터 합치기\n",
    "for train_slice in train_slices:\n",
    "    ds_train_inst = auged_dataset.select(train_slice)\n",
    "    y_train = np.array(ds_train_inst[\"label_ids\"])\n",
    "    y_test = np.array(ds[\"test\"][\"label_ids\"])\n",
    "\n",
    "    # Bag of Words\n",
    "    count_vect = CountVectorizer() # 단어의 빈도수를 이용한 벡터화\n",
    "\n",
    "    X_train_count = count_vect.fit_transform(ds_train_inst[\"text\"]) # using fit_transform\n",
    "    X_test_count = count_vect.transform(ds[\"test\"][\"text\"]) # using just transform\n",
    "\n",
    "    clf = BinaryRelevance(classifier=MultinomialNB())\n",
    "    clf.fit(X_train_count, y_train)\n",
    "\n",
    "    y_pred = clf.predict(X_test_count)\n",
    "    clf_report = classification_report(\n",
    "        y_test, y_pred, target_names=mlb.classes_,zero_division=0 , output_dict=True)\n",
    "    \n",
    "    macro_scores[\"navie_bayes + Aug\"].append(clf_report[\"macro avg\"][\"f1-score\"])\n",
    "    micro_scores[\"navie_bayes + Aug\"].append(clf_report[\"micro avg\"][\"f1-score\"])"
   ]
  },
  {
   "cell_type": "code",
   "execution_count": 45,
   "metadata": {},
   "outputs": [
    {
     "data": {
      "image/png": "[encoded data removed]",
      "text/plain": [
       "<Figure size 1000x400 with 2 Axes>"
      ]
     },
     "metadata": {},
     "output_type": "display_data"
    }
   ],
   "source": [
    "plot_metrics(micro_scores, macro_scores, train_samples, \"navie_bayes + Aug\")"
   ]
  },
  {
   "cell_type": "markdown",
   "metadata": {},
   "source": [
    "### 임베딩을 룩업 테이블로 사용"
   ]
  },
  {
   "cell_type": "code",
   "execution_count": 20,
   "metadata": {},
   "outputs": [],
   "source": [
    "import torch\n",
    "from transformers import AutoTokenizer, AutoModel\n",
    "\n",
    "model_ckpt = \"miguelvictor/python-gpt2-large\"\n",
    "tokenizer = AutoTokenizer.from_pretrained(model_ckpt)\n",
    "model = AutoModel.from_pretrained(model_ckpt)"
   ]
  },
  {
   "cell_type": "code",
   "execution_count": 21,
   "metadata": {},
   "outputs": [],
   "source": [
    "# 평균 풀링\n",
    "def meanpooling(model_output, attention_mask):\n",
    "    # 토큰 임베딩 추출\n",
    "    token_embeddings = model_output[0]\n",
    "\n",
    "    # 어텐션 마스크 계산\n",
    "    input_mask_expanded = attention_mask.unsqueeze(-1).expand(token_embeddings.size())\n",
    "\n",
    "    # 마스킹 된 토큰 제외 임베딩 합\n",
    "    sum_embeddings = torch.sum(token_embeddings * input_mask_expanded, 1)\n",
    "    sum_mask = torch.clamp(input_mask_expanded.sum(1), min=1e-9)\n",
    "\n",
    "    # 평균 벡터 계산\n",
    "    return sum_embeddings / sum_mask\n",
    "def embed_text(example):\n",
    "    inputs = tokenizer(example[\"text\"], return_tensors=\"pt\", max_length=128, padding=True, truncation=True)\n",
    "    with torch.no_grad():\n",
    "        model_output = model(**inputs)\n",
    "    pooled_embed = meanpooling(model_output, inputs[\"attention_mask\"])\n",
    "    return {\"embeddings\": pooled_embed}\n",
    "\n",
    "tokenizer.pad_token = tokenizer.eos_token"
   ]
  },
  {
   "cell_type": "code",
   "execution_count": 22,
   "metadata": {},
   "outputs": [
    {
     "name": "stderr",
     "output_type": "stream",
     "text": [
      "Map: 100%|██████████| 220/220 [01:27<00:00,  2.51 examples/s]\n",
      "Map: 100%|██████████| 110/110 [00:45<00:00,  2.41 examples/s]\n",
      "Map: 100%|██████████| 110/110 [00:44<00:00,  2.50 examples/s]\n"
     ]
    }
   ],
   "source": [
    "embs_train = ds[\"train\"].map(embed_text, batched=True, batch_size=16)\n",
    "embs_valid = ds[\"valid\"].map(embed_text, batched=True, batch_size=16)\n",
    "embs_test = ds[\"test\"].map(embed_text, batched=True, batch_size=16)"
   ]
  },
  {
   "cell_type": "code",
   "execution_count": 23,
   "metadata": {},
   "outputs": [
    {
     "name": "stderr",
     "output_type": "stream",
     "text": [
      "100%|██████████| 1/1 [00:00<00:00, 193.69it/s]\n"
     ]
    },
    {
     "data": {
      "text/plain": [
       "Dataset({\n",
       "    features: ['text', 'labels', 'embeddings'],\n",
       "    num_rows: 220\n",
       "})"
      ]
     },
     "execution_count": 23,
     "metadata": {},
     "output_type": "execute_result"
    }
   ],
   "source": [
    "embs_train.add_faiss_index(column=\"embeddings\")"
   ]
  },
  {
   "cell_type": "code",
   "execution_count": null,
   "metadata": {},
   "outputs": [
    {
     "name": "stdout",
     "output_type": "stream",
     "text": [
      "\n",
      "quary : ['new model']\n",
      " Open-Retrieval Question Answerin ... 생략 (ORQA)  # 🌟 New model addition\n",
      "----------------------------------------------------------------------------------------------------\n",
      "\n",
      "['new model'] , score : 48.39\n",
      " SPECTER: Document-level Representation Learning us\n",
      "----------------------------------------------------------------------------------------------------\n",
      "['new model'] , score : 52.13\n",
      " Are there any plans t attention  # 🌟 FAVOR+ / Performer attention addition\n",
      "----------------------------------------------------------------------------------------------------\n",
      "['new model'] , score : 53.44\n",
      " PRADO is a model made by google, petion\n",
      "----------------------------------------------------------------------------------------------------\n"
     ]
    },
    {
     "ename": "",
     "evalue": "",
     "output_type": "error",
     "traceback": [
      "\u001b[1;31mThe Kernel crashed while executing code in the current cell or a previous cell. \n",
      "\u001b[1;31mPlease review the code in the cell(s) to identify a possible cause of the failure. \n",
      "\u001b[1;31mClick <a href='https://aka.ms/vscodeJupyterKernelCrash'>here</a> for more info. \n",
      "\u001b[1;31mView Jupyter <a href='command:jupyter.viewOutput'>log</a> for further details."
     ]
    }
   ],
   "source": [
    "\n",
    "idx, k_near = 23, 3 # 3개의 가장 가까운 이웃\n",
    "n = \"\\n\"\n",
    "\n",
    "query = np.array(embs_valid[idx][\"embeddings\"], dtype=np.float32)\n",
    "scores , samples = embs_train.get_nearest_examples(\"embeddings\", query, k=k_near)\n",
    "\n",
    "print(f\"\"\"\n",
    "quary : {embs_valid[idx][\"labels\"]}\n",
    "text : {embs_valid[idx][\"text\"][:100].replace(n,' ')} ... 생략\n",
    "{\"-\"*100}\n",
    "\"\"\")\n",
    "\n",
    "for score, sample, label in zip(scores, samples[\"text\"], samples[\"labels\"]) :\n",
    "    print(f\"{label} , score : {score:0.2f}\")\n",
    "    print(f\"{sample[:100].replace(n, ' ')}\")\n",
    "    print(\"-\"*100)"
   ]
  },
  {
   "cell_type": "code",
   "execution_count": null,
   "metadata": {},
   "outputs": [],
   "source": [
    "def get_example_preds(sample, m):\n",
    "    return (np.sum(sample[\"label_ids\"], axis=0) >= m).astype(int)\n",
    "\n",
    "def find_best_k_m(ds_train, valid_queries, valid_labels, max_k = 17):\n",
    "    max_k=min(len(ds_train), max_k)\n",
    "    perf_macro = np.zeros((max_k, max_k))\n",
    "    perf_micro = np.zeros((max_k, max_k))\n",
    "    for k in range(1, max_k):\n",
    "        for m in range(1, k+1):\n",
    "            _, samples = ds_train.get_nearest_examples_batch(\"embeddings\", valid_queries, k=k)\n",
    "            y_pred = np.array([get_example_preds(s,m) for s in samples])\n",
    "            clf_report = classification_report(valid_labels, y_pred, target_names=list(label_map.values()), zero_division=0, output_dict=True)\n",
    "            perf_macro[k,m] = clf_report[\"macro avg\"][\"f1-score\"]\n",
    "            perf_micro[k,m] = clf_report[\"micro avg\"][\"f1-score\"]\n",
    "    return perf_macro, perf_micro\n",
    "\n",
    "valid_labels = np.array(mlb.transform(embs_valid[\"labels\"]))\n",
    "valid_queries = np.array(embs_valid[\"embeddings\"], dtype=np.float32)\n",
    "perf_macro, perf_micro = find_best_k_m(embs_train, valid_queries, valid_labels)"
   ]
  }
 ],
 "metadata": {
  "kernelspec": {
   "display_name": "t",
   "language": "python",
   "name": "python3"
  },
  "language_info": {
   "codemirror_mode": {
    "name": "ipython",
    "version": 3
   },
   "file_extension": ".py",
   "mimetype": "text/x-python",
   "name": "python",
   "nbconvert_exporter": "python",
   "pygments_lexer": "ipython3",
   "version": "3.11.11"
  }
 },
 "nbformat": 4,
 "nbformat_minor": 2
}
