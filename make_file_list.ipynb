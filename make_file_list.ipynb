{
 "cells": [
  {
   "cell_type": "code",
   "execution_count": 1,
   "metadata": {},
   "outputs": [
    {
     "name": "stdout",
     "output_type": "stream",
     "text": [
      "Headings have been saved to list.md.\n"
     ]
    }
   ],
   "source": [
    "import os\n",
    "import json\n",
    "\n",
    "def extract_headings_from_ipynb(folder_path):\n",
    "    headings = {}\n",
    "\n",
    "    # 현재 폴더 내의 모든 파일을 확인\n",
    "    for file_name in os.listdir(folder_path):\n",
    "        if file_name.endswith('.ipynb'):\n",
    "            file_path = os.path.join(folder_path, file_name)\n",
    "\n",
    "            # 파일 열기 및 JSON으로 파싱\n",
    "            with open(file_path, 'r', encoding='utf-8') as f:\n",
    "                notebook_content = json.load(f)\n",
    "\n",
    "            headings[file_name] = []\n",
    "\n",
    "            # 노트북의 셀을 확인\n",
    "            for cell in notebook_content.get('cells', []):\n",
    "                if cell['cell_type'] == 'markdown':\n",
    "                    # 마크다운 셀에서 내용 추출\n",
    "                    for line in cell['source']:\n",
    "                        if line.startswith('###'):\n",
    "                            # 제목 추출 후 목록에 추가\n",
    "                            line=line.replace(\"###\",\"\")\n",
    "                            headings[file_name].append(line.strip())\n",
    "\n",
    "    return headings\n",
    "\n",
    "def save_headings_to_md(headings_dict, output_file):\n",
    "    with open(output_file, 'w', encoding='utf-8') as f:\n",
    "        for file_name, headings_list in headings_dict.items():\n",
    "            f.write(f\"- {file_name}\\n\")\n",
    "            for heading in headings_list:\n",
    "                f.write(f\"  {heading}\\n\")\n",
    "\n",
    "# 사용 예제\n",
    "folder_path = '.'  # 현재 폴더\n",
    "headings_dict = extract_headings_from_ipynb(folder_path)\n",
    "\n",
    "# 결과를 list.md 파일로 저장\n",
    "output_file = 'list.md'\n",
    "save_headings_to_md(headings_dict, output_file)\n",
    "\n",
    "print(f\"Headings have been saved to {output_file}.\")"
   ]
  }
 ],
 "metadata": {
  "kernelspec": {
   "display_name": "transformer",
   "language": "python",
   "name": "python3"
  },
  "language_info": {
   "codemirror_mode": {
    "name": "ipython",
    "version": 3
   },
   "file_extension": ".py",
   "mimetype": "text/x-python",
   "name": "python",
   "nbconvert_exporter": "python",
   "pygments_lexer": "ipython3",
   "version": "3.11.10"
  }
 },
 "nbformat": 4,
 "nbformat_minor": 2
}
